{
 "cells": [
  {
   "cell_type": "markdown",
   "metadata": {},
   "source": [
    "# Setting up your Work Environment\n",
    "\n",
    " \\$conda create -n environment_name python=3.7.6 \n",
    "\n",
    " \\$conda activate environment_name \n",
    "\n",
    "# Supervised vs Unsupervised Learning\n",
    "\n",
    "\n",
    "- Supervised: Labeled dataset\n",
    "    - label: value (regression problem)\n",
    "    - label: category (classification problem)\n",
    "- Unsupervised: Unlabeld dataset\n",
    "\n",
    "**a t-Distributed Stochastic Neighbour Embedding (t-SNE) decomposition of MNIST Dataset**\n",
    "https://en.wikipedia.org/wiki/T-distributed_stochastic_neighbor_embedding"
   ]
  },
  {
   "cell_type": "code",
   "execution_count": 3,
   "metadata": {},
   "outputs": [],
   "source": [
    "import matplotlib.pyplot as plt\n",
    "import numpy as np\n",
    "import pandas as pd\n",
    "import seaborn as sns\n",
    "\n",
    "from sklearn import datasets\n",
    "from sklearn import manifold\n",
    "\n",
    "%matplotlib inline"
   ]
  },
  {
   "cell_type": "code",
   "execution_count": 4,
   "metadata": {},
   "outputs": [],
   "source": [
    "data = datasets.fetch_openml('mnist_784',version=1,return_X_y=True)\n",
    "pixel_values, targets = data\n",
    "targets= targets.astype(int)"
   ]
  },
  {
   "cell_type": "code",
   "execution_count": 6,
   "metadata": {},
   "outputs": [
    {
     "data": {
      "text/plain": [
       "<matplotlib.image.AxesImage at 0x24846cfaf10>"
      ]
     },
     "execution_count": 6,
     "metadata": {},
     "output_type": "execute_result"
    },
    {
     "data": {
      "image/png": "[encoded data removed]",
      "text/plain": [
       "<Figure size 432x288 with 1 Axes>"
      ]
     },
     "metadata": {
      "needs_background": "light"
     },
     "output_type": "display_data"
    }
   ],
   "source": [
    "## visualizing the images by plotting and reshaping\n",
    "single_image = pixel_values[1,:].reshape(28,28)\n",
    "plt.imshow(single_image,cmap='gray')"
   ]
  },
  {
   "cell_type": "code",
   "execution_count": 8,
   "metadata": {},
   "outputs": [],
   "source": [
    "tsne = manifold.TSNE(n_components = 2, random_state = 42)\n",
    "transformed_data = tsne.fit_transform(pixel_values[:3000,:])"
   ]
  },
  {
   "cell_type": "markdown",
   "metadata": {},
   "source": [
    "This step creates the t-SNE transformation of the data. We use only two components  as we can visualize them well in a two-dimensional setting. The transformed_data,  in this case, is an array of shape 3000x2 (3000 rows and 2 columns). A data like  this can be converted to a pandas dataframe by calling pd.DataFrame on the array. "
   ]
  },
  {
   "cell_type": "code",
   "execution_count": 9,
   "metadata": {},
   "outputs": [],
   "source": [
    "tsne_df = pd.DataFrame(\n",
    "        np.column_stack((transformed_data,targets[:3000])),\n",
    "        columns=[\"x\",\"y\",\"targets\"]\n",
    ")\n",
    "\n",
    "tsne_df.loc[:,\"targets\"] = tsne_df.targets.astype(int)"
   ]
  },
  {
   "cell_type": "code",
   "execution_count": 10,
   "metadata": {},
   "outputs": [
    {
     "name": "stdout",
     "output_type": "stream",
     "text": [
      "<class 'pandas.core.frame.DataFrame'>\n",
      "RangeIndex: 3000 entries, 0 to 2999\n",
      "Data columns (total 3 columns):\n",
      " #   Column   Non-Null Count  Dtype  \n",
      "---  ------   --------------  -----  \n",
      " 0   x        3000 non-null   float64\n",
      " 1   y        3000 non-null   float64\n",
      " 2   targets  3000 non-null   int32  \n",
      "dtypes: float64(2), int32(1)\n",
      "memory usage: 58.7 KB\n"
     ]
    }
   ],
   "source": [
    "tsne_df.info()"
   ]
  },
  {
   "cell_type": "code",
   "execution_count": 11,
   "metadata": {},
   "outputs": [
    {
     "data": {
      "text/html": [
       "<div>\n",
       "<style scoped>\n",
       "    .dataframe tbody tr th:only-of-type {\n",
       "        vertical-align: middle;\n",
       "    }\n",
       "\n",
       "    .dataframe tbody tr th {\n",
       "        vertical-align: top;\n",
       "    }\n",
       "\n",
       "    .dataframe thead th {\n",
       "        text-align: right;\n",
       "    }\n",
       "</style>\n",
       "<table border=\"1\" class=\"dataframe\">\n",
       "  <thead>\n",
       "    <tr style=\"text-align: right;\">\n",
       "      <th></th>\n",
       "      <th>x</th>\n",
       "      <th>y</th>\n",
       "      <th>targets</th>\n",
       "    </tr>\n",
       "  </thead>\n",
       "  <tbody>\n",
       "    <tr>\n",
       "      <th>0</th>\n",
       "      <td>-5.281551</td>\n",
       "      <td>-28.952768</td>\n",
       "      <td>5</td>\n",
       "    </tr>\n",
       "    <tr>\n",
       "      <th>1</th>\n",
       "      <td>-26.105896</td>\n",
       "      <td>-68.069321</td>\n",
       "      <td>0</td>\n",
       "    </tr>\n",
       "    <tr>\n",
       "      <th>2</th>\n",
       "      <td>-42.503582</td>\n",
       "      <td>35.580391</td>\n",
       "      <td>4</td>\n",
       "    </tr>\n",
       "    <tr>\n",
       "      <th>3</th>\n",
       "      <td>38.893967</td>\n",
       "      <td>26.663395</td>\n",
       "      <td>1</td>\n",
       "    </tr>\n",
       "    <tr>\n",
       "      <th>4</th>\n",
       "      <td>-14.770573</td>\n",
       "      <td>35.433247</td>\n",
       "      <td>9</td>\n",
       "    </tr>\n",
       "  </tbody>\n",
       "</table>\n",
       "</div>"
      ],
      "text/plain": [
       "           x          y  targets\n",
       "0  -5.281551 -28.952768        5\n",
       "1 -26.105896 -68.069321        0\n",
       "2 -42.503582  35.580391        4\n",
       "3  38.893967  26.663395        1\n",
       "4 -14.770573  35.433247        9"
      ]
     },
     "execution_count": 11,
     "metadata": {},
     "output_type": "execute_result"
    }
   ],
   "source": [
    "tsne_df.head(5)"
   ]
  },
  {
   "cell_type": "code",
   "execution_count": 12,
   "metadata": {},
   "outputs": [
    {
     "name": "stderr",
     "output_type": "stream",
     "text": [
      "C:\\Users\\apurv\\anaconda3\\lib\\site-packages\\seaborn\\axisgrid.py:243: UserWarning: The `size` parameter has been renamed to `height`; please update your code.\n",
      "  warnings.warn(msg, UserWarning)\n"
     ]
    },
    {
     "data": {
      "text/plain": [
       "<seaborn.axisgrid.FacetGrid at 0x248491b6d90>"
      ]
     },
     "execution_count": 12,
     "metadata": {},
     "output_type": "execute_result"
    },
    {
     "data": {
      "image/png": "[encoded data removed]",
      "text/plain": [
       "<Figure size 619.625x576 with 1 Axes>"
      ]
     },
     "metadata": {
      "needs_background": "light"
     },
     "output_type": "display_data"
    }
   ],
   "source": [
    "## Plotting the df\n",
    "\n",
    "grid = sns.FacetGrid(tsne_df, hue = \"targets\",size =8)\n",
    "grid.map(plt.scatter, \"x\",\"y\").add_legend()"
   ]
  },
  {
   "cell_type": "code",
   "execution_count": 13,
   "metadata": {},
   "outputs": [],
   "source": [
    "## Can use kmeans as well\n",
    "#<ToDO>"
   ]
  },
  {
   "cell_type": "markdown",
   "metadata": {},
   "source": [
    "# Cross-Validation\n",
    "\n",
    "using red-wine dataset (no link in the book)\n",
    "\n",
    "Kaggle:https://www.kaggle.com/uciml/red-wine-quality-cortez-et-al-2009"
   ]
  },
  {
   "cell_type": "code",
   "execution_count": 23,
   "metadata": {},
   "outputs": [],
   "source": [
    "## Loading data set\n",
    "# unzipping dataset\n",
    "import zipfile\n",
    "with zipfile.ZipFile(\"datasets/archive.zip\", 'r') as zip_ref:\n",
    "    zip_ref.extractall(\"datasets/\")"
   ]
  },
  {
   "cell_type": "code",
   "execution_count": 25,
   "metadata": {},
   "outputs": [],
   "source": [
    "data_path = \"datasets/winequality-red.csv\"\n",
    "df = pd.read_csv(data_path)"
   ]
  },
  {
   "cell_type": "code",
   "execution_count": 26,
   "metadata": {},
   "outputs": [
    {
     "name": "stdout",
     "output_type": "stream",
     "text": [
      "<class 'pandas.core.frame.DataFrame'>\n",
      "RangeIndex: 1599 entries, 0 to 1598\n",
      "Data columns (total 12 columns):\n",
      " #   Column                Non-Null Count  Dtype  \n",
      "---  ------                --------------  -----  \n",
      " 0   fixed acidity         1599 non-null   float64\n",
      " 1   volatile acidity      1599 non-null   float64\n",
      " 2   citric acid           1599 non-null   float64\n",
      " 3   residual sugar        1599 non-null   float64\n",
      " 4   chlorides             1599 non-null   float64\n",
      " 5   free sulfur dioxide   1599 non-null   float64\n",
      " 6   total sulfur dioxide  1599 non-null   float64\n",
      " 7   density               1599 non-null   float64\n",
      " 8   pH                    1599 non-null   float64\n",
      " 9   sulphates             1599 non-null   float64\n",
      " 10  alcohol               1599 non-null   float64\n",
      " 11  quality               1599 non-null   int64  \n",
      "dtypes: float64(11), int64(1)\n",
      "memory usage: 150.0 KB\n"
     ]
    }
   ],
   "source": [
    "df.info()"
   ]
  },
  {
   "cell_type": "code",
   "execution_count": 27,
   "metadata": {},
   "outputs": [
    {
     "data": {
      "text/html": [
       "<div>\n",
       "<style scoped>\n",
       "    .dataframe tbody tr th:only-of-type {\n",
       "        vertical-align: middle;\n",
       "    }\n",
       "\n",
       "    .dataframe tbody tr th {\n",
       "        vertical-align: top;\n",
       "    }\n",
       "\n",
       "    .dataframe thead th {\n",
       "        text-align: right;\n",
       "    }\n",
       "</style>\n",
       "<table border=\"1\" class=\"dataframe\">\n",
       "  <thead>\n",
       "    <tr style=\"text-align: right;\">\n",
       "      <th></th>\n",
       "      <th>fixed acidity</th>\n",
       "      <th>volatile acidity</th>\n",
       "      <th>citric acid</th>\n",
       "      <th>residual sugar</th>\n",
       "      <th>chlorides</th>\n",
       "      <th>free sulfur dioxide</th>\n",
       "      <th>total sulfur dioxide</th>\n",
       "      <th>density</th>\n",
       "      <th>pH</th>\n",
       "      <th>sulphates</th>\n",
       "      <th>alcohol</th>\n",
       "      <th>quality</th>\n",
       "    </tr>\n",
       "  </thead>\n",
       "  <tbody>\n",
       "    <tr>\n",
       "      <th>0</th>\n",
       "      <td>7.4</td>\n",
       "      <td>0.70</td>\n",
       "      <td>0.00</td>\n",
       "      <td>1.9</td>\n",
       "      <td>0.076</td>\n",
       "      <td>11.0</td>\n",
       "      <td>34.0</td>\n",
       "      <td>0.9978</td>\n",
       "      <td>3.51</td>\n",
       "      <td>0.56</td>\n",
       "      <td>9.4</td>\n",
       "      <td>5</td>\n",
       "    </tr>\n",
       "    <tr>\n",
       "      <th>1</th>\n",
       "      <td>7.8</td>\n",
       "      <td>0.88</td>\n",
       "      <td>0.00</td>\n",
       "      <td>2.6</td>\n",
       "      <td>0.098</td>\n",
       "      <td>25.0</td>\n",
       "      <td>67.0</td>\n",
       "      <td>0.9968</td>\n",
       "      <td>3.20</td>\n",
       "      <td>0.68</td>\n",
       "      <td>9.8</td>\n",
       "      <td>5</td>\n",
       "    </tr>\n",
       "    <tr>\n",
       "      <th>2</th>\n",
       "      <td>7.8</td>\n",
       "      <td>0.76</td>\n",
       "      <td>0.04</td>\n",
       "      <td>2.3</td>\n",
       "      <td>0.092</td>\n",
       "      <td>15.0</td>\n",
       "      <td>54.0</td>\n",
       "      <td>0.9970</td>\n",
       "      <td>3.26</td>\n",
       "      <td>0.65</td>\n",
       "      <td>9.8</td>\n",
       "      <td>5</td>\n",
       "    </tr>\n",
       "    <tr>\n",
       "      <th>3</th>\n",
       "      <td>11.2</td>\n",
       "      <td>0.28</td>\n",
       "      <td>0.56</td>\n",
       "      <td>1.9</td>\n",
       "      <td>0.075</td>\n",
       "      <td>17.0</td>\n",
       "      <td>60.0</td>\n",
       "      <td>0.9980</td>\n",
       "      <td>3.16</td>\n",
       "      <td>0.58</td>\n",
       "      <td>9.8</td>\n",
       "      <td>6</td>\n",
       "    </tr>\n",
       "    <tr>\n",
       "      <th>4</th>\n",
       "      <td>7.4</td>\n",
       "      <td>0.70</td>\n",
       "      <td>0.00</td>\n",
       "      <td>1.9</td>\n",
       "      <td>0.076</td>\n",
       "      <td>11.0</td>\n",
       "      <td>34.0</td>\n",
       "      <td>0.9978</td>\n",
       "      <td>3.51</td>\n",
       "      <td>0.56</td>\n",
       "      <td>9.4</td>\n",
       "      <td>5</td>\n",
       "    </tr>\n",
       "  </tbody>\n",
       "</table>\n",
       "</div>"
      ],
      "text/plain": [
       "   fixed acidity  volatile acidity  citric acid  residual sugar  chlorides  \\\n",
       "0            7.4              0.70         0.00             1.9      0.076   \n",
       "1            7.8              0.88         0.00             2.6      0.098   \n",
       "2            7.8              0.76         0.04             2.3      0.092   \n",
       "3           11.2              0.28         0.56             1.9      0.075   \n",
       "4            7.4              0.70         0.00             1.9      0.076   \n",
       "\n",
       "   free sulfur dioxide  total sulfur dioxide  density    pH  sulphates  \\\n",
       "0                 11.0                  34.0   0.9978  3.51       0.56   \n",
       "1                 25.0                  67.0   0.9968  3.20       0.68   \n",
       "2                 15.0                  54.0   0.9970  3.26       0.65   \n",
       "3                 17.0                  60.0   0.9980  3.16       0.58   \n",
       "4                 11.0                  34.0   0.9978  3.51       0.56   \n",
       "\n",
       "   alcohol  quality  \n",
       "0      9.4        5  \n",
       "1      9.8        5  \n",
       "2      9.8        5  \n",
       "3      9.8        6  \n",
       "4      9.4        5  "
      ]
     },
     "execution_count": 27,
     "metadata": {},
     "output_type": "execute_result"
    }
   ],
   "source": [
    "df.head(5)"
   ]
  },
  {
   "cell_type": "code",
   "execution_count": 32,
   "metadata": {},
   "outputs": [
    {
     "name": "stdout",
     "output_type": "stream",
     "text": [
      "7.2     67\n",
      "7.1     57\n",
      "7.8     53\n",
      "7.5     52\n",
      "7.0     50\n",
      "        ..\n",
      "13.4     1\n",
      "14.0     1\n",
      "5.5      1\n",
      "4.6      1\n",
      "4.7      1\n",
      "Name: fixed acidity, Length: 96, dtype: int64\n",
      "0.600    47\n",
      "0.500    46\n",
      "0.430    43\n",
      "0.590    39\n",
      "0.360    38\n",
      "         ..\n",
      "1.090     1\n",
      "1.035     1\n",
      "1.580     1\n",
      "0.950     1\n",
      "0.805     1\n",
      "Name: volatile acidity, Length: 143, dtype: int64\n",
      "0.00    132\n",
      "0.49     68\n",
      "0.24     51\n",
      "0.02     50\n",
      "0.26     38\n",
      "       ... \n",
      "0.75      1\n",
      "0.78      1\n",
      "1.00      1\n",
      "0.62      1\n",
      "0.72      1\n",
      "Name: citric acid, Length: 80, dtype: int64\n",
      "2.00    156\n",
      "2.20    131\n",
      "1.80    129\n",
      "2.10    128\n",
      "1.90    117\n",
      "       ... \n",
      "5.70      1\n",
      "2.85      1\n",
      "7.30      1\n",
      "8.90      1\n",
      "2.65      1\n",
      "Name: residual sugar, Length: 91, dtype: int64\n",
      "0.080    66\n",
      "0.074    55\n",
      "0.076    51\n",
      "0.078    51\n",
      "0.084    49\n",
      "         ..\n",
      "0.137     1\n",
      "0.267     1\n",
      "0.043     1\n",
      "0.186     1\n",
      "0.125     1\n",
      "Name: chlorides, Length: 153, dtype: int64\n",
      "6.0     138\n",
      "5.0     104\n",
      "10.0     79\n",
      "15.0     78\n",
      "12.0     75\n",
      "7.0      71\n",
      "9.0      62\n",
      "16.0     61\n",
      "17.0     60\n",
      "11.0     59\n",
      "13.0     57\n",
      "8.0      56\n",
      "14.0     50\n",
      "3.0      49\n",
      "18.0     46\n",
      "4.0      41\n",
      "21.0     41\n",
      "19.0     39\n",
      "24.0     34\n",
      "23.0     32\n",
      "26.0     32\n",
      "20.0     30\n",
      "27.0     29\n",
      "25.0     24\n",
      "28.0     23\n",
      "29.0     23\n",
      "32.0     22\n",
      "22.0     22\n",
      "31.0     20\n",
      "34.0     18\n",
      "30.0     16\n",
      "35.0     15\n",
      "33.0     11\n",
      "36.0     11\n",
      "38.0      9\n",
      "41.0      7\n",
      "40.0      6\n",
      "39.0      5\n",
      "48.0      4\n",
      "51.0      4\n",
      "42.0      3\n",
      "43.0      3\n",
      "52.0      3\n",
      "37.0      3\n",
      "1.0       3\n",
      "45.0      3\n",
      "55.0      2\n",
      "37.5      2\n",
      "50.0      2\n",
      "68.0      2\n",
      "5.5       1\n",
      "53.0      1\n",
      "2.0       1\n",
      "54.0      1\n",
      "47.0      1\n",
      "57.0      1\n",
      "72.0      1\n",
      "66.0      1\n",
      "40.5      1\n",
      "46.0      1\n",
      "Name: free sulfur dioxide, dtype: int64\n",
      "28.0     43\n",
      "24.0     36\n",
      "18.0     35\n",
      "15.0     35\n",
      "23.0     34\n",
      "         ..\n",
      "142.0     1\n",
      "126.0     1\n",
      "139.0     1\n",
      "140.0     1\n",
      "160.0     1\n",
      "Name: total sulfur dioxide, Length: 144, dtype: int64\n",
      "0.99720    36\n",
      "0.99760    35\n",
      "0.99680    35\n",
      "0.99800    29\n",
      "0.99620    28\n",
      "           ..\n",
      "0.99517     1\n",
      "0.99379     1\n",
      "0.99270     1\n",
      "0.99719     1\n",
      "0.99468     1\n",
      "Name: density, Length: 436, dtype: int64\n",
      "3.30    57\n",
      "3.36    56\n",
      "3.26    53\n",
      "3.38    48\n",
      "3.39    48\n",
      "        ..\n",
      "2.95     1\n",
      "3.74     1\n",
      "2.87     1\n",
      "2.90     1\n",
      "3.70     1\n",
      "Name: pH, Length: 89, dtype: int64\n",
      "0.60    69\n",
      "0.58    68\n",
      "0.54    68\n",
      "0.62    61\n",
      "0.56    60\n",
      "        ..\n",
      "1.20     1\n",
      "0.33     1\n",
      "1.26     1\n",
      "1.11     1\n",
      "1.61     1\n",
      "Name: sulphates, Length: 96, dtype: int64\n",
      "9.500000     139\n",
      "9.400000     103\n",
      "9.800000      78\n",
      "9.200000      72\n",
      "10.500000     67\n",
      "            ... \n",
      "11.950000      1\n",
      "9.233333       1\n",
      "11.066667      1\n",
      "13.200000      1\n",
      "9.566667       1\n",
      "Name: alcohol, Length: 65, dtype: int64\n",
      "5    681\n",
      "6    638\n",
      "7    199\n",
      "4     53\n",
      "8     18\n",
      "3     10\n",
      "Name: quality, dtype: int64\n"
     ]
    }
   ],
   "source": [
    "cols = df.columns\n",
    "for i in range(0,len(cols)):\n",
    "    print(df[cols[i]].value_counts())"
   ]
  },
  {
   "cell_type": "code",
   "execution_count": 33,
   "metadata": {},
   "outputs": [
    {
     "data": {
      "text/html": [
       "<div>\n",
       "<style scoped>\n",
       "    .dataframe tbody tr th:only-of-type {\n",
       "        vertical-align: middle;\n",
       "    }\n",
       "\n",
       "    .dataframe tbody tr th {\n",
       "        vertical-align: top;\n",
       "    }\n",
       "\n",
       "    .dataframe thead th {\n",
       "        text-align: right;\n",
       "    }\n",
       "</style>\n",
       "<table border=\"1\" class=\"dataframe\">\n",
       "  <thead>\n",
       "    <tr style=\"text-align: right;\">\n",
       "      <th></th>\n",
       "      <th>fixed acidity</th>\n",
       "      <th>volatile acidity</th>\n",
       "      <th>citric acid</th>\n",
       "      <th>residual sugar</th>\n",
       "      <th>chlorides</th>\n",
       "      <th>free sulfur dioxide</th>\n",
       "      <th>total sulfur dioxide</th>\n",
       "      <th>density</th>\n",
       "      <th>pH</th>\n",
       "      <th>sulphates</th>\n",
       "      <th>alcohol</th>\n",
       "      <th>quality</th>\n",
       "    </tr>\n",
       "  </thead>\n",
       "  <tbody>\n",
       "    <tr>\n",
       "      <th>0</th>\n",
       "      <td>7.4</td>\n",
       "      <td>0.70</td>\n",
       "      <td>0.00</td>\n",
       "      <td>1.9</td>\n",
       "      <td>0.076</td>\n",
       "      <td>11.0</td>\n",
       "      <td>34.0</td>\n",
       "      <td>0.9978</td>\n",
       "      <td>3.51</td>\n",
       "      <td>0.56</td>\n",
       "      <td>9.4</td>\n",
       "      <td>2</td>\n",
       "    </tr>\n",
       "    <tr>\n",
       "      <th>1</th>\n",
       "      <td>7.8</td>\n",
       "      <td>0.88</td>\n",
       "      <td>0.00</td>\n",
       "      <td>2.6</td>\n",
       "      <td>0.098</td>\n",
       "      <td>25.0</td>\n",
       "      <td>67.0</td>\n",
       "      <td>0.9968</td>\n",
       "      <td>3.20</td>\n",
       "      <td>0.68</td>\n",
       "      <td>9.8</td>\n",
       "      <td>2</td>\n",
       "    </tr>\n",
       "    <tr>\n",
       "      <th>2</th>\n",
       "      <td>7.8</td>\n",
       "      <td>0.76</td>\n",
       "      <td>0.04</td>\n",
       "      <td>2.3</td>\n",
       "      <td>0.092</td>\n",
       "      <td>15.0</td>\n",
       "      <td>54.0</td>\n",
       "      <td>0.9970</td>\n",
       "      <td>3.26</td>\n",
       "      <td>0.65</td>\n",
       "      <td>9.8</td>\n",
       "      <td>2</td>\n",
       "    </tr>\n",
       "    <tr>\n",
       "      <th>3</th>\n",
       "      <td>11.2</td>\n",
       "      <td>0.28</td>\n",
       "      <td>0.56</td>\n",
       "      <td>1.9</td>\n",
       "      <td>0.075</td>\n",
       "      <td>17.0</td>\n",
       "      <td>60.0</td>\n",
       "      <td>0.9980</td>\n",
       "      <td>3.16</td>\n",
       "      <td>0.58</td>\n",
       "      <td>9.8</td>\n",
       "      <td>3</td>\n",
       "    </tr>\n",
       "    <tr>\n",
       "      <th>4</th>\n",
       "      <td>7.4</td>\n",
       "      <td>0.70</td>\n",
       "      <td>0.00</td>\n",
       "      <td>1.9</td>\n",
       "      <td>0.076</td>\n",
       "      <td>11.0</td>\n",
       "      <td>34.0</td>\n",
       "      <td>0.9978</td>\n",
       "      <td>3.51</td>\n",
       "      <td>0.56</td>\n",
       "      <td>9.4</td>\n",
       "      <td>2</td>\n",
       "    </tr>\n",
       "  </tbody>\n",
       "</table>\n",
       "</div>"
      ],
      "text/plain": [
       "   fixed acidity  volatile acidity  citric acid  residual sugar  chlorides  \\\n",
       "0            7.4              0.70         0.00             1.9      0.076   \n",
       "1            7.8              0.88         0.00             2.6      0.098   \n",
       "2            7.8              0.76         0.04             2.3      0.092   \n",
       "3           11.2              0.28         0.56             1.9      0.075   \n",
       "4            7.4              0.70         0.00             1.9      0.076   \n",
       "\n",
       "   free sulfur dioxide  total sulfur dioxide  density    pH  sulphates  \\\n",
       "0                 11.0                  34.0   0.9978  3.51       0.56   \n",
       "1                 25.0                  67.0   0.9968  3.20       0.68   \n",
       "2                 15.0                  54.0   0.9970  3.26       0.65   \n",
       "3                 17.0                  60.0   0.9980  3.16       0.58   \n",
       "4                 11.0                  34.0   0.9978  3.51       0.56   \n",
       "\n",
       "   alcohol  quality  \n",
       "0      9.4        2  \n",
       "1      9.8        2  \n",
       "2      9.8        2  \n",
       "3      9.8        3  \n",
       "4      9.4        2  "
      ]
     },
     "execution_count": 33,
     "metadata": {},
     "output_type": "execute_result"
    }
   ],
   "source": [
    "quality_mapping = {  3: 0,  4: 1,  5: 2,  6: 3,  7: 4,  8: 5  } \n",
    "df.loc[:, \"quality\"] = df.quality.map(quality_mapping)\n",
    "df.head(5)"
   ]
  },
  {
   "cell_type": "code",
   "execution_count": 35,
   "metadata": {},
   "outputs": [],
   "source": [
    "## Creating train test set by shuffling the values and selecting top 1000 rows for training and last 599 rows as test data\n",
    "df = df.sample(frac =1).reset_index(drop=True)\n",
    "df_train = df.head(1000)\n",
    "df_test = df.tail(599)"
   ]
  },
  {
   "cell_type": "code",
   "execution_count": 39,
   "metadata": {},
   "outputs": [
    {
     "data": {
      "text/plain": [
       "DecisionTreeClassifier(max_depth=3, random_state=42)"
      ]
     },
     "execution_count": 39,
     "metadata": {},
     "output_type": "execute_result"
    }
   ],
   "source": [
    "## Applying decision tree on the dataset\n",
    "from sklearn.tree import DecisionTreeClassifier\n",
    "from sklearn import metrics\n",
    "\n",
    "clf  = DecisionTreeClassifier(max_depth = 3, random_state=42)\n",
    "\n",
    "train_cols = cols[:-1]\n",
    "test_cols = cols[-1]\n",
    "\n",
    "#Model fitting\n",
    "clf.fit(df_train[train_cols],df_train[test_cols])"
   ]
  },
  {
   "cell_type": "code",
   "execution_count": 41,
   "metadata": {},
   "outputs": [],
   "source": [
    "## Predicting the results on train set\n",
    "train_pred = clf.predict(df_train[train_cols])\n",
    "## Predicting the results on train set\n",
    "test_pred = clf.predict(df_test[train_cols])"
   ]
  },
  {
   "cell_type": "code",
   "execution_count": 43,
   "metadata": {},
   "outputs": [
    {
     "name": "stdout",
     "output_type": "stream",
     "text": [
      "0.599\n",
      "0.5559265442404007\n"
     ]
    }
   ],
   "source": [
    "## Calculating accuracy on train and test both\n",
    "from sklearn.metrics import accuracy_score\n",
    "\n",
    "train_acc = accuracy_score(df_train[test_cols],train_pred)\n",
    "test_acc = accuracy_score(df_test[test_cols],test_pred)\n",
    "\n",
    "print(train_acc)\n",
    "print(test_acc)"
   ]
  },
  {
   "cell_type": "code",
   "execution_count": 45,
   "metadata": {},
   "outputs": [],
   "source": [
    "## Checking effect of different depths in tree (looping)\n",
    "train_accuracy = []\n",
    "test_accuracy = []\n",
    "\n",
    "for depth in range(1,25):\n",
    "    clf  = DecisionTreeClassifier(max_depth = depth, random_state=42)\n",
    "    clf.fit(df_train[train_cols],df_train[test_cols])\n",
    "    train_pred = clf.predict(df_train[train_cols])\n",
    "    test_pred = clf.predict(df_test[train_cols])\n",
    "    train_accuracy.append(accuracy_score(df_train[test_cols],train_pred))\n",
    "    test_accuracy.append(accuracy_score(df_test[test_cols],test_pred))"
   ]
  },
  {
   "cell_type": "code",
   "execution_count": 46,
   "metadata": {},
   "outputs": [
    {
     "data": {
      "image/png": "[encoded data removed]",
      "text/plain": [
       "<Figure size 720x360 with 1 Axes>"
      ]
     },
     "metadata": {
      "needs_background": "light"
     },
     "output_type": "display_data"
    }
   ],
   "source": [
    "plt.figure(figsize=(10, 5))  \n",
    "sns.set_style(\"whitegrid\")  \n",
    "plt.plot(train_accuracy, label=\"train accuracy\")  \n",
    "plt.plot(test_accuracy, label=\"test accuracy\")  \n",
    "plt.legend(loc=\"upper left\", prop={'size': 15})  \n",
    "plt.xticks(range(0, 26, 5))  \n",
    "plt.xlabel(\"max_depth\", size=20)  \n",
    "plt.ylabel(\"accuracy\", size=20)  \n",
    "plt.show() \n"
   ]
  },
  {
   "cell_type": "markdown",
   "metadata": {},
   "source": [
    "overfitting after max_depth = 14/15\n",
    "\n",
    "-----\n",
    "Occam’s razor in simple words states that one should not try to complicate things  that can be solved in a much simpler manner. In other words, the simplest solutions  are the most generalizable solutions. In general, whenever your model does not  obey Occam’s razor, it is probably overfitting. \n",
    "\n",
    "#### Cross Validation\n",
    "\n",
    "- Types of Cross Validations\n",
    "    - k-fold cross-validation\n",
    "    - stratified k-fold cross validation\n",
    "        - you can use a simple rule like Sturge’s Rule to calculate the appropriate  number of bins.  \n",
    "        - Sturge’s rule:  Number of Bins = 1 + log2(N) \n",
    "    - hold-out based cross validation\n",
    "    - leave-one-out cross-validation\n",
    "    - group k-fold cross validation\n",
    "    \n",
    "        "
   ]
  },
  {
   "cell_type": "code",
   "execution_count": 49,
   "metadata": {},
   "outputs": [
    {
     "data": {
      "text/plain": [
       "Text(0, 0.5, 'count')"
      ]
     },
     "execution_count": 49,
     "metadata": {},
     "output_type": "execute_result"
    },
    {
     "data": {
      "image/png": "[encoded data removed]",
      "text/plain": [
       "<Figure size 432x288 with 1 Axes>"
      ]
     },
     "metadata": {},
     "output_type": "display_data"
    }
   ],
   "source": [
    "b = sns.countplot(x='quality', data=df)  \n",
    "b.set_xlabel(\"quality\", fontsize=20)  \n",
    "b.set_ylabel(\"count\", fontsize=20) "
   ]
  },
  {
   "cell_type": "markdown",
   "metadata": {},
   "source": [
    "Cross-validation is the first and most essential step when it comes to building  machine learning models. If you want to do feature engineering, split your data first.  If you're going to build models, split your data first. If you have a good crossvalidation scheme in which validation data is representative of training and realworld data, you will be able to build a good machine learning model which is highly  generalizable. \n"
   ]
  },
  {
   "cell_type": "markdown",
   "metadata": {},
   "source": [
    "##### Excercise\n",
    "\n",
    "we would like to build a model  to detect skin cancer from skin images of patients. build a binary  classifier which takes an input image and predicts the probability for it being benign  or malignant. \n",
    "######  TO DO\n",
    "    \n",
    "## Evaluation Metrics\n",
    "\n",
    "- Common Evaluation metrics\n",
    "    - Classification problems:\n",
    "        - Accuracy\n",
    "        - Precision (P)\n",
    "        - Recall (R)\n",
    "        - F1 Score ( harmonic mean of precision and recall)\n",
    "        - AUC (area under ROC curve)\n",
    "        - Log loss\n",
    "        - Precision at K\n",
    "        - Avg precision at K\n",
    "        - Mean avg precision at K\n",
    "    - Regression problems:\n",
    "        - Mean abs error\n",
    "        - mean sqrd error\n",
    "        - root mean sqrd error\n",
    "        - root mean sqrd log error\n",
    "        - mean percent error\n",
    "        - mean abs percent error\n",
    "        - R2\n",
    "        - adjusted r2\n",
    "\n",
    "\n",
    "### Problem Statement\n",
    "\n",
    "https://www.kaggle.com/c/siim-acr-pneumothorax-segmentation \n",
    "\n",
    "\n",
    "When we have an equal number of positive and negative samples in a binary  classification metric, we generally use accuracy, precision, recall and f1. \n"
   ]
  },
  {
   "cell_type": "code",
   "execution_count": 51,
   "metadata": {},
   "outputs": [
    {
     "data": {
      "text/plain": [
       "0.5"
      ]
     },
     "execution_count": 51,
     "metadata": {},
     "output_type": "execute_result"
    }
   ],
   "source": [
    "#accuracy function method 1\n",
    "def accuracy(y_true,y_pred):\n",
    "    correct_counter = 0\n",
    "    for yt,yp in zip(y_true,y_pred):\n",
    "        if yt==yp:\n",
    "            correct_counter+=1\n",
    "    return correct_counter/len(y_true)\n",
    "\n",
    "## accuracy function method 2\n",
    "from sklearn.metrics import accuracy_score\n",
    "\n",
    "l1 = [1,0,1,0]\n",
    "l2 = [1,0,0,1]\n",
    "accuracy_score(l1,l2)"
   ]
  },
  {
   "cell_type": "code",
   "execution_count": 52,
   "metadata": {},
   "outputs": [],
   "source": [
    "## Calculating TN, TP, FN, FP usign functions\n",
    "\n",
    "def true_positive (y_true,y_pred):\n",
    "    tp = 0\n",
    "    for yt,yp in zip(y_true,y_pred):\n",
    "        if yt == 1 and yp == 1:\n",
    "            tp+=1\n",
    "    return tp\n",
    "\n",
    "def true_negative (y_true,y_pred):\n",
    "    tn = 0\n",
    "    for yt,yp in zip(y_true,y_pred):\n",
    "        if yt == 0 and yp == 0:\n",
    "            tn+=1\n",
    "    return tn\n",
    "\n",
    "def false_positive (y_true,y_pred):\n",
    "    fp = 0\n",
    "    for yt,yp in zip(y_true,y_pred):\n",
    "        if yt == 0 and yp == 1:\n",
    "            fp+=1\n",
    "    return fp\n",
    "\n",
    "def false_negative (y_true,y_pred):\n",
    "    fn = 0\n",
    "    for yt,yp in zip(y_true,y_pred):\n",
    "        if yt == 1 and yp == 0:\n",
    "            fn+=1\n",
    "    return fn"
   ]
  },
  {
   "cell_type": "code",
   "execution_count": 53,
   "metadata": {},
   "outputs": [
    {
     "name": "stdout",
     "output_type": "stream",
     "text": [
      "1\n",
      "1\n",
      "1\n",
      "1\n"
     ]
    }
   ],
   "source": [
    "## Chekcing functions \n",
    "print(true_negative(l1,l2))\n",
    "print(true_positive(l1,l2))\n",
    "print(false_negative(l1,l2))\n",
    "print(false_positive(l1,l2))"
   ]
  },
  {
   "cell_type": "code",
   "execution_count": 54,
   "metadata": {},
   "outputs": [],
   "source": [
    "## Accuracy Score = (TP + TN)/ (TP + TN + FP + FN) \n",
    "def accuracy(y_true,y_pred):\n",
    "    tn = true_negative(y_true,y_pred)\n",
    "    tp = true_positive(y_true,y_pred)\n",
    "    fn = false_negative(y_true,y_pred)\n",
    "    fp = false_positive(y_true,y_pred)\n",
    "    accuracy = (tp+tn)/(tp+tn+fp+fn)\n",
    "    return accuracy"
   ]
  },
  {
   "cell_type": "code",
   "execution_count": 56,
   "metadata": {},
   "outputs": [
    {
     "data": {
      "text/plain": [
       "0.5"
      ]
     },
     "execution_count": 56,
     "metadata": {},
     "output_type": "execute_result"
    }
   ],
   "source": [
    "accuracy(l1,l2)"
   ]
  },
  {
   "cell_type": "code",
   "execution_count": 59,
   "metadata": {},
   "outputs": [],
   "source": [
    "## Precision = TP/ (TP + FP) \n",
    "\n",
    "def precision(y_true,y_pred):\n",
    "    tp = true_positive(y_true,y_pred)\n",
    "    fp = false_positive (y_true,y_pred)\n",
    "    precision = tp /(tp+fp)\n",
    "    return precision\n",
    "\n",
    "## Recall = TP/ (TP + FN) \n",
    "\n",
    "def recall(y_true,y_pred):\n",
    "    tp = true_positive(y_true,y_pred)\n",
    "    fn = false_negative (y_true,y_pred)\n",
    "    recall = tp / (tp+fn)\n",
    "    return recall"
   ]
  },
  {
   "cell_type": "code",
   "execution_count": 58,
   "metadata": {},
   "outputs": [
    {
     "data": {
      "text/plain": [
       "0.5"
      ]
     },
     "execution_count": 58,
     "metadata": {},
     "output_type": "execute_result"
    }
   ],
   "source": [
    "precision(l1,l2)"
   ]
  },
  {
   "cell_type": "code",
   "execution_count": 60,
   "metadata": {},
   "outputs": [
    {
     "data": {
      "text/plain": [
       "0.5"
      ]
     },
     "execution_count": 60,
     "metadata": {},
     "output_type": "execute_result"
    }
   ],
   "source": [
    "recall(l1,l2)"
   ]
  },
  {
   "cell_type": "code",
   "execution_count": 61,
   "metadata": {},
   "outputs": [],
   "source": [
    "## F1 = 2PR/ (P + R) \n",
    "## F1 = 2TP/ (2TP + FP + FN) \n",
    "\n",
    "def f1_score(y_true,y_pred):\n",
    "    tp = true_positive(y_true,y_pred)\n",
    "    fp = false_positive(y_true,y_pred)\n",
    "    fn = false_negative(y_true,y_pred)\n",
    "    f1_score = (2* tp) /(2*tp + fp + fn)\n",
    "    return f1_score\n",
    "    "
   ]
  },
  {
   "cell_type": "code",
   "execution_count": 62,
   "metadata": {},
   "outputs": [
    {
     "data": {
      "text/plain": [
       "0.5"
      ]
     },
     "execution_count": 62,
     "metadata": {},
     "output_type": "execute_result"
    }
   ],
   "source": [
    "f1_score(l1,l2)"
   ]
  },
  {
   "cell_type": "markdown",
   "metadata": {},
   "source": [
    "AUC values range from 0 to 1.  \n",
    "    - AUC = 1 implies you have a perfect model. Most of the time, it means that  you made some mistake with validation and should revisit data processing  and validation pipeline of yours. If you didn’t make any mistakes, then  congratulations, you have the best model one can have for the dataset you  built it on.  \n",
    "    - AUC = 0 implies that your model is very bad (or very good!). Try inverting  the probabilities for the predictions, for example, if your probability for the  positive class is p, try substituting it with 1-p. This kind of AUC may also  mean that there is some problem with your validation or data processing.  \n",
    "    - AUC = 0.5 implies that your predictions are random. So, for any binary  classification problem, if I predict all targets as 0.5, I will get an AUC of  0.5. \n"
   ]
  },
  {
   "cell_type": "code",
   "execution_count": 64,
   "metadata": {},
   "outputs": [],
   "source": [
    "## Log Loss = - 1.0 * (target * log(prediction) + (1 - target) * log(1 - prediction)) \n",
    "\n",
    "import numpy as np  \n",
    "\n",
    "def log_loss(y_true, y_proba): \n",
    "    epsilon = 1e-15 \n",
    "    loss = []  \n",
    "    for yt, yp in zip(y_true, y_proba):   \n",
    "        yp = np.clip(yp, epsilon, 1 - epsilon)  \n",
    "        temp_loss = - 1.0 * (  yt * np.log(yp)  + (1 - yt) * np.log(1 - yp)  )  \n",
    "        loss.append(temp_loss)  \n",
    "    return np.mean(loss)"
   ]
  },
  {
   "cell_type": "code",
   "execution_count": 65,
   "metadata": {},
   "outputs": [
    {
     "data": {
      "text/plain": [
       "17.26958809681289"
      ]
     },
     "execution_count": 65,
     "metadata": {},
     "output_type": "execute_result"
    }
   ],
   "source": [
    "log_loss(l1,l2)"
   ]
  },
  {
   "cell_type": "code",
   "execution_count": 66,
   "metadata": {},
   "outputs": [
    {
     "name": "stdout",
     "output_type": "stream",
     "text": [
      "17.26958809681289\n"
     ]
    }
   ],
   "source": [
    "from sklearn.metrics import log_loss\n",
    "\n",
    "print(log_loss(l1,l2))"
   ]
  },
  {
   "cell_type": "code",
   "execution_count": 1,
   "metadata": {},
   "outputs": [],
   "source": [
    "## Acurracies for multi label classifications\n",
    "\n",
    "##PK precision is defined as the number  of hits in the predicted list considering only top-k predictions, divided by k. \n",
    "\n",
    "def pk(y_true,y_pred,k):\n",
    "    if k==0:\n",
    "        return 0\n",
    "    y_pred = y_pred[:k]\n",
    "    pred_set = set(y_pred)\n",
    "    true_set = set(y_true)\n",
    "    common_values = pred_set.intersection(true_set)\n",
    "    return len(common_values)/len(y_pred[:k])\n",
    "\n",
    "##APK avg of PK for k= 1,2,3..k\n",
    "\n",
    "def apk(y_true,y_pred,k):\n",
    "    pk_vals = []\n",
    "    for i in range(0,k):\n",
    "        pk_vals.append(pk(y_true,y_pred,i+1))\n",
    "    if(len(pk_vals)==0):\n",
    "        return 0\n",
    "    return sum(pk_vals)/len(pk_vals)\n",
    "        \n",
    "##MAPK = Averages of APKs\n",
    "\n",
    "def mapk(y_true,y_pred,k):\n",
    "    apk_vals = []\n",
    "    for i in range(len(y_true)):\n",
    "        apk_vals.append(apk(y_true[i], y_pred[i], k=k))\n",
    "    return sum(apk_vals)/len(apk_vals)\n",
    "\n",
    "##PK, APK, MAPK all range from 0 to 1, 1 being best"
   ]
  },
  {
   "cell_type": "code",
   "execution_count": 2,
   "metadata": {},
   "outputs": [],
   "source": [
    "## Error = True val - predicted val\n",
    "## Abs error = abs (tv - pv)\n",
    "\n",
    "import numpy as np  \n",
    "\n",
    "def mean_absolute_error(y_true, y_pred):  \n",
    "    error = 0  \n",
    "    for yt, yp in zip(y_true, y_pred):  \n",
    "        error += np.abs(yt - yp)  \n",
    "        return error/ len(y_true)  \n",
    "    \n",
    "## Sqrd error = (tv - pv)^2\n",
    "\n",
    "def mean_sqrd_error(y_true, y_pred):  \n",
    "    error = 0  \n",
    "    for yt, yp in zip(y_true, y_pred):  \n",
    "        error += (yt - yp)**2  \n",
    "    return error/ len(y_true) \n",
    "\n",
    "## Mean sqrd error = sqrt (mse)    \n",
    "\n",
    "def rmse(y_true,y_pred):\n",
    "    return np.sqrt(mean_sqrd_error(y_true,y_pred))\n",
    "\n",
    "## sqrd log error\n",
    "\n",
    "def mean_sqrd_log_error(y_true, y_pred):  \n",
    "    error = 0  \n",
    "    for yt, yp in zip(y_true, y_pred):  \n",
    "        error += (np.log(1+yt) - np.log(1+yp))**2  \n",
    "    return error/ len(y_true) \n",
    "\n",
    "## rmsle = sqrt(msle)\n",
    "\n",
    "def rmsle(y_true,y_pred):\n",
    "    return np.sqrt(mean_sqrd_log_error(y_true,y_pred))\n",
    "\n",
    "## percentage error = (tv/pv - 1)*100\n",
    "\n",
    "def percent_error(y_true, y_pred):  \n",
    "    error = 0  \n",
    "    for yt, yp in zip(y_true, y_pred):  \n",
    "        error += (yt - yp)/yt  \n",
    "    return error/ len(y_true) \n",
    "\n",
    "## mean abs percent error \n",
    "\n",
    "def mean_sqrd_error(y_true, y_pred):  \n",
    "    error = 0  \n",
    "    for yt, yp in zip(y_true, y_pred):  \n",
    "        error += np.abs(yt - yp)/yt  \n",
    "    return error/ len(y_true) \n",
    "\n",
    "\n"
   ]
  },
  {
   "cell_type": "code",
   "execution_count": 6,
   "metadata": {},
   "outputs": [],
   "source": [
    "## Other accuracies in regression \n",
    "\n",
    "## R2\n",
    "\n",
    "import numpy as np  \n",
    "\n",
    "def r2(y_true, y_pred): \n",
    "    mean_true_value = np.mean(y_true)  \n",
    "    numerator = 0 \n",
    "    denominator = 0 \n",
    "    for yt, yp in zip(y_true, y_pred):   \n",
    "        numerator += (yt - yp) ** 2  \n",
    "        denominator += (yt - mean_true_value) ** 2  \n",
    "        ratio = numerator/ denominator \n",
    "    return (1 - ratio)  \n"
   ]
  },
  {
   "cell_type": "markdown",
   "metadata": {},
   "source": [
    "**Advance metrics**\n",
    "\n",
    "- quadritic weighted kappa / cohen's kappa (QWK):\n",
    "    - agreement between two values, approach 1 in high agreement\n",
    "    - QWK > 0.85  good model\n",
    "- Mathew correlation cofficient (MCC):\n",
    "    - MCC = (TP\\*TN - FP\\*FN)/ [(TP+FP)\\*(TN+FN)\\*(FP+TN)\\*(FN+TP)]^(0.5)"
   ]
  },
  {
   "cell_type": "code",
   "execution_count": null,
   "metadata": {},
   "outputs": [],
   "source": [
    "## MCC \n",
    "\n",
    "def mcc (y_pred, y_true):\n",
    "    tn = true_negative(y_true,y_pred)\n",
    "    tp = true_positive(y_true,y_pred)\n",
    "    fn = false_negative(y_true,y_pred)\n",
    "    fp = false_positive(y_true,y_pred)\n",
    "    return (tp*tn - fp*fn)/ (((tp+fp)*(tn+fn)*(fp+tn)*(fn+tp))**(0.5))"
   ]
  }
 ],
 "metadata": {
  "kernelspec": {
   "display_name": "Python 3",
   "language": "python",
   "name": "python3"
  },
  "language_info": {
   "codemirror_mode": {
    "name": "ipython",
    "version": 3
   },
   "file_extension": ".py",
   "mimetype": "text/x-python",
   "name": "python",
   "nbconvert_exporter": "python",
   "pygments_lexer": "ipython3",
   "version": "3.8.3"
  }
 },
 "nbformat": 4,
 "nbformat_minor": 4
}
