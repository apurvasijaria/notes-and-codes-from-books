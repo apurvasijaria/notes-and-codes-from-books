{
 "cells": [
  {
   "cell_type": "markdown",
   "metadata": {},
   "source": [
    "### Machine Learning definition:\n",
    "\n",
    "- Science of programming computers so they can learn from data\n",
    "- Eg: Spam Filter - learning to flag mails spams\n",
    "- Training data: from which the computer learns\n",
    "- Testing data: on which the machine learning model is tested\n",
    "- Accuracy: Performance measure, ratio of correct classification by all classification\n",
    "\n",
    "### Machine Learning use:\n",
    "\n",
    "- problems requiring fine tuning\n",
    "- problems that are too complex for the traditional approches\n",
    "- fluctuating environment: new data can change the model\n",
    "- insights for large and complex data\n",
    "\n",
    "### Applications\n",
    "\n",
    "- **Image classification**:\n",
    "     - Classifying products from a manufacturing line\n",
    "     - Detecting tumors in brain scans\n",
    "- **NLP (Natural Language Processing)**\n",
    "     - classify news articles\n",
    "     - Flagging offensive comments\n",
    "     - Summarizing documents\n",
    "     - Chatbots\n",
    "- **Regression** \n",
    "     - Forecasting revenue\n",
    "- **Speech Recognition**\n",
    "     - App reacting to voice commands\n",
    "- **Anomaly detection**\n",
    "     - Credit card Fraud detection\n",
    "     - wrong entries in the tranasaction data\n",
    "- **Clustering**\n",
    "     - Customer segmentation\n",
    "- **Recommendar System**\n",
    "     - Recomment music/books/movies based on previous history\n",
    "     - predict next purchase based on past transaction histroy\n",
    "- **Reinforcement Learning**\n",
    "     - AlphaGo  \n",
    "         \n",
    "-----------------\n",
    "\n",
    "### Types of Machine Learning Systems\n",
    "\n",
    "#### Based on Data\n",
    "\n",
    "1. **Supervised**\n",
    "    - Training data has Lables\n",
    "    - Classification/ Regression problems\n",
    "    - Important Supervised learning algorithms\n",
    "        - K-nearest neighbors\n",
    "        - Linear Regression\n",
    "        - Logistic Regression\n",
    "        - Support Vector Machines (SVMs)\n",
    "        - Decision Trees and Random Forest \n",
    "        - Neural Networks\n",
    "\n",
    "2. **Unsupervised**\n",
    "    - Unlabeled data\n",
    "    - Important unsupervised learning algorithms\n",
    "        - **Clustering**\n",
    "            - K-means\n",
    "            - DBSCAN\n",
    "            - Hierarchical cluster analysis (HCA)\n",
    "        - **Anomaly Detection and novelty detectionb**\n",
    "            - *amonaly detection- removing suspicious data, detecting fradualnt data points*\n",
    "            - *novelty detection- detect new instances that look different from all instances in the training sets*\n",
    "            - One class SVM\n",
    "            - Isolation Forest\n",
    "        - **Visualization and dimensionality reduction**\n",
    "            - *Simplifying data without losing too much information/feature extraction*\n",
    "            - Principal component analysis (PCA)\n",
    "            - Kernet PCA\n",
    "            - Locally linear Embedding (LLE)\n",
    "            - t-distributed stochastic neighbor embedding (t-SNE)\n",
    "        - **Association rule Learning**\n",
    "            - *to dig into large amounts of data and discover interesting relations between attributes*\n",
    "            - Apriori\n",
    "            - Eclat\n",
    "\n",
    "3. **Semisupervised**\n",
    "    - partial labeled and partial unlabeled data\n",
    "    - Algorithms\n",
    "        - *combination of both supervised and unsupervised algorithms*\n",
    "            - Deep belief networks (DBNs) (based on unsupervised components, restricted boltzmann machines (RBMs), fine tuned using supervised learning techniques)                           \n",
    "\n",
    "4. **Reinforcement Learning**\n",
    "    - agent: learning system\n",
    "    - accuracy - rewards (positive), penalty (negative)\n",
    "    - policy - best strategy (get most rewards)\n",
    "\n",
    "#### Incremental Learning\n",
    "\n",
    "1. **Online**\n",
    "    - Incremental learning, feeding it data instance sequentially\n",
    "    - model learns as the data arrives \n",
    "    - great when the data changes rapidly, and with limited computing resources\n",
    "    - **out of core learning**: huge datasets that cannot fit one systems memory\n",
    "    - **learning rate**: how fast the online learning system adapt to changing data\n",
    "        -high learning rate: adapts quickly to new information, forgets old information quickly\n",
    "        -low learning rate: learns slowly, less sensitive to noise and outliers \n",
    "    - con: if bad data is fed, the accuracy declines; Constant monitoring required\n",
    "\n",
    "2. **Batch Learning**\n",
    "    - system is incapable of learning incrementally, must by trained with all available data\n",
    "    - offline learning\n",
    "    - need to replace the old data with new data for retraining; can be automated\n",
    "    - New learning can require huge system comsumption and time as well\n",
    "\n",
    "#### Learning Based (How the models generalize)\n",
    "\n",
    "1. **Instance Based**\n",
    "    - system learns the patterns and identifies the similarity measure to compare the test data\n",
    "\n",
    "2. **Model Based**\n",
    "    - to build model from training set and apply the model to new data to make predictions\n",
    "    \n"
   ]
  },
  {
   "cell_type": "markdown",
   "metadata": {},
   "source": [
    "----------\n",
    "----------\n",
    "Example - Model Based Learning  (deviating from the book)"
   ]
  },
  {
   "cell_type": "code",
   "execution_count": 1,
   "metadata": {},
   "outputs": [],
   "source": [
    "import pandas as pd\n",
    "import numpy as np\n",
    "import matplotlib.pyplot as plt"
   ]
  },
  {
   "cell_type": "code",
   "execution_count": 2,
   "metadata": {},
   "outputs": [],
   "source": [
    "## Date downloded from the links in the books\n",
    "bli_data = pd.read_csv(\"datasets\\\\ch1_bli_data.csv\", thousands=r',')\n",
    "weo_data = pd.read_csv(\"datasets\\\\ch1_weo_data.csv\", thousands=r',')"
   ]
  },
  {
   "cell_type": "code",
   "execution_count": 3,
   "metadata": {},
   "outputs": [
    {
     "data": {
      "text/html": [
       "<div>\n",
       "<style scoped>\n",
       "    .dataframe tbody tr th:only-of-type {\n",
       "        vertical-align: middle;\n",
       "    }\n",
       "\n",
       "    .dataframe tbody tr th {\n",
       "        vertical-align: top;\n",
       "    }\n",
       "\n",
       "    .dataframe thead th {\n",
       "        text-align: right;\n",
       "    }\n",
       "</style>\n",
       "<table border=\"1\" class=\"dataframe\">\n",
       "  <thead>\n",
       "    <tr style=\"text-align: right;\">\n",
       "      <th></th>\n",
       "      <th>LOCATION</th>\n",
       "      <th>Country</th>\n",
       "      <th>INDICATOR</th>\n",
       "      <th>Indicator</th>\n",
       "      <th>MEASURE</th>\n",
       "      <th>Measure</th>\n",
       "      <th>INEQUALITY</th>\n",
       "      <th>Inequality</th>\n",
       "      <th>Unit Code</th>\n",
       "      <th>Unit</th>\n",
       "      <th>PowerCode Code</th>\n",
       "      <th>PowerCode</th>\n",
       "      <th>Reference Period Code</th>\n",
       "      <th>Reference Period</th>\n",
       "      <th>Value</th>\n",
       "      <th>Flag Codes</th>\n",
       "      <th>Flags</th>\n",
       "    </tr>\n",
       "  </thead>\n",
       "  <tbody>\n",
       "    <tr>\n",
       "      <th>0</th>\n",
       "      <td>AUS</td>\n",
       "      <td>Australia</td>\n",
       "      <td>JE_LMIS</td>\n",
       "      <td>Labour market insecurity</td>\n",
       "      <td>L</td>\n",
       "      <td>Value</td>\n",
       "      <td>TOT</td>\n",
       "      <td>Total</td>\n",
       "      <td>PC</td>\n",
       "      <td>Percentage</td>\n",
       "      <td>0</td>\n",
       "      <td>Units</td>\n",
       "      <td>NaN</td>\n",
       "      <td>NaN</td>\n",
       "      <td>5.4</td>\n",
       "      <td>NaN</td>\n",
       "      <td>NaN</td>\n",
       "    </tr>\n",
       "    <tr>\n",
       "      <th>1</th>\n",
       "      <td>AUT</td>\n",
       "      <td>Austria</td>\n",
       "      <td>JE_LMIS</td>\n",
       "      <td>Labour market insecurity</td>\n",
       "      <td>L</td>\n",
       "      <td>Value</td>\n",
       "      <td>TOT</td>\n",
       "      <td>Total</td>\n",
       "      <td>PC</td>\n",
       "      <td>Percentage</td>\n",
       "      <td>0</td>\n",
       "      <td>Units</td>\n",
       "      <td>NaN</td>\n",
       "      <td>NaN</td>\n",
       "      <td>3.5</td>\n",
       "      <td>NaN</td>\n",
       "      <td>NaN</td>\n",
       "    </tr>\n",
       "    <tr>\n",
       "      <th>2</th>\n",
       "      <td>BEL</td>\n",
       "      <td>Belgium</td>\n",
       "      <td>JE_LMIS</td>\n",
       "      <td>Labour market insecurity</td>\n",
       "      <td>L</td>\n",
       "      <td>Value</td>\n",
       "      <td>TOT</td>\n",
       "      <td>Total</td>\n",
       "      <td>PC</td>\n",
       "      <td>Percentage</td>\n",
       "      <td>0</td>\n",
       "      <td>Units</td>\n",
       "      <td>NaN</td>\n",
       "      <td>NaN</td>\n",
       "      <td>3.7</td>\n",
       "      <td>NaN</td>\n",
       "      <td>NaN</td>\n",
       "    </tr>\n",
       "    <tr>\n",
       "      <th>3</th>\n",
       "      <td>CAN</td>\n",
       "      <td>Canada</td>\n",
       "      <td>JE_LMIS</td>\n",
       "      <td>Labour market insecurity</td>\n",
       "      <td>L</td>\n",
       "      <td>Value</td>\n",
       "      <td>TOT</td>\n",
       "      <td>Total</td>\n",
       "      <td>PC</td>\n",
       "      <td>Percentage</td>\n",
       "      <td>0</td>\n",
       "      <td>Units</td>\n",
       "      <td>NaN</td>\n",
       "      <td>NaN</td>\n",
       "      <td>6.0</td>\n",
       "      <td>NaN</td>\n",
       "      <td>NaN</td>\n",
       "    </tr>\n",
       "    <tr>\n",
       "      <th>4</th>\n",
       "      <td>CZE</td>\n",
       "      <td>Czech Republic</td>\n",
       "      <td>JE_LMIS</td>\n",
       "      <td>Labour market insecurity</td>\n",
       "      <td>L</td>\n",
       "      <td>Value</td>\n",
       "      <td>TOT</td>\n",
       "      <td>Total</td>\n",
       "      <td>PC</td>\n",
       "      <td>Percentage</td>\n",
       "      <td>0</td>\n",
       "      <td>Units</td>\n",
       "      <td>NaN</td>\n",
       "      <td>NaN</td>\n",
       "      <td>3.1</td>\n",
       "      <td>NaN</td>\n",
       "      <td>NaN</td>\n",
       "    </tr>\n",
       "  </tbody>\n",
       "</table>\n",
       "</div>"
      ],
      "text/plain": [
       "  LOCATION         Country INDICATOR                 Indicator MEASURE  \\\n",
       "0      AUS       Australia   JE_LMIS  Labour market insecurity       L   \n",
       "1      AUT         Austria   JE_LMIS  Labour market insecurity       L   \n",
       "2      BEL         Belgium   JE_LMIS  Labour market insecurity       L   \n",
       "3      CAN          Canada   JE_LMIS  Labour market insecurity       L   \n",
       "4      CZE  Czech Republic   JE_LMIS  Labour market insecurity       L   \n",
       "\n",
       "  Measure INEQUALITY Inequality Unit Code        Unit  PowerCode Code  \\\n",
       "0   Value        TOT      Total        PC  Percentage               0   \n",
       "1   Value        TOT      Total        PC  Percentage               0   \n",
       "2   Value        TOT      Total        PC  Percentage               0   \n",
       "3   Value        TOT      Total        PC  Percentage               0   \n",
       "4   Value        TOT      Total        PC  Percentage               0   \n",
       "\n",
       "  PowerCode  Reference Period Code  Reference Period  Value  Flag Codes  Flags  \n",
       "0     Units                    NaN               NaN    5.4         NaN    NaN  \n",
       "1     Units                    NaN               NaN    3.5         NaN    NaN  \n",
       "2     Units                    NaN               NaN    3.7         NaN    NaN  \n",
       "3     Units                    NaN               NaN    6.0         NaN    NaN  \n",
       "4     Units                    NaN               NaN    3.1         NaN    NaN  "
      ]
     },
     "execution_count": 3,
     "metadata": {},
     "output_type": "execute_result"
    }
   ],
   "source": [
    "bli_data.head(5)"
   ]
  },
  {
   "cell_type": "code",
   "execution_count": 4,
   "metadata": {},
   "outputs": [
    {
     "name": "stdout",
     "output_type": "stream",
     "text": [
      "<class 'pandas.core.frame.DataFrame'>\n",
      "RangeIndex: 2369 entries, 0 to 2368\n",
      "Data columns (total 17 columns):\n",
      " #   Column                 Non-Null Count  Dtype  \n",
      "---  ------                 --------------  -----  \n",
      " 0   LOCATION               2369 non-null   object \n",
      " 1   Country                2369 non-null   object \n",
      " 2   INDICATOR              2369 non-null   object \n",
      " 3   Indicator              2369 non-null   object \n",
      " 4   MEASURE                2369 non-null   object \n",
      " 5   Measure                2369 non-null   object \n",
      " 6   INEQUALITY             2369 non-null   object \n",
      " 7   Inequality             2369 non-null   object \n",
      " 8   Unit Code              2369 non-null   object \n",
      " 9   Unit                   2369 non-null   object \n",
      " 10  PowerCode Code         2369 non-null   int64  \n",
      " 11  PowerCode              2369 non-null   object \n",
      " 12  Reference Period Code  0 non-null      float64\n",
      " 13  Reference Period       0 non-null      float64\n",
      " 14  Value                  2369 non-null   float64\n",
      " 15  Flag Codes             0 non-null      float64\n",
      " 16  Flags                  0 non-null      float64\n",
      "dtypes: float64(5), int64(1), object(11)\n",
      "memory usage: 314.8+ KB\n"
     ]
    }
   ],
   "source": [
    "bli_data.info()"
   ]
  },
  {
   "cell_type": "code",
   "execution_count": 5,
   "metadata": {},
   "outputs": [
    {
     "data": {
      "text/plain": [
       "array(['Labour market insecurity',\n",
       "       'Stakeholder engagement for developing regulations',\n",
       "       'Dwellings without basic facilities', 'Housing expenditure',\n",
       "       'Feeling safe walking alone at night', 'Rooms per person',\n",
       "       'Household net adjusted disposable income', 'Household net wealth',\n",
       "       'Employment rate', 'Long-term unemployment rate',\n",
       "       'Personal earnings', 'Quality of support network',\n",
       "       'Educational attainment', 'Student skills', 'Years in education',\n",
       "       'Air pollution', 'Water quality', 'Voter turnout',\n",
       "       'Life expectancy', 'Self-reported health', 'Life satisfaction',\n",
       "       'Homicide rate', 'Employees working very long hours',\n",
       "       'Time devoted to leisure and personal care'], dtype=object)"
      ]
     },
     "execution_count": 5,
     "metadata": {},
     "output_type": "execute_result"
    }
   ],
   "source": [
    "bli_data.Indicator.unique()"
   ]
  },
  {
   "cell_type": "code",
   "execution_count": 6,
   "metadata": {},
   "outputs": [
    {
     "data": {
      "text/html": [
       "<div>\n",
       "<style scoped>\n",
       "    .dataframe tbody tr th:only-of-type {\n",
       "        vertical-align: middle;\n",
       "    }\n",
       "\n",
       "    .dataframe tbody tr th {\n",
       "        vertical-align: top;\n",
       "    }\n",
       "\n",
       "    .dataframe thead th {\n",
       "        text-align: right;\n",
       "    }\n",
       "</style>\n",
       "<table border=\"1\" class=\"dataframe\">\n",
       "  <thead>\n",
       "    <tr style=\"text-align: right;\">\n",
       "      <th></th>\n",
       "      <th>Country</th>\n",
       "      <th>Value</th>\n",
       "    </tr>\n",
       "  </thead>\n",
       "  <tbody>\n",
       "    <tr>\n",
       "      <th>1813</th>\n",
       "      <td>Australia</td>\n",
       "      <td>7.3</td>\n",
       "    </tr>\n",
       "    <tr>\n",
       "      <th>1814</th>\n",
       "      <td>Austria</td>\n",
       "      <td>7.1</td>\n",
       "    </tr>\n",
       "    <tr>\n",
       "      <th>1815</th>\n",
       "      <td>Belgium</td>\n",
       "      <td>6.9</td>\n",
       "    </tr>\n",
       "    <tr>\n",
       "      <th>1816</th>\n",
       "      <td>Canada</td>\n",
       "      <td>7.4</td>\n",
       "    </tr>\n",
       "    <tr>\n",
       "      <th>1817</th>\n",
       "      <td>Czech Republic</td>\n",
       "      <td>6.7</td>\n",
       "    </tr>\n",
       "  </tbody>\n",
       "</table>\n",
       "</div>"
      ],
      "text/plain": [
       "             Country  Value\n",
       "1813       Australia    7.3\n",
       "1814         Austria    7.1\n",
       "1815         Belgium    6.9\n",
       "1816          Canada    7.4\n",
       "1817  Czech Republic    6.7"
      ]
     },
     "execution_count": 6,
     "metadata": {},
     "output_type": "execute_result"
    }
   ],
   "source": [
    "## Extracting Life satisfaction from bli_data\n",
    "bli_data = bli_data[['Country', 'Value']][bli_data['Indicator'] == 'Life satisfaction']\n",
    "bli_data.head(5)"
   ]
  },
  {
   "cell_type": "code",
   "execution_count": 7,
   "metadata": {},
   "outputs": [
    {
     "data": {
      "text/html": [
       "<div>\n",
       "<style scoped>\n",
       "    .dataframe tbody tr th:only-of-type {\n",
       "        vertical-align: middle;\n",
       "    }\n",
       "\n",
       "    .dataframe tbody tr th {\n",
       "        vertical-align: top;\n",
       "    }\n",
       "\n",
       "    .dataframe thead th {\n",
       "        text-align: right;\n",
       "    }\n",
       "</style>\n",
       "<table border=\"1\" class=\"dataframe\">\n",
       "  <thead>\n",
       "    <tr style=\"text-align: right;\">\n",
       "      <th></th>\n",
       "      <th>Country</th>\n",
       "      <th>Subject Descriptor</th>\n",
       "      <th>Units</th>\n",
       "      <th>Scale</th>\n",
       "      <th>Country/Series-specific Notes</th>\n",
       "      <th>2015</th>\n",
       "      <th>Estimates Start After</th>\n",
       "    </tr>\n",
       "  </thead>\n",
       "  <tbody>\n",
       "    <tr>\n",
       "      <th>0</th>\n",
       "      <td>Afghanistan</td>\n",
       "      <td>Gross domestic product per capita, current prices</td>\n",
       "      <td>U.S. dollars</td>\n",
       "      <td>Units</td>\n",
       "      <td>See notes for:  Gross domestic product, curren...</td>\n",
       "      <td>599.994</td>\n",
       "      <td>2013.0</td>\n",
       "    </tr>\n",
       "    <tr>\n",
       "      <th>1</th>\n",
       "      <td>Albania</td>\n",
       "      <td>Gross domestic product per capita, current prices</td>\n",
       "      <td>U.S. dollars</td>\n",
       "      <td>Units</td>\n",
       "      <td>See notes for:  Gross domestic product, curren...</td>\n",
       "      <td>3995.380</td>\n",
       "      <td>2010.0</td>\n",
       "    </tr>\n",
       "    <tr>\n",
       "      <th>2</th>\n",
       "      <td>Algeria</td>\n",
       "      <td>Gross domestic product per capita, current prices</td>\n",
       "      <td>U.S. dollars</td>\n",
       "      <td>Units</td>\n",
       "      <td>See notes for:  Gross domestic product, curren...</td>\n",
       "      <td>4318.140</td>\n",
       "      <td>2014.0</td>\n",
       "    </tr>\n",
       "    <tr>\n",
       "      <th>3</th>\n",
       "      <td>Angola</td>\n",
       "      <td>Gross domestic product per capita, current prices</td>\n",
       "      <td>U.S. dollars</td>\n",
       "      <td>Units</td>\n",
       "      <td>See notes for:  Gross domestic product, curren...</td>\n",
       "      <td>4100.320</td>\n",
       "      <td>2014.0</td>\n",
       "    </tr>\n",
       "    <tr>\n",
       "      <th>4</th>\n",
       "      <td>Antigua and Barbuda</td>\n",
       "      <td>Gross domestic product per capita, current prices</td>\n",
       "      <td>U.S. dollars</td>\n",
       "      <td>Units</td>\n",
       "      <td>See notes for:  Gross domestic product, curren...</td>\n",
       "      <td>14414.300</td>\n",
       "      <td>2011.0</td>\n",
       "    </tr>\n",
       "  </tbody>\n",
       "</table>\n",
       "</div>"
      ],
      "text/plain": [
       "               Country                                 Subject Descriptor  \\\n",
       "0          Afghanistan  Gross domestic product per capita, current prices   \n",
       "1              Albania  Gross domestic product per capita, current prices   \n",
       "2              Algeria  Gross domestic product per capita, current prices   \n",
       "3               Angola  Gross domestic product per capita, current prices   \n",
       "4  Antigua and Barbuda  Gross domestic product per capita, current prices   \n",
       "\n",
       "          Units  Scale                      Country/Series-specific Notes  \\\n",
       "0  U.S. dollars  Units  See notes for:  Gross domestic product, curren...   \n",
       "1  U.S. dollars  Units  See notes for:  Gross domestic product, curren...   \n",
       "2  U.S. dollars  Units  See notes for:  Gross domestic product, curren...   \n",
       "3  U.S. dollars  Units  See notes for:  Gross domestic product, curren...   \n",
       "4  U.S. dollars  Units  See notes for:  Gross domestic product, curren...   \n",
       "\n",
       "        2015  Estimates Start After  \n",
       "0    599.994                 2013.0  \n",
       "1   3995.380                 2010.0  \n",
       "2   4318.140                 2014.0  \n",
       "3   4100.320                 2014.0  \n",
       "4  14414.300                 2011.0  "
      ]
     },
     "execution_count": 7,
     "metadata": {},
     "output_type": "execute_result"
    }
   ],
   "source": [
    "weo_data.head(5)"
   ]
  },
  {
   "cell_type": "code",
   "execution_count": 8,
   "metadata": {},
   "outputs": [],
   "source": [
    "##Extracting GDP from WEO data \n",
    "weo_data = weo_data[['Country','2015']]"
   ]
  },
  {
   "cell_type": "code",
   "execution_count": 9,
   "metadata": {},
   "outputs": [
    {
     "name": "stdout",
     "output_type": "stream",
     "text": [
      "<class 'pandas.core.frame.DataFrame'>\n",
      "RangeIndex: 191 entries, 0 to 190\n",
      "Data columns (total 2 columns):\n",
      " #   Column   Non-Null Count  Dtype  \n",
      "---  ------   --------------  -----  \n",
      " 0   Country  190 non-null    object \n",
      " 1   2015     187 non-null    float64\n",
      "dtypes: float64(1), object(1)\n",
      "memory usage: 3.1+ KB\n"
     ]
    }
   ],
   "source": [
    "weo_data.info()"
   ]
  },
  {
   "cell_type": "code",
   "execution_count": 10,
   "metadata": {},
   "outputs": [],
   "source": [
    "##Remove null GDP (2015) data\n",
    "weo_data.dropna(axis=0,inplace=True)"
   ]
  },
  {
   "cell_type": "code",
   "execution_count": 11,
   "metadata": {},
   "outputs": [
    {
     "data": {
      "text/html": [
       "<div>\n",
       "<style scoped>\n",
       "    .dataframe tbody tr th:only-of-type {\n",
       "        vertical-align: middle;\n",
       "    }\n",
       "\n",
       "    .dataframe tbody tr th {\n",
       "        vertical-align: top;\n",
       "    }\n",
       "\n",
       "    .dataframe thead th {\n",
       "        text-align: right;\n",
       "    }\n",
       "</style>\n",
       "<table border=\"1\" class=\"dataframe\">\n",
       "  <thead>\n",
       "    <tr style=\"text-align: right;\">\n",
       "      <th></th>\n",
       "      <th>Country</th>\n",
       "      <th>2015</th>\n",
       "    </tr>\n",
       "  </thead>\n",
       "  <tbody>\n",
       "    <tr>\n",
       "      <th>0</th>\n",
       "      <td>Afghanistan</td>\n",
       "      <td>599.994</td>\n",
       "    </tr>\n",
       "    <tr>\n",
       "      <th>1</th>\n",
       "      <td>Albania</td>\n",
       "      <td>3995.380</td>\n",
       "    </tr>\n",
       "    <tr>\n",
       "      <th>2</th>\n",
       "      <td>Algeria</td>\n",
       "      <td>4318.140</td>\n",
       "    </tr>\n",
       "    <tr>\n",
       "      <th>3</th>\n",
       "      <td>Angola</td>\n",
       "      <td>4100.320</td>\n",
       "    </tr>\n",
       "    <tr>\n",
       "      <th>4</th>\n",
       "      <td>Antigua and Barbuda</td>\n",
       "      <td>14414.300</td>\n",
       "    </tr>\n",
       "  </tbody>\n",
       "</table>\n",
       "</div>"
      ],
      "text/plain": [
       "               Country       2015\n",
       "0          Afghanistan    599.994\n",
       "1              Albania   3995.380\n",
       "2              Algeria   4318.140\n",
       "3               Angola   4100.320\n",
       "4  Antigua and Barbuda  14414.300"
      ]
     },
     "execution_count": 11,
     "metadata": {},
     "output_type": "execute_result"
    }
   ],
   "source": [
    "weo_data.head(5)"
   ]
  },
  {
   "cell_type": "code",
   "execution_count": 12,
   "metadata": {},
   "outputs": [
    {
     "name": "stdout",
     "output_type": "stream",
     "text": [
      "               Country  GDP per capita (USD)\n",
      "0          Afghanistan               599.994\n",
      "1              Albania              3995.380\n",
      "2              Algeria              4318.140\n",
      "3               Angola              4100.320\n",
      "4  Antigua and Barbuda             14414.300\n",
      "             Country  Life satisfaction\n",
      "1813       Australia                7.3\n",
      "1814         Austria                7.1\n",
      "1815         Belgium                6.9\n",
      "1816          Canada                7.4\n",
      "1817  Czech Republic                6.7\n"
     ]
    }
   ],
   "source": [
    "## Renaming the columns\n",
    "weo_data = weo_data.rename(columns={\"2015\":\"GDP per capita (USD)\"})\n",
    "bli_data = bli_data.rename(columns={\"Value\":\"Life satisfaction\"})\n",
    "print(weo_data.head(5))\n",
    "print(bli_data.head(5))"
   ]
  },
  {
   "cell_type": "code",
   "execution_count": 13,
   "metadata": {},
   "outputs": [
    {
     "name": "stdout",
     "output_type": "stream",
     "text": [
      "(168, 2)\n",
      "(187, 2)\n"
     ]
    }
   ],
   "source": [
    "## Checking counts before joining\n",
    "print(bli_data.shape)\n",
    "print(weo_data.shape)"
   ]
  },
  {
   "cell_type": "code",
   "execution_count": 14,
   "metadata": {},
   "outputs": [
    {
     "data": {
      "text/plain": [
       "101994.09"
      ]
     },
     "execution_count": 14,
     "metadata": {},
     "output_type": "execute_result"
    }
   ],
   "source": [
    "weo_data['GDP per capita (USD)'].max()"
   ]
  },
  {
   "cell_type": "code",
   "execution_count": 15,
   "metadata": {},
   "outputs": [],
   "source": [
    "##Filtering based on book graph limits\n",
    "weo_data = weo_data[:][weo_data['GDP per capita (USD)'] <= 60000]"
   ]
  },
  {
   "cell_type": "code",
   "execution_count": 16,
   "metadata": {},
   "outputs": [
    {
     "name": "stdout",
     "output_type": "stream",
     "text": [
      "(168, 2)\n",
      "(183, 2)\n"
     ]
    }
   ],
   "source": [
    "## Checking counts before joining\n",
    "print(bli_data.shape)\n",
    "print(weo_data.shape)"
   ]
  },
  {
   "cell_type": "code",
   "execution_count": 17,
   "metadata": {},
   "outputs": [
    {
     "data": {
      "text/html": [
       "<div>\n",
       "<style scoped>\n",
       "    .dataframe tbody tr th:only-of-type {\n",
       "        vertical-align: middle;\n",
       "    }\n",
       "\n",
       "    .dataframe tbody tr th {\n",
       "        vertical-align: top;\n",
       "    }\n",
       "\n",
       "    .dataframe thead th {\n",
       "        text-align: right;\n",
       "    }\n",
       "</style>\n",
       "<table border=\"1\" class=\"dataframe\">\n",
       "  <thead>\n",
       "    <tr style=\"text-align: right;\">\n",
       "      <th></th>\n",
       "      <th>GDP per capita (USD)</th>\n",
       "      <th>Life satisfaction</th>\n",
       "    </tr>\n",
       "    <tr>\n",
       "      <th>Country</th>\n",
       "      <th></th>\n",
       "      <th></th>\n",
       "    </tr>\n",
       "  </thead>\n",
       "  <tbody>\n",
       "    <tr>\n",
       "      <th>Australia</th>\n",
       "      <td>50961.87</td>\n",
       "      <td>7.350</td>\n",
       "    </tr>\n",
       "    <tr>\n",
       "      <th>Austria</th>\n",
       "      <td>43724.03</td>\n",
       "      <td>7.225</td>\n",
       "    </tr>\n",
       "    <tr>\n",
       "      <th>Belgium</th>\n",
       "      <td>40106.63</td>\n",
       "      <td>7.000</td>\n",
       "    </tr>\n",
       "    <tr>\n",
       "      <th>Brazil</th>\n",
       "      <td>8670.00</td>\n",
       "      <td>6.400</td>\n",
       "    </tr>\n",
       "    <tr>\n",
       "      <th>Canada</th>\n",
       "      <td>43331.96</td>\n",
       "      <td>7.425</td>\n",
       "    </tr>\n",
       "  </tbody>\n",
       "</table>\n",
       "</div>"
      ],
      "text/plain": [
       "           GDP per capita (USD)  Life satisfaction\n",
       "Country                                           \n",
       "Australia              50961.87              7.350\n",
       "Austria                43724.03              7.225\n",
       "Belgium                40106.63              7.000\n",
       "Brazil                  8670.00              6.400\n",
       "Canada                 43331.96              7.425"
      ]
     },
     "execution_count": 17,
     "metadata": {},
     "output_type": "execute_result"
    }
   ],
   "source": [
    "table_data = pd.merge(weo_data, bli_data, how='inner', on='Country').groupby('Country').mean()\n",
    "table_data.head(5)"
   ]
  },
  {
   "cell_type": "code",
   "execution_count": 18,
   "metadata": {},
   "outputs": [
    {
     "data": {
      "text/plain": [
       "(0.0, 10.0)"
      ]
     },
     "execution_count": 18,
     "metadata": {},
     "output_type": "execute_result"
    },
    {
     "data": {
      "image/png": "[encoded data removed]",
      "text/plain": [
       "<Figure size 432x288 with 1 Axes>"
      ]
     },
     "metadata": {
      "needs_background": "light"
     },
     "output_type": "display_data"
    }
   ],
   "source": [
    "#Ploting scatter plot for the values\n",
    "plt.scatter(table_data['GDP per capita (USD)'],table_data['Life satisfaction'])\n",
    "plt.xlim(0, 60000)\n",
    "plt.ylim(0,10)"
   ]
  },
  {
   "cell_type": "markdown",
   "metadata": {},
   "source": [
    "#### life_satisfaction = θ<sub>0</sub> + θ<sub>1</sub>× GDP_per_capita"
   ]
  },
  {
   "cell_type": "code",
   "execution_count": 19,
   "metadata": {},
   "outputs": [],
   "source": [
    "## Applying linear Model\n",
    "import sklearn.linear_model\n",
    "model_ch1 = sklearn.linear_model.LinearRegression()"
   ]
  },
  {
   "cell_type": "code",
   "execution_count": 20,
   "metadata": {},
   "outputs": [],
   "source": [
    "\n",
    "x= table_data['GDP per capita (USD)'].values.reshape(-1, 1)\n",
    "y= table_data['Life satisfaction'].values.reshape(-1, 1)"
   ]
  },
  {
   "cell_type": "code",
   "execution_count": 21,
   "metadata": {},
   "outputs": [
    {
     "name": "stdout",
     "output_type": "stream",
     "text": [
      "(37, 1)\n",
      "(37, 1)\n"
     ]
    }
   ],
   "source": [
    "print(x.shape)\n",
    "print(y.shape)"
   ]
  },
  {
   "cell_type": "code",
   "execution_count": 22,
   "metadata": {},
   "outputs": [],
   "source": [
    "## train and test split (deviating from the book)\n",
    "from sklearn.model_selection import train_test_split\n",
    "X_train, X_test, y_train, y_test = train_test_split(x,y, test_size=0.25, random_state=42)"
   ]
  },
  {
   "cell_type": "code",
   "execution_count": 23,
   "metadata": {},
   "outputs": [
    {
     "data": {
      "text/plain": [
       "LinearRegression()"
      ]
     },
     "execution_count": 23,
     "metadata": {},
     "output_type": "execute_result"
    }
   ],
   "source": [
    "## Fitting the model\n",
    "model_ch1.fit(X_train,y_train)"
   ]
  },
  {
   "cell_type": "code",
   "execution_count": 24,
   "metadata": {},
   "outputs": [],
   "source": [
    "#Predicting values for x_test\n",
    "y_pred = model_ch1.predict(X_test)"
   ]
  },
  {
   "cell_type": "code",
   "execution_count": 31,
   "metadata": {},
   "outputs": [
    {
     "data": {
      "text/plain": [
       "0.4726178476679682"
      ]
     },
     "execution_count": 31,
     "metadata": {},
     "output_type": "execute_result"
    }
   ],
   "source": [
    "from sklearn.metrics import mean_squared_error\n",
    "np.sqrt(mean_squared_error(y_test,y_pred))"
   ]
  },
  {
   "cell_type": "code",
   "execution_count": 29,
   "metadata": {},
   "outputs": [
    {
     "name": "stdout",
     "output_type": "stream",
     "text": [
      "[[6.23154076]]\n"
     ]
    }
   ],
   "source": [
    "## Example from the book\n",
    "X_new = [[22587]] \n",
    "print(model_ch1.predict(X_new))"
   ]
  },
  {
   "cell_type": "code",
   "execution_count": 30,
   "metadata": {},
   "outputs": [
    {
     "data": {
      "text/plain": [
       "(0.0, 10.0)"
      ]
     },
     "execution_count": 30,
     "metadata": {},
     "output_type": "execute_result"
    },
    {
     "data": {
      "image/png": "[encoded data removed]",
      "text/plain": [
       "<Figure size 432x288 with 1 Axes>"
      ]
     },
     "metadata": {
      "needs_background": "light"
     },
     "output_type": "display_data"
    }
   ],
   "source": [
    "## Add the model as trendline in the above plot \n",
    "Y_pred = model_ch1.predict(x)\n",
    "plt.scatter(table_data['GDP per capita (USD)'],table_data['Life satisfaction'])\n",
    "plt.plot(x,Y_pred,color = 'red')\n",
    "plt.xlim(0, 60000)\n",
    "plt.ylim(0,10)"
   ]
  },
  {
   "cell_type": "markdown",
   "metadata": {},
   "source": [
    "#### Process Summary:\n",
    "\n",
    "- Data Exploration (Understanding the data)\n",
    "- Model Selection (Based on data visualization)\n",
    "- Model Training (Minimizing the cost function, here: predicted value deviation from actual value)\n",
    "- Predicting values for new data using the model\n",
    "    "
   ]
  },
  {
   "cell_type": "markdown",
   "metadata": {},
   "source": [
    "-----------------\n",
    "----------------"
   ]
  },
  {
   "cell_type": "markdown",
   "metadata": {},
   "source": [
    "### Main Challenges in Machine Learning\n",
    "\n",
    "- two things that can go wrong \n",
    "    - bad algorithms\n",
    "    - bad data\n",
    "\n",
    "**Bad Data**\n",
    "- Insufficient quantity of training data\n",
    "- Non representative training data \n",
    "    - to generalize, we need representative data for all cases in test\n",
    "    - true for both instance based and model based learning \n",
    "    - poor accuracy for non representative data\n",
    "    - Sampling noise: sample is too small\n",
    "    - sampling bias: large data, but nonrepresentative of all cases\n",
    "- Poor Quality of data\n",
    "    - Data containing errors, outliers, and noise\n",
    "    - outliers shall be removed\n",
    "- Irrelevant Features\n",
    "    - Selection of relevant feature / adding relevant features:\n",
    "        - Feature Selection\n",
    "        - Feature Extraction\n",
    "        - Creating new features\n",
    "\n",
    "**Bad Algorithms**\n",
    "\n",
    "1. **Overfitting the training data**\n",
    "    - model performs well on training data, but doesn't generlize well\n",
    "    - To solve:\n",
    "         - Simplify the model\n",
    "         - Add more training data\n",
    "         - reduce noise in training data (fix errors and remove outliers)\n",
    "         \n",
    "2. **Underfitting the training data**\n",
    "     - model is too simple\n",
    "     - to solve:\n",
    "         - select more powerful algo, with more parameters\n",
    "         - feed better features\n",
    "         - reduce constraints on the model"
   ]
  },
  {
   "cell_type": "markdown",
   "metadata": {},
   "source": [
    "---------------\n",
    "---------------\n",
    "### Testing and Validating\n",
    "\n",
    "- Divide the set into 2 sets; training set and testing set. \n",
    "- The error in predicting the testing set values is the generalization error (or out of sample error)\n",
    "\n",
    "\n",
    "#### Hyperparameter tuning and model selection\n",
    "\n",
    "- hyperparameter tuning for avoiding overfitting\n",
    "- **holdout validation**: hold some part of data for validation, select the model that performs well on the validation set. Then train the model on full training set and test on the testing set\n",
    "    - issues\n",
    "        - *validation set is too small:* model evaluations will be imprecise\n",
    "        - *validation set is too large:* training set is too small than full training set\n",
    "- **Cross Validation**\n",
    "    - repeated validation on same training data with a different set of data selected for validation on each run\n",
    "\n",
    "#### Data Mismatch\n",
    "\n",
    "- all levels of data must be present in the training and validation dataset"
   ]
  },
  {
   "cell_type": "markdown",
   "metadata": {},
   "source": [
    "---------------\n",
    "---------------\n",
    "## Exercises\n",
    "\n",
    "\n",
    "**1. How would you define Machine Learning?**\n",
    "\n",
    "System that can learn from data by finding patterns and dependency among different parameters, and extend it to predict values for unknown set. \n",
    "\n",
    "**2. Can you name four types of problems where it shines?**\n",
    "- Complex patterns\n",
    "- Fluctuating data\n",
    "- data mining \n",
    "- hand tuned rule\n",
    "\n",
    "**3. What is a labeled training set?**\n",
    "\n",
    "The training data where we know the target variable, or know the level of the target variables to predict. / The training data where the nature of target variable or the dependent variable is known\n",
    "\n",
    "**4. What are the two most common supervised tasks?**\n",
    "- Regression\n",
    "- Classification\n",
    "\n",
    "**5. Can you name four common unsupervised tasks?**\n",
    "- Clustering\n",
    "- Visualization\n",
    "- Association rule learning\n",
    "- Dimensionality reduction\n",
    "\n",
    "**6. What type of Machine Learning algorithm would you use to allow a robot to walk in various unknown terrains?**\n",
    "\n",
    "Reinforcement learning\n",
    "\n",
    "**7. What type of algorithm would you use to segment your customers into multiple groups?**\n",
    "\n",
    "Clustering algorithms\n",
    "\n",
    "**8. Would you frame the problem of spam detection as a supervised learning problem or an unsupervised learning problem?**\n",
    "\n",
    "Supervised\n",
    "\n",
    "**9. What is an online learning system?**\n",
    "\n",
    "The model learns with the new data as soon as it comes and doesn't rely on relearning everything from scratch. It learns from data in small batches.\n",
    "\n",
    "**10. What is out-of-core learning?**\n",
    "\n",
    "Out of core learning is the huge data which cannot be run on one machine\n",
    "\n",
    "**11. What type of learning algorithm relies on a similarity measure to make predictions?**\n",
    "\n",
    "instance based\n",
    "\n",
    "**12. What is the difference between a model parameter and a learning algorithm’s hyperparameter?**\n",
    "\n",
    "hyperparameter: for learning tuning\n",
    "\n",
    "**13. What do model-based learning algorithms search for? What is the most common strategy they use to succeed? How do they make predictions?**\n",
    "\n",
    "- model based learning fit the model to find the parameters of the model that can be generalized to the new data\n",
    "- minimizing cost function\n",
    "- to make predctions, the new values of data is fed in the model and the predicted value is reported\n",
    "\n",
    "\n",
    "**14. Can you name four of the main challenges in Machine Learning?**\n",
    "- bad data\n",
    "    - error in data\n",
    "    - outliers\n",
    "    - non representive data\n",
    "    - irrelvant features\n",
    "- bad algorithms\n",
    "    - overfitting the model to particular dataset\n",
    "    - underfitting the model to particular data due to lack of data \n",
    "\n",
    "**15. If your model performs great on the training data but generalizes poorly to new instances, what is happening? Can you name three possible solutions?**\n",
    "\n",
    "Overfitting, solutions: \n",
    "     - to simplify the mode\n",
    "     - to add more training data\n",
    "     - to fix errors and remove outliers \n",
    "\n",
    "**16. What is a test set, and why would you want to use it?**\n",
    "\n",
    "Test set is same as training set with same nature of data, except the target variable. We use it to check the accuracy of the model and to validate the model.\n",
    "\n",
    "**17. What is the purpose of a validation set?**\n",
    "\n",
    "to compare the models and their performance. To select the best model and tune the hyperparameters\n",
    "\n",
    "**18. What is the train-dev set, when do you need it, and how do you use it?**\n",
    "\n",
    "the train-dev is a validation set that is taken from a broad training set after performing the train/validation/test split. helps when the test set is a part of the broad variation of test set. so we create a train-dev set with similar variables in order to avoid misrepresentation of other category/combinations.\n",
    "\n",
    "We train the model on the training data set, we evaluate on train-dev and validation, \n",
    "- if model performs badly on both, we have an overfitting case, \n",
    "- if the model performs good in train-dev and badly on validation we have a data mismatch we the learning doesn't generalize to our specific production data.\n",
    "\n",
    "\n",
    "**19. What can go wrong if you tune hyperparameters using the test set?**\n",
    "\n",
    "overfitted model - might not generalize to new data very well.  "
   ]
  },
  {
   "cell_type": "code",
   "execution_count": null,
   "metadata": {},
   "outputs": [],
   "source": []
  }
 ],
 "metadata": {
  "kernelspec": {
   "display_name": "Python 3",
   "language": "python",
   "name": "python3"
  },
  "language_info": {
   "codemirror_mode": {
    "name": "ipython",
    "version": 3
   },
   "file_extension": ".py",
   "mimetype": "text/x-python",
   "name": "python",
   "nbconvert_exporter": "python",
   "pygments_lexer": "ipython3",
   "version": "3.8.3"
  }
 },
 "nbformat": 4,
 "nbformat_minor": 4
}
