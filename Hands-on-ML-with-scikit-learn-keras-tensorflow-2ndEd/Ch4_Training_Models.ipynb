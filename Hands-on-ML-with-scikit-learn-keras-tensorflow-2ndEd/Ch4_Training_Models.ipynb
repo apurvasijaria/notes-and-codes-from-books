{
 "cells": [
  {
   "cell_type": "markdown",
   "metadata": {},
   "source": [
    "## Training Models\n",
    "\n",
    "Looking at 2 ways of training linear regression model\n",
    "- Using direct closed form equation, that directly computes the model parameters that best fit the model to the training set\n",
    "- using iterative optimaztion approach called GD that gradually tweaks the mode lparameters to minimize the cost function over the trainng set\n",
    "    - batch GD\n",
    "    - mini batch GD \n",
    "    - Stochastic GD\n",
    "    \n",
    "##### The normal equation  \n",
    "To find the value of θ that minimizes the cost function, there is a closed-form\n",
    "solution—in other words, a mathematical equation that gives the result\n",
    "directly. This is called the _Normal Equation_\n",
    "\n",
    " \\begin{equation*} θ^ˆ = (X ^{⊺}X)^{-1}X ^{⊺}y  \\end{equation*} \n",
    "\n",
    "- θˆ is the value of θ that minimizes the cost function\n",
    "- y is the vector of target values "
   ]
  },
  {
   "cell_type": "code",
   "execution_count": 1,
   "metadata": {},
   "outputs": [],
   "source": [
    "import numpy as np\n",
    "\n",
    "X = 2 * np.random.rand(100, 1)\n",
    "y = 4 + 3 * X + np.random.randn(100, 1)"
   ]
  },
  {
   "cell_type": "code",
   "execution_count": 9,
   "metadata": {},
   "outputs": [
    {
     "data": {
      "text/plain": [
       "(0.0, 2.0, 0.0, 15.0)"
      ]
     },
     "execution_count": 9,
     "metadata": {},
     "output_type": "execute_result"
    },
    {
     "data": {
      "image/png": "[encoded data removed]",
      "text/plain": [
       "<Figure size 432x288 with 1 Axes>"
      ]
     },
     "metadata": {
      "needs_background": "light"
     },
     "output_type": "display_data"
    }
   ],
   "source": [
    "import matplotlib.pyplot as plt\n",
    "\n",
    "plt.plot(X,y,\"b.\")\n",
    "plt.axis([0,2,0,15])"
   ]
  },
  {
   "cell_type": "markdown",
   "metadata": {},
   "source": [
    "Computing θ^ˆ. Using inv from numpy linear algebra module  "
   ]
  },
  {
   "cell_type": "code",
   "execution_count": 3,
   "metadata": {},
   "outputs": [
    {
     "name": "stdout",
     "output_type": "stream",
     "text": [
      "[[4.17886523]\n",
      " [2.94529149]]\n"
     ]
    }
   ],
   "source": [
    "X_b = np.c_[np.ones((100, 1)), X] # add x0 = 1 to each instance\n",
    "theta_best = np.linalg.inv(X_b.T.dot(X_b)).dot(X_b.T).dot(y)\n",
    "print(theta_best) "
   ]
  },
  {
   "cell_type": "code",
   "execution_count": 4,
   "metadata": {},
   "outputs": [
    {
     "data": {
      "text/plain": [
       "array([[ 4.17886523],\n",
       "       [10.0694482 ]])"
      ]
     },
     "execution_count": 4,
     "metadata": {},
     "output_type": "execute_result"
    }
   ],
   "source": [
    "## Predicting \n",
    "X_new = np.array([[0],[2]])\n",
    "X_new_b = np.c_[np.ones((2,1)),X_new]\n",
    "y_predict = X_new_b.dot(theta_best)\n",
    "y_predict"
   ]
  },
  {
   "cell_type": "code",
   "execution_count": 6,
   "metadata": {},
   "outputs": [
    {
     "data": {
      "text/plain": [
       "(0.0, 2.0, 0.0, 15.0)"
      ]
     },
     "execution_count": 6,
     "metadata": {},
     "output_type": "execute_result"
    },
    {
     "data": {
      "image/png": "[encoded data removed]",
      "text/plain": [
       "<Figure size 432x288 with 1 Axes>"
      ]
     },
     "metadata": {
      "needs_background": "light"
     },
     "output_type": "display_data"
    }
   ],
   "source": [
    "## Ploting the model predictions\n",
    "plt.plot(X_new,y_predict,\"r-\")\n",
    "plt.plot(X,y,\"b.\")\n",
    "plt.axis([0,2,0,15])"
   ]
  },
  {
   "cell_type": "code",
   "execution_count": 10,
   "metadata": {},
   "outputs": [
    {
     "name": "stdout",
     "output_type": "stream",
     "text": [
      "[4.17886523]\n",
      "[[2.94529149]]\n",
      "[[ 4.17886523]\n",
      " [10.0694482 ]]\n"
     ]
    }
   ],
   "source": [
    "## Method 2 using scikit lern\n",
    "from sklearn.linear_model import LinearRegression\n",
    "\n",
    "lin_reg = LinearRegression()\n",
    "lin_reg.fit(X,y)\n",
    "print(lin_reg.intercept_)\n",
    "print(lin_reg.coef_)\n",
    "print(lin_reg.predict(X_new))"
   ]
  },
  {
   "cell_type": "markdown",
   "metadata": {},
   "source": [
    "The LinearRegression class is based on the scipy.linalg.lstsq()\n",
    "function (the name stands for “least squares”), which we can call directly"
   ]
  },
  {
   "cell_type": "code",
   "execution_count": 11,
   "metadata": {},
   "outputs": [
    {
     "name": "stdout",
     "output_type": "stream",
     "text": [
      "[[4.17886523]\n",
      " [2.94529149]]\n"
     ]
    }
   ],
   "source": [
    "theta_best_svd, residuals, rank, s = np.linalg.lstsq(X_b, y, rcond=1e-6)\n",
    "print(theta_best_svd)"
   ]
  },
  {
   "cell_type": "markdown",
   "metadata": {},
   "source": [
    "This function computes ˆθ = X+y, where X+ is the pseudoinverse of X\n",
    "(specifically, the Moore-Penrose inverse). can use np.linalg.pinv()\n",
    "to compute the pseudoinverse directly:"
   ]
  },
  {
   "cell_type": "code",
   "execution_count": 12,
   "metadata": {},
   "outputs": [
    {
     "data": {
      "text/plain": [
       "array([[4.17886523],\n",
       "       [2.94529149]])"
      ]
     },
     "execution_count": 12,
     "metadata": {},
     "output_type": "execute_result"
    }
   ],
   "source": [
    "np.linalg.pinv(X_b).dot(y)"
   ]
  },
  {
   "cell_type": "markdown",
   "metadata": {},
   "source": [
    "The pseudoinverse itself is computed using a standard matrix factorization\n",
    "technique called Singular Value Decomposition (SVD) that can decompose\n",
    "the training set matrix X into the matrix multiplication of three matrices U Σ\n",
    "V (see numpy.linalg.svd())\n",
    "\n",
    "##### Computational Complexity\n",
    "The Normal Equation computes the inverse of X X, which is an (n + 1) × (n + 1) matrix (where n is the number of features). The computational complexity of inverting such a matrix is typically about O(n^2.4) to O(n^3), depending on the implementation. In other words, if you double the number of features, you multiply the computation time by roughly 2^(2.4) = 5.3 to 2^3 = 8.\n",
    "\n",
    "The SVD approach used by Scikit-Learn’s LinearRegression class is about\n",
    "O(n^2). If you double the number of features, you multiply the computation\n",
    "time by roughly 4."
   ]
  },
  {
   "cell_type": "markdown",
   "metadata": {},
   "source": [
    "### Gradient Descent \n",
    "\n",
    "- general idea: tweak parameters iteratively to minimize a cost function\n",
    "- learning rate: hyperparameter deciding the size of the steps     \n",
    "- Starts by filling theta with random values (random initialization)\n",
    "- parameter space: combination of model parameter that minimize the cost function\n",
    "- Issues\n",
    "    - can get stuck at local minima (if you stop early, will never reach global minima)\n",
    "    - will reach global minima with low learning rate and long time\n",
    "  \n",
    "#### Batch Gradient Descent\n"
   ]
  },
  {
   "cell_type": "code",
   "execution_count": null,
   "metadata": {},
   "outputs": [],
   "source": []
  }
 ],
 "metadata": {
  "kernelspec": {
   "display_name": "Python 3",
   "language": "python",
   "name": "python3"
  },
  "language_info": {
   "codemirror_mode": {
    "name": "ipython",
    "version": 3
   },
   "file_extension": ".py",
   "mimetype": "text/x-python",
   "name": "python",
   "nbconvert_exporter": "python",
   "pygments_lexer": "ipython3",
   "version": "3.8.3"
  }
 },
 "nbformat": 4,
 "nbformat_minor": 4
}
