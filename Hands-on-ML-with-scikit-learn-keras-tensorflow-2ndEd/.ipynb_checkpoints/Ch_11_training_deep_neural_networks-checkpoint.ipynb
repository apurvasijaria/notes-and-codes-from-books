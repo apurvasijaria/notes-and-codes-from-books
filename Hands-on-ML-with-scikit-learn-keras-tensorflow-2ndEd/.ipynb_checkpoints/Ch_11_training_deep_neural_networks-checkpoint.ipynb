{
 "cells": [
  {
   "cell_type": "markdown",
   "metadata": {},
   "source": [
    "Deep Neural Networks are much more complex than the shallow NN trained in last chapter. Issues in trianing DNN:\n",
    "\n",
    "- vanishing graidents or exploding gradients\n",
    "- not enough training data\n",
    "- slow training\n",
    "- overfitting the trianing set\n",
    "\n",
    "\n",
    "### Vanishing and Exploding Gradients\n",
    "\n",
    "In backpropogation, the algo works by going from the output layer to the input layer and propogating the error gradient along the way. gradients often get small and smaller as the algorithm progressed down to the lower layers. resulting in no change in the lower layer leaved and training never converging to a good solution. this is called vanishing gradietns. \n",
    "\n",
    "In some cases, opposite happends, the gradients grow bigger and bigger until the layers get insanely large weight updates andthe algo diverges, this is called exploding gradients, which resurfaces in recurrent NN. \n",
    "\n",
    "MMore generaly, DNN suffer from unstable gradients, different layers may learn at widely different speeds.\n",
    "\n",
    "This was concluded in a 2010 study, that sigmoid function saturates at 0 or 1, hence the sgd has no gradient to propogate back from. \n",
    "\n",
    "__Glorot and He Initialization__\n",
    "\n",
    "for signifficantly allecviate the unstable gradient problem. we need to signal the flow properly in both directions: in the forward direction when making the predictions and in reverse direction when backpropogating gradients. we don't want the signal to die out or explode and saturate. for the signal to flow properly, we need the vairance of the outputs of each layer to be equal to the variance of its inputs and we need the graideitns tp have equal variance before and after flowing through a layer in reverse direction. it's not possible unless the layer has an equal number of input and neurons (fan in and fan out of the layer), but glorot and bengio proposed a compromize that is proven to work in ractive. the connection weights of each layer must be initialized randomly as ${fan}_{avg} = ({fan}_{in} + {fan}_{out})/2$.  this is called _xavier initialization or glorot initializtion_ \n",
    "\n",
    "\n",
    "| Initialization | Activation functions | σ² (Normal)|\n",
    "| :-: | :-: | :-: |\n",
    "| Glorot |  None, tanh, logistic, softmax | $ \\frac 1 {{fan}_{avg}}$|\n",
    "| He | ReLU and variants | $ \\frac 2 {{fan}_{in}}$ |\n",
    "| LeCun | SELU | $ \\frac 1 {{fan}_{in}}$|\n",
    "\n",
    "\n",
    "By default, Keras uses Glorot initialization with a uniform distribution. When creating a layer, you can change this to He initialization by setting `kernel_initializer=\"he_uniform\"` or `kernel_initializer=\"he_normal\"`"
   ]
  },
  {
   "cell_type": "code",
   "execution_count": 1,
   "metadata": {},
   "outputs": [],
   "source": [
    "import tensorflow as tf\n",
    "from tensorflow import keras"
   ]
  },
  {
   "cell_type": "code",
   "execution_count": 2,
   "metadata": {},
   "outputs": [],
   "source": [
    "from keras import datasets"
   ]
  },
  {
   "cell_type": "code",
   "execution_count": 3,
   "metadata": {},
   "outputs": [],
   "source": [
    "fmnist = keras.datasets.fashion_mnist"
   ]
  },
  {
   "cell_type": "code",
   "execution_count": 4,
   "metadata": {},
   "outputs": [],
   "source": [
    "(X_train, y_train), (X_test, y_test) = fmnist.load_data()"
   ]
  },
  {
   "cell_type": "code",
   "execution_count": 5,
   "metadata": {},
   "outputs": [],
   "source": [
    "##Creating validation dataset and scaling the dataset\n",
    "\n",
    "X_val, X_train = X_train[:5000],X_train[5000:]\n",
    "y_val, y_train = y_train[:5000],y_train[5000:]"
   ]
  },
  {
   "cell_type": "code",
   "execution_count": 6,
   "metadata": {},
   "outputs": [],
   "source": [
    "X_train, X_val, X_test = X_train/255.0, X_val/255.0,X_test/255.0"
   ]
  },
  {
   "cell_type": "code",
   "execution_count": 7,
   "metadata": {},
   "outputs": [],
   "source": [
    "##labels from https://keras.io/api/datasets/fashion_mnist/#loaddata-function\n",
    "labels = [\"T-shirt/top\", \"Trouser\", \"Pullover\", \"Dress\", \"Coat\", \"Sandal\", \"Shirt\", \"Sneaker\", \"Bag\", \"Ankle boot\"]"
   ]
  },
  {
   "cell_type": "code",
   "execution_count": 15,
   "metadata": {},
   "outputs": [],
   "source": [
    "model = keras.models.Sequential([\n",
    "keras.layers.Flatten(input_shape=[28, 28]),\n",
    "keras.layers.Dense(100, activation=\"relu\",kernel_initializer = \"he_normal\"),\n",
    "keras.layers.Dense(100, activation=\"relu\",kernel_initializer = \"he_normal\"),\n",
    "keras.layers.Dense(10, activation=\"softmax\")\n",
    "])"
   ]
  },
  {
   "cell_type": "code",
   "execution_count": 16,
   "metadata": {},
   "outputs": [],
   "source": [
    "model.compile(loss=\"sparse_categorical_crossentropy\", optimizer=\"sgd\",metrics=[\"accuracy\"])"
   ]
  },
  {
   "cell_type": "code",
   "execution_count": 17,
   "metadata": {},
   "outputs": [
    {
     "name": "stdout",
     "output_type": "stream",
     "text": [
      "Epoch 1/30\n",
      "1719/1719 [==============================] - 5s 2ms/step - loss: 0.7203 - accuracy: 0.7575 - val_loss: 0.5084 - val_accuracy: 0.8266\n",
      "Epoch 2/30\n",
      "1719/1719 [==============================] - 4s 2ms/step - loss: 0.4945 - accuracy: 0.8271 - val_loss: 0.4685 - val_accuracy: 0.8432\n",
      "Epoch 3/30\n",
      "1719/1719 [==============================] - 4s 2ms/step - loss: 0.4498 - accuracy: 0.8420 - val_loss: 0.4171 - val_accuracy: 0.8606\n",
      "Epoch 4/30\n",
      "1719/1719 [==============================] - 4s 2ms/step - loss: 0.4232 - accuracy: 0.8505 - val_loss: 0.4685 - val_accuracy: 0.8312\n",
      "Epoch 5/30\n",
      "1719/1719 [==============================] - 4s 2ms/step - loss: 0.4024 - accuracy: 0.8602 - val_loss: 0.3893 - val_accuracy: 0.8634\n",
      "Epoch 6/30\n",
      "1719/1719 [==============================] - 3s 2ms/step - loss: 0.3889 - accuracy: 0.8628 - val_loss: 0.3890 - val_accuracy: 0.8642\n",
      "Epoch 7/30\n",
      "1719/1719 [==============================] - 4s 2ms/step - loss: 0.3749 - accuracy: 0.8686 - val_loss: 0.3595 - val_accuracy: 0.8746\n",
      "Epoch 8/30\n",
      "1719/1719 [==============================] - 4s 2ms/step - loss: 0.3633 - accuracy: 0.8714 - val_loss: 0.3646 - val_accuracy: 0.8700\n",
      "Epoch 9/30\n",
      "1719/1719 [==============================] - 4s 2ms/step - loss: 0.3530 - accuracy: 0.8756 - val_loss: 0.3781 - val_accuracy: 0.8696\n",
      "Epoch 10/30\n",
      "1719/1719 [==============================] - 4s 2ms/step - loss: 0.3444 - accuracy: 0.8770 - val_loss: 0.3663 - val_accuracy: 0.8714\n",
      "Epoch 11/30\n",
      "1719/1719 [==============================] - 4s 2ms/step - loss: 0.3369 - accuracy: 0.8796 - val_loss: 0.3644 - val_accuracy: 0.8726\n",
      "Epoch 12/30\n",
      "1719/1719 [==============================] - 4s 2ms/step - loss: 0.3300 - accuracy: 0.8811 - val_loss: 0.3346 - val_accuracy: 0.8806\n",
      "Epoch 13/30\n",
      "1719/1719 [==============================] - 4s 2ms/step - loss: 0.3221 - accuracy: 0.8833 - val_loss: 0.3298 - val_accuracy: 0.8792\n",
      "Epoch 14/30\n",
      "1719/1719 [==============================] - 4s 3ms/step - loss: 0.3159 - accuracy: 0.8861 - val_loss: 0.3386 - val_accuracy: 0.8778\n",
      "Epoch 15/30\n",
      "1719/1719 [==============================] - 4s 2ms/step - loss: 0.3108 - accuracy: 0.8882 - val_loss: 0.3454 - val_accuracy: 0.8740\n",
      "Epoch 16/30\n",
      "1719/1719 [==============================] - 5s 3ms/step - loss: 0.3048 - accuracy: 0.8904 - val_loss: 0.3301 - val_accuracy: 0.8774\n",
      "Epoch 17/30\n",
      "1719/1719 [==============================] - 4s 2ms/step - loss: 0.3001 - accuracy: 0.8918 - val_loss: 0.3297 - val_accuracy: 0.8830\n",
      "Epoch 18/30\n",
      "1719/1719 [==============================] - 3s 2ms/step - loss: 0.2954 - accuracy: 0.8935 - val_loss: 0.3212 - val_accuracy: 0.8836\n",
      "Epoch 19/30\n",
      "1719/1719 [==============================] - 3s 2ms/step - loss: 0.2910 - accuracy: 0.8944 - val_loss: 0.3641 - val_accuracy: 0.8708\n",
      "Epoch 20/30\n",
      "1719/1719 [==============================] - 3s 2ms/step - loss: 0.2865 - accuracy: 0.8952 - val_loss: 0.3202 - val_accuracy: 0.8872\n",
      "Epoch 21/30\n",
      "1719/1719 [==============================] - 3s 2ms/step - loss: 0.2813 - accuracy: 0.8982 - val_loss: 0.3303 - val_accuracy: 0.8794\n",
      "Epoch 22/30\n",
      "1719/1719 [==============================] - 3s 2ms/step - loss: 0.2778 - accuracy: 0.8999 - val_loss: 0.3174 - val_accuracy: 0.8854\n",
      "Epoch 23/30\n",
      "1719/1719 [==============================] - 3s 2ms/step - loss: 0.2736 - accuracy: 0.9015 - val_loss: 0.3232 - val_accuracy: 0.8824\n",
      "Epoch 24/30\n",
      "1719/1719 [==============================] - 3s 2ms/step - loss: 0.2692 - accuracy: 0.9026 - val_loss: 0.3059 - val_accuracy: 0.8884\n",
      "Epoch 25/30\n",
      "1719/1719 [==============================] - 3s 2ms/step - loss: 0.2661 - accuracy: 0.9034 - val_loss: 0.3128 - val_accuracy: 0.8866\n",
      "Epoch 26/30\n",
      "1719/1719 [==============================] - 3s 2ms/step - loss: 0.2629 - accuracy: 0.9045 - val_loss: 0.3180 - val_accuracy: 0.8858\n",
      "Epoch 27/30\n",
      "1719/1719 [==============================] - 3s 2ms/step - loss: 0.2590 - accuracy: 0.9052 - val_loss: 0.3167 - val_accuracy: 0.8884\n",
      "Epoch 28/30\n",
      "1719/1719 [==============================] - 3s 2ms/step - loss: 0.2559 - accuracy: 0.9070 - val_loss: 0.3217 - val_accuracy: 0.8794\n",
      "Epoch 29/30\n",
      "1719/1719 [==============================] - 3s 2ms/step - loss: 0.2523 - accuracy: 0.9081 - val_loss: 0.3143 - val_accuracy: 0.8880\n",
      "Epoch 30/30\n",
      "1719/1719 [==============================] - 3s 2ms/step - loss: 0.2498 - accuracy: 0.9098 - val_loss: 0.3070 - val_accuracy: 0.8908\n"
     ]
    }
   ],
   "source": [
    "history = model.fit(X_train, y_train, epochs=30, validation_data = (X_val, y_val))"
   ]
  },
  {
   "cell_type": "code",
   "execution_count": 18,
   "metadata": {},
   "outputs": [],
   "source": [
    "model.save('models/ch_11/keras_gerlot_1.h5')"
   ]
  },
  {
   "cell_type": "code",
   "execution_count": 19,
   "metadata": {},
   "outputs": [
    {
     "data": {
      "image/png": "[encoded data removed]",
      "text/plain": [
       "<Figure size 576x360 with 1 Axes>"
      ]
     },
     "metadata": {
      "needs_background": "light"
     },
     "output_type": "display_data"
    }
   ],
   "source": [
    "import pandas as pd\n",
    "import matplotlib.pyplot as plt\n",
    "\n",
    "pd.DataFrame(history.history).plot(figsize=(8, 5))\n",
    "plt.grid(True)\n",
    "plt.gca().set_ylim(0, 1) # set the vertical range to [0-1]\n",
    "plt.show()"
   ]
  },
  {
   "cell_type": "code",
   "execution_count": 20,
   "metadata": {},
   "outputs": [
    {
     "name": "stdout",
     "output_type": "stream",
     "text": [
      "313/313 [==============================] - 0s 1ms/step - loss: 0.3410 - accuracy: 0.8769\n"
     ]
    },
    {
     "data": {
      "text/plain": [
       "[0.3410279452800751, 0.8769000172615051]"
      ]
     },
     "execution_count": 20,
     "metadata": {},
     "output_type": "execute_result"
    }
   ],
   "source": [
    "model.evaluate(X_test, y_test)"
   ]
  },
  {
   "cell_type": "markdown",
   "metadata": {},
   "source": [
    "If we want He initialization with a uniform distribution but based on ${fan}_{avg}$ rather than ${fan}_{in}$ , you can use the VarianceScaling initializer like this"
   ]
  },
  {
   "cell_type": "code",
   "execution_count": 22,
   "metadata": {},
   "outputs": [],
   "source": [
    "he_avg_init = keras.initializers.VarianceScaling(scale=2, mode='fan_avg', distribution = \"uniform\")"
   ]
  },
  {
   "cell_type": "code",
   "execution_count": 33,
   "metadata": {},
   "outputs": [],
   "source": [
    "model = keras.models.Sequential([\n",
    "keras.layers.Flatten(input_shape=[28, 28]),\n",
    "keras.layers.Dense(100, activation=\"sigmoid\",kernel_initializer = he_avg_init),\n",
    "keras.layers.Dense(100, activation=\"sigmoid\",kernel_initializer = he_avg_init),\n",
    "keras.layers.Dense(10, activation=\"softmax\")\n",
    "])"
   ]
  },
  {
   "cell_type": "code",
   "execution_count": 34,
   "metadata": {},
   "outputs": [],
   "source": [
    "model.compile(loss=\"sparse_categorical_crossentropy\", optimizer=\"sgd\",metrics=[\"accuracy\"])"
   ]
  },
  {
   "cell_type": "code",
   "execution_count": 35,
   "metadata": {},
   "outputs": [
    {
     "name": "stdout",
     "output_type": "stream",
     "text": [
      "Epoch 1/30\n",
      "1719/1719 [==============================] - 4s 2ms/step - loss: 1.9201 - accuracy: 0.4789 - val_loss: 1.4934 - val_accuracy: 0.5956\n",
      "Epoch 2/30\n",
      "1719/1719 [==============================] - 3s 2ms/step - loss: 1.2520 - accuracy: 0.6496 - val_loss: 1.0548 - val_accuracy: 0.7136\n",
      "Epoch 3/30\n",
      "1719/1719 [==============================] - 4s 2ms/step - loss: 0.9580 - accuracy: 0.7067 - val_loss: 0.8606 - val_accuracy: 0.7288\n",
      "Epoch 4/30\n",
      "1719/1719 [==============================] - 3s 2ms/step - loss: 0.8094 - accuracy: 0.7319 - val_loss: 0.7483 - val_accuracy: 0.7530\n",
      "Epoch 5/30\n",
      "1719/1719 [==============================] - 3s 2ms/step - loss: 0.7225 - accuracy: 0.7475 - val_loss: 0.6813 - val_accuracy: 0.7596\n",
      "Epoch 6/30\n",
      "1719/1719 [==============================] - 3s 2ms/step - loss: 0.6677 - accuracy: 0.7601 - val_loss: 0.6363 - val_accuracy: 0.7738\n",
      "Epoch 7/30\n",
      "1719/1719 [==============================] - 3s 2ms/step - loss: 0.6295 - accuracy: 0.7722 - val_loss: 0.6022 - val_accuracy: 0.7854\n",
      "Epoch 8/30\n",
      "1719/1719 [==============================] - 3s 2ms/step - loss: 0.5999 - accuracy: 0.7835 - val_loss: 0.5744 - val_accuracy: 0.7980\n",
      "Epoch 9/30\n",
      "1719/1719 [==============================] - 3s 2ms/step - loss: 0.5756 - accuracy: 0.7939 - val_loss: 0.5522 - val_accuracy: 0.8052\n",
      "Epoch 10/30\n",
      "1719/1719 [==============================] - 3s 2ms/step - loss: 0.5549 - accuracy: 0.8031 - val_loss: 0.5312 - val_accuracy: 0.8164\n",
      "Epoch 11/30\n",
      "1719/1719 [==============================] - 3s 2ms/step - loss: 0.5373 - accuracy: 0.8097 - val_loss: 0.5147 - val_accuracy: 0.8220\n",
      "Epoch 12/30\n",
      "1719/1719 [==============================] - 3s 2ms/step - loss: 0.5221 - accuracy: 0.8154 - val_loss: 0.5038 - val_accuracy: 0.8236\n",
      "Epoch 13/30\n",
      "1719/1719 [==============================] - 3s 2ms/step - loss: 0.5092 - accuracy: 0.8199 - val_loss: 0.4901 - val_accuracy: 0.8344\n",
      "Epoch 14/30\n",
      "1719/1719 [==============================] - 3s 2ms/step - loss: 0.4978 - accuracy: 0.8247 - val_loss: 0.4815 - val_accuracy: 0.8358\n",
      "Epoch 15/30\n",
      "1719/1719 [==============================] - 3s 2ms/step - loss: 0.4878 - accuracy: 0.8283 - val_loss: 0.4723 - val_accuracy: 0.8384\n",
      "Epoch 16/30\n",
      "1719/1719 [==============================] - 3s 2ms/step - loss: 0.4793 - accuracy: 0.8309 - val_loss: 0.4632 - val_accuracy: 0.8386\n",
      "Epoch 17/30\n",
      "1719/1719 [==============================] - 3s 2ms/step - loss: 0.4714 - accuracy: 0.8328 - val_loss: 0.4558 - val_accuracy: 0.8400\n",
      "Epoch 18/30\n",
      "1719/1719 [==============================] - 3s 2ms/step - loss: 0.4645 - accuracy: 0.8355 - val_loss: 0.4491 - val_accuracy: 0.8428\n",
      "Epoch 19/30\n",
      "1719/1719 [==============================] - 3s 2ms/step - loss: 0.4581 - accuracy: 0.8373 - val_loss: 0.4446 - val_accuracy: 0.8450\n",
      "Epoch 20/30\n",
      "1719/1719 [==============================] - 3s 2ms/step - loss: 0.4524 - accuracy: 0.8398 - val_loss: 0.4421 - val_accuracy: 0.8472\n",
      "Epoch 21/30\n",
      "1719/1719 [==============================] - 3s 2ms/step - loss: 0.4471 - accuracy: 0.8422 - val_loss: 0.4356 - val_accuracy: 0.8498\n",
      "Epoch 22/30\n",
      "1719/1719 [==============================] - 3s 2ms/step - loss: 0.4422 - accuracy: 0.8435 - val_loss: 0.4323 - val_accuracy: 0.8528\n",
      "Epoch 23/30\n",
      "1719/1719 [==============================] - 3s 2ms/step - loss: 0.4375 - accuracy: 0.8450 - val_loss: 0.4276 - val_accuracy: 0.8512\n",
      "Epoch 24/30\n",
      "1719/1719 [==============================] - 3s 2ms/step - loss: 0.4331 - accuracy: 0.8467 - val_loss: 0.4241 - val_accuracy: 0.8530\n",
      "Epoch 25/30\n",
      "1719/1719 [==============================] - 3s 2ms/step - loss: 0.4290 - accuracy: 0.8479 - val_loss: 0.4201 - val_accuracy: 0.8546\n",
      "Epoch 26/30\n",
      "1719/1719 [==============================] - 3s 2ms/step - loss: 0.4252 - accuracy: 0.8488 - val_loss: 0.4179 - val_accuracy: 0.8554\n",
      "Epoch 27/30\n",
      "1719/1719 [==============================] - 3s 2ms/step - loss: 0.4214 - accuracy: 0.8503 - val_loss: 0.4173 - val_accuracy: 0.8570\n",
      "Epoch 28/30\n",
      "1719/1719 [==============================] - 3s 2ms/step - loss: 0.4180 - accuracy: 0.8517 - val_loss: 0.4147 - val_accuracy: 0.8562\n",
      "Epoch 29/30\n",
      "1719/1719 [==============================] - 3s 2ms/step - loss: 0.4146 - accuracy: 0.8528 - val_loss: 0.4099 - val_accuracy: 0.8586\n",
      "Epoch 30/30\n",
      "1719/1719 [==============================] - 3s 2ms/step - loss: 0.4112 - accuracy: 0.8544 - val_loss: 0.4067 - val_accuracy: 0.8600\n"
     ]
    }
   ],
   "source": [
    "history = model.fit(X_train, y_train, epochs=30, validation_data = (X_val, y_val))"
   ]
  },
  {
   "cell_type": "code",
   "execution_count": 26,
   "metadata": {},
   "outputs": [],
   "source": [
    "model.save('models/ch_11/keras_gerlot_favg.h5')"
   ]
  },
  {
   "cell_type": "code",
   "execution_count": 27,
   "metadata": {},
   "outputs": [
    {
     "data": {
      "image/png": "[encoded data removed]",
      "text/plain": [
       "<Figure size 576x360 with 1 Axes>"
      ]
     },
     "metadata": {
      "needs_background": "light"
     },
     "output_type": "display_data"
    }
   ],
   "source": [
    "pd.DataFrame(history.history).plot(figsize=(8, 5))\n",
    "plt.grid(True)\n",
    "plt.gca().set_ylim(0, 1) # set the vertical range to [0-1]\n",
    "plt.show()"
   ]
  },
  {
   "cell_type": "code",
   "execution_count": 28,
   "metadata": {},
   "outputs": [
    {
     "name": "stdout",
     "output_type": "stream",
     "text": [
      "313/313 [==============================] - 0s 1ms/step - loss: 0.4482 - accuracy: 0.8375\n"
     ]
    },
    {
     "data": {
      "text/plain": [
       "[0.44819024205207825, 0.8374999761581421]"
      ]
     },
     "execution_count": 28,
     "metadata": {},
     "output_type": "execute_result"
    }
   ],
   "source": [
    "model.evaluate(X_test, y_test)"
   ]
  },
  {
   "cell_type": "markdown",
   "metadata": {},
   "source": [
    "### Nonsaturating Activation Functions\n",
    "\n",
    "In 2010 paper by Glorot and Bengio, insights was that the problem with the unstable gradient was the poor choice of activation function. it turned out that activation function other than sigmoid, like relu work much better in deepl learning becaudse it does not saturate and is faster to compute. \n",
    "\n",
    "relu suffers from a problem called dying relu, that is during training some neurons effectively 'die' meaning they stop outputing anythin other than 0. in some cases we find that half of the neurons are dead, especially with high leanring rate. to solve this we use leaky relu. it's defined as max(az,z) parameter a defines how much the relu leaks, it is the slop of z<0, smaller the slop lesser the leak. it can go into long sleep but wakes up after a few layers. \n",
    "\n",
    "in comparision, leaky relu outperform relus. and leaky relu with huge leak perform better than smaller leak relu. randomized leaky relu, where the leak is decided on random also perform fair. paramteric leaky relu where a is authorized to be learned during training. \n",
    "\n",
    "__Exponential Linear Unit (ELU)__\n",
    "\n",
    "\n",
    "exponential linear unit (ELU) outperforms relu variants, with reduced training time.  \n",
    "\n",
    "${ELU}_α (z) = { α(exp (z) − 1) if z < 0  z if z ≥ 0 $"
   ]
  },
  {
   "cell_type": "markdown",
   "metadata": {},
   "source": [
    "The ELU activation function looks a lot like the ReLU function, with a few\n",
    "major differences:\n",
    "\n",
    "- It takes on negative values when z < 0, which allows the unit to have an average output closer to 0 and helps alleviate the vanishing gradients problem. - It has a nonzero gradient for z < 0, which avoids the dead neurons problem.\n",
    "- If α is equal to 1 then the function is smooth everywhere, including around z = 0, which helps speed up Gradient Descent since it does not bounce as much to the left and right of z = 0.\n",
    "\n",
    "The main drawback of the ELU activation function is that it is slower to\n",
    "compute than the ReLU function and its variants"
   ]
  },
  {
   "cell_type": "markdown",
   "metadata": {},
   "source": [
    "__Scaled ELU activation function__\n",
    "\n",
    "if all hidden layers use the SELU activation function, then the network will selfnormalize: the output of each layer will tend to preserve a mean of 0 and\n",
    "standard deviation of 1 during training, which solves the vanishing/exploding gradients problem. As a result, the SELU activation function often significantly outperforms other activation functions for such neural nets (especially deep ones)."
   ]
  },
  {
   "cell_type": "code",
   "execution_count": 36,
   "metadata": {},
   "outputs": [],
   "source": [
    "model = keras.models.Sequential([\n",
    "keras.layers.Flatten(input_shape=[28, 28]),\n",
    "keras.layers.Dense(100,kernel_initializer = \"he_normal\"),\n",
    "keras.layers.LeakyReLU(alpha = 0.2),\n",
    "keras.layers.Dense(100,activation=\"selu\",kernel_initializer=\"lecun_normal\"),\n",
    "keras.layers.Dense(10, activation=\"softmax\")\n",
    "])"
   ]
  },
  {
   "cell_type": "code",
   "execution_count": 37,
   "metadata": {},
   "outputs": [],
   "source": [
    "model.compile(loss=\"sparse_categorical_crossentropy\", optimizer=\"sgd\",metrics=[\"accuracy\"])"
   ]
  },
  {
   "cell_type": "code",
   "execution_count": 38,
   "metadata": {},
   "outputs": [
    {
     "name": "stdout",
     "output_type": "stream",
     "text": [
      "Epoch 1/30\n",
      "1719/1719 [==============================] - 4s 2ms/step - loss: 0.6548 - accuracy: 0.7805 - val_loss: 0.4962 - val_accuracy: 0.8258\n",
      "Epoch 2/30\n",
      "1719/1719 [==============================] - 3s 2ms/step - loss: 0.4712 - accuracy: 0.8338 - val_loss: 0.4319 - val_accuracy: 0.8526\n",
      "Epoch 3/30\n",
      "1719/1719 [==============================] - 3s 2ms/step - loss: 0.4350 - accuracy: 0.8463 - val_loss: 0.4221 - val_accuracy: 0.8532\n",
      "Epoch 4/30\n",
      "1719/1719 [==============================] - 3s 2ms/step - loss: 0.4146 - accuracy: 0.8518 - val_loss: 0.3943 - val_accuracy: 0.8622\n",
      "Epoch 5/30\n",
      "1719/1719 [==============================] - 3s 2ms/step - loss: 0.3985 - accuracy: 0.8583 - val_loss: 0.3956 - val_accuracy: 0.8608\n",
      "Epoch 6/30\n",
      "1719/1719 [==============================] - 3s 2ms/step - loss: 0.3846 - accuracy: 0.8638 - val_loss: 0.3702 - val_accuracy: 0.8746\n",
      "Epoch 7/30\n",
      "1719/1719 [==============================] - 3s 2ms/step - loss: 0.3744 - accuracy: 0.8676 - val_loss: 0.3632 - val_accuracy: 0.8744\n",
      "Epoch 8/30\n",
      "1719/1719 [==============================] - 3s 2ms/step - loss: 0.3634 - accuracy: 0.8717 - val_loss: 0.3812 - val_accuracy: 0.8624\n",
      "Epoch 9/30\n",
      "1719/1719 [==============================] - 3s 2ms/step - loss: 0.3558 - accuracy: 0.8725 - val_loss: 0.3564 - val_accuracy: 0.8752\n",
      "Epoch 10/30\n",
      "1719/1719 [==============================] - 3s 2ms/step - loss: 0.3468 - accuracy: 0.8758 - val_loss: 0.3613 - val_accuracy: 0.8734\n",
      "Epoch 11/30\n",
      "1719/1719 [==============================] - 3s 2ms/step - loss: 0.3405 - accuracy: 0.8775 - val_loss: 0.3565 - val_accuracy: 0.8736\n",
      "Epoch 12/30\n",
      "1719/1719 [==============================] - 3s 2ms/step - loss: 0.3346 - accuracy: 0.8795 - val_loss: 0.3458 - val_accuracy: 0.8778\n",
      "Epoch 13/30\n",
      "1719/1719 [==============================] - 3s 2ms/step - loss: 0.3279 - accuracy: 0.8822 - val_loss: 0.3380 - val_accuracy: 0.8794\n",
      "Epoch 14/30\n",
      "1719/1719 [==============================] - 3s 2ms/step - loss: 0.3220 - accuracy: 0.8848 - val_loss: 0.3358 - val_accuracy: 0.8794\n",
      "Epoch 15/30\n",
      "1719/1719 [==============================] - 3s 2ms/step - loss: 0.3173 - accuracy: 0.8863 - val_loss: 0.3511 - val_accuracy: 0.8738\n",
      "Epoch 16/30\n",
      "1719/1719 [==============================] - 3s 2ms/step - loss: 0.3121 - accuracy: 0.8876 - val_loss: 0.3377 - val_accuracy: 0.8818\n",
      "Epoch 17/30\n",
      "1719/1719 [==============================] - 3s 2ms/step - loss: 0.3066 - accuracy: 0.8891 - val_loss: 0.3356 - val_accuracy: 0.8774\n",
      "Epoch 18/30\n",
      "1719/1719 [==============================] - 3s 2ms/step - loss: 0.3017 - accuracy: 0.8914 - val_loss: 0.3496 - val_accuracy: 0.8778\n",
      "Epoch 19/30\n",
      "1719/1719 [==============================] - 3s 2ms/step - loss: 0.2972 - accuracy: 0.8923 - val_loss: 0.3254 - val_accuracy: 0.8812\n",
      "Epoch 20/30\n",
      "1719/1719 [==============================] - 3s 2ms/step - loss: 0.2932 - accuracy: 0.8949 - val_loss: 0.3317 - val_accuracy: 0.8830\n",
      "Epoch 21/30\n",
      "1719/1719 [==============================] - 3s 2ms/step - loss: 0.2889 - accuracy: 0.8952 - val_loss: 0.3264 - val_accuracy: 0.8836\n",
      "Epoch 22/30\n",
      "1719/1719 [==============================] - 3s 2ms/step - loss: 0.2851 - accuracy: 0.8975 - val_loss: 0.3323 - val_accuracy: 0.8816\n",
      "Epoch 23/30\n",
      "1719/1719 [==============================] - 3s 2ms/step - loss: 0.2808 - accuracy: 0.8984 - val_loss: 0.3259 - val_accuracy: 0.8848\n",
      "Epoch 24/30\n",
      "1719/1719 [==============================] - 3s 2ms/step - loss: 0.2782 - accuracy: 0.9003 - val_loss: 0.3160 - val_accuracy: 0.8856\n",
      "Epoch 25/30\n",
      "1719/1719 [==============================] - 3s 2ms/step - loss: 0.2743 - accuracy: 0.9008 - val_loss: 0.3254 - val_accuracy: 0.8838\n",
      "Epoch 26/30\n",
      "1719/1719 [==============================] - 3s 2ms/step - loss: 0.2722 - accuracy: 0.9009 - val_loss: 0.3158 - val_accuracy: 0.8850\n",
      "Epoch 27/30\n",
      "1719/1719 [==============================] - 3s 2ms/step - loss: 0.2688 - accuracy: 0.9031 - val_loss: 0.3136 - val_accuracy: 0.8866\n",
      "Epoch 28/30\n",
      "1719/1719 [==============================] - 3s 2ms/step - loss: 0.2642 - accuracy: 0.9035 - val_loss: 0.3333 - val_accuracy: 0.8802\n",
      "Epoch 29/30\n",
      "1719/1719 [==============================] - 3s 2ms/step - loss: 0.2618 - accuracy: 0.9053 - val_loss: 0.3085 - val_accuracy: 0.8888\n",
      "Epoch 30/30\n",
      "1719/1719 [==============================] - 3s 2ms/step - loss: 0.2591 - accuracy: 0.9062 - val_loss: 0.3131 - val_accuracy: 0.8908\n"
     ]
    }
   ],
   "source": [
    "history = model.fit(X_train, y_train, epochs=30, validation_data = (X_val, y_val))"
   ]
  },
  {
   "cell_type": "code",
   "execution_count": 39,
   "metadata": {},
   "outputs": [],
   "source": [
    "model.save('models/ch_11/keras_relu_selu.h5')"
   ]
  },
  {
   "cell_type": "code",
   "execution_count": 40,
   "metadata": {},
   "outputs": [
    {
     "name": "stdout",
     "output_type": "stream",
     "text": [
      "313/313 [==============================] - 0s 1ms/step - loss: 0.3496 - accuracy: 0.8740\n"
     ]
    },
    {
     "data": {
      "text/plain": [
       "[0.34964653849601746, 0.8740000128746033]"
      ]
     },
     "execution_count": 40,
     "metadata": {},
     "output_type": "execute_result"
    }
   ],
   "source": [
    "model.evaluate(X_test, y_test)"
   ]
  },
  {
   "cell_type": "markdown",
   "metadata": {},
   "source": [
    "### Batch Normalization\n",
    "\n",
    "BN is done before and after a each hidden layer, where the input is zero centered and normalized and output is shifted using the two new paramter vectors per layer, one for scaling and another for shifting. In order to zero-center and normalize the inputs, the algorithm needs to estimate each input’s mean and standard deviation. It does so by evaluating the mean and standard deviation of the input over the current mini-batch (hence the name “Batch Normalization”). Batch Normalization acts like a regularizer, reducing the need for other regularization techniques.\n",
    "\n",
    "\n",
    "Moreover, there is a runtime penalty: the neural network makes slower predictions due to the extra computations required at each layer. Fortunately, it’s often possible to fuse the BN layer with the previous layer, after training, thereby avoiding the runtime penalty. This is done by updating the previous layer’s weights and biases so that it directly produces outputs of the appropriate scale and offset. the training time is slow but the convergence is faster, hence the epoches required for opitmal solution is lesser. \n"
   ]
  },
  {
   "cell_type": "code",
   "execution_count": 9,
   "metadata": {},
   "outputs": [],
   "source": [
    "model = keras.models.Sequential([\n",
    "    keras.layers.Flatten(input_shape = [28,28]),\n",
    "    keras.layers.BatchNormalization(),\n",
    "    keras.layers.Dense(300, activation = \"elu\", kernel_initializer = \"he_normal\"),\n",
    "    keras.layers.BatchNormalization(),\n",
    "    keras.layers.Dense(100, activation = \"elu\", kernel_initializer = \"he_normal\"),\n",
    "    keras.layers.BatchNormalization(),\n",
    "    keras.layers.Dense(10, activation = \"softmax\")\n",
    "])"
   ]
  },
  {
   "cell_type": "code",
   "execution_count": 10,
   "metadata": {},
   "outputs": [
    {
     "name": "stdout",
     "output_type": "stream",
     "text": [
      "Model: \"sequential\"\n",
      "_________________________________________________________________\n",
      "Layer (type)                 Output Shape              Param #   \n",
      "=================================================================\n",
      "flatten (Flatten)            (None, 784)               0         \n",
      "_________________________________________________________________\n",
      "batch_normalization (BatchNo (None, 784)               3136      \n",
      "_________________________________________________________________\n",
      "dense (Dense)                (None, 300)               235500    \n",
      "_________________________________________________________________\n",
      "batch_normalization_1 (Batch (None, 300)               1200      \n",
      "_________________________________________________________________\n",
      "dense_1 (Dense)              (None, 100)               30100     \n",
      "_________________________________________________________________\n",
      "batch_normalization_2 (Batch (None, 100)               400       \n",
      "_________________________________________________________________\n",
      "dense_2 (Dense)              (None, 10)                1010      \n",
      "=================================================================\n",
      "Total params: 271,346\n",
      "Trainable params: 268,978\n",
      "Non-trainable params: 2,368\n",
      "_________________________________________________________________\n"
     ]
    }
   ],
   "source": [
    "model.summary()"
   ]
  },
  {
   "cell_type": "code",
   "execution_count": 11,
   "metadata": {},
   "outputs": [
    {
     "data": {
      "text/plain": [
       "[('batch_normalization/gamma:0', True),\n",
       " ('batch_normalization/beta:0', True),\n",
       " ('batch_normalization/moving_mean:0', False),\n",
       " ('batch_normalization/moving_variance:0', False)]"
      ]
     },
     "execution_count": 11,
     "metadata": {},
     "output_type": "execute_result"
    }
   ],
   "source": [
    "##paramters for first bn layer\n",
    "[(var.name, var.trainable) for var in model.layers[1].variables]"
   ]
  },
  {
   "cell_type": "code",
   "execution_count": 12,
   "metadata": {},
   "outputs": [
    {
     "data": {
      "text/plain": [
       "[('dense/kernel:0', True), ('dense/bias:0', True)]"
      ]
     },
     "execution_count": 12,
     "metadata": {},
     "output_type": "execute_result"
    }
   ],
   "source": [
    "[(var.name, var.trainable) for var in model.layers[2].variables]"
   ]
  },
  {
   "cell_type": "code",
   "execution_count": 13,
   "metadata": {},
   "outputs": [
    {
     "data": {
      "text/plain": [
       "[('batch_normalization_1/gamma:0', True),\n",
       " ('batch_normalization_1/beta:0', True),\n",
       " ('batch_normalization_1/moving_mean:0', False),\n",
       " ('batch_normalization_1/moving_variance:0', False)]"
      ]
     },
     "execution_count": 13,
     "metadata": {},
     "output_type": "execute_result"
    }
   ],
   "source": [
    "[(var.name, var.trainable) for var in model.layers[3].variables]"
   ]
  },
  {
   "cell_type": "code",
   "execution_count": 17,
   "metadata": {},
   "outputs": [
    {
     "data": {
      "text/plain": [
       "[]"
      ]
     },
     "execution_count": 17,
     "metadata": {},
     "output_type": "execute_result"
    }
   ],
   "source": [
    "model.layers[1].updates"
   ]
  },
  {
   "cell_type": "code",
   "execution_count": 18,
   "metadata": {},
   "outputs": [
    {
     "name": "stdout",
     "output_type": "stream",
     "text": [
      "Epoch 1/30\n",
      "1719/1719 [==============================] - 15s 6ms/step - loss: 0.5524 - accuracy: 0.8062 - val_loss: 0.4094 - val_accuracy: 0.8600\n",
      "Epoch 2/30\n",
      "1719/1719 [==============================] - 10s 6ms/step - loss: 0.4248 - accuracy: 0.8497 - val_loss: 0.3795 - val_accuracy: 0.8684\n",
      "Epoch 3/30\n",
      "1719/1719 [==============================] - 10s 6ms/step - loss: 0.3871 - accuracy: 0.8639 - val_loss: 0.3587 - val_accuracy: 0.8718\n",
      "Epoch 4/30\n",
      "1719/1719 [==============================] - 10s 6ms/step - loss: 0.3649 - accuracy: 0.8699 - val_loss: 0.3458 - val_accuracy: 0.8756\n",
      "Epoch 5/30\n",
      "1719/1719 [==============================] - 10s 6ms/step - loss: 0.3455 - accuracy: 0.8765 - val_loss: 0.3418 - val_accuracy: 0.8784\n",
      "Epoch 6/30\n",
      "1719/1719 [==============================] - 10s 6ms/step - loss: 0.3291 - accuracy: 0.8822 - val_loss: 0.3278 - val_accuracy: 0.8814\n",
      "Epoch 7/30\n",
      "1719/1719 [==============================] - 10s 6ms/step - loss: 0.3186 - accuracy: 0.8837 - val_loss: 0.3278 - val_accuracy: 0.8820\n",
      "Epoch 8/30\n",
      "1719/1719 [==============================] - 10s 6ms/step - loss: 0.3057 - accuracy: 0.8904 - val_loss: 0.3250 - val_accuracy: 0.8842\n",
      "Epoch 9/30\n",
      "1719/1719 [==============================] - 9s 6ms/step - loss: 0.2971 - accuracy: 0.8923 - val_loss: 0.3214 - val_accuracy: 0.8822\n",
      "Epoch 10/30\n",
      "1719/1719 [==============================] - 9s 5ms/step - loss: 0.2898 - accuracy: 0.8938 - val_loss: 0.3169 - val_accuracy: 0.8860\n",
      "Epoch 11/30\n",
      "1719/1719 [==============================] - 10s 6ms/step - loss: 0.2797 - accuracy: 0.8976 - val_loss: 0.3234 - val_accuracy: 0.8806\n",
      "Epoch 12/30\n",
      "1719/1719 [==============================] - 11s 6ms/step - loss: 0.2715 - accuracy: 0.9018 - val_loss: 0.3186 - val_accuracy: 0.8854\n",
      "Epoch 13/30\n",
      "1719/1719 [==============================] - 10s 6ms/step - loss: 0.2655 - accuracy: 0.9029 - val_loss: 0.3134 - val_accuracy: 0.8836\n",
      "Epoch 14/30\n",
      "1719/1719 [==============================] - 9s 5ms/step - loss: 0.2570 - accuracy: 0.9056 - val_loss: 0.3118 - val_accuracy: 0.8904\n",
      "Epoch 15/30\n",
      "1719/1719 [==============================] - 9s 6ms/step - loss: 0.2505 - accuracy: 0.9094 - val_loss: 0.3151 - val_accuracy: 0.8878\n",
      "Epoch 16/30\n",
      "1719/1719 [==============================] - 10s 6ms/step - loss: 0.2462 - accuracy: 0.9111 - val_loss: 0.3074 - val_accuracy: 0.8886\n",
      "Epoch 17/30\n",
      "1719/1719 [==============================] - 11s 6ms/step - loss: 0.2384 - accuracy: 0.9128 - val_loss: 0.3073 - val_accuracy: 0.8912\n",
      "Epoch 18/30\n",
      "1719/1719 [==============================] - 10s 6ms/step - loss: 0.2311 - accuracy: 0.9166 - val_loss: 0.3158 - val_accuracy: 0.8850\n",
      "Epoch 19/30\n",
      "1719/1719 [==============================] - 9s 5ms/step - loss: 0.2279 - accuracy: 0.9179 - val_loss: 0.3076 - val_accuracy: 0.8884\n",
      "Epoch 20/30\n",
      "1719/1719 [==============================] - 10s 6ms/step - loss: 0.2214 - accuracy: 0.9198 - val_loss: 0.3060 - val_accuracy: 0.8906\n",
      "Epoch 21/30\n",
      "1719/1719 [==============================] - 9s 6ms/step - loss: 0.2185 - accuracy: 0.9194 - val_loss: 0.2999 - val_accuracy: 0.8926\n",
      "Epoch 22/30\n",
      "1719/1719 [==============================] - 9s 6ms/step - loss: 0.2139 - accuracy: 0.9224 - val_loss: 0.3154 - val_accuracy: 0.8878\n",
      "Epoch 23/30\n",
      "1719/1719 [==============================] - 11s 6ms/step - loss: 0.2085 - accuracy: 0.9230 - val_loss: 0.3092 - val_accuracy: 0.8880\n",
      "Epoch 24/30\n",
      "1719/1719 [==============================] - 10s 6ms/step - loss: 0.2037 - accuracy: 0.9259 - val_loss: 0.3109 - val_accuracy: 0.8920\n",
      "Epoch 25/30\n",
      "1719/1719 [==============================] - 10s 6ms/step - loss: 0.1997 - accuracy: 0.9269 - val_loss: 0.3208 - val_accuracy: 0.8870\n",
      "Epoch 26/30\n",
      "1719/1719 [==============================] - 9s 5ms/step - loss: 0.1930 - accuracy: 0.9299 - val_loss: 0.3058 - val_accuracy: 0.8938\n",
      "Epoch 27/30\n",
      "1719/1719 [==============================] - 9s 5ms/step - loss: 0.1915 - accuracy: 0.9303 - val_loss: 0.3120 - val_accuracy: 0.8892\n",
      "Epoch 28/30\n",
      "1719/1719 [==============================] - 9s 6ms/step - loss: 0.1880 - accuracy: 0.9315 - val_loss: 0.3166 - val_accuracy: 0.8942\n",
      "Epoch 29/30\n",
      "1719/1719 [==============================] - 10s 6ms/step - loss: 0.1842 - accuracy: 0.9336 - val_loss: 0.3100 - val_accuracy: 0.8936\n",
      "Epoch 30/30\n",
      "1719/1719 [==============================] - 9s 5ms/step - loss: 0.1809 - accuracy: 0.9334 - val_loss: 0.3267 - val_accuracy: 0.8912\n",
      "313/313 [==============================] - 1s 3ms/step - loss: 0.3493 - accuracy: 0.8855\n"
     ]
    },
    {
     "data": {
      "text/plain": [
       "[0.3493002951145172, 0.8855000138282776]"
      ]
     },
     "execution_count": 18,
     "metadata": {},
     "output_type": "execute_result"
    }
   ],
   "source": [
    "model.compile(loss=\"sparse_categorical_crossentropy\", optimizer=\"sgd\",metrics=[\"accuracy\"])\n",
    "history = model.fit(X_train, y_train, epochs=30, validation_data = (X_val, y_val))\n",
    "model.save('models/ch_11/keras_bn_1.h5')\n",
    "model.evaluate(X_test, y_test)"
   ]
  },
  {
   "cell_type": "markdown",
   "metadata": {},
   "source": [
    "To add the BN layers before the activation functions, we must remove the activation function from the hidden layers and add them as separate layers after the BN layers. Batch Normalization layer includes one offset parameter per input, we can remove the bias term from the previous layer (just pass use_bias=False when creating it)"
   ]
  },
  {
   "cell_type": "code",
   "execution_count": 19,
   "metadata": {},
   "outputs": [],
   "source": [
    "model = keras.models.Sequential([\n",
    "keras.layers.Flatten(input_shape=[28, 28]),\n",
    "keras.layers.BatchNormalization(),\n",
    "keras.layers.Dense(300, kernel_initializer=\"he_normal\", use_bias=False),\n",
    "keras.layers.BatchNormalization(),\n",
    "keras.layers.Activation(\"elu\"),\n",
    "keras.layers.Dense(100, kernel_initializer=\"he_normal\", use_bias=False),\n",
    "keras.layers.BatchNormalization(),\n",
    "keras.layers.Activation(\"elu\"),\n",
    "keras.layers.Dense(10, activation=\"softmax\")\n",
    "])"
   ]
  },
  {
   "cell_type": "code",
   "execution_count": 20,
   "metadata": {},
   "outputs": [
    {
     "name": "stdout",
     "output_type": "stream",
     "text": [
      "Epoch 1/30\n",
      "1719/1719 [==============================] - 14s 8ms/step - loss: 0.5660 - accuracy: 0.8062 - val_loss: 0.4278 - val_accuracy: 0.8516\n",
      "Epoch 2/30\n",
      "1719/1719 [==============================] - 10s 6ms/step - loss: 0.4406 - accuracy: 0.8447 - val_loss: 0.3936 - val_accuracy: 0.8676\n",
      "Epoch 3/30\n",
      "1719/1719 [==============================] - 10s 6ms/step - loss: 0.4071 - accuracy: 0.8558 - val_loss: 0.3789 - val_accuracy: 0.8704\n",
      "Epoch 4/30\n",
      "1719/1719 [==============================] - 11s 7ms/step - loss: 0.3838 - accuracy: 0.8643 - val_loss: 0.3620 - val_accuracy: 0.8752\n",
      "Epoch 5/30\n",
      "1719/1719 [==============================] - 10s 6ms/step - loss: 0.3652 - accuracy: 0.8691 - val_loss: 0.3536 - val_accuracy: 0.8754\n",
      "Epoch 6/30\n",
      "1719/1719 [==============================] - 9s 5ms/step - loss: 0.3498 - accuracy: 0.8763 - val_loss: 0.3470 - val_accuracy: 0.8762\n",
      "Epoch 7/30\n",
      "1719/1719 [==============================] - 9s 5ms/step - loss: 0.3372 - accuracy: 0.8800 - val_loss: 0.3419 - val_accuracy: 0.8802\n",
      "Epoch 8/30\n",
      "1719/1719 [==============================] - 10s 6ms/step - loss: 0.3268 - accuracy: 0.8823 - val_loss: 0.3462 - val_accuracy: 0.8790\n",
      "Epoch 9/30\n",
      "1719/1719 [==============================] - 9s 5ms/step - loss: 0.3152 - accuracy: 0.8875 - val_loss: 0.3371 - val_accuracy: 0.8820\n",
      "Epoch 10/30\n",
      "1719/1719 [==============================] - 9s 5ms/step - loss: 0.3064 - accuracy: 0.8899 - val_loss: 0.3311 - val_accuracy: 0.8848\n",
      "Epoch 11/30\n",
      "1719/1719 [==============================] - 10s 6ms/step - loss: 0.2980 - accuracy: 0.8917 - val_loss: 0.3327 - val_accuracy: 0.8822\n",
      "Epoch 12/30\n",
      "1719/1719 [==============================] - 10s 6ms/step - loss: 0.2901 - accuracy: 0.8967 - val_loss: 0.3278 - val_accuracy: 0.8830\n",
      "Epoch 13/30\n",
      "1719/1719 [==============================] - 10s 6ms/step - loss: 0.2814 - accuracy: 0.8983 - val_loss: 0.3294 - val_accuracy: 0.8846\n",
      "Epoch 14/30\n",
      "1719/1719 [==============================] - 9s 5ms/step - loss: 0.2748 - accuracy: 0.9012 - val_loss: 0.3207 - val_accuracy: 0.8846\n",
      "Epoch 15/30\n",
      "1719/1719 [==============================] - 9s 5ms/step - loss: 0.2685 - accuracy: 0.9017 - val_loss: 0.3167 - val_accuracy: 0.8862\n",
      "Epoch 16/30\n",
      "1719/1719 [==============================] - 10s 6ms/step - loss: 0.2598 - accuracy: 0.9056 - val_loss: 0.3325 - val_accuracy: 0.8830\n",
      "Epoch 17/30\n",
      "1719/1719 [==============================] - 9s 6ms/step - loss: 0.2550 - accuracy: 0.9078 - val_loss: 0.3164 - val_accuracy: 0.8868\n",
      "Epoch 18/30\n",
      "1719/1719 [==============================] - 9s 5ms/step - loss: 0.2510 - accuracy: 0.9091 - val_loss: 0.3267 - val_accuracy: 0.8864\n",
      "Epoch 19/30\n",
      "1719/1719 [==============================] - 9s 5ms/step - loss: 0.2438 - accuracy: 0.9111 - val_loss: 0.3299 - val_accuracy: 0.8844\n",
      "Epoch 20/30\n",
      "1719/1719 [==============================] - 10s 6ms/step - loss: 0.2398 - accuracy: 0.9138 - val_loss: 0.3161 - val_accuracy: 0.8864\n",
      "Epoch 21/30\n",
      "1719/1719 [==============================] - 9s 5ms/step - loss: 0.2331 - accuracy: 0.9158 - val_loss: 0.3137 - val_accuracy: 0.8874\n",
      "Epoch 22/30\n",
      "1719/1719 [==============================] - 9s 5ms/step - loss: 0.2313 - accuracy: 0.9167 - val_loss: 0.3128 - val_accuracy: 0.8920\n",
      "Epoch 23/30\n",
      "1719/1719 [==============================] - 10s 6ms/step - loss: 0.2247 - accuracy: 0.9179 - val_loss: 0.3205 - val_accuracy: 0.8884\n",
      "Epoch 24/30\n",
      "1719/1719 [==============================] - 9s 5ms/step - loss: 0.2192 - accuracy: 0.9206 - val_loss: 0.3136 - val_accuracy: 0.8872\n",
      "Epoch 25/30\n",
      "1719/1719 [==============================] - 10s 6ms/step - loss: 0.2179 - accuracy: 0.9207 - val_loss: 0.3180 - val_accuracy: 0.8870\n",
      "Epoch 26/30\n",
      "1719/1719 [==============================] - 9s 6ms/step - loss: 0.2107 - accuracy: 0.9242 - val_loss: 0.3124 - val_accuracy: 0.8904\n",
      "Epoch 27/30\n",
      "1719/1719 [==============================] - 10s 6ms/step - loss: 0.2063 - accuracy: 0.9248 - val_loss: 0.3132 - val_accuracy: 0.8922\n",
      "Epoch 28/30\n",
      "1719/1719 [==============================] - 9s 5ms/step - loss: 0.2040 - accuracy: 0.9269 - val_loss: 0.3121 - val_accuracy: 0.8898\n",
      "Epoch 29/30\n",
      "1719/1719 [==============================] - 9s 5ms/step - loss: 0.1987 - accuracy: 0.9275 - val_loss: 0.3143 - val_accuracy: 0.8882\n",
      "Epoch 30/30\n",
      "1719/1719 [==============================] - 9s 5ms/step - loss: 0.1949 - accuracy: 0.9301 - val_loss: 0.3295 - val_accuracy: 0.8856\n",
      "313/313 [==============================] - 1s 3ms/step - loss: 0.3542 - accuracy: 0.8816\n"
     ]
    },
    {
     "data": {
      "text/plain": [
       "[0.35423582792282104, 0.881600022315979]"
      ]
     },
     "execution_count": 20,
     "metadata": {},
     "output_type": "execute_result"
    }
   ],
   "source": [
    "model.compile(loss=\"sparse_categorical_crossentropy\", optimizer=\"sgd\",metrics=[\"accuracy\"])\n",
    "history = model.fit(X_train, y_train, epochs=30, validation_data = (X_val, y_val))\n",
    "model.save('models/ch_11/keras_bn_2.h5')\n",
    "model.evaluate(X_test, y_test)"
   ]
  },
  {
   "cell_type": "markdown",
   "metadata": {},
   "source": [
    "__BN hyperparameters__\n",
    "\n",
    "1. Momentum\n",
    "The BatchNormalization class has quite a few hyperparameters we can tweak. The defaults will usually be fine, but you may occasionally need to tweak the momentum. This hyperparameter is used by the BatchNormalization layer when it updates the exponential moving averages; given a new value v. A good momentum value is typically close to 1; for example, 0.9, 0.99, or 0.999\n",
    "\n",
    "2. Axis\n",
    "it determines which axis should be normalized. It defaults to –1, meaning that by default it will normalize the last axis. \n",
    "\n",
    "### Gradient Clipping\n",
    "\n",
    "Another popular technique to mitigate the exploding gradients problem is to clip the gradients during backpropagation so that they never exceed some threshold. It is often used in RNN, since BN is tricky to use. In Keras, implementing Gradient Clipping is just a matter of setting the clipvalue or clipnorm argument when creating an optimizer.\n",
    "\n",
    "`optimizer = keras.optimizers.SGD(clipvalue=1.0)`\n",
    "`model.compile(loss=\"mse\", optimizer=optimizer)`\n",
    "\n",
    "to ensure that Gradient Clipping does not change the direction of the gradient vector, you should clip by norm by setting clipnorm instead of clipvalue.\n",
    "\n",
    "\n",
    "### Reusing Pretrained Layers\n",
    "\n",
    "we don't usually train the neural network from scratch, we often use the lower layers from a already trained model and build upon it. it's called transfer learning. it reduces the training time and requires very less trianing data. "
   ]
  },
  {
   "cell_type": "markdown",
   "metadata": {},
   "source": [
    "The output layer of the original model should usually be replaced because it\n",
    "is most likely not useful at all for the new task, and it may not even have the\n",
    "right number of outputs for the new task. Similarly, the upper hidden layers of the original model are less likely to be as useful as the lower layers, since the high-level features that are most useful for the new task may differ significantly from the ones that were most useful for the original task. we want to find the right number of layers to reuse. The more similar the tasks are, the more layers you want to reuse (starting with the lower layers). For very similar tasks, try keeping all the hidden layers and just replacing\n",
    "the output layer.\n",
    "\n",
    "#### Transfer Learning with Keras\n",
    "\n",
    "load model A and create a new model based on that model’s layers. Let’s reuse all the layers except for the output layer"
   ]
  },
  {
   "cell_type": "code",
   "execution_count": 52,
   "metadata": {},
   "outputs": [],
   "source": [
    "model_A = keras.models.load_model(\"models/ch_11/keras_bn_2.h5\")\n",
    "model_B_on_A = keras.models.Sequential(model_A.layers[:-1])\n",
    "model_B_on_A.add(keras.layers.Dense(10, activation=\"softmax\"))"
   ]
  },
  {
   "cell_type": "markdown",
   "metadata": {},
   "source": [
    "When we train model_B_on_A, it will also affect model_A. If you want to avoid that, you need to clone model_A before you reuse its layers."
   ]
  },
  {
   "cell_type": "code",
   "execution_count": 53,
   "metadata": {},
   "outputs": [],
   "source": [
    "model_A_clone = keras.models.clone_model(model_A)"
   ]
  },
  {
   "cell_type": "code",
   "execution_count": 54,
   "metadata": {},
   "outputs": [],
   "source": [
    "model_A_clone.set_weights(model_A.get_weights())"
   ]
  },
  {
   "cell_type": "markdown",
   "metadata": {},
   "source": [
    "Now we could train model_B_on_A for task B, but since the new output layer was initialized randomly it will make large errors (at least during the first few epochs), so there will be large error gradients that may wreck the reused weights. To avoid this, one approach is to freeze the reused layers during the first few epochs, giving the new layer some time to learn reasonable weights. To do this, set every layer’s trainable attribute to False and compile the model. we must always compile your model after you freeze or unfreeze layers."
   ]
  },
  {
   "cell_type": "code",
   "execution_count": 55,
   "metadata": {},
   "outputs": [],
   "source": [
    "for layer in model_B_on_A.layers[:-1]:\n",
    "    layer.trainable = False"
   ]
  },
  {
   "cell_type": "code",
   "execution_count": 58,
   "metadata": {},
   "outputs": [],
   "source": [
    "model_B_on_A.compile(loss=\"sparse_categorical_crossentropy\", optimizer=\"sgd\",metrics=[\"accuracy\"])"
   ]
  },
  {
   "cell_type": "markdown",
   "metadata": {},
   "source": [
    "Now you can train the model for a few epochs, then unfreeze the reused layers (which requires compiling the model again) and continue training to fine-tune the reused layers for task B. After unfreezing the reused layers, it is usually a good idea to reduce the learning rate, once again to avoid damaging the reused weights."
   ]
  },
  {
   "cell_type": "code",
   "execution_count": 59,
   "metadata": {},
   "outputs": [
    {
     "name": "stdout",
     "output_type": "stream",
     "text": [
      "Epoch 1/4\n",
      "1719/1719 [==============================] - 8s 3ms/step - loss: 0.5014 - accuracy: 0.8434 - val_loss: 0.3561 - val_accuracy: 0.8744\n",
      "Epoch 2/4\n",
      "1719/1719 [==============================] - 5s 3ms/step - loss: 0.2393 - accuracy: 0.9237 - val_loss: 0.3227 - val_accuracy: 0.8828\n",
      "Epoch 3/4\n",
      "1719/1719 [==============================] - 5s 3ms/step - loss: 0.2038 - accuracy: 0.9345 - val_loss: 0.3122 - val_accuracy: 0.8880\n",
      "Epoch 4/4\n",
      "1719/1719 [==============================] - 5s 3ms/step - loss: 0.1860 - accuracy: 0.9403 - val_loss: 0.3090 - val_accuracy: 0.8868\n"
     ]
    }
   ],
   "source": [
    "history = model_B_on_A.fit(X_train, y_train, epochs = 4, validation_data = (X_val, y_val))"
   ]
  },
  {
   "cell_type": "code",
   "execution_count": 60,
   "metadata": {},
   "outputs": [],
   "source": [
    "for layer in model_B_on_A.layers[:-1]:\n",
    "    layer.trainable = True"
   ]
  },
  {
   "cell_type": "code",
   "execution_count": 61,
   "metadata": {},
   "outputs": [],
   "source": [
    "optimizer = keras.optimizers.SGD(lr = 1e-4) ##default is 1e-2"
   ]
  },
  {
   "cell_type": "code",
   "execution_count": 62,
   "metadata": {},
   "outputs": [],
   "source": [
    "model_B_on_A.compile(loss=\"sparse_categorical_crossentropy\", optimizer=\"sgd\",metrics=[\"accuracy\"])"
   ]
  },
  {
   "cell_type": "code",
   "execution_count": 63,
   "metadata": {},
   "outputs": [
    {
     "name": "stdout",
     "output_type": "stream",
     "text": [
      "Epoch 1/16\n",
      "1719/1719 [==============================] - 11s 6ms/step - loss: 0.2180 - accuracy: 0.9242 - val_loss: 0.3094 - val_accuracy: 0.8896\n",
      "Epoch 2/16\n",
      "1719/1719 [==============================] - 10s 6ms/step - loss: 0.2052 - accuracy: 0.9265 - val_loss: 0.3175 - val_accuracy: 0.8860\n",
      "Epoch 3/16\n",
      "1719/1719 [==============================] - 10s 6ms/step - loss: 0.1971 - accuracy: 0.9300 - val_loss: 0.3120 - val_accuracy: 0.8916\n",
      "Epoch 4/16\n",
      "1719/1719 [==============================] - 10s 6ms/step - loss: 0.1926 - accuracy: 0.9309 - val_loss: 0.3140 - val_accuracy: 0.8900\n",
      "Epoch 5/16\n",
      "1719/1719 [==============================] - 10s 6ms/step - loss: 0.1883 - accuracy: 0.9319 - val_loss: 0.3155 - val_accuracy: 0.8914\n",
      "Epoch 6/16\n",
      "1719/1719 [==============================] - 10s 6ms/step - loss: 0.1845 - accuracy: 0.9336 - val_loss: 0.3188 - val_accuracy: 0.8886\n",
      "Epoch 7/16\n",
      "1719/1719 [==============================] - 10s 6ms/step - loss: 0.1797 - accuracy: 0.9355 - val_loss: 0.3126 - val_accuracy: 0.8908\n",
      "Epoch 8/16\n",
      "1719/1719 [==============================] - 10s 6ms/step - loss: 0.1757 - accuracy: 0.9364 - val_loss: 0.3261 - val_accuracy: 0.8884\n",
      "Epoch 9/16\n",
      "1719/1719 [==============================] - 10s 6ms/step - loss: 0.1735 - accuracy: 0.9384 - val_loss: 0.3150 - val_accuracy: 0.8924\n",
      "Epoch 10/16\n",
      "1719/1719 [==============================] - 10s 6ms/step - loss: 0.1662 - accuracy: 0.9400 - val_loss: 0.3283 - val_accuracy: 0.8876\n",
      "Epoch 11/16\n",
      "1719/1719 [==============================] - 9s 5ms/step - loss: 0.1660 - accuracy: 0.9390 - val_loss: 0.3410 - val_accuracy: 0.8890\n",
      "Epoch 12/16\n",
      "1719/1719 [==============================] - 10s 6ms/step - loss: 0.1628 - accuracy: 0.9411 - val_loss: 0.3233 - val_accuracy: 0.8920\n",
      "Epoch 13/16\n",
      "1719/1719 [==============================] - 9s 6ms/step - loss: 0.1563 - accuracy: 0.9436 - val_loss: 0.3358 - val_accuracy: 0.8930\n",
      "Epoch 14/16\n",
      "1719/1719 [==============================] - 10s 6ms/step - loss: 0.1576 - accuracy: 0.9430 - val_loss: 0.3295 - val_accuracy: 0.8890\n",
      "Epoch 15/16\n",
      "1719/1719 [==============================] - 10s 6ms/step - loss: 0.1543 - accuracy: 0.9449 - val_loss: 0.3263 - val_accuracy: 0.8934\n",
      "Epoch 16/16\n",
      "1719/1719 [==============================] - 10s 6ms/step - loss: 0.1510 - accuracy: 0.9455 - val_loss: 0.3371 - val_accuracy: 0.8870\n"
     ]
    }
   ],
   "source": [
    "history = model_B_on_A.fit(X_train, y_train, epochs = 16, validation_data = (X_val, y_val))"
   ]
  },
  {
   "cell_type": "code",
   "execution_count": 65,
   "metadata": {},
   "outputs": [
    {
     "name": "stdout",
     "output_type": "stream",
     "text": [
      "313/313 [==============================] - 1s 3ms/step - loss: 0.3562 - accuracy: 0.8879\n"
     ]
    },
    {
     "data": {
      "text/plain": [
       "[0.35621777176856995, 0.8878999948501587]"
      ]
     },
     "execution_count": 65,
     "metadata": {},
     "output_type": "execute_result"
    }
   ],
   "source": [
    "model_B_on_A.evaluate(X_test, y_test)"
   ]
  },
  {
   "cell_type": "markdown",
   "metadata": {},
   "source": [
    "here we only removed the outer layer and replace with a similar layer so the perofrmance stays the same. \n",
    "\n",
    "transfer learning does not work very well with small dense networks, presumably because small networks learn few patterns, and dense networks learn very specific patterns, which are unlikely to be useful in other tasks. Transfer learning works best with deep convolutional neural networks, which tend to learn feature detectors that are much more general (especially in the lower layers)."
   ]
  },
  {
   "cell_type": "markdown",
   "metadata": {},
   "source": [
    "### Unsupervised Pretraining\n",
    "\n",
    "if we cannot find a good amount of training data or a pretrained model we can try using unsupervised pretraining. it's cheaper to grather a lot of training data and then train one unsupervised model like autoencoder or a genrative adversial network. then we can reuse the lower layers of the autoencoder or the lower layers of GAN discriminator add the output layer for the task on top, and fine tune the final network usign supervised learning.\n",
    "\n",
    "#### Pretraining on an Auxiliary Task\n",
    "\n",
    "if we do not have a lot of trainign data, last option is to train a neural network on an auxillary task for which we can easily obtain or generate labeled training data. then reuse the lower layers of the network for the actual task. \n",
    "\n",
    "for nlp task, we can download a corpus of millions of text document and automatically generate labeled data from it.\n",
    "\n",
    "\n",
    "### Faster Optimizers\n",
    "\n",
    "we can speed up the training in 4 ways:\n",
    "- applyign a good initalization strategy\n",
    "- good activation function\n",
    "- using batch normalization\n",
    "- reusing the parts of a pretrained network\n",
    "\n",
    "we can also use a faster optmizer then the regular gradient descent. \n",
    "\n",
    "__Momentum Optimzation__\n",
    "\n",
    "regular gd takes regular steps down the slop, momentum optimizer speeds up on nearing the down slope. Momentum optimization cares a great deal about what previous gradients were: at each iteration, it subtracts the local gradient from the momentum vector m (multiplied by the learning rate η), and it updates the weights by adding this momentum vector. In other words, the gradient is used for acceleration, not for speed.  To simulate some sort of friction mechanism and prevent the momentum from growing too large, the algorithm introduces a new hyperparameter β, called the momentum, which must be set between 0 (high friction) and 1 (no friction). A typical momentum value is 0.9.\n",
    "\n",
    "implementing the momentum in scikit\n",
    "\n",
    "`optimizer = keras.optimizers.SGD(lr=0.001, momentum=0.9)`\n",
    "\n",
    "__Nesterov Accelerated Gradient__\n",
    "\n",
    "it works same as momentum, but uses the value of a little farther away to define the momentum. This small tweak works because in general the momentum vector will be pointing in the right direction. NAG is generally faster than regular momentum optimization\n",
    "\n",
    "`optimizer = keras.optimizers.SGD(lr=0.001, momentum=0.9, nesterov=True)`\n",
    "\n",
    "__AdaGrad__\n",
    "\n",
    "AG achieves a correction in direction more towrds the global minimum by scaling down the gradient vector along the steepest dimensions. In short, this algorithm decays the learning rate, but it does so faster for steep dimensions than for dimensions with gentler slopes. This is called an adaptive learning rate. It helps point the resulting updates more directly toward the global optimum.\n",
    "\n",
    "AdaGrad frequently performs well for simple quadratic problems, but it often stops too early when training neural networks. The learning rate gets scaled down so much that the algorithm ends up stopping entirely before reaching the global optimum.\n",
    "\n",
    "\n",
    "__RMSProp__\n",
    "\n",
    "RMSProp fixes the problem of AdaGrad of slowing bit too fast and never converging to global optima. it this by accumulating only the gradients from the most recent iterations (as opposed to all the gradients since the beginning of training). It does so by using exponential decay in the first step. The decay rate β is typically set to 0.9. Yes, it is once again a new hyperparameter, but this default value often works well, so you may not\n",
    "need to tune it at all.\n",
    "\n",
    "`optimizer = keras.optimizers.RMSprop(lr=0.001, rho=0.9)`\n",
    "\n",
    "__Adam and Nadam Optimization__\n",
    "\n",
    "Adam stands for adaptive moment estimation, combines the ideas of momentum optimization and RMSProp, like momentum optimization. it keeps track of an exponentially decaying average of past gradients. \n",
    "\n",
    "\n",
    "#### TRAINING SPARSE MODELS\n",
    "\n",
    "All the optimization algorithms just presented produce dense models, meaning that most parameters will be nonzero. If you need a blazingly fast model at runtime, or if you need it to take up less memory, you may prefer to end up with a sparse model instead.One easy way to achieve this is to train the model as usual, then get rid of the tiny weights. A better option is to apply strong $ℓ_1$ regularization during training (we will see how later in this chapter), as it pushes the optimizer to zero out as many weights as it can."
   ]
  },
  {
   "cell_type": "markdown",
   "metadata": {},
   "source": [
    "#### Learning Rate Scheduling\n",
    "\n",
    "we can do better than a constant lr. if we start with a large learning rate and then reduce it once training stops making fast progress, we can reach a good solution faster than with the optimal constant learning rate. There are many different strategies to reduce the learning rate during training. It can also be beneficial to start with a low learning rate, increase it, then drop it again. These strategies are called learning schedules. \n",
    "\n",
    "__Power scheduling__\n",
    "\n",
    "Set the learning rate to a function of the iteration number t: η(t) = η / (1 + t/s)^c . schedule first drops quickly, then more and more slowly\n",
    "\n",
    "`optimizer = keras.optimizers.SGD(lr=0.01, decay=1e-4)`\n",
    "\n",
    "__Exponential scheduling__\n",
    "\n",
    "Set the learning rate to $η(t) = η {0.1}^{t/s}$ . The learning rate will gradually drop by a factor of 10 every s steps. While power scheduling reduces\n",
    "the learning rate more and more slowly, exponential scheduling keeps slashing it by a factor of 10 every s steps.\n",
    "\n",
    "`def exponential_decay_fn(epoch):\n",
    "        return 0.01 * 0.1**(epoch / 20)`\n",
    "\n",
    "\n",
    "`def exponential_decay(lr0, s):\n",
    "    def exponential_decay_fn(epoch):\n",
    "        return lr0 * 0.1**(epoch / s)\n",
    "    return exponential_decay_fn`\n",
    "\n",
    "\n",
    "`exponential_decay_fn = exponential_decay(lr0=0.01, s=20)`\n",
    "\n",
    "`lr_scheduler = keras.callbacks.LearningRateScheduler(exponential_decay_fn)`\n",
    "`history = model.fit(X_train_scaled, y_train, [...], callbacks=[lr_scheduler])`\n",
    "\n",
    "__Piecewise constant scheduling__\n",
    "\n",
    "Use a constant learning rate for a number of epochs (e.g., η = 0.1 for 5 epochs), then a smaller learning rate for another number of epochs. \n",
    "\n",
    "`def piecewise_constant_fn(epoch):\n",
    "    if epoch < 5:\n",
    "        return 0.01\n",
    "    elif epoch < 15:\n",
    "        return 0.005\n",
    "    else:\n",
    "        return 0.001`\n",
    "        \n",
    "`lr_scheduler = keras.callbacks.ReduceLROnPlateau(factor=0.5, patience=5)`\n",
    "\n",
    "`s = 20 * len(X_train) // 32 # number of steps in 20 epochs (batch size = 32)\n",
    "learning_rate = keras.optimizers.schedules.ExponentialDecay(0.01, s, 0.1)\n",
    "optimizer = keras.optimizers.SGD(learning_rate)`\n",
    "\n",
    "__Performance scheduling__\n",
    "\n",
    "Measure the validation error every N steps (just like for early stopping),\n",
    "and reduce the learning rate by a factor of λ when the error stops dropping.\n",
    "\n",
    "__1cycle scheduling__\n",
    "\n",
    "starts by increasing the initial learning rate η , growing linearly up to η halfway through training. Then it decreases the learning rate linearly down to η again during the second half of training, finishing the last few epochs by dropping the rate down by several orders of magnitude"
   ]
  },
  {
   "cell_type": "markdown",
   "metadata": {},
   "source": [
    "### Avoiding Overfitting Through Regularization\n",
    "\n",
    "__$ℓ_1$ and $ℓ_2$ Regularization__\n",
    "\n",
    "use ℓ2 regularization to constrain a neural network’s connection weights, and/or ℓ1 regularization for a sparse model"
   ]
  },
  {
   "cell_type": "code",
   "execution_count": 68,
   "metadata": {},
   "outputs": [],
   "source": [
    "layer_l2 = keras.layers.Dense(100,\n",
    "                          activation =\"elu\",\n",
    "                          kernel_initializer = \"he_normal\",\n",
    "                          kernel_regularizer = keras.regularizers.l2(0.01))"
   ]
  },
  {
   "cell_type": "code",
   "execution_count": 69,
   "metadata": {},
   "outputs": [],
   "source": [
    "layer_l1 = keras.layers.Dense(100,\n",
    "                          activation =\"elu\",\n",
    "                          kernel_initializer = \"he_normal\",\n",
    "                          kernel_regularizer = keras.regularizers.l1(0.01))"
   ]
  },
  {
   "cell_type": "code",
   "execution_count": 70,
   "metadata": {},
   "outputs": [],
   "source": [
    "layer_l1_l2 = keras.layers.Dense(100,\n",
    "                          activation =\"elu\",\n",
    "                          kernel_initializer = \"he_normal\",\n",
    "                          kernel_regularizer = keras.regularizers.l1_l2(0.01,0.01))"
   ]
  },
  {
   "cell_type": "markdown",
   "metadata": {},
   "source": [
    "to apply the same regularizer to all layers in your network, as well as using the same activation function and the same initialization strategy in all hidden layers, we can use functool's partial function"
   ]
  },
  {
   "cell_type": "code",
   "execution_count": 71,
   "metadata": {},
   "outputs": [],
   "source": [
    "from functools import partial"
   ]
  },
  {
   "cell_type": "code",
   "execution_count": 72,
   "metadata": {},
   "outputs": [],
   "source": [
    "regularised_dense = partial(keras.layers.Dense,\n",
    "                            activation = \"elu\",\n",
    "                            kernel_initializer = \"he_normal\",\n",
    "                            kernel_regularizer = keras.regularizers.l2(0.01))"
   ]
  },
  {
   "cell_type": "code",
   "execution_count": 76,
   "metadata": {},
   "outputs": [],
   "source": [
    "model = keras.models.Sequential([keras.layers.Flatten(input_shape = [28,28]),\n",
    "                                regularised_dense(300),\n",
    "                                regularised_dense(200),\n",
    "                                regularised_dense(10,activation = \"softmax\",kernel_initializer=\"glorot_uniform\")])"
   ]
  },
  {
   "cell_type": "code",
   "execution_count": 77,
   "metadata": {},
   "outputs": [
    {
     "name": "stdout",
     "output_type": "stream",
     "text": [
      "Epoch 1/30\n",
      "1719/1719 [==============================] - 8s 4ms/step - loss: 8.1429 - accuracy: 0.7822 - val_loss: 5.8397 - val_accuracy: 0.8250\n",
      "Epoch 2/30\n",
      "1719/1719 [==============================] - 7s 4ms/step - loss: 4.4630 - accuracy: 0.8219 - val_loss: 3.3519 - val_accuracy: 0.8258\n",
      "Epoch 3/30\n",
      "1719/1719 [==============================] - 8s 5ms/step - loss: 2.6703 - accuracy: 0.8243 - val_loss: 2.1075 - val_accuracy: 0.8344\n",
      "Epoch 4/30\n",
      "1719/1719 [==============================] - 7s 4ms/step - loss: 1.7750 - accuracy: 0.8241 - val_loss: 1.4936 - val_accuracy: 0.8312\n",
      "Epoch 5/30\n",
      "1719/1719 [==============================] - 7s 4ms/step - loss: 1.3255 - accuracy: 0.8235 - val_loss: 1.1863 - val_accuracy: 0.8238\n",
      "Epoch 6/30\n",
      "1719/1719 [==============================] - 7s 4ms/step - loss: 1.0988 - accuracy: 0.8223 - val_loss: 1.0293 - val_accuracy: 0.8258\n",
      "Epoch 7/30\n",
      "1719/1719 [==============================] - 8s 5ms/step - loss: 0.9831 - accuracy: 0.8214 - val_loss: 0.9332 - val_accuracy: 0.8306\n",
      "Epoch 8/30\n",
      "1719/1719 [==============================] - 8s 4ms/step - loss: 0.9232 - accuracy: 0.8220 - val_loss: 0.8900 - val_accuracy: 0.8342\n",
      "Epoch 9/30\n",
      "1719/1719 [==============================] - 8s 5ms/step - loss: 0.8920 - accuracy: 0.8220 - val_loss: 0.8692 - val_accuracy: 0.8310\n",
      "Epoch 10/30\n",
      "1719/1719 [==============================] - 7s 4ms/step - loss: 0.8755 - accuracy: 0.8214 - val_loss: 0.8529 - val_accuracy: 0.8328\n",
      "Epoch 11/30\n",
      "1719/1719 [==============================] - 7s 4ms/step - loss: 0.8654 - accuracy: 0.8227 - val_loss: 0.8524 - val_accuracy: 0.8294\n",
      "Epoch 12/30\n",
      "1719/1719 [==============================] - 7s 4ms/step - loss: 0.8598 - accuracy: 0.8207 - val_loss: 0.8483 - val_accuracy: 0.8272\n",
      "Epoch 13/30\n",
      "1719/1719 [==============================] - 7s 4ms/step - loss: 0.8564 - accuracy: 0.8219 - val_loss: 0.8490 - val_accuracy: 0.8228\n",
      "Epoch 14/30\n",
      "1719/1719 [==============================] - 7s 4ms/step - loss: 0.8537 - accuracy: 0.8215 - val_loss: 0.8375 - val_accuracy: 0.8310\n",
      "Epoch 15/30\n",
      "1719/1719 [==============================] - 7s 4ms/step - loss: 0.8521 - accuracy: 0.8217 - val_loss: 0.8372 - val_accuracy: 0.8290\n",
      "Epoch 16/30\n",
      "1719/1719 [==============================] - 7s 4ms/step - loss: 0.8513 - accuracy: 0.8218 - val_loss: 0.8352 - val_accuracy: 0.8316\n",
      "Epoch 17/30\n",
      "1719/1719 [==============================] - 8s 4ms/step - loss: 0.8501 - accuracy: 0.8221 - val_loss: 0.8359 - val_accuracy: 0.8302\n",
      "Epoch 18/30\n",
      "1719/1719 [==============================] - 8s 5ms/step - loss: 0.8499 - accuracy: 0.8207 - val_loss: 0.8408 - val_accuracy: 0.8264\n",
      "Epoch 19/30\n",
      "1719/1719 [==============================] - 7s 4ms/step - loss: 0.8488 - accuracy: 0.8214 - val_loss: 0.8324 - val_accuracy: 0.8318\n",
      "Epoch 20/30\n",
      "1719/1719 [==============================] - 8s 5ms/step - loss: 0.8482 - accuracy: 0.8218 - val_loss: 0.8388 - val_accuracy: 0.8282\n",
      "Epoch 21/30\n",
      "1719/1719 [==============================] - 7s 4ms/step - loss: 0.8475 - accuracy: 0.8228 - val_loss: 0.8315 - val_accuracy: 0.8304\n",
      "Epoch 22/30\n",
      "1719/1719 [==============================] - 8s 4ms/step - loss: 0.8472 - accuracy: 0.8219 - val_loss: 0.8340 - val_accuracy: 0.8302\n",
      "Epoch 23/30\n",
      "1719/1719 [==============================] - 7s 4ms/step - loss: 0.8465 - accuracy: 0.8217 - val_loss: 0.8331 - val_accuracy: 0.8302\n",
      "Epoch 24/30\n",
      "1719/1719 [==============================] - 7s 4ms/step - loss: 0.8468 - accuracy: 0.8230 - val_loss: 0.8448 - val_accuracy: 0.8232\n",
      "Epoch 25/30\n",
      "1719/1719 [==============================] - 8s 4ms/step - loss: 0.8463 - accuracy: 0.8214 - val_loss: 0.8386 - val_accuracy: 0.8272\n",
      "Epoch 26/30\n",
      "1719/1719 [==============================] - 8s 5ms/step - loss: 0.8462 - accuracy: 0.8212 - val_loss: 0.8281 - val_accuracy: 0.8328\n",
      "Epoch 27/30\n",
      "1719/1719 [==============================] - 7s 4ms/step - loss: 0.8457 - accuracy: 0.8223 - val_loss: 0.8346 - val_accuracy: 0.8278\n",
      "Epoch 28/30\n",
      "1719/1719 [==============================] - 7s 4ms/step - loss: 0.8458 - accuracy: 0.8222 - val_loss: 0.8277 - val_accuracy: 0.8312\n",
      "Epoch 29/30\n",
      "1719/1719 [==============================] - 8s 5ms/step - loss: 0.8450 - accuracy: 0.8218 - val_loss: 0.8298 - val_accuracy: 0.8304\n",
      "Epoch 30/30\n",
      "1719/1719 [==============================] - 7s 4ms/step - loss: 0.8451 - accuracy: 0.8219 - val_loss: 0.8408 - val_accuracy: 0.8208\n",
      "313/313 [==============================] - 1s 2ms/step - loss: 0.8788 - accuracy: 0.7998\n"
     ]
    },
    {
     "data": {
      "text/plain": [
       "[0.878771185874939, 0.7997999787330627]"
      ]
     },
     "execution_count": 77,
     "metadata": {},
     "output_type": "execute_result"
    }
   ],
   "source": [
    "model.compile(loss=\"sparse_categorical_crossentropy\", optimizer=\"sgd\",metrics=[\"accuracy\"])\n",
    "history = model.fit(X_train, y_train, epochs=30, validation_data = (X_val, y_val))\n",
    "model.save('models/ch_11/keras_l2_partial.h5')\n",
    "model.evaluate(X_test, y_test)"
   ]
  },
  {
   "cell_type": "markdown",
   "metadata": {},
   "source": [
    "__Dropout__\n",
    "\n",
    "at every training step, every neuron (including the input neurons, but always excluding the output neurons) has a probability p of being temporarily “dropped out,” meaning it will be entirely ignored during this training step, but it may be active during the next step. The hyperparameter p is called the dropout rate, and it is typically set between 10% and 50%: closer to 20–30% in recurrent neural nets, and closer to 40–50% in convolutional neural networks. After training, neurons don’t get dropped anymore.  In practice, you can usually apply dropout only to the neurons in the top one to three layers (excluding the output layer).\n",
    "\n",
    "\n",
    "To implement dropout using Keras, you can use the keras.layers.Dropout layer. During training, it randomly drops some inputs (setting them to 0) and divides the remaining inputs by the keep N probability. After training, it does nothing at all; it just passes the inputs to the next layer. The following code applies dropout regularization before every Dense layer, using a dropout rate of 0.2"
   ]
  },
  {
   "cell_type": "code",
   "execution_count": 78,
   "metadata": {},
   "outputs": [],
   "source": [
    "model = keras.models.Sequential([\n",
    "keras.layers.Flatten(input_shape=[28, 28]),\n",
    "keras.layers.Dropout(rate=0.2),\n",
    "keras.layers.Dense(300, activation=\"elu\", kernel_initializer=\"he_normal\"),\n",
    "keras.layers.Dropout(rate=0.2),\n",
    "keras.layers.Dense(100, activation=\"elu\", kernel_initializer=\"he_normal\"),\n",
    "keras.layers.Dropout(rate=0.2),\n",
    "keras.layers.Dense(10, activation=\"softmax\")\n",
    "])"
   ]
  },
  {
   "cell_type": "code",
   "execution_count": 79,
   "metadata": {},
   "outputs": [
    {
     "name": "stdout",
     "output_type": "stream",
     "text": [
      "Epoch 1/30\n",
      "1719/1719 [==============================] - 7s 4ms/step - loss: 0.7770 - accuracy: 0.7208 - val_loss: 0.5149 - val_accuracy: 0.8210\n",
      "Epoch 2/30\n",
      "1719/1719 [==============================] - 6s 4ms/step - loss: 0.5797 - accuracy: 0.7919 - val_loss: 0.4661 - val_accuracy: 0.8370\n",
      "Epoch 3/30\n",
      "1719/1719 [==============================] - 7s 4ms/step - loss: 0.5381 - accuracy: 0.8071 - val_loss: 0.4367 - val_accuracy: 0.8498\n",
      "Epoch 4/30\n",
      "1719/1719 [==============================] - 6s 4ms/step - loss: 0.5138 - accuracy: 0.8146 - val_loss: 0.4164 - val_accuracy: 0.8550\n",
      "Epoch 5/30\n",
      "1719/1719 [==============================] - 6s 4ms/step - loss: 0.4985 - accuracy: 0.8203 - val_loss: 0.4132 - val_accuracy: 0.8570\n",
      "Epoch 6/30\n",
      "1719/1719 [==============================] - 6s 4ms/step - loss: 0.4880 - accuracy: 0.8228 - val_loss: 0.4000 - val_accuracy: 0.8602\n",
      "Epoch 7/30\n",
      "1719/1719 [==============================] - 6s 3ms/step - loss: 0.4742 - accuracy: 0.8292 - val_loss: 0.4050 - val_accuracy: 0.8578\n",
      "Epoch 8/30\n",
      "1719/1719 [==============================] - 6s 4ms/step - loss: 0.4660 - accuracy: 0.8298 - val_loss: 0.3924 - val_accuracy: 0.8616\n",
      "Epoch 9/30\n",
      "1719/1719 [==============================] - 7s 4ms/step - loss: 0.4600 - accuracy: 0.8319 - val_loss: 0.3839 - val_accuracy: 0.8650\n",
      "Epoch 10/30\n",
      "1719/1719 [==============================] - 6s 4ms/step - loss: 0.4545 - accuracy: 0.8349 - val_loss: 0.3782 - val_accuracy: 0.8656\n",
      "Epoch 11/30\n",
      "1719/1719 [==============================] - 6s 4ms/step - loss: 0.4501 - accuracy: 0.8356 - val_loss: 0.3784 - val_accuracy: 0.8646\n",
      "Epoch 12/30\n",
      "1719/1719 [==============================] - 6s 4ms/step - loss: 0.4441 - accuracy: 0.8388 - val_loss: 0.3707 - val_accuracy: 0.8698\n",
      "Epoch 13/30\n",
      "1719/1719 [==============================] - 6s 4ms/step - loss: 0.4410 - accuracy: 0.8384 - val_loss: 0.3687 - val_accuracy: 0.8706\n",
      "Epoch 14/30\n",
      "1719/1719 [==============================] - 6s 4ms/step - loss: 0.4335 - accuracy: 0.8409 - val_loss: 0.3688 - val_accuracy: 0.8688\n",
      "Epoch 15/30\n",
      "1719/1719 [==============================] - 6s 4ms/step - loss: 0.4302 - accuracy: 0.8430 - val_loss: 0.3647 - val_accuracy: 0.8686\n",
      "Epoch 16/30\n",
      "1719/1719 [==============================] - 6s 4ms/step - loss: 0.4255 - accuracy: 0.8449 - val_loss: 0.3591 - val_accuracy: 0.8730\n",
      "Epoch 17/30\n",
      "1719/1719 [==============================] - 6s 4ms/step - loss: 0.4255 - accuracy: 0.8443 - val_loss: 0.3593 - val_accuracy: 0.8678\n",
      "Epoch 18/30\n",
      "1719/1719 [==============================] - 6s 4ms/step - loss: 0.4212 - accuracy: 0.8458 - val_loss: 0.3592 - val_accuracy: 0.8688\n",
      "Epoch 19/30\n",
      "1719/1719 [==============================] - 6s 4ms/step - loss: 0.4176 - accuracy: 0.8471 - val_loss: 0.3525 - val_accuracy: 0.8734\n",
      "Epoch 20/30\n",
      "1719/1719 [==============================] - 6s 4ms/step - loss: 0.4148 - accuracy: 0.8479 - val_loss: 0.3503 - val_accuracy: 0.8768\n",
      "Epoch 21/30\n",
      "1719/1719 [==============================] - 6s 4ms/step - loss: 0.4127 - accuracy: 0.8479 - val_loss: 0.3506 - val_accuracy: 0.8752\n",
      "Epoch 22/30\n",
      "1719/1719 [==============================] - 6s 3ms/step - loss: 0.4076 - accuracy: 0.8491 - val_loss: 0.3455 - val_accuracy: 0.8736\n",
      "Epoch 23/30\n",
      "1719/1719 [==============================] - 6s 4ms/step - loss: 0.4067 - accuracy: 0.8493 - val_loss: 0.3481 - val_accuracy: 0.8760\n",
      "Epoch 24/30\n",
      "1719/1719 [==============================] - 6s 3ms/step - loss: 0.4072 - accuracy: 0.8515 - val_loss: 0.3421 - val_accuracy: 0.8744\n",
      "Epoch 25/30\n",
      "1719/1719 [==============================] - 6s 3ms/step - loss: 0.4035 - accuracy: 0.8503 - val_loss: 0.3382 - val_accuracy: 0.8790\n",
      "Epoch 26/30\n",
      "1719/1719 [==============================] - 6s 4ms/step - loss: 0.3999 - accuracy: 0.8514 - val_loss: 0.3391 - val_accuracy: 0.8786\n",
      "Epoch 27/30\n",
      "1719/1719 [==============================] - 6s 3ms/step - loss: 0.3988 - accuracy: 0.8535 - val_loss: 0.3375 - val_accuracy: 0.8768\n",
      "Epoch 28/30\n",
      "1719/1719 [==============================] - 6s 3ms/step - loss: 0.3971 - accuracy: 0.8535 - val_loss: 0.3350 - val_accuracy: 0.8784\n",
      "Epoch 29/30\n",
      "1719/1719 [==============================] - 6s 3ms/step - loss: 0.3957 - accuracy: 0.8523 - val_loss: 0.3352 - val_accuracy: 0.8790\n",
      "Epoch 30/30\n",
      "1719/1719 [==============================] - 6s 3ms/step - loss: 0.3943 - accuracy: 0.8551 - val_loss: 0.3320 - val_accuracy: 0.8796\n",
      "313/313 [==============================] - 1s 2ms/step - loss: 0.3715 - accuracy: 0.8629\n"
     ]
    },
    {
     "data": {
      "text/plain": [
       "[0.37152379751205444, 0.8629000186920166]"
      ]
     },
     "execution_count": 79,
     "metadata": {},
     "output_type": "execute_result"
    }
   ],
   "source": [
    "model.compile(loss=\"sparse_categorical_crossentropy\", optimizer=\"sgd\",metrics=[\"accuracy\"])\n",
    "history = model.fit(X_train, y_train, epochs=30, validation_data = (X_val, y_val))\n",
    "model.save('models/ch_11/keras_dropout.h5')\n",
    "model.evaluate(X_test, y_test)"
   ]
  },
  {
   "cell_type": "markdown",
   "metadata": {},
   "source": [
    "Since dropout is only active during training, comparing the training loss and the validation loss can be misleading. In particular, a model may be overfitting the training set and yet have similar training and validation losses. So make sure to evaluate the training loss without dropout"
   ]
  },
  {
   "cell_type": "code",
   "execution_count": 80,
   "metadata": {},
   "outputs": [
    {
     "name": "stdout",
     "output_type": "stream",
     "text": [
      "1719/1719 [==============================] - 3s 2ms/step - loss: 0.3236 - accuracy: 0.8808\n"
     ]
    },
    {
     "data": {
      "text/plain": [
       "[0.32357415556907654, 0.8807818293571472]"
      ]
     },
     "execution_count": 80,
     "metadata": {},
     "output_type": "execute_result"
    }
   ],
   "source": [
    "model.evaluate(X_train, y_train)"
   ]
  },
  {
   "cell_type": "markdown",
   "metadata": {},
   "source": [
    "- if the model is overfitting, increase the dropout rate\n",
    "- if the model is underfitting, decrease the dropout rate\n",
    "\n",
    "Dropout does tend to significantly slow down convergence, but it usually\n",
    "results in a much better model when tuned properly"
   ]
  },
  {
   "cell_type": "markdown",
   "metadata": {},
   "source": [
    "__Monte Carlo (MC) Dropout__\n",
    "\n",
    "can boost the performance of any trained dropout model without having to retrain it or even modify it at all, provides a much better measure of the model’s uncertainty, and is also amazingly simple to implement."
   ]
  },
  {
   "cell_type": "code",
   "execution_count": 83,
   "metadata": {},
   "outputs": [],
   "source": [
    "import numpy as np\n",
    "y_probas = np.stack([model(X_test, training=True) for sample in range(100)])\n",
    "y_proba = y_probas.mean(axis=0)"
   ]
  },
  {
   "cell_type": "markdown",
   "metadata": {},
   "source": [
    "We just make 100 predictions over the test set, setting training=True to ensure that the Dropout layer is active, and stack the predictions. Since dropout is active, all the predictions will be different. Averaging over multiple predictions with dropout on gives us a Monte Carlo estimate that is generally more reliable than the result of a single prediction with dropout off"
   ]
  },
  {
   "cell_type": "code",
   "execution_count": 85,
   "metadata": {},
   "outputs": [
    {
     "data": {
      "text/plain": [
       "array([[0.  , 0.  , 0.  , 0.  , 0.  , 0.05, 0.  , 0.12, 0.  , 0.84]],\n",
       "      dtype=float32)"
      ]
     },
     "execution_count": 85,
     "metadata": {},
     "output_type": "execute_result"
    }
   ],
   "source": [
    "np.round(model.predict(X_test[:1]), 2)"
   ]
  },
  {
   "cell_type": "code",
   "execution_count": 87,
   "metadata": {},
   "outputs": [
    {
     "data": {
      "text/plain": [
       "array([[[0.  , 0.  , 0.  , 0.  , 0.  , 0.05, 0.  , 0.38, 0.  , 0.57]],\n",
       "\n",
       "       [[0.  , 0.  , 0.  , 0.  , 0.  , 0.07, 0.  , 0.08, 0.  , 0.86]],\n",
       "\n",
       "       [[0.  , 0.  , 0.  , 0.  , 0.  , 0.04, 0.  , 0.06, 0.  , 0.9 ]],\n",
       "\n",
       "       [[0.  , 0.  , 0.  , 0.  , 0.  , 0.03, 0.  , 0.09, 0.  , 0.87]],\n",
       "\n",
       "       [[0.  , 0.  , 0.  , 0.  , 0.  , 0.06, 0.  , 0.12, 0.  , 0.82]],\n",
       "\n",
       "       [[0.  , 0.  , 0.  , 0.  , 0.  , 0.04, 0.  , 0.31, 0.  , 0.65]],\n",
       "\n",
       "       [[0.  , 0.  , 0.  , 0.  , 0.  , 0.05, 0.  , 0.18, 0.  , 0.77]],\n",
       "\n",
       "       [[0.  , 0.  , 0.  , 0.  , 0.  , 0.11, 0.  , 0.07, 0.02, 0.8 ]],\n",
       "\n",
       "       [[0.  , 0.  , 0.  , 0.  , 0.  , 0.05, 0.  , 0.1 , 0.  , 0.85]],\n",
       "\n",
       "       [[0.  , 0.  , 0.  , 0.  , 0.  , 0.07, 0.  , 0.05, 0.  , 0.88]],\n",
       "\n",
       "       [[0.  , 0.  , 0.  , 0.  , 0.  , 0.05, 0.  , 0.13, 0.  , 0.82]],\n",
       "\n",
       "       [[0.  , 0.  , 0.  , 0.  , 0.  , 0.04, 0.  , 0.78, 0.  , 0.17]],\n",
       "\n",
       "       [[0.  , 0.  , 0.  , 0.  , 0.  , 0.13, 0.  , 0.02, 0.  , 0.85]],\n",
       "\n",
       "       [[0.  , 0.  , 0.  , 0.  , 0.  , 0.11, 0.  , 0.35, 0.  , 0.54]],\n",
       "\n",
       "       [[0.  , 0.  , 0.  , 0.  , 0.  , 0.  , 0.  , 0.15, 0.  , 0.84]],\n",
       "\n",
       "       [[0.  , 0.  , 0.  , 0.  , 0.  , 0.03, 0.  , 0.03, 0.  , 0.93]],\n",
       "\n",
       "       [[0.  , 0.  , 0.  , 0.  , 0.  , 0.01, 0.  , 0.29, 0.  , 0.7 ]],\n",
       "\n",
       "       [[0.  , 0.  , 0.  , 0.  , 0.  , 0.06, 0.  , 0.4 , 0.  , 0.54]],\n",
       "\n",
       "       [[0.  , 0.  , 0.  , 0.  , 0.  , 0.03, 0.  , 0.06, 0.  , 0.91]],\n",
       "\n",
       "       [[0.  , 0.  , 0.  , 0.  , 0.  , 0.01, 0.  , 0.02, 0.  , 0.97]],\n",
       "\n",
       "       [[0.  , 0.  , 0.  , 0.  , 0.  , 0.53, 0.  , 0.01, 0.  , 0.46]],\n",
       "\n",
       "       [[0.  , 0.  , 0.  , 0.  , 0.  , 0.05, 0.  , 0.02, 0.  , 0.92]],\n",
       "\n",
       "       [[0.  , 0.  , 0.  , 0.  , 0.  , 0.06, 0.  , 0.35, 0.  , 0.59]],\n",
       "\n",
       "       [[0.  , 0.  , 0.  , 0.  , 0.  , 0.02, 0.  , 0.06, 0.  , 0.92]],\n",
       "\n",
       "       [[0.  , 0.  , 0.  , 0.  , 0.  , 0.06, 0.  , 0.36, 0.  , 0.58]],\n",
       "\n",
       "       [[0.  , 0.  , 0.  , 0.  , 0.  , 0.07, 0.  , 0.33, 0.  , 0.6 ]],\n",
       "\n",
       "       [[0.  , 0.  , 0.  , 0.  , 0.  , 0.04, 0.  , 0.13, 0.  , 0.83]],\n",
       "\n",
       "       [[0.  , 0.  , 0.  , 0.  , 0.  , 0.03, 0.  , 0.36, 0.  , 0.6 ]],\n",
       "\n",
       "       [[0.  , 0.  , 0.  , 0.  , 0.  , 0.03, 0.  , 0.06, 0.  , 0.91]],\n",
       "\n",
       "       [[0.  , 0.  , 0.  , 0.  , 0.  , 0.05, 0.  , 0.34, 0.  , 0.62]],\n",
       "\n",
       "       [[0.  , 0.  , 0.  , 0.  , 0.  , 0.09, 0.  , 0.51, 0.  , 0.4 ]],\n",
       "\n",
       "       [[0.  , 0.  , 0.  , 0.  , 0.  , 0.02, 0.  , 0.14, 0.  , 0.83]],\n",
       "\n",
       "       [[0.  , 0.  , 0.  , 0.  , 0.  , 0.03, 0.  , 0.11, 0.  , 0.86]],\n",
       "\n",
       "       [[0.  , 0.  , 0.  , 0.  , 0.  , 0.11, 0.  , 0.53, 0.  , 0.37]],\n",
       "\n",
       "       [[0.  , 0.  , 0.  , 0.  , 0.  , 0.23, 0.  , 0.21, 0.01, 0.55]],\n",
       "\n",
       "       [[0.  , 0.  , 0.  , 0.  , 0.  , 0.01, 0.  , 0.26, 0.  , 0.73]],\n",
       "\n",
       "       [[0.  , 0.  , 0.  , 0.  , 0.  , 0.14, 0.  , 0.04, 0.  , 0.82]],\n",
       "\n",
       "       [[0.  , 0.  , 0.  , 0.  , 0.  , 0.08, 0.  , 0.26, 0.  , 0.65]],\n",
       "\n",
       "       [[0.  , 0.  , 0.  , 0.  , 0.  , 0.08, 0.  , 0.18, 0.  , 0.73]],\n",
       "\n",
       "       [[0.  , 0.  , 0.  , 0.  , 0.  , 0.05, 0.  , 0.21, 0.  , 0.74]],\n",
       "\n",
       "       [[0.  , 0.  , 0.  , 0.  , 0.  , 0.12, 0.  , 0.01, 0.01, 0.87]],\n",
       "\n",
       "       [[0.  , 0.  , 0.  , 0.  , 0.  , 0.09, 0.  , 0.32, 0.  , 0.59]],\n",
       "\n",
       "       [[0.  , 0.  , 0.  , 0.  , 0.  , 0.  , 0.  , 0.09, 0.  , 0.91]],\n",
       "\n",
       "       [[0.  , 0.  , 0.  , 0.  , 0.  , 0.01, 0.  , 0.08, 0.  , 0.91]],\n",
       "\n",
       "       [[0.  , 0.  , 0.  , 0.  , 0.  , 0.57, 0.  , 0.26, 0.  , 0.17]],\n",
       "\n",
       "       [[0.  , 0.  , 0.  , 0.  , 0.  , 0.05, 0.  , 0.39, 0.  , 0.56]],\n",
       "\n",
       "       [[0.  , 0.  , 0.  , 0.  , 0.  , 0.1 , 0.  , 0.13, 0.  , 0.77]],\n",
       "\n",
       "       [[0.  , 0.  , 0.  , 0.  , 0.  , 0.02, 0.  , 0.28, 0.01, 0.69]],\n",
       "\n",
       "       [[0.  , 0.  , 0.  , 0.  , 0.  , 0.03, 0.  , 0.18, 0.  , 0.79]],\n",
       "\n",
       "       [[0.  , 0.  , 0.  , 0.  , 0.  , 0.02, 0.  , 0.09, 0.  , 0.88]],\n",
       "\n",
       "       [[0.  , 0.  , 0.  , 0.  , 0.  , 0.28, 0.  , 0.36, 0.  , 0.36]],\n",
       "\n",
       "       [[0.  , 0.  , 0.  , 0.  , 0.  , 0.06, 0.  , 0.03, 0.  , 0.91]],\n",
       "\n",
       "       [[0.  , 0.  , 0.  , 0.  , 0.  , 0.52, 0.  , 0.13, 0.01, 0.34]],\n",
       "\n",
       "       [[0.  , 0.  , 0.  , 0.  , 0.  , 0.03, 0.  , 0.02, 0.  , 0.95]],\n",
       "\n",
       "       [[0.  , 0.  , 0.  , 0.  , 0.  , 0.01, 0.  , 0.2 , 0.02, 0.77]],\n",
       "\n",
       "       [[0.  , 0.  , 0.  , 0.  , 0.  , 0.59, 0.  , 0.01, 0.02, 0.38]],\n",
       "\n",
       "       [[0.  , 0.  , 0.  , 0.  , 0.  , 0.37, 0.  , 0.04, 0.  , 0.6 ]],\n",
       "\n",
       "       [[0.  , 0.  , 0.  , 0.  , 0.  , 0.03, 0.  , 0.04, 0.  , 0.93]],\n",
       "\n",
       "       [[0.  , 0.  , 0.  , 0.  , 0.  , 0.07, 0.  , 0.42, 0.  , 0.5 ]],\n",
       "\n",
       "       [[0.  , 0.  , 0.  , 0.  , 0.  , 0.04, 0.  , 0.26, 0.  , 0.7 ]],\n",
       "\n",
       "       [[0.  , 0.  , 0.  , 0.  , 0.  , 0.06, 0.  , 0.45, 0.  , 0.49]],\n",
       "\n",
       "       [[0.  , 0.  , 0.  , 0.  , 0.  , 0.13, 0.  , 0.07, 0.01, 0.79]],\n",
       "\n",
       "       [[0.  , 0.  , 0.  , 0.  , 0.  , 0.14, 0.  , 0.04, 0.  , 0.82]],\n",
       "\n",
       "       [[0.  , 0.  , 0.  , 0.  , 0.  , 0.3 , 0.  , 0.04, 0.  , 0.66]],\n",
       "\n",
       "       [[0.  , 0.  , 0.  , 0.  , 0.  , 0.27, 0.  , 0.17, 0.  , 0.55]],\n",
       "\n",
       "       [[0.  , 0.  , 0.  , 0.  , 0.  , 0.04, 0.  , 0.14, 0.  , 0.81]],\n",
       "\n",
       "       [[0.  , 0.  , 0.  , 0.  , 0.  , 0.34, 0.  , 0.42, 0.  , 0.23]],\n",
       "\n",
       "       [[0.  , 0.  , 0.  , 0.  , 0.  , 0.04, 0.  , 0.09, 0.  , 0.87]],\n",
       "\n",
       "       [[0.  , 0.  , 0.  , 0.  , 0.  , 0.07, 0.  , 0.04, 0.  , 0.89]],\n",
       "\n",
       "       [[0.  , 0.  , 0.  , 0.  , 0.  , 0.18, 0.  , 0.4 , 0.  , 0.43]],\n",
       "\n",
       "       [[0.  , 0.  , 0.  , 0.  , 0.  , 0.04, 0.  , 0.61, 0.01, 0.34]],\n",
       "\n",
       "       [[0.  , 0.  , 0.  , 0.  , 0.  , 0.04, 0.  , 0.01, 0.  , 0.95]],\n",
       "\n",
       "       [[0.  , 0.  , 0.  , 0.  , 0.  , 0.01, 0.  , 0.07, 0.  , 0.91]],\n",
       "\n",
       "       [[0.  , 0.  , 0.  , 0.  , 0.  , 0.05, 0.  , 0.11, 0.  , 0.84]],\n",
       "\n",
       "       [[0.  , 0.  , 0.  , 0.  , 0.  , 0.37, 0.  , 0.4 , 0.01, 0.22]],\n",
       "\n",
       "       [[0.  , 0.  , 0.  , 0.  , 0.  , 0.78, 0.  , 0.06, 0.01, 0.16]],\n",
       "\n",
       "       [[0.  , 0.  , 0.  , 0.  , 0.  , 0.  , 0.  , 0.06, 0.  , 0.93]],\n",
       "\n",
       "       [[0.  , 0.  , 0.  , 0.  , 0.  , 0.05, 0.  , 0.02, 0.  , 0.93]],\n",
       "\n",
       "       [[0.  , 0.  , 0.  , 0.  , 0.  , 0.36, 0.  , 0.3 , 0.  , 0.34]],\n",
       "\n",
       "       [[0.  , 0.  , 0.  , 0.  , 0.  , 0.04, 0.  , 0.27, 0.  , 0.69]],\n",
       "\n",
       "       [[0.  , 0.  , 0.  , 0.  , 0.  , 0.08, 0.  , 0.04, 0.  , 0.88]],\n",
       "\n",
       "       [[0.  , 0.  , 0.  , 0.  , 0.  , 0.36, 0.  , 0.18, 0.01, 0.45]],\n",
       "\n",
       "       [[0.  , 0.  , 0.  , 0.  , 0.  , 0.04, 0.  , 0.2 , 0.  , 0.76]],\n",
       "\n",
       "       [[0.  , 0.  , 0.  , 0.  , 0.  , 0.67, 0.  , 0.02, 0.  , 0.31]],\n",
       "\n",
       "       [[0.  , 0.  , 0.  , 0.  , 0.  , 0.04, 0.  , 0.38, 0.  , 0.58]],\n",
       "\n",
       "       [[0.  , 0.  , 0.  , 0.  , 0.  , 0.26, 0.  , 0.08, 0.  , 0.66]],\n",
       "\n",
       "       [[0.  , 0.  , 0.  , 0.  , 0.  , 0.03, 0.  , 0.14, 0.01, 0.81]],\n",
       "\n",
       "       [[0.  , 0.  , 0.  , 0.  , 0.  , 0.02, 0.  , 0.34, 0.  , 0.64]],\n",
       "\n",
       "       [[0.  , 0.  , 0.  , 0.  , 0.  , 0.03, 0.  , 0.02, 0.01, 0.94]],\n",
       "\n",
       "       [[0.  , 0.  , 0.  , 0.  , 0.  , 0.  , 0.  , 0.11, 0.  , 0.88]],\n",
       "\n",
       "       [[0.  , 0.  , 0.  , 0.  , 0.  , 0.14, 0.  , 0.17, 0.  , 0.69]],\n",
       "\n",
       "       [[0.  , 0.  , 0.  , 0.  , 0.  , 0.06, 0.  , 0.5 , 0.  , 0.44]],\n",
       "\n",
       "       [[0.  , 0.  , 0.  , 0.  , 0.  , 0.12, 0.  , 0.07, 0.  , 0.8 ]],\n",
       "\n",
       "       [[0.  , 0.  , 0.  , 0.  , 0.  , 0.07, 0.  , 0.24, 0.  , 0.69]],\n",
       "\n",
       "       [[0.  , 0.  , 0.  , 0.  , 0.  , 0.  , 0.  , 0.02, 0.  , 0.97]],\n",
       "\n",
       "       [[0.  , 0.  , 0.  , 0.  , 0.  , 0.41, 0.  , 0.01, 0.  , 0.58]],\n",
       "\n",
       "       [[0.  , 0.  , 0.  , 0.  , 0.  , 0.04, 0.  , 0.22, 0.  , 0.73]],\n",
       "\n",
       "       [[0.  , 0.  , 0.  , 0.  , 0.  , 0.04, 0.  , 0.57, 0.  , 0.39]],\n",
       "\n",
       "       [[0.  , 0.  , 0.  , 0.  , 0.  , 0.13, 0.  , 0.15, 0.  , 0.71]],\n",
       "\n",
       "       [[0.  , 0.  , 0.  , 0.  , 0.  , 0.56, 0.  , 0.04, 0.  , 0.4 ]]],\n",
       "      dtype=float32)"
      ]
     },
     "execution_count": 87,
     "metadata": {},
     "output_type": "execute_result"
    }
   ],
   "source": [
    "np.round(y_probas[:, :1], 2) ##with dropout active it's not sure"
   ]
  },
  {
   "cell_type": "code",
   "execution_count": 88,
   "metadata": {},
   "outputs": [
    {
     "data": {
      "text/plain": [
       "array([[0.  , 0.  , 0.  , 0.  , 0.  , 0.12, 0.  , 0.19, 0.  , 0.69]],\n",
       "      dtype=float32)"
      ]
     },
     "execution_count": 88,
     "metadata": {},
     "output_type": "execute_result"
    }
   ],
   "source": [
    "np.round(y_proba[:1], 2)"
   ]
  },
  {
   "cell_type": "code",
   "execution_count": 89,
   "metadata": {},
   "outputs": [
    {
     "data": {
      "text/plain": [
       "array([[0.  , 0.  , 0.  , 0.  , 0.  , 0.16, 0.  , 0.16, 0.  , 0.21]],\n",
       "      dtype=float32)"
      ]
     },
     "execution_count": 89,
     "metadata": {},
     "output_type": "execute_result"
    }
   ],
   "source": [
    "y_std = y_probas.std(axis=0)\n",
    "np.round(y_std[:1], 2)"
   ]
  },
  {
   "cell_type": "code",
   "execution_count": 92,
   "metadata": {},
   "outputs": [
    {
     "name": "stdout",
     "output_type": "stream",
     "text": [
      "0.8645\n"
     ]
    }
   ],
   "source": [
    "y_pred = np.argmax(y_proba, axis=1) \n",
    "accuracy = np.sum(y_pred == y_test) / len(y_test)\n",
    "print(accuracy) ##increased from 86.2 to 86.5 using mc"
   ]
  },
  {
   "cell_type": "markdown",
   "metadata": {},
   "source": [
    " The number of Monte Carlo samples you use (100 in this example) is a hyperparameter you can tweak. The higher it is, the more accurate the predictions and their uncertainty estimates will be. However, if you double it, inference time will also be doubled. Moreover, above a certain number of samples, you will notice little improvement. So your job is to find the right trade-off between latency and accuracy, depending on you  application "
   ]
  },
  {
   "cell_type": "markdown",
   "metadata": {},
   "source": [
    "__Max-Norm Regularization__\n",
    "\n",
    "for each neuron, it constrains the weights w of the incoming connections such that ∥ w ∥ ≤ r, where r is the maxnorm hyperparameter and ∥ · ∥ is the ℓ2 norm. Max-norm regularization does not add a regularization loss term to the overall loss function. Reducing r increases the amount of regularization and helps reduce overfitting. Max-norm regularization can also help alleviate the unstable gradients problems.\n",
    "\n",
    "`keras.layers.Dense(100, activation=\"elu\", kernel_initializer=\"he_normal\", kernel_constraint=keras.constraints.max_norm(1.))`\n"
   ]
  },
  {
   "cell_type": "markdown",
   "metadata": {},
   "source": [
    "### Exercises\n",
    "\n",
    "__1. Is it OK to initialize all the weights to the same value as long as that value is selected randomly using He initialization?__\n",
    "\n",
    "It's important to have a random initialization, but it's also important to maintain assymetry in the weights. Hence, same weights cannot be assigned. \n",
    "\n",
    "__2. Is it OK to initialize the bias terms to 0?__\n",
    "\n",
    "it would not make any difference\n",
    "\n",
    "__3. Name three advantages of the SELU activation function over ReLU.__\n",
    "\n",
    "- non zero derivative\n",
    "- negative values\n",
    "- can ensure the model is normalized avoiding gradient issues\n",
    "\n",
    "__4. In which cases would you want to use each of the following activation functions: SELU, leaky ReLU (and its variants), ReLU, tanh, logistic, and softmax?__\n",
    "\n",
    "- SELU: better then relu, faster, self normalizing and helps in gradient issues\n",
    "- Leaky ReLU: help in gradient issues, faster\n",
    "- ReLU: vanilla option, good for simpler nn\n",
    "- Tanh: output between -1 and 1\n",
    "- Logistic: for predicting probabilites\n",
    "- Softmax: when the output is required to be only positive values and for multiclass outputs\n",
    "\n",
    "__5. What may happen if you set the momentum hyperparameter too close to 1 (e.g., 0.99999) when using an SGD optimizer?__\n",
    "\n",
    "it might accelerate too much and skip the global minima without slowing.\n",
    "\n",
    "__6. Name three ways you can produce a sparse model.__\n",
    "\n",
    "- train model normally, zero out tiny weights\n",
    "- l1 regularization\n",
    "- model optimization toolkit\n",
    "\n",
    "__7. Does dropout slow down training? Does it slow down inference (i.e., making predictions on new instances)? What about MC Dropout?__\n",
    "\n",
    "- dropout slows down the training, roughly by 2\n",
    "- MC dropout is like dropout during training, and also applied after training during inference, it may run inference 10 or more times, hence slows down more than normal droupout"
   ]
  },
  {
   "cell_type": "markdown",
   "metadata": {},
   "source": [
    "__8. Practice training a deep neural network on the CIFAR10 image dataset:__\n",
    "\n",
    "\n",
    "__a. Build a DNN with 20 hidden layers of 100 neurons each (that’s too many, but it’s the point of this exercise). Use He initialization and the ELU activation function.__\n",
    "\n",
    "__b. Using Nadam optimization and early stopping, train the network on the CIFAR10 dataset. You can load it with keras.datasets.cifar10.load_ data(). The dataset is composed of 60,000 32 × 32–pixel color images (50,000 for training, 10,000 for testing) with 10 classes, so you’ll need a softmax output layer with 10 neurons. Remember to search for the right learning rate each time you change the model’s architecture or hyperparameters.__\n",
    "\n",
    "__c. Now try adding Batch Normalization and compare the learning curves: Is it converging faster than before? Does it produce a better model? How does it affect training speed?__\n",
    "\n",
    "__d. Try replacing Batch Normalization with SELU, and make the necessary adjustements to ensure the network selfnormalizes (i.e., standardize the input features, use LeCun normal initialization, make sure the DNN contains only a sequence of dense layers, etc.).__\n",
    "\n",
    "__e. Try regularizing the model with alpha dropout. Then, without retraining your model, see if you can achieve better accuracy using MC Dropout.__\n",
    "\n",
    "\n",
    "__f. Retrain your model using 1cycle scheduling and see if it improves training speed and model accuracy.__"
   ]
  },
  {
   "cell_type": "code",
   "execution_count": 2,
   "metadata": {},
   "outputs": [],
   "source": [
    "##importing libraries\n",
    "\n",
    "import tensorflow as tf\n",
    "import keras\n",
    "from keras import datasets\n",
    "import numpy as np\n",
    "import pandas as pd\n",
    "import matplotlib.pyplot as plt"
   ]
  },
  {
   "cell_type": "code",
   "execution_count": 4,
   "metadata": {},
   "outputs": [
    {
     "name": "stdout",
     "output_type": "stream",
     "text": [
      "Downloading data from https://www.cs.toronto.edu/~kriz/cifar-10-python.tar.gz\n",
      "170500096/170498071 [==============================] - 488s 3us/step\n",
      "170508288/170498071 [==============================] - 488s 3us/step\n"
     ]
    }
   ],
   "source": [
    "##loading dataset\n",
    "\n",
    "(X_train, y_train), (X_test, y_test) = tf.keras.datasets.cifar10.load_data()"
   ]
  },
  {
   "cell_type": "code",
   "execution_count": 5,
   "metadata": {},
   "outputs": [
    {
     "data": {
      "text/plain": [
       "(50000, 32, 32, 3)"
      ]
     },
     "execution_count": 5,
     "metadata": {},
     "output_type": "execute_result"
    }
   ],
   "source": [
    "X_train.shape"
   ]
  },
  {
   "cell_type": "code",
   "execution_count": 6,
   "metadata": {},
   "outputs": [
    {
     "data": {
      "text/plain": [
       "(50000, 1)"
      ]
     },
     "execution_count": 6,
     "metadata": {},
     "output_type": "execute_result"
    }
   ],
   "source": [
    "y_train.shape"
   ]
  },
  {
   "cell_type": "code",
   "execution_count": 7,
   "metadata": {},
   "outputs": [
    {
     "data": {
      "text/plain": [
       "(10000, 32, 32, 3)"
      ]
     },
     "execution_count": 7,
     "metadata": {},
     "output_type": "execute_result"
    }
   ],
   "source": [
    "X_test.shape"
   ]
  },
  {
   "cell_type": "code",
   "execution_count": 8,
   "metadata": {},
   "outputs": [],
   "source": [
    "x = 5000\n",
    "X_val, X_train, y_val, y_train = X_train[:x,],X_train[x:,], y_train[:x],y_train[x:]"
   ]
  },
  {
   "cell_type": "code",
   "execution_count": 9,
   "metadata": {},
   "outputs": [
    {
     "name": "stdout",
     "output_type": "stream",
     "text": [
      "(45000, 32, 32, 3)\n",
      "(10000, 32, 32, 3)\n",
      "(5000, 32, 32, 3)\n"
     ]
    }
   ],
   "source": [
    "print(X_train.shape)\n",
    "print(X_test.shape)\n",
    "print(X_val.shape)"
   ]
  },
  {
   "cell_type": "code",
   "execution_count": 10,
   "metadata": {},
   "outputs": [
    {
     "name": "stdout",
     "output_type": "stream",
     "text": [
      "(45000, 1)\n",
      "(10000, 1)\n",
      "(5000, 1)\n"
     ]
    }
   ],
   "source": [
    "print(y_train.shape)\n",
    "print(y_test.shape)\n",
    "print(y_val.shape)"
   ]
  },
  {
   "cell_type": "code",
   "execution_count": 11,
   "metadata": {},
   "outputs": [
    {
     "data": {
      "text/plain": [
       "<matplotlib.image.AxesImage at 0x16ce080c820>"
      ]
     },
     "execution_count": 11,
     "metadata": {},
     "output_type": "execute_result"
    },
    {
     "data": {
      "image/png": "[encoded data removed]",
      "text/plain": [
       "<Figure size 432x288 with 1 Axes>"
      ]
     },
     "metadata": {
      "needs_background": "light"
     },
     "output_type": "display_data"
    }
   ],
   "source": [
    "plt.imshow(X_train[1]) ##looks like a horse"
   ]
  },
  {
   "cell_type": "code",
   "execution_count": 12,
   "metadata": {},
   "outputs": [
    {
     "data": {
      "text/plain": [
       "array([7], dtype=uint8)"
      ]
     },
     "execution_count": 12,
     "metadata": {},
     "output_type": "execute_result"
    }
   ],
   "source": [
    "y_train[1]"
   ]
  },
  {
   "cell_type": "markdown",
   "metadata": {},
   "source": [
    "a. Build a DNN with 20 hidden layers of 100 neurons each (that’s too many, but it’s the point of this exercise). Use He initialization and the ELU activation function."
   ]
  },
  {
   "cell_type": "code",
   "execution_count": 44,
   "metadata": {},
   "outputs": [],
   "source": [
    "he_avg_init = keras.initializers.VarianceScaling(scale=2, mode='fan_avg', distribution = \"uniform\")"
   ]
  },
  {
   "cell_type": "code",
   "execution_count": 59,
   "metadata": {},
   "outputs": [],
   "source": [
    "def add_layers(model, n_neurons = 100, n_layers_hidden = 20, activation_func = \"elu\", init = \"he_normal\"):\n",
    "    for layer in range(0,n_layers_hidden):\n",
    "        model.add(keras.layers.Dense(n_neurons, activation = activation_func, kernel_initializer = init ))"
   ]
  },
  {
   "cell_type": "code",
   "execution_count": 60,
   "metadata": {},
   "outputs": [],
   "source": [
    "model = keras.models.Sequential()"
   ]
  },
  {
   "cell_type": "code",
   "execution_count": 61,
   "metadata": {},
   "outputs": [],
   "source": [
    "model.add(keras.layers.Flatten(input_shape = [32,32,3]))"
   ]
  },
  {
   "cell_type": "code",
   "execution_count": 62,
   "metadata": {},
   "outputs": [],
   "source": [
    "add_layers(model,100,20,\"elu\", \"he_normal\")"
   ]
  },
  {
   "cell_type": "code",
   "execution_count": 63,
   "metadata": {},
   "outputs": [],
   "source": [
    "##final layer\n",
    "model.add(keras.layers.Dense(10, activation = \"softmax\"))"
   ]
  },
  {
   "cell_type": "code",
   "execution_count": 64,
   "metadata": {},
   "outputs": [
    {
     "data": {
      "text/plain": [
       "[<keras.layers.core.Flatten at 0x16cfdffc9a0>,\n",
       " <keras.layers.core.Dense at 0x16ce1da38b0>,\n",
       " <keras.layers.core.Dense at 0x16cf47ac340>,\n",
       " <keras.layers.core.Dense at 0x16ce1e5e940>,\n",
       " <keras.layers.core.Dense at 0x16ce1da88b0>,\n",
       " <keras.layers.core.Dense at 0x16ce1da87f0>,\n",
       " <keras.layers.core.Dense at 0x16ce1db3820>,\n",
       " <keras.layers.core.Dense at 0x16ce1db9430>,\n",
       " <keras.layers.core.Dense at 0x16ce1db94f0>,\n",
       " <keras.layers.core.Dense at 0x16ce1db3580>,\n",
       " <keras.layers.core.Dense at 0x16ce1db3700>,\n",
       " <keras.layers.core.Dense at 0x16cfdffce20>,\n",
       " <keras.layers.core.Dense at 0x16ce1dc2e50>,\n",
       " <keras.layers.core.Dense at 0x16ce1db3d60>,\n",
       " <keras.layers.core.Dense at 0x16ce1dd71f0>,\n",
       " <keras.layers.core.Dense at 0x16ce1dd7f70>,\n",
       " <keras.layers.core.Dense at 0x16ce1db35e0>,\n",
       " <keras.layers.core.Dense at 0x16ce1db3970>,\n",
       " <keras.layers.core.Dense at 0x16ce1ddfdf0>,\n",
       " <keras.layers.core.Dense at 0x16ce1dd1a60>,\n",
       " <keras.layers.core.Dense at 0x16ce1dd1c40>,\n",
       " <keras.layers.core.Dense at 0x16ce1dee820>]"
      ]
     },
     "execution_count": 64,
     "metadata": {},
     "output_type": "execute_result"
    }
   ],
   "source": [
    "model.layers"
   ]
  },
  {
   "cell_type": "code",
   "execution_count": 65,
   "metadata": {},
   "outputs": [
    {
     "name": "stdout",
     "output_type": "stream",
     "text": [
      "Model: \"sequential_3\"\n",
      "_________________________________________________________________\n",
      "Layer (type)                 Output Shape              Param #   \n",
      "=================================================================\n",
      "flatten_3 (Flatten)          (None, 3072)              0         \n",
      "_________________________________________________________________\n",
      "dense_83 (Dense)             (None, 100)               307300    \n",
      "_________________________________________________________________\n",
      "dense_84 (Dense)             (None, 100)               10100     \n",
      "_________________________________________________________________\n",
      "dense_85 (Dense)             (None, 100)               10100     \n",
      "_________________________________________________________________\n",
      "dense_86 (Dense)             (None, 100)               10100     \n",
      "_________________________________________________________________\n",
      "dense_87 (Dense)             (None, 100)               10100     \n",
      "_________________________________________________________________\n",
      "dense_88 (Dense)             (None, 100)               10100     \n",
      "_________________________________________________________________\n",
      "dense_89 (Dense)             (None, 100)               10100     \n",
      "_________________________________________________________________\n",
      "dense_90 (Dense)             (None, 100)               10100     \n",
      "_________________________________________________________________\n",
      "dense_91 (Dense)             (None, 100)               10100     \n",
      "_________________________________________________________________\n",
      "dense_92 (Dense)             (None, 100)               10100     \n",
      "_________________________________________________________________\n",
      "dense_93 (Dense)             (None, 100)               10100     \n",
      "_________________________________________________________________\n",
      "dense_94 (Dense)             (None, 100)               10100     \n",
      "_________________________________________________________________\n",
      "dense_95 (Dense)             (None, 100)               10100     \n",
      "_________________________________________________________________\n",
      "dense_96 (Dense)             (None, 100)               10100     \n",
      "_________________________________________________________________\n",
      "dense_97 (Dense)             (None, 100)               10100     \n",
      "_________________________________________________________________\n",
      "dense_98 (Dense)             (None, 100)               10100     \n",
      "_________________________________________________________________\n",
      "dense_99 (Dense)             (None, 100)               10100     \n",
      "_________________________________________________________________\n",
      "dense_100 (Dense)            (None, 100)               10100     \n",
      "_________________________________________________________________\n",
      "dense_101 (Dense)            (None, 100)               10100     \n",
      "_________________________________________________________________\n",
      "dense_102 (Dense)            (None, 100)               10100     \n",
      "_________________________________________________________________\n",
      "dense_103 (Dense)            (None, 10)                1010      \n",
      "=================================================================\n",
      "Total params: 500,210\n",
      "Trainable params: 500,210\n",
      "Non-trainable params: 0\n",
      "_________________________________________________________________\n"
     ]
    }
   ],
   "source": [
    "model.summary()"
   ]
  },
  {
   "cell_type": "markdown",
   "metadata": {},
   "source": [
    "b. Using Nadam optimization and early stopping, train the network on the CIFAR10 dataset. You can load it with keras.datasets.cifar10.load_ data(). The dataset is composed of 60,000 32 × 32–pixel color images (50,000 for training, 10,000 for testing) with 10 classes, so you’ll need a softmax output layer with 10 neurons. Remember to search for the right learning rate each time you change the model’s architecture or hyperparameters"
   ]
  },
  {
   "cell_type": "code",
   "execution_count": 69,
   "metadata": {},
   "outputs": [],
   "source": [
    "lr = 5e-5\n",
    "opt = tf.keras.optimizers.Nadam(learning_rate=lr)\n",
    "checkpoint_cb = keras.callbacks.ModelCheckpoint(\"models/ch_11/ex_early_stopping_8b.h5\", save_best_only=True)\n",
    "es_cb = keras.callbacks.EarlyStopping(patience = 20, restore_best_weights = True)"
   ]
  },
  {
   "cell_type": "code",
   "execution_count": 70,
   "metadata": {},
   "outputs": [],
   "source": [
    "model.compile(loss=\"sparse_categorical_crossentropy\", optimizer= opt,metrics=[\"accuracy\"])"
   ]
  },
  {
   "cell_type": "code",
   "execution_count": 71,
   "metadata": {},
   "outputs": [
    {
     "name": "stdout",
     "output_type": "stream",
     "text": [
      "Epoch 1/100\n",
      "1407/1407 [==============================] - 39s 23ms/step - loss: 6.0083 - accuracy: 0.1620 - val_loss: 2.4514 - val_accuracy: 0.1750\n",
      "Epoch 2/100\n",
      "1407/1407 [==============================] - 32s 23ms/step - loss: 2.0889 - accuracy: 0.2404 - val_loss: 2.1304 - val_accuracy: 0.2310\n",
      "Epoch 3/100\n",
      "1407/1407 [==============================] - 32s 22ms/step - loss: 1.9550 - accuracy: 0.2797 - val_loss: 1.9327 - val_accuracy: 0.3024\n",
      "Epoch 4/100\n",
      "1407/1407 [==============================] - 30s 21ms/step - loss: 1.8742 - accuracy: 0.3145 - val_loss: 1.9241 - val_accuracy: 0.3024\n",
      "Epoch 5/100\n",
      "1407/1407 [==============================] - 32s 23ms/step - loss: 1.8093 - accuracy: 0.3424 - val_loss: 1.7871 - val_accuracy: 0.3462\n",
      "Epoch 6/100\n",
      "1407/1407 [==============================] - 34s 24ms/step - loss: 1.7554 - accuracy: 0.3631 - val_loss: 1.7155 - val_accuracy: 0.3776\n",
      "Epoch 7/100\n",
      "1407/1407 [==============================] - 49s 35ms/step - loss: 1.7094 - accuracy: 0.3812 - val_loss: 1.7480 - val_accuracy: 0.3654\n",
      "Epoch 8/100\n",
      "1407/1407 [==============================] - 48s 34ms/step - loss: 1.6761 - accuracy: 0.3957 - val_loss: 1.6814 - val_accuracy: 0.3826\n",
      "Epoch 9/100\n",
      "1407/1407 [==============================] - 50s 35ms/step - loss: 1.6430 - accuracy: 0.4106 - val_loss: 1.6940 - val_accuracy: 0.3910\n",
      "Epoch 10/100\n",
      "1407/1407 [==============================] - 51s 36ms/step - loss: 1.6167 - accuracy: 0.4161 - val_loss: 1.6320 - val_accuracy: 0.4132\n",
      "Epoch 11/100\n",
      "1407/1407 [==============================] - 52s 37ms/step - loss: 1.5964 - accuracy: 0.4255 - val_loss: 1.6392 - val_accuracy: 0.4166\n",
      "Epoch 12/100\n",
      "1407/1407 [==============================] - 35s 25ms/step - loss: 1.5746 - accuracy: 0.4326 - val_loss: 1.6499 - val_accuracy: 0.4004\n",
      "Epoch 13/100\n",
      "1407/1407 [==============================] - 31s 22ms/step - loss: 1.5540 - accuracy: 0.4418 - val_loss: 1.6347 - val_accuracy: 0.4136\n",
      "Epoch 14/100\n",
      "1407/1407 [==============================] - 35s 25ms/step - loss: 1.5354 - accuracy: 0.4476 - val_loss: 1.6249 - val_accuracy: 0.4250\n",
      "Epoch 15/100\n",
      "1407/1407 [==============================] - 31s 22ms/step - loss: 1.5232 - accuracy: 0.4537 - val_loss: 1.5989 - val_accuracy: 0.4236\n",
      "Epoch 16/100\n",
      "1407/1407 [==============================] - 30s 21ms/step - loss: 1.5019 - accuracy: 0.4603 - val_loss: 1.5991 - val_accuracy: 0.4240\n",
      "Epoch 17/100\n",
      "1407/1407 [==============================] - 31s 22ms/step - loss: 1.4895 - accuracy: 0.4658 - val_loss: 1.5821 - val_accuracy: 0.4320\n",
      "Epoch 18/100\n",
      "1407/1407 [==============================] - 33s 24ms/step - loss: 1.4752 - accuracy: 0.4718 - val_loss: 1.5743 - val_accuracy: 0.4374\n",
      "Epoch 19/100\n",
      "1407/1407 [==============================] - 32s 23ms/step - loss: 1.4648 - accuracy: 0.4729 - val_loss: 1.5891 - val_accuracy: 0.4376\n",
      "Epoch 20/100\n",
      "1407/1407 [==============================] - 31s 22ms/step - loss: 1.4492 - accuracy: 0.4790 - val_loss: 1.5593 - val_accuracy: 0.4462\n",
      "Epoch 21/100\n",
      "1407/1407 [==============================] - 32s 23ms/step - loss: 1.4377 - accuracy: 0.4831 - val_loss: 1.5600 - val_accuracy: 0.4370\n",
      "Epoch 22/100\n",
      "1407/1407 [==============================] - 29s 20ms/step - loss: 1.4227 - accuracy: 0.4886 - val_loss: 1.5440 - val_accuracy: 0.4586\n",
      "Epoch 23/100\n",
      "1407/1407 [==============================] - 31s 22ms/step - loss: 1.4119 - accuracy: 0.4946 - val_loss: 1.5395 - val_accuracy: 0.4500\n",
      "Epoch 24/100\n",
      "1407/1407 [==============================] - 32s 23ms/step - loss: 1.4025 - accuracy: 0.4967 - val_loss: 1.5317 - val_accuracy: 0.45320s - los\n",
      "Epoch 25/100\n",
      "1407/1407 [==============================] - 31s 22ms/step - loss: 1.3896 - accuracy: 0.5012 - val_loss: 1.5258 - val_accuracy: 0.4538\n",
      "Epoch 26/100\n",
      "1407/1407 [==============================] - 31s 22ms/step - loss: 1.3812 - accuracy: 0.5036 - val_loss: 1.5482 - val_accuracy: 0.4568\n",
      "Epoch 27/100\n",
      "1407/1407 [==============================] - 31s 22ms/step - loss: 1.3680 - accuracy: 0.5094 - val_loss: 1.6033 - val_accuracy: 0.4458\n",
      "Epoch 28/100\n",
      "1407/1407 [==============================] - 30s 22ms/step - loss: 1.3560 - accuracy: 0.5136 - val_loss: 1.5259 - val_accuracy: 0.4584\n",
      "Epoch 29/100\n",
      "1407/1407 [==============================] - 26s 19ms/step - loss: 1.3471 - accuracy: 0.5161 - val_loss: 1.5335 - val_accuracy: 0.4634\n",
      "Epoch 30/100\n",
      "1407/1407 [==============================] - 31s 22ms/step - loss: 1.3368 - accuracy: 0.5227 - val_loss: 1.5909 - val_accuracy: 0.4398\n",
      "Epoch 31/100\n",
      "1407/1407 [==============================] - 30s 21ms/step - loss: 1.3301 - accuracy: 0.5222 - val_loss: 1.5236 - val_accuracy: 0.4622\n",
      "Epoch 32/100\n",
      "1407/1407 [==============================] - 33s 23ms/step - loss: 1.3217 - accuracy: 0.5257 - val_loss: 1.5615 - val_accuracy: 0.4504\n",
      "Epoch 33/100\n",
      "1407/1407 [==============================] - 31s 22ms/step - loss: 1.3092 - accuracy: 0.5315 - val_loss: 1.5217 - val_accuracy: 0.4624\n",
      "Epoch 34/100\n",
      "1407/1407 [==============================] - 35s 25ms/step - loss: 1.3050 - accuracy: 0.5323 - val_loss: 1.5411 - val_accuracy: 0.4618\n",
      "Epoch 35/100\n",
      "1407/1407 [==============================] - 25s 18ms/step - loss: 1.2934 - accuracy: 0.5358 - val_loss: 1.5072 - val_accuracy: 0.4674\n",
      "Epoch 36/100\n",
      "1407/1407 [==============================] - 24s 17ms/step - loss: 1.2825 - accuracy: 0.5367 - val_loss: 1.5579 - val_accuracy: 0.4568\n",
      "Epoch 37/100\n",
      "1407/1407 [==============================] - 24s 17ms/step - loss: 1.2740 - accuracy: 0.5434 - val_loss: 1.5559 - val_accuracy: 0.4678\n",
      "Epoch 38/100\n",
      "1407/1407 [==============================] - 25s 18ms/step - loss: 1.2668 - accuracy: 0.5453 - val_loss: 1.5316 - val_accuracy: 0.4544\n",
      "Epoch 39/100\n",
      "1407/1407 [==============================] - 22s 16ms/step - loss: 1.2573 - accuracy: 0.5457 - val_loss: 1.5353 - val_accuracy: 0.4718\n",
      "Epoch 40/100\n",
      "1407/1407 [==============================] - 21s 15ms/step - loss: 1.2497 - accuracy: 0.5512 - val_loss: 1.5524 - val_accuracy: 0.4568\n",
      "Epoch 41/100\n",
      "1407/1407 [==============================] - 20s 14ms/step - loss: 1.2442 - accuracy: 0.5526 - val_loss: 1.5180 - val_accuracy: 0.4612\n",
      "Epoch 42/100\n",
      "1407/1407 [==============================] - 22s 15ms/step - loss: 1.2331 - accuracy: 0.5569 - val_loss: 1.5778 - val_accuracy: 0.4576\n",
      "Epoch 43/100\n",
      "1407/1407 [==============================] - 20s 15ms/step - loss: 1.2268 - accuracy: 0.5607 - val_loss: 1.5632 - val_accuracy: 0.4576\n",
      "Epoch 44/100\n",
      "1407/1407 [==============================] - 20s 14ms/step - loss: 1.2182 - accuracy: 0.5620 - val_loss: 1.5276 - val_accuracy: 0.4642\n",
      "Epoch 45/100\n",
      "1407/1407 [==============================] - 20s 14ms/step - loss: 1.2119 - accuracy: 0.5662 - val_loss: 1.5132 - val_accuracy: 0.4772\n",
      "Epoch 46/100\n",
      "1407/1407 [==============================] - 20s 14ms/step - loss: 1.2045 - accuracy: 0.5674 - val_loss: 1.5331 - val_accuracy: 0.4672\n",
      "Epoch 47/100\n",
      "1407/1407 [==============================] - 20s 14ms/step - loss: 1.1979 - accuracy: 0.5711 - val_loss: 1.5242 - val_accuracy: 0.4744\n",
      "Epoch 48/100\n",
      "1407/1407 [==============================] - 21s 15ms/step - loss: 1.1874 - accuracy: 0.5750 - val_loss: 1.5706 - val_accuracy: 0.4612\n",
      "Epoch 49/100\n",
      "1407/1407 [==============================] - 21s 15ms/step - loss: 1.1794 - accuracy: 0.5776 - val_loss: 1.5750 - val_accuracy: 0.4634\n",
      "Epoch 50/100\n",
      "1407/1407 [==============================] - 20s 15ms/step - loss: 1.1771 - accuracy: 0.5793 - val_loss: 1.5295 - val_accuracy: 0.4694\n",
      "Epoch 51/100\n",
      "1407/1407 [==============================] - 25s 18ms/step - loss: 1.1684 - accuracy: 0.5812 - val_loss: 1.5418 - val_accuracy: 0.4732\n",
      "Epoch 52/100\n",
      "1407/1407 [==============================] - 20s 14ms/step - loss: 1.1572 - accuracy: 0.5833 - val_loss: 1.5915 - val_accuracy: 0.4708\n",
      "Epoch 53/100\n",
      "1407/1407 [==============================] - 18s 13ms/step - loss: 1.1538 - accuracy: 0.5863 - val_loss: 1.5568 - val_accuracy: 0.4762\n",
      "Epoch 54/100\n",
      "1407/1407 [==============================] - 18s 13ms/step - loss: 1.1461 - accuracy: 0.5889 - val_loss: 1.5598 - val_accuracy: 0.4734\n",
      "Epoch 55/100\n",
      "1407/1407 [==============================] - 18s 13ms/step - loss: 1.1406 - accuracy: 0.5903 - val_loss: 1.5572 - val_accuracy: 0.4696\n"
     ]
    }
   ],
   "source": [
    "history = model.fit(X_train, y_train, epochs=100, validation_data=(X_val, y_val),callbacks=[checkpoint_cb,es_cb])"
   ]
  },
  {
   "cell_type": "code",
   "execution_count": 72,
   "metadata": {},
   "outputs": [
    {
     "name": "stdout",
     "output_type": "stream",
     "text": [
      "313/313 [==============================] - 1s 3ms/step - loss: 1.4927 - accuracy: 0.4707\n"
     ]
    },
    {
     "data": {
      "text/plain": [
       "[1.492699384689331, 0.4706999957561493]"
      ]
     },
     "execution_count": 72,
     "metadata": {},
     "output_type": "execute_result"
    }
   ],
   "source": [
    "model.save('models/ch_11/ex_final_model_8b.h5')\n",
    "model.evaluate(X_test, y_test)"
   ]
  },
  {
   "cell_type": "code",
   "execution_count": 81,
   "metadata": {},
   "outputs": [],
   "source": [
    "def plot_curves(history):\n",
    "    pd.DataFrame(history.history).plot(figsize=(8, 5))\n",
    "    plt.grid(True)\n",
    "    plt.gca().set_ylim(0, 2) # set the vertical range to [0-1]\n",
    "    plt.show()"
   ]
  },
  {
   "cell_type": "code",
   "execution_count": 82,
   "metadata": {},
   "outputs": [
    {
     "data": {
      "image/png": "[encoded data removed]",
      "text/plain": [
       "<Figure size 576x360 with 1 Axes>"
      ]
     },
     "metadata": {
      "needs_background": "light"
     },
     "output_type": "display_data"
    }
   ],
   "source": [
    "plot_curves(history)"
   ]
  },
  {
   "cell_type": "markdown",
   "metadata": {},
   "source": [
    "c. Now try adding Batch Normalization and compare the learning curves: Is it converging faster than before? Does it produce a better model? How does it affect training speed?"
   ]
  },
  {
   "cell_type": "code",
   "execution_count": 83,
   "metadata": {},
   "outputs": [],
   "source": [
    "def add_layers_bn(model, n_neurons = 100, n_layers_hidden = 20, activation_func = \"elu\", init = \"he_normal\"):\n",
    "    for layer in range(0,n_layers_hidden):\n",
    "        model.add(keras.layers.Dense(n_neurons, kernel_initializer = init ))\n",
    "        model.add(keras.layers.BatchNormalization())\n",
    "        model.add(keras.layers.Activation(activation = activation_func))"
   ]
  },
  {
   "cell_type": "code",
   "execution_count": 84,
   "metadata": {},
   "outputs": [],
   "source": [
    "model = keras.models.Sequential()\n",
    "model.add(keras.layers.Flatten(input_shape = [32,32,3]))\n",
    "model.add(keras.layers.BatchNormalization())\n",
    "add_layers_bn(model,100,20,\"elu\",\"he_normal\")\n",
    "model.add(keras.layers.Dense(10, activation = \"softmax\"))"
   ]
  },
  {
   "cell_type": "code",
   "execution_count": 85,
   "metadata": {},
   "outputs": [],
   "source": [
    "lr = 5e-5\n",
    "opt = tf.keras.optimizers.Nadam(learning_rate=lr)\n",
    "checkpoint_cb = keras.callbacks.ModelCheckpoint(\"models/ch_11/ex_early_stopping_8c.h5\", save_best_only=True)\n",
    "es_cb = keras.callbacks.EarlyStopping(patience = 20, restore_best_weights = True)"
   ]
  },
  {
   "cell_type": "code",
   "execution_count": 86,
   "metadata": {},
   "outputs": [],
   "source": [
    "model.compile(loss=\"sparse_categorical_crossentropy\", optimizer= opt,metrics=[\"accuracy\"])"
   ]
  },
  {
   "cell_type": "code",
   "execution_count": 87,
   "metadata": {},
   "outputs": [
    {
     "name": "stdout",
     "output_type": "stream",
     "text": [
      "Epoch 1/100\n",
      "1407/1407 [==============================] - 49s 27ms/step - loss: 2.0734 - accuracy: 0.2588 - val_loss: 1.7889 - val_accuracy: 0.3548\n",
      "Epoch 2/100\n",
      "1407/1407 [==============================] - 40s 29ms/step - loss: 1.8048 - accuracy: 0.3522 - val_loss: 1.6772 - val_accuracy: 0.3922\n",
      "Epoch 3/100\n",
      "1407/1407 [==============================] - 36s 26ms/step - loss: 1.7121 - accuracy: 0.3873 - val_loss: 1.6002 - val_accuracy: 0.4282\n",
      "Epoch 4/100\n",
      "1407/1407 [==============================] - 52s 37ms/step - loss: 1.6480 - accuracy: 0.4095 - val_loss: 1.5591 - val_accuracy: 0.4416\n",
      "Epoch 5/100\n",
      "1407/1407 [==============================] - 43s 30ms/step - loss: 1.6064 - accuracy: 0.4265 - val_loss: 1.5271 - val_accuracy: 0.4492\n",
      "Epoch 6/100\n",
      "1407/1407 [==============================] - 41s 29ms/step - loss: 1.5632 - accuracy: 0.4430 - val_loss: 1.4965 - val_accuracy: 0.4636\n",
      "Epoch 7/100\n",
      "1407/1407 [==============================] - 43s 30ms/step - loss: 1.5279 - accuracy: 0.4542 - val_loss: 1.4638 - val_accuracy: 0.4760\n",
      "Epoch 8/100\n",
      "1407/1407 [==============================] - 38s 27ms/step - loss: 1.5079 - accuracy: 0.4620 - val_loss: 1.4577 - val_accuracy: 0.4800\n",
      "Epoch 9/100\n",
      "1407/1407 [==============================] - 40s 28ms/step - loss: 1.4847 - accuracy: 0.4698 - val_loss: 1.4327 - val_accuracy: 0.4904\n",
      "Epoch 10/100\n",
      "1407/1407 [==============================] - 41s 29ms/step - loss: 1.4538 - accuracy: 0.4823 - val_loss: 1.4367 - val_accuracy: 0.4848\n",
      "Epoch 11/100\n",
      "1407/1407 [==============================] - 38s 27ms/step - loss: 1.4311 - accuracy: 0.4889 - val_loss: 1.4173 - val_accuracy: 0.4966\n",
      "Epoch 12/100\n",
      "1407/1407 [==============================] - 38s 27ms/step - loss: 1.4174 - accuracy: 0.4944 - val_loss: 1.4123 - val_accuracy: 0.5012\n",
      "Epoch 13/100\n",
      "1407/1407 [==============================] - 38s 27ms/step - loss: 1.4013 - accuracy: 0.4991 - val_loss: 1.3893 - val_accuracy: 0.5054\n",
      "Epoch 14/100\n",
      "1407/1407 [==============================] - 39s 28ms/step - loss: 1.3889 - accuracy: 0.5058 - val_loss: 1.3938 - val_accuracy: 0.5032\n",
      "Epoch 15/100\n",
      "1407/1407 [==============================] - 38s 27ms/step - loss: 1.3683 - accuracy: 0.5122 - val_loss: 1.3736 - val_accuracy: 0.5196\n",
      "Epoch 16/100\n",
      "1407/1407 [==============================] - 39s 28ms/step - loss: 1.3548 - accuracy: 0.5190 - val_loss: 1.3862 - val_accuracy: 0.5160\n",
      "Epoch 17/100\n",
      "1407/1407 [==============================] - 41s 29ms/step - loss: 1.3433 - accuracy: 0.5243 - val_loss: 1.3913 - val_accuracy: 0.5074\n",
      "Epoch 18/100\n",
      "1407/1407 [==============================] - 41s 29ms/step - loss: 1.3320 - accuracy: 0.5246 - val_loss: 1.3834 - val_accuracy: 0.5064\n",
      "Epoch 19/100\n",
      "1407/1407 [==============================] - 38s 27ms/step - loss: 1.3162 - accuracy: 0.5304 - val_loss: 1.3885 - val_accuracy: 0.5092\n",
      "Epoch 20/100\n",
      "1407/1407 [==============================] - 37s 27ms/step - loss: 1.3072 - accuracy: 0.5339 - val_loss: 1.3713 - val_accuracy: 0.5118\n",
      "Epoch 21/100\n",
      "1407/1407 [==============================] - 39s 28ms/step - loss: 1.2983 - accuracy: 0.5368 - val_loss: 1.3771 - val_accuracy: 0.5130\n",
      "Epoch 22/100\n",
      "1407/1407 [==============================] - 39s 27ms/step - loss: 1.2830 - accuracy: 0.5423 - val_loss: 1.3727 - val_accuracy: 0.5184\n",
      "Epoch 23/100\n",
      "1407/1407 [==============================] - 39s 28ms/step - loss: 1.2758 - accuracy: 0.5447 - val_loss: 1.3721 - val_accuracy: 0.5156\n",
      "Epoch 24/100\n",
      "1407/1407 [==============================] - 40s 28ms/step - loss: 1.2679 - accuracy: 0.5474 - val_loss: 1.3652 - val_accuracy: 0.5194\n",
      "Epoch 25/100\n",
      "1407/1407 [==============================] - 50s 35ms/step - loss: 1.2576 - accuracy: 0.5511 - val_loss: 1.3707 - val_accuracy: 0.5164\n",
      "Epoch 26/100\n",
      "1407/1407 [==============================] - 57s 41ms/step - loss: 1.2452 - accuracy: 0.5572 - val_loss: 1.3726 - val_accuracy: 0.5206\n",
      "Epoch 27/100\n",
      "1407/1407 [==============================] - 48s 34ms/step - loss: 1.2366 - accuracy: 0.5590 - val_loss: 1.3688 - val_accuracy: 0.5268\n",
      "Epoch 28/100\n",
      "1407/1407 [==============================] - 59s 42ms/step - loss: 1.2263 - accuracy: 0.5638 - val_loss: 1.3669 - val_accuracy: 0.5192\n",
      "Epoch 29/100\n",
      "1407/1407 [==============================] - 66s 47ms/step - loss: 1.2171 - accuracy: 0.5647 - val_loss: 1.3821 - val_accuracy: 0.5214\n",
      "Epoch 30/100\n",
      "1407/1407 [==============================] - 46s 33ms/step - loss: 1.2139 - accuracy: 0.5675 - val_loss: 1.3746 - val_accuracy: 0.5166\n",
      "Epoch 31/100\n",
      "1407/1407 [==============================] - 42s 30ms/step - loss: 1.2054 - accuracy: 0.5706 - val_loss: 1.3783 - val_accuracy: 0.5228\n",
      "Epoch 32/100\n",
      "1407/1407 [==============================] - 41s 29ms/step - loss: 1.1913 - accuracy: 0.5736 - val_loss: 1.3750 - val_accuracy: 0.5242\n",
      "Epoch 33/100\n",
      "1407/1407 [==============================] - 41s 29ms/step - loss: 1.1869 - accuracy: 0.5791 - val_loss: 1.3759 - val_accuracy: 0.5194\n",
      "Epoch 34/100\n",
      "1407/1407 [==============================] - 26s 19ms/step - loss: 1.1854 - accuracy: 0.5761 - val_loss: 1.3664 - val_accuracy: 0.5228\n",
      "Epoch 35/100\n",
      "1407/1407 [==============================] - 26s 18ms/step - loss: 1.1764 - accuracy: 0.5809 - val_loss: 1.3942 - val_accuracy: 0.5206\n",
      "Epoch 36/100\n",
      "1407/1407 [==============================] - 25s 18ms/step - loss: 1.1598 - accuracy: 0.5895 - val_loss: 1.3714 - val_accuracy: 0.5262\n",
      "Epoch 37/100\n",
      "1407/1407 [==============================] - 26s 18ms/step - loss: 1.1541 - accuracy: 0.5878 - val_loss: 1.3802 - val_accuracy: 0.5248\n",
      "Epoch 38/100\n",
      "1407/1407 [==============================] - 26s 18ms/step - loss: 1.1514 - accuracy: 0.5894 - val_loss: 1.3768 - val_accuracy: 0.5258\n",
      "Epoch 39/100\n",
      "1407/1407 [==============================] - 25s 18ms/step - loss: 1.1460 - accuracy: 0.5915 - val_loss: 1.3748 - val_accuracy: 0.5226\n",
      "Epoch 40/100\n",
      "1407/1407 [==============================] - 26s 18ms/step - loss: 1.1356 - accuracy: 0.5952 - val_loss: 1.3791 - val_accuracy: 0.5236\n",
      "Epoch 41/100\n",
      "1407/1407 [==============================] - 26s 18ms/step - loss: 1.1313 - accuracy: 0.5992 - val_loss: 1.3696 - val_accuracy: 0.5298\n",
      "Epoch 42/100\n",
      "1407/1407 [==============================] - 49s 35ms/step - loss: 1.1193 - accuracy: 0.6025 - val_loss: 1.3889 - val_accuracy: 0.5194\n",
      "Epoch 43/100\n",
      "1407/1407 [==============================] - 40s 28ms/step - loss: 1.1170 - accuracy: 0.6022 - val_loss: 1.3699 - val_accuracy: 0.5318\n",
      "Epoch 44/100\n",
      "1407/1407 [==============================] - 26s 18ms/step - loss: 1.1088 - accuracy: 0.6051 - val_loss: 1.3893 - val_accuracy: 0.5226\n"
     ]
    }
   ],
   "source": [
    "history = model.fit(X_train, y_train, epochs=100, validation_data=(X_val, y_val),callbacks=[checkpoint_cb,es_cb])"
   ]
  },
  {
   "cell_type": "code",
   "execution_count": 88,
   "metadata": {},
   "outputs": [
    {
     "name": "stdout",
     "output_type": "stream",
     "text": [
      "313/313 [==============================] - 1s 3ms/step - loss: 1.3653 - accuracy: 0.5157\n"
     ]
    },
    {
     "data": {
      "text/plain": [
       "[1.365283489227295, 0.5156999826431274]"
      ]
     },
     "execution_count": 88,
     "metadata": {},
     "output_type": "execute_result"
    }
   ],
   "source": [
    "model.save('models/ch_11/ex_final_model_8c.h5')\n",
    "model.evaluate(X_test, y_test)"
   ]
  },
  {
   "cell_type": "code",
   "execution_count": 89,
   "metadata": {},
   "outputs": [
    {
     "data": {
      "image/png": "[encoded data removed]",
      "text/plain": [
       "<Figure size 576x360 with 1 Axes>"
      ]
     },
     "metadata": {
      "needs_background": "light"
     },
     "output_type": "display_data"
    }
   ],
   "source": [
    "plot_curves(history)"
   ]
  },
  {
   "cell_type": "markdown",
   "metadata": {},
   "source": [
    "- is it converging faster than before? yes, it can be seen from the loss curve\n",
    "- Does it produce a better model?  yes, the accuracy on test set increased from 47% to 51%\n",
    "- How does it affect training speed? it's almost similar or slight higer, earlier each epoch took 30-31ms, now it took 30-35ms"
   ]
  },
  {
   "cell_type": "markdown",
   "metadata": {},
   "source": [
    "d. Try replacing Batch Normalization with SELU, and make the necessary adjustements to ensure the network selfnormalizes (i.e., standardize the input features, use LeCun normal initialization, make sure the DNN contains only a sequence of dense layers, etc.)."
   ]
  },
  {
   "cell_type": "code",
   "execution_count": 90,
   "metadata": {},
   "outputs": [],
   "source": [
    "model = keras.models.Sequential()\n",
    "model.add(keras.layers.Flatten(input_shape = [32,32,3]))\n",
    "add_layers(model,100,20,\"selu\",\"lecun_normal\")\n",
    "model.add(keras.layers.Dense(10, activation = \"softmax\"))"
   ]
  },
  {
   "cell_type": "code",
   "execution_count": 91,
   "metadata": {},
   "outputs": [],
   "source": [
    "lr = 5e-5\n",
    "opt = tf.keras.optimizers.Nadam(learning_rate=lr)\n",
    "checkpoint_cb = keras.callbacks.ModelCheckpoint(\"models/ch_11/ex_early_stopping_8d.h5\", save_best_only=True)\n",
    "es_cb = keras.callbacks.EarlyStopping(patience = 20, restore_best_weights = True)"
   ]
  },
  {
   "cell_type": "code",
   "execution_count": 92,
   "metadata": {},
   "outputs": [],
   "source": [
    "model.compile(loss=\"sparse_categorical_crossentropy\", optimizer= opt,metrics=[\"accuracy\"])"
   ]
  },
  {
   "cell_type": "code",
   "execution_count": 94,
   "metadata": {},
   "outputs": [],
   "source": [
    "X_train_scaled = (X_train - X_train.mean(axis=0)) / X_train.std(axis=0)\n",
    "X_val_scaled = (X_val - X_val.mean(axis=0)) / X_val.std(axis=0)\n",
    "X_test_scaled =  (X_test - X_test.mean(axis=0)) / X_test.std(axis=0)"
   ]
  },
  {
   "cell_type": "code",
   "execution_count": 95,
   "metadata": {},
   "outputs": [
    {
     "name": "stdout",
     "output_type": "stream",
     "text": [
      "Epoch 1/100\n",
      "1407/1407 [==============================] - 43s 20ms/step - loss: 1.8795 - accuracy: 0.3337 - val_loss: 1.7030 - val_accuracy: 0.3856\n",
      "Epoch 2/100\n",
      "1407/1407 [==============================] - 27s 19ms/step - loss: 1.6503 - accuracy: 0.4127 - val_loss: 1.6309 - val_accuracy: 0.4128\n",
      "Epoch 3/100\n",
      "1407/1407 [==============================] - 20s 15ms/step - loss: 1.5457 - accuracy: 0.4494 - val_loss: 1.5639 - val_accuracy: 0.4412\n",
      "Epoch 4/100\n",
      "1407/1407 [==============================] - 22s 16ms/step - loss: 1.4721 - accuracy: 0.4768 - val_loss: 1.5452 - val_accuracy: 0.4600\n",
      "Epoch 5/100\n",
      "1407/1407 [==============================] - 19s 14ms/step - loss: 1.4117 - accuracy: 0.4990 - val_loss: 1.5427 - val_accuracy: 0.4582\n",
      "Epoch 6/100\n",
      "1407/1407 [==============================] - 19s 14ms/step - loss: 1.3593 - accuracy: 0.5166 - val_loss: 1.4933 - val_accuracy: 0.4744\n",
      "Epoch 7/100\n",
      "1407/1407 [==============================] - 19s 14ms/step - loss: 1.3105 - accuracy: 0.5334 - val_loss: 1.4922 - val_accuracy: 0.4816\n",
      "Epoch 8/100\n",
      "1407/1407 [==============================] - 20s 14ms/step - loss: 1.2704 - accuracy: 0.5484 - val_loss: 1.4906 - val_accuracy: 0.4776\n",
      "Epoch 9/100\n",
      "1407/1407 [==============================] - 20s 14ms/step - loss: 1.2291 - accuracy: 0.5634 - val_loss: 1.4868 - val_accuracy: 0.4814\n",
      "Epoch 10/100\n",
      "1407/1407 [==============================] - 21s 15ms/step - loss: 1.1942 - accuracy: 0.5766 - val_loss: 1.4862 - val_accuracy: 0.4890\n",
      "Epoch 11/100\n",
      "1407/1407 [==============================] - 19s 14ms/step - loss: 1.1567 - accuracy: 0.5884 - val_loss: 1.4843 - val_accuracy: 0.4874\n",
      "Epoch 12/100\n",
      "1407/1407 [==============================] - 19s 14ms/step - loss: 1.1267 - accuracy: 0.6006 - val_loss: 1.4852 - val_accuracy: 0.4938\n",
      "Epoch 13/100\n",
      "1407/1407 [==============================] - 19s 14ms/step - loss: 1.0929 - accuracy: 0.6110 - val_loss: 1.5134 - val_accuracy: 0.4862\n",
      "Epoch 14/100\n",
      "1407/1407 [==============================] - 19s 14ms/step - loss: 1.0620 - accuracy: 0.6248 - val_loss: 1.5029 - val_accuracy: 0.4966\n",
      "Epoch 15/100\n",
      "1407/1407 [==============================] - 19s 14ms/step - loss: 1.0306 - accuracy: 0.6358 - val_loss: 1.5364 - val_accuracy: 0.4916\n",
      "Epoch 16/100\n",
      "1407/1407 [==============================] - 19s 14ms/step - loss: 1.0022 - accuracy: 0.6460 - val_loss: 1.5424 - val_accuracy: 0.4886\n",
      "Epoch 17/100\n",
      "1407/1407 [==============================] - 19s 14ms/step - loss: 0.9703 - accuracy: 0.6578 - val_loss: 1.5475 - val_accuracy: 0.4842\n",
      "Epoch 18/100\n",
      "1407/1407 [==============================] - 20s 14ms/step - loss: 0.9473 - accuracy: 0.6654 - val_loss: 1.5658 - val_accuracy: 0.4860\n",
      "Epoch 19/100\n",
      "1407/1407 [==============================] - 19s 14ms/step - loss: 0.9172 - accuracy: 0.6749 - val_loss: 1.5973 - val_accuracy: 0.4880\n",
      "Epoch 20/100\n",
      "1407/1407 [==============================] - 20s 14ms/step - loss: 0.8913 - accuracy: 0.6855 - val_loss: 1.5997 - val_accuracy: 0.4912\n",
      "Epoch 21/100\n",
      "1407/1407 [==============================] - 20s 14ms/step - loss: 0.8663 - accuracy: 0.6966 - val_loss: 1.6550 - val_accuracy: 0.4830\n",
      "Epoch 22/100\n",
      "1407/1407 [==============================] - 19s 13ms/step - loss: 0.8397 - accuracy: 0.7034 - val_loss: 1.6640 - val_accuracy: 0.4778\n",
      "Epoch 23/100\n",
      "1407/1407 [==============================] - 19s 14ms/step - loss: 0.8161 - accuracy: 0.7125 - val_loss: 1.6819 - val_accuracy: 0.4878\n",
      "Epoch 24/100\n",
      "1407/1407 [==============================] - 19s 14ms/step - loss: 0.7888 - accuracy: 0.7220 - val_loss: 1.7087 - val_accuracy: 0.4830\n",
      "Epoch 25/100\n",
      "1407/1407 [==============================] - 19s 14ms/step - loss: 0.7663 - accuracy: 0.7309 - val_loss: 1.7581 - val_accuracy: 0.4808\n",
      "Epoch 26/100\n",
      "1407/1407 [==============================] - 19s 14ms/step - loss: 0.7423 - accuracy: 0.7395 - val_loss: 1.7792 - val_accuracy: 0.4816\n",
      "Epoch 27/100\n",
      "1407/1407 [==============================] - 20s 14ms/step - loss: 0.7169 - accuracy: 0.7508 - val_loss: 1.8009 - val_accuracy: 0.4744\n",
      "Epoch 28/100\n",
      "1407/1407 [==============================] - 20s 14ms/step - loss: 0.6996 - accuracy: 0.7559 - val_loss: 1.8363 - val_accuracy: 0.4880\n",
      "Epoch 29/100\n",
      "1407/1407 [==============================] - 21s 15ms/step - loss: 0.6759 - accuracy: 0.7633 - val_loss: 1.8611 - val_accuracy: 0.4772\n",
      "Epoch 30/100\n",
      "1407/1407 [==============================] - 22s 16ms/step - loss: 0.6568 - accuracy: 0.7701 - val_loss: 1.8816 - val_accuracy: 0.4816\n",
      "Epoch 31/100\n",
      "1407/1407 [==============================] - 20s 14ms/step - loss: 0.6348 - accuracy: 0.7800 - val_loss: 1.9246 - val_accuracy: 0.4776\n"
     ]
    }
   ],
   "source": [
    "history = model.fit(X_train_scaled, y_train, epochs=100, validation_data=(X_val_scaled, y_val),callbacks=[checkpoint_cb,es_cb])"
   ]
  },
  {
   "cell_type": "code",
   "execution_count": 104,
   "metadata": {},
   "outputs": [
    {
     "name": "stdout",
     "output_type": "stream",
     "text": [
      "313/313 [==============================] - 2s 4ms/step - loss: 3.4557 - accuracy: 0.1000\n"
     ]
    },
    {
     "data": {
      "text/plain": [
       "[3.455657720565796, 0.10000000149011612]"
      ]
     },
     "execution_count": 104,
     "metadata": {},
     "output_type": "execute_result"
    }
   ],
   "source": [
    "model.save('models/ch_11/ex_final_model_8d.h5')\n",
    "model.evaluate(X_test_scaled, y_test)"
   ]
  },
  {
   "cell_type": "markdown",
   "metadata": {},
   "source": [
    "The model has overfitted the training data"
   ]
  },
  {
   "cell_type": "markdown",
   "metadata": {},
   "source": [
    "e. Try regularizing the model with alpha dropout. Then, without retraining your model, see if you can achieve better accuracy using MC Dropout.\n",
    "\n",
    "f. Retrain your model using 1cycle scheduling and see if it improves training speed and model accuracy."
   ]
  },
  {
   "cell_type": "code",
   "execution_count": 115,
   "metadata": {},
   "outputs": [],
   "source": [
    "def add_layers_drp(model, n_neurons = 100, n_layers_hidden = 20, activation_func = \"elu\", init = \"he_normal\",drp_rate = 0.2):\n",
    "    for layer in range(0,n_layers_hidden):\n",
    "        model.add(keras.layers.Dense(n_neurons, activation = activation_func, kernel_initializer = init ))\n",
    "        model.add(keras.layers.AlphaDropout(rate = drp_rate))"
   ]
  },
  {
   "cell_type": "code",
   "execution_count": 116,
   "metadata": {},
   "outputs": [],
   "source": [
    "model = keras.models.Sequential()\n",
    "model.add(keras.layers.Flatten(input_shape = [32,32,3]))\n",
    "add_layers_drp(model,100,20,\"selu\",\"lecun_normal\",0.1)\n",
    "model.add(keras.layers.Dense(10, activation = \"softmax\"))"
   ]
  },
  {
   "cell_type": "code",
   "execution_count": 117,
   "metadata": {},
   "outputs": [],
   "source": [
    "lr = 5e-5\n",
    "opt = tf.keras.optimizers.Nadam(learning_rate=lr)\n",
    "checkpoint_cb = keras.callbacks.ModelCheckpoint(\"models/ch_11/ex_early_stopping_8e.h5\", save_best_only=True)\n",
    "es_cb = keras.callbacks.EarlyStopping(patience = 20, restore_best_weights = True)"
   ]
  },
  {
   "cell_type": "code",
   "execution_count": 118,
   "metadata": {},
   "outputs": [],
   "source": [
    "model.compile(loss=\"sparse_categorical_crossentropy\", optimizer= opt,metrics=[\"accuracy\"])"
   ]
  },
  {
   "cell_type": "code",
   "execution_count": 119,
   "metadata": {},
   "outputs": [
    {
     "name": "stdout",
     "output_type": "stream",
     "text": [
      "Epoch 1/100\n",
      "1407/1407 [==============================] - 66s 18ms/step - loss: 2.6676 - accuracy: 0.1338 - val_loss: 2.5165 - val_accuracy: 0.2288\n",
      "Epoch 2/100\n",
      "1407/1407 [==============================] - 27s 19ms/step - loss: 2.3544 - accuracy: 0.1695 - val_loss: 2.3342 - val_accuracy: 0.2444\n",
      "Epoch 3/100\n",
      "1407/1407 [==============================] - 24s 17ms/step - loss: 2.2043 - accuracy: 0.2020 - val_loss: 2.2429 - val_accuracy: 0.2444\n",
      "Epoch 4/100\n",
      "1407/1407 [==============================] - 27s 19ms/step - loss: 2.1084 - accuracy: 0.2176 - val_loss: 2.2771 - val_accuracy: 0.2382\n",
      "Epoch 5/100\n",
      "1407/1407 [==============================] - 26s 18ms/step - loss: 2.0490 - accuracy: 0.2273 - val_loss: 2.2396 - val_accuracy: 0.2514\n",
      "Epoch 6/100\n",
      "1407/1407 [==============================] - 26s 19ms/step - loss: 2.0150 - accuracy: 0.2302 - val_loss: 2.2478 - val_accuracy: 0.2634\n",
      "Epoch 7/100\n",
      "1407/1407 [==============================] - 25s 17ms/step - loss: 1.9764 - accuracy: 0.2398 - val_loss: 2.4080 - val_accuracy: 0.2558\n",
      "Epoch 8/100\n",
      "1407/1407 [==============================] - 25s 18ms/step - loss: 1.9542 - accuracy: 0.2457 - val_loss: 2.3326 - val_accuracy: 0.2726\n",
      "Epoch 9/100\n",
      "1407/1407 [==============================] - 27s 19ms/step - loss: 1.9426 - accuracy: 0.2498 - val_loss: 2.4762 - val_accuracy: 0.2570\n",
      "Epoch 10/100\n",
      "1407/1407 [==============================] - 24s 17ms/step - loss: 1.9225 - accuracy: 0.2548 - val_loss: 2.5563 - val_accuracy: 0.2670\n",
      "Epoch 11/100\n",
      "1407/1407 [==============================] - 26s 18ms/step - loss: 1.9049 - accuracy: 0.2613 - val_loss: 2.8847 - val_accuracy: 0.2678\n",
      "Epoch 12/100\n",
      "1407/1407 [==============================] - 27s 19ms/step - loss: 1.8939 - accuracy: 0.2654 - val_loss: 2.9771 - val_accuracy: 0.2640\n",
      "Epoch 13/100\n",
      "1407/1407 [==============================] - 38s 27ms/step - loss: 1.8815 - accuracy: 0.2682 - val_loss: 3.2400 - val_accuracy: 0.2726\n",
      "Epoch 14/100\n",
      "1407/1407 [==============================] - 30s 21ms/step - loss: 1.8727 - accuracy: 0.2723 - val_loss: 3.6268 - val_accuracy: 0.2776\n",
      "Epoch 15/100\n",
      "1407/1407 [==============================] - 26s 19ms/step - loss: 1.8548 - accuracy: 0.2786 - val_loss: 3.3650 - val_accuracy: 0.2814\n",
      "Epoch 16/100\n",
      "1407/1407 [==============================] - 25s 18ms/step - loss: 1.8469 - accuracy: 0.2822 - val_loss: 3.7327 - val_accuracy: 0.2950\n",
      "Epoch 17/100\n",
      "1407/1407 [==============================] - 24s 17ms/step - loss: 1.8317 - accuracy: 0.2884 - val_loss: 4.2800 - val_accuracy: 0.2892\n",
      "Epoch 18/100\n",
      "1407/1407 [==============================] - 25s 18ms/step - loss: 1.8216 - accuracy: 0.2954 - val_loss: 4.1431 - val_accuracy: 0.2940\n",
      "Epoch 19/100\n",
      "1407/1407 [==============================] - 30s 21ms/step - loss: 1.8073 - accuracy: 0.3034 - val_loss: 4.4524 - val_accuracy: 0.3040\n",
      "Epoch 20/100\n",
      "1407/1407 [==============================] - 24s 17ms/step - loss: 1.7965 - accuracy: 0.3126 - val_loss: 4.2577 - val_accuracy: 0.3146\n",
      "Epoch 21/100\n",
      "1407/1407 [==============================] - 24s 17ms/step - loss: 1.7812 - accuracy: 0.3183 - val_loss: 4.7140 - val_accuracy: 0.3254\n",
      "Epoch 22/100\n",
      "1407/1407 [==============================] - 24s 17ms/step - loss: 1.7631 - accuracy: 0.3237 - val_loss: 4.3646 - val_accuracy: 0.3308\n",
      "Epoch 23/100\n",
      "1407/1407 [==============================] - 24s 17ms/step - loss: 1.7542 - accuracy: 0.3364 - val_loss: 4.4136 - val_accuracy: 0.3350\n",
      "Epoch 24/100\n",
      "1407/1407 [==============================] - 29s 20ms/step - loss: 1.7426 - accuracy: 0.3411 - val_loss: 4.1371 - val_accuracy: 0.3414\n",
      "Epoch 25/100\n",
      "1407/1407 [==============================] - 21s 15ms/step - loss: 1.7280 - accuracy: 0.3479 - val_loss: 4.8173 - val_accuracy: 0.3414\n"
     ]
    }
   ],
   "source": [
    "history = model.fit(X_train_scaled, y_train, epochs=100, validation_data=(X_val_scaled, y_val),callbacks=[checkpoint_cb,es_cb])"
   ]
  },
  {
   "cell_type": "code",
   "execution_count": 120,
   "metadata": {},
   "outputs": [
    {
     "data": {
      "image/png": "[encoded data removed]",
      "text/plain": [
       "<Figure size 576x360 with 1 Axes>"
      ]
     },
     "metadata": {
      "needs_background": "light"
     },
     "output_type": "display_data"
    }
   ],
   "source": [
    "plot_curves(history)"
   ]
  },
  {
   "cell_type": "code",
   "execution_count": 121,
   "metadata": {},
   "outputs": [
    {
     "name": "stdout",
     "output_type": "stream",
     "text": [
      "313/313 [==============================] - 1s 3ms/step - loss: 2.2358 - accuracy: 0.2532\n"
     ]
    },
    {
     "data": {
      "text/plain": [
       "[2.2357561588287354, 0.2531999945640564]"
      ]
     },
     "execution_count": 121,
     "metadata": {},
     "output_type": "execute_result"
    }
   ],
   "source": [
    "model.save('models/ch_11/ex_final_model_8e.h5')\n",
    "model.evaluate(X_test_scaled, y_test)"
   ]
  },
  {
   "cell_type": "code",
   "execution_count": 122,
   "metadata": {},
   "outputs": [
    {
     "name": "stdout",
     "output_type": "stream",
     "text": [
      "1407/1407 [==============================] - 4s 3ms/step - loss: 2.2271 - accuracy: 0.2517\n"
     ]
    },
    {
     "data": {
      "text/plain": [
       "[2.227123260498047, 0.2516666650772095]"
      ]
     },
     "execution_count": 122,
     "metadata": {},
     "output_type": "execute_result"
    }
   ],
   "source": [
    "model.evaluate(X_train_scaled, y_train)"
   ]
  },
  {
   "cell_type": "code",
   "execution_count": 125,
   "metadata": {},
   "outputs": [],
   "source": [
    "y_probas = np.stack([model(X_test_scaled, training=True) for sample in range(100)])\n",
    "y_proba = y_probas.mean(axis=0)"
   ]
  },
  {
   "cell_type": "code",
   "execution_count": 126,
   "metadata": {},
   "outputs": [
    {
     "name": "stdout",
     "output_type": "stream",
     "text": [
      "1000.0\n"
     ]
    }
   ],
   "source": [
    "y_pred = np.argmax(y_proba, axis=1) \n",
    "accuracy = np.sum(y_pred == y_test) / len(y_test)\n",
    "print(accuracy) ##increased from 86.2 to 86.5 using mc"
   ]
  },
  {
   "cell_type": "code",
   "execution_count": null,
   "metadata": {},
   "outputs": [],
   "source": [
    "##TO review the cause of overfitting and add - One cycle"
   ]
  }
 ],
 "metadata": {
  "kernelspec": {
   "display_name": "hands-on-ml-book",
   "language": "python",
   "name": "hands-on-ml-book"
  },
  "language_info": {
   "codemirror_mode": {
    "name": "ipython",
    "version": 3
   },
   "file_extension": ".py",
   "mimetype": "text/x-python",
   "name": "python",
   "nbconvert_exporter": "python",
   "pygments_lexer": "ipython3",
   "version": "3.8.11"
  }
 },
 "nbformat": 4,
 "nbformat_minor": 4
}
