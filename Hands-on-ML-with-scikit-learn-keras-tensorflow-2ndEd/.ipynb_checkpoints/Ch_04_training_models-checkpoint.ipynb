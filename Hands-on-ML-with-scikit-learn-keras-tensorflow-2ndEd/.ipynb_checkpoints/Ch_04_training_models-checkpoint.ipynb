{
 "cells": [
  {
   "cell_type": "markdown",
   "metadata": {},
   "source": [
    "## Training Models\n",
    "\n",
    "Looking at 2 ways of training linear regression model\n",
    "- Using direct closed form equation, that directly computes the model parameters that best fit the model to the training set\n",
    "- using iterative optimaztion approach called GD that gradually tweaks the model parameters to minimize the cost function over the trainng set. Variants of the GD:\n",
    "    - batch GD\n",
    "    - mini batch GD \n",
    "    - Stochastic GD\n",
    "\n",
    "After this, we look at the polynomial regression (more complex model that can fit non linear datasets). This model has more parameters than a linear regression, it is more prone to overfitting the training data. \n",
    "\n",
    "#### Linear Regression \n",
    "\n",
    "In Chapter 1, we saw the equation for the simple regression model of the life satisfaction:\n",
    "\n",
    "\\begin{equation*} life\\_satisfaction = θ_{0} + θ_1 * GDP\\_per\\_capita\\end{equation*}\n",
    "\n",
    "Here, GDP_per_capita is input variable, θ_0 and θ_1 are model's parameters.  θ_0 is a constant term called bias. \n",
    "\n",
    "\\begin{equation*} y^ˆ = θ_{0} + θ_1x_1 + θ_2x_2 + .... +  θ_nx_n \\end{equation*}\n",
    "\n",
    "Here, \n",
    "- y^ is the predicted value\n",
    "- n is the number of features\n",
    "- xi is the ith feature value\n",
    "- θj is the jth model parameter\n",
    "\n",
    "Vectorized form of the above equation,\n",
    "\n",
    "\\begin{equation*} y^ˆ = h_{θ}(x) = θ.x \\end{equation*}\n",
    "\n",
    "Here, \n",
    "- θ is the model's parameter vector (incl. θ0)\n",
    "- x is feature vector\n",
    "- θ.x is the dot product of the vector θ and c\n",
    "- hθ is the hypothesis function\n",
    "\n",
    "To check the accuracy we check the deviation of the y^ with the y_actual using mean square error and root mean square error. \n",
    "\n",
    "\n",
    "##### The normal equation  \n",
    "\n",
    "To find the value of θ that minimizes the cost function, there is a _closed-form solution_ —in other words, a mathematical equation that gives the result\n",
    "directly. This is called the _Normal Equation_\n",
    "\n",
    " \\begin{equation*} θ^ˆ = (X ^{⊺}X)^{-1}X ^{⊺}y  \\end{equation*} \n",
    "\n",
    "- θˆ is the value of θ that minimizes the cost function\n",
    "- y is the vector of target values "
   ]
  },
  {
   "cell_type": "code",
   "execution_count": 14,
   "metadata": {},
   "outputs": [],
   "source": [
    "import numpy as np\n",
    "\n",
    "X = 2 * np.random.rand(100, 1)\n",
    "y = 4 + 3 * X + np.random.randn(100, 1)"
   ]
  },
  {
   "cell_type": "code",
   "execution_count": 15,
   "metadata": {},
   "outputs": [
    {
     "data": {
      "text/plain": [
       "(0.0, 2.0, 0.0, 15.0)"
      ]
     },
     "execution_count": 15,
     "metadata": {},
     "output_type": "execute_result"
    },
    {
     "data": {
      "image/png": "[encoded data removed]",
      "text/plain": [
       "<Figure size 432x288 with 1 Axes>"
      ]
     },
     "metadata": {
      "needs_background": "light"
     },
     "output_type": "display_data"
    }
   ],
   "source": [
    "import matplotlib.pyplot as plt\n",
    "\n",
    "plt.plot(X,y,\"b.\")\n",
    "plt.axis([0,2,0,15])"
   ]
  },
  {
   "cell_type": "markdown",
   "metadata": {},
   "source": [
    "Computing θ^ˆ using normal equation. Using ```inv()``` from numpy linear algebra module (```np.linalg```) to compute the inverse of the matrix and the ```dot()``` to compute the matrix multiplication. "
   ]
  },
  {
   "cell_type": "code",
   "execution_count": 16,
   "metadata": {},
   "outputs": [
    {
     "name": "stdout",
     "output_type": "stream",
     "text": [
      "[[4.15764224]\n",
      " [2.99353337]]\n"
     ]
    }
   ],
   "source": [
    "X_b = np.c_[np.ones((100, 1)), X] # add x0 = 1 to each instance\n",
    "theta_best = np.linalg.inv(X_b.T.dot(X_b)).dot(X_b.T).dot(y)\n",
    "print(theta_best) "
   ]
  },
  {
   "cell_type": "markdown",
   "metadata": {},
   "source": [
    "This function predicted y = 4 + 3x_1 + gaussian noise. The actual values expected were (4,3) for (θ0,θ1). The deivation occurs due to the noise. We can make predictions using the values we got for θ^"
   ]
  },
  {
   "cell_type": "code",
   "execution_count": 17,
   "metadata": {},
   "outputs": [
    {
     "data": {
      "text/plain": [
       "array([[ 4.15764224],\n",
       "       [10.14470898]])"
      ]
     },
     "execution_count": 17,
     "metadata": {},
     "output_type": "execute_result"
    }
   ],
   "source": [
    "## Predicting \n",
    "X_new = np.array([[0],[2]])\n",
    "X_new_b = np.c_[np.ones((2,1)),X_new]\n",
    "y_predict = X_new_b.dot(theta_best)\n",
    "y_predict"
   ]
  },
  {
   "cell_type": "code",
   "execution_count": 18,
   "metadata": {},
   "outputs": [
    {
     "data": {
      "text/plain": [
       "(0.0, 2.0, 0.0, 15.0)"
      ]
     },
     "execution_count": 18,
     "metadata": {},
     "output_type": "execute_result"
    },
    {
     "data": {
      "image/png": "[encoded data removed]",
      "text/plain": [
       "<Figure size 432x288 with 1 Axes>"
      ]
     },
     "metadata": {
      "needs_background": "light"
     },
     "output_type": "display_data"
    }
   ],
   "source": [
    "## Ploting the model predictions\n",
    "plt.plot(X_new,y_predict,\"r-\")\n",
    "plt.plot(X,y,\"b.\")\n",
    "plt.axis([0,2,0,15])"
   ]
  },
  {
   "cell_type": "code",
   "execution_count": 19,
   "metadata": {},
   "outputs": [
    {
     "name": "stdout",
     "output_type": "stream",
     "text": [
      "[4.15764224]\n",
      "[[2.99353337]]\n",
      "[[ 4.15764224]\n",
      " [10.14470898]]\n"
     ]
    }
   ],
   "source": [
    "## Method 2 using scikit lern\n",
    "from sklearn.linear_model import LinearRegression\n",
    "\n",
    "lin_reg = LinearRegression()\n",
    "lin_reg.fit(X,y)\n",
    "print(lin_reg.intercept_)\n",
    "print(lin_reg.coef_)\n",
    "print(lin_reg.predict(X_new))"
   ]
  },
  {
   "cell_type": "markdown",
   "metadata": {},
   "source": [
    "The LinearRegression class is based on the ```scipy.linalg.lstsq()```\n",
    "function (the name stands for “least squares”), which we can call directly"
   ]
  },
  {
   "cell_type": "code",
   "execution_count": 20,
   "metadata": {},
   "outputs": [
    {
     "name": "stdout",
     "output_type": "stream",
     "text": [
      "[[4.15764224]\n",
      " [2.99353337]]\n"
     ]
    }
   ],
   "source": [
    "theta_best_svd, residuals, rank, s = np.linalg.lstsq(X_b, y, rcond=1e-6)\n",
    "print(theta_best_svd)"
   ]
  },
  {
   "cell_type": "markdown",
   "metadata": {},
   "source": [
    "This function computes ```ˆθ = X+y```, where X+ is the pseudoinverse of X\n",
    "(specifically, the [Moore-Penrose inverse](https://en.wikipedia.org/wiki/Moore%E2%80%93Penrose_inverse)). can use ```np.linalg.pinv()``` to compute the pseudoinverse directly:"
   ]
  },
  {
   "cell_type": "code",
   "execution_count": 21,
   "metadata": {},
   "outputs": [
    {
     "data": {
      "text/plain": [
       "array([[4.15764224],\n",
       "       [2.99353337]])"
      ]
     },
     "execution_count": 21,
     "metadata": {},
     "output_type": "execute_result"
    }
   ],
   "source": [
    "np.linalg.pinv(X_b).dot(y)"
   ]
  },
  {
   "cell_type": "markdown",
   "metadata": {},
   "source": [
    "The pseudoinverse itself is computed using a standard matrix factorization\n",
    "technique called _Singular Value Decomposition (SVD)_ that can decompose\n",
    "the training set matrix X into the matrix multiplication of three matrices U Σ\n",
    "VT (see ```numpy.linalg.svd()```)\n",
    "\n",
    "##### Computational Complexity\n",
    "The Normal Equation computes the inverse of XTX, which is an (n + 1) × (n + 1) matrix (where n is the number of features). The _computational complexity_ of inverting such a matrix is typically about O(n^2.4) to O(n^3), depending on the implementation. In other words, if you double the number of features, you multiply the computation time by roughly 2^(2.4) = 5.3 to 2^3 = 8.\n",
    "\n",
    "The SVD approach used by Scikit-Learn’s ```LinearRegression``` class is about\n",
    "O(n^2). If you double the number of features, you multiply the computation\n",
    "time by roughly 4."
   ]
  },
  {
   "cell_type": "markdown",
   "metadata": {},
   "source": [
    "### Gradient Descent \n",
    "\n",
    "- __General Idea__: tweak parameters iteratively to minimize a cost function\n",
    "- __Learning Rate__: hyperparameter deciding the size of the steps\n",
    "    - Small learning rate, the variable moves slowly towards the optimal value\n",
    "    - High learning rate, the variable will jump higher values\n",
    "- Starts by filling theta with random values (random initialization)\n",
    "- __Parameter Space__: combination of model parameter that minimize the cost function\n",
    "- __Issues__\n",
    "    - can get stuck at local minima (if you stop early, will never reach global minima)\n",
    "    - will reach global minima with low learning rate and long time\n",
    "  \n",
    "The MSE cost function for a linear regressions is a convex function, which means that if we pick two points on the curve, the line segment joining them will never cross the curve. This implies that there are no local minimum, just one global minimum. It is also a continous function with a slow that never changes abruptly. They make the GD to approach closer to the global minimum (for longer training and optimal learning rate) \n",
    "\n",
    "```When using GD, it's better to scale down thevariables such that they reach the minimum faster```"
   ]
  },
  {
   "cell_type": "markdown",
   "metadata": {},
   "source": [
    "#### Batch Gradient Descent\n",
    "\n",
    "In gradient descent, we need to calculate the partial derivative w.r.t. each of the model paramter. instead of doing that, we can use the equation below to compute that in one go.\n",
    "\n",
    "\\begin{equation*}  \\frac \\partial {\\partialθ_j} MSE(θ) = \\frac 2 m  \\sum ^m _{i=1} (θ^TX^{(i)} - y^{(i)})x_j^{(i)}\\end{equation*}\n",
    "\n",
    "The gradient vector del MSE(θ) contains all the partial derivative of the cost function. Once we have the graident vector which points uphill, we go in the opposite direction. This is wehre we use the learning rate, when we decide the adjusted value for the next step. When we subtract the derivate from the θ. "
   ]
  },
  {
   "cell_type": "code",
   "execution_count": 22,
   "metadata": {},
   "outputs": [],
   "source": [
    "eta = 0.1 #learning rate\n",
    "n_iterations = 1000 #number of adjustments to the paramters\n",
    "m = 100 #number of variables"
   ]
  },
  {
   "cell_type": "code",
   "execution_count": 23,
   "metadata": {},
   "outputs": [],
   "source": [
    "theta = np.random.randn(2,1)"
   ]
  },
  {
   "cell_type": "code",
   "execution_count": 24,
   "metadata": {},
   "outputs": [],
   "source": [
    "for iterations in range(n_iterations):\n",
    "    gradients = 2/m * X_b.T.dot(X_b.dot(theta) - y) ##Calculating the partial derivative\n",
    "    theta = theta - eta*gradients ##adjustign the paramters based on the derivative and learning rate\n",
    "    "
   ]
  },
  {
   "cell_type": "code",
   "execution_count": 25,
   "metadata": {},
   "outputs": [
    {
     "name": "stdout",
     "output_type": "stream",
     "text": [
      "[[4.15764224]\n",
      " [2.99353337]]\n"
     ]
    }
   ],
   "source": [
    "##Checking hte results\n",
    "print(theta)"
   ]
  },
  {
   "cell_type": "markdown",
   "metadata": {},
   "source": [
    "Similar result as the linear regression"
   ]
  },
  {
   "cell_type": "code",
   "execution_count": 26,
   "metadata": {},
   "outputs": [
    {
     "data": {
      "text/plain": [
       "(0.0, 2.0, 0.0, 15.0)"
      ]
     },
     "execution_count": 26,
     "metadata": {},
     "output_type": "execute_result"
    },
    {
     "data": {
      "image/png": "[encoded data removed]",
      "text/plain": [
       "<Figure size 432x288 with 1 Axes>"
      ]
     },
     "metadata": {
      "needs_background": "light"
     },
     "output_type": "display_data"
    }
   ],
   "source": [
    "## Predicting \n",
    "X_new = np.array([[0],[2]])\n",
    "X_new_b = np.c_[np.ones((2,1)),X_new]\n",
    "y_predict = X_new_b.dot(theta)\n",
    "y_predict\n",
    "\n",
    "## Ploting the model predictions\n",
    "plt.plot(X_new,y_predict,\"r-\")\n",
    "plt.plot(X,y,\"b.\")\n",
    "plt.axis([0,2,0,15])"
   ]
  },
  {
   "cell_type": "code",
   "execution_count": 27,
   "metadata": {},
   "outputs": [],
   "source": [
    "def check_learning_rate(eta):\n",
    "    theta = np.random.randn(2,1)\n",
    "    n_iterations = 1000 #number of adjustments to the paramters\n",
    "    m = 100 #number of variables\n",
    "    for iterations in range(n_iterations):\n",
    "        gradients = 2/m * X_b.T.dot(X_b.dot(theta) - y) ##Calculating the partial derivative\n",
    "        theta = theta - eta*gradients ##adjustign the paramters based on the derivative and learning rate\n",
    "    X_new = np.array([[0],[2]])\n",
    "    X_new_b = np.c_[np.ones((2,1)),X_new]\n",
    "    y_predict = X_new_b.dot(theta)\n",
    "    ## Ploting the model predictions\n",
    "    plt.plot(X_new,y_predict,\"r-\")\n",
    "    plt.plot(X,y,\"b.\")\n",
    "    plt.axis([0,2,0,15])\n",
    "    plt.title(''.join(['Learning Rate = ', str(eta)]))"
   ]
  },
  {
   "cell_type": "code",
   "execution_count": 28,
   "metadata": {},
   "outputs": [
    {
     "data": {
      "image/png": "[encoded data removed]",
      "text/plain": [
       "<Figure size 432x288 with 1 Axes>"
      ]
     },
     "metadata": {
      "needs_background": "light"
     },
     "output_type": "display_data"
    }
   ],
   "source": [
    "check_learning_rate(0.1)"
   ]
  },
  {
   "cell_type": "code",
   "execution_count": 29,
   "metadata": {},
   "outputs": [
    {
     "data": {
      "image/png": "[encoded data removed]",
      "text/plain": [
       "<Figure size 432x288 with 1 Axes>"
      ]
     },
     "metadata": {
      "needs_background": "light"
     },
     "output_type": "display_data"
    }
   ],
   "source": [
    "check_learning_rate(0.02)"
   ]
  },
  {
   "cell_type": "code",
   "execution_count": 30,
   "metadata": {},
   "outputs": [
    {
     "data": {
      "image/png": "[encoded data removed]",
      "text/plain": [
       "<Figure size 432x288 with 1 Axes>"
      ]
     },
     "metadata": {
      "needs_background": "light"
     },
     "output_type": "display_data"
    }
   ],
   "source": [
    "check_learning_rate(0.5)"
   ]
  },
  {
   "cell_type": "code",
   "execution_count": 31,
   "metadata": {},
   "outputs": [
    {
     "name": "stderr",
     "output_type": "stream",
     "text": [
      "<ipython-input-27-f0e699fa0a08>:7: RuntimeWarning: invalid value encountered in subtract\n",
      "  theta = theta - eta*gradients ##adjustign the paramters based on the derivative and learning rate\n"
     ]
    },
    {
     "data": {
      "image/png": "[encoded data removed]",
      "text/plain": [
       "<Figure size 432x288 with 1 Axes>"
      ]
     },
     "metadata": {
      "needs_background": "light"
     },
     "output_type": "display_data"
    }
   ],
   "source": [
    "check_learning_rate(1)"
   ]
  },
  {
   "cell_type": "code",
   "execution_count": 32,
   "metadata": {},
   "outputs": [
    {
     "name": "stderr",
     "output_type": "stream",
     "text": [
      "<ipython-input-27-f0e699fa0a08>:7: RuntimeWarning: invalid value encountered in subtract\n",
      "  theta = theta - eta*gradients ##adjustign the paramters based on the derivative and learning rate\n"
     ]
    },
    {
     "data": {
      "image/png": "[encoded data removed]",
      "text/plain": [
       "<Figure size 432x288 with 1 Axes>"
      ]
     },
     "metadata": {
      "needs_background": "light"
     },
     "output_type": "display_data"
    }
   ],
   "source": [
    "check_learning_rate(0.8)"
   ]
  },
  {
   "cell_type": "code",
   "execution_count": 33,
   "metadata": {},
   "outputs": [
    {
     "data": {
      "image/png": "[encoded data removed]",
      "text/plain": [
       "<Figure size 432x288 with 1 Axes>"
      ]
     },
     "metadata": {
      "needs_background": "light"
     },
     "output_type": "display_data"
    }
   ],
   "source": [
    "check_learning_rate(0.6)"
   ]
  },
  {
   "cell_type": "markdown",
   "metadata": {},
   "source": [
    "- When the learning rate is too low: the algorithm will eventually reach the solution, but it will take a long time. \n",
    "- When the learning rate looks is optimal:in just a few iterations, it has already converged to the solution. \n",
    "- WHen the learning rate is too high: the algorithm diverges, jumping all over the place and actually getting further and further away from the solution at every step."
   ]
  },
  {
   "cell_type": "markdown",
   "metadata": {},
   "source": [
    "Setting the iterations: set the number of iterations too high, and interupt the GD when the vector bcomes too tiny. "
   ]
  },
  {
   "cell_type": "markdown",
   "metadata": {},
   "source": [
    "#### Stochastic Gradient Descent\n",
    "\n",
    "Main issue with Batch GD is to compute the gradients at  every step, which makes it a slow process. Especially when the training set is large. SGD or stochastic GD picks a random instance in the training set at every step and computes the gradient based on the single selected instance. This makes the algorithm much faster. Also making it easier to train on much larger dataset. SGD can be implemented as an out of core algorithm. \n",
    "\n",
    "It is also much less regular than the Batch GD, since it moves stochastically, instead of moving gently reaching minimum, the cost fucntion jumps up and down, moving down 'on average' over time it reached close to minimum. It keeps on bouncing u and down even though reaching very close to the minimum, finding the good parameters (not optimal always). This irregular nature of the cost function is useful when dealing with local minimum. This can be handled by gradually decreasing the learning rate, so it starts juping big but the jumps reduces in size once it's closer to the minimum. This process is akin to _stimulated annealing_ (similar to metallurgical annealing when the molten metal is slowly cooled down). \n",
    "\n",
    "The function that decided the learning rate at each iteration is called the _learning schedule_.  \n",
    "- If the learning rate is reduced too quickly, you may get stuck in a local minimum, or even end up frozen halfway to the minimum. \n",
    "- If the learning rate is reduced too slowly, you may jump around the minimum for a long time and end up with a suboptimal solution if you halt training too early.\n"
   ]
  },
  {
   "cell_type": "code",
   "execution_count": 34,
   "metadata": {},
   "outputs": [],
   "source": [
    "n_epoches = 50 #no of batches or rounds of training\n",
    "t0, t1 = 5,50\n",
    "m = 100 #number of variables\n",
    "\n",
    "def learning_schedule(t):\n",
    "    '''\n",
    "    function to updated the learning rate\n",
    "    \n",
    "    #Argument:\n",
    "    t (int): input learning rate change factor\n",
    "    \n",
    "    #Returns:\n",
    "    learning rate\n",
    "    '''\n",
    "    return t0 / (t + t1)"
   ]
  },
  {
   "cell_type": "code",
   "execution_count": 35,
   "metadata": {},
   "outputs": [],
   "source": [
    "theta = np.random.randn(2,1) #random initialization"
   ]
  },
  {
   "cell_type": "code",
   "execution_count": 36,
   "metadata": {},
   "outputs": [],
   "source": [
    "for epoch in range(n_epoches):\n",
    "    for i in range(m):\n",
    "        random_index = np.random.randint(m)\n",
    "        xi = X_b[random_index:random_index+1]\n",
    "        yi = y[random_index:random_index+1]\n",
    "        gradients = 2 * xi.T.dot(xi.dot(theta) - yi)\n",
    "        eta = learning_schedule(epoch*m + i)\n",
    "        theta = theta - eta *gradients"
   ]
  },
  {
   "cell_type": "code",
   "execution_count": 37,
   "metadata": {},
   "outputs": [
    {
     "data": {
      "text/plain": [
       "array([[4.16732186],\n",
       "       [2.97125005]])"
      ]
     },
     "execution_count": 37,
     "metadata": {},
     "output_type": "execute_result"
    }
   ],
   "source": [
    "theta"
   ]
  },
  {
   "cell_type": "markdown",
   "metadata": {},
   "source": [
    "- In Batch GD the iterations were 1000, here they were on 50 rounds of training\n",
    "- Some instances are picked randomly, and may come up again in several epoches, to avoid this we can shuffle the set\n",
    "- when using SGD the training instances must be independent and identically distributed (IID) to ensure the paramters are pulled towards the global optimum, on average. Otherwise, if the instances are sorted by label, SGD will start optimizing only particular labels and will not result in global minimum\n"
   ]
  },
  {
   "cell_type": "markdown",
   "metadata": {},
   "source": [
    "###### Using SGD for linear regression in ```scikit-learn```"
   ]
  },
  {
   "cell_type": "code",
   "execution_count": 39,
   "metadata": {},
   "outputs": [
    {
     "data": {
      "text/plain": [
       "SGDRegressor(eta0=0.1, penalty=None)"
      ]
     },
     "execution_count": 39,
     "metadata": {},
     "output_type": "execute_result"
    }
   ],
   "source": [
    "from sklearn.linear_model import SGDRegressor\n",
    "\n",
    "sgd_reg = SGDRegressor(max_iter = 1000, tol = 1e-3, penalty = None, eta0 = 0.1)\n",
    "sgd_reg.fit(X, y.ravel())"
   ]
  },
  {
   "cell_type": "code",
   "execution_count": 40,
   "metadata": {},
   "outputs": [
    {
     "data": {
      "text/plain": [
       "(array([4.1274967]), array([2.97117178]))"
      ]
     },
     "execution_count": 40,
     "metadata": {},
     "output_type": "execute_result"
    }
   ],
   "source": [
    "sgd_reg.intercept_, sgd_reg.coef_"
   ]
  },
  {
   "cell_type": "code",
   "execution_count": 48,
   "metadata": {},
   "outputs": [
    {
     "data": {
      "text/plain": [
       "['models/ch_04/sgd_linear_reg.pkl']"
      ]
     },
     "execution_count": 48,
     "metadata": {},
     "output_type": "execute_result"
    }
   ],
   "source": [
    "import joblib\n",
    "\n",
    "joblib.dump(sgd_reg,'models/ch_04/sgd_linear_reg.pkl')"
   ]
  },
  {
   "cell_type": "markdown",
   "metadata": {},
   "source": [
    "#### Mini-batch Gradient Descent\n",
    "\n",
    "Mini-batch GD computes the gradients on the small random sets of instances called mini-btaches. The main advantage of the Mini-batch GD over the Stochastic GD is that you can get a performance boost form hardware optimization of matrix operations, especially when using the GPUs.\n",
    "\n",
    "The progress of hte gradients is less irregular than the SGD, especially with fairly large mini batched. As a result, Mini batch GD will end up walking around a bit closer to the minimum than Stochastic GD - it maybe harder to escape the local minima. "
   ]
  },
  {
   "cell_type": "markdown",
   "metadata": {},
   "source": [
    "#### Comparision of Algorithms for Linear Regression\n",
    "\n",
    "| Algorithm | Large m | Out-of-core support | Large n | Hyperparams | Scaling required | Scikit-learn |\n",
    "| :-: | :-: | :-: | :-: | :-: | :-: | :-: |\n",
    "|Normal Equation | Fast | No | Slow | 0  |No | N/A|\n",
    "|SVD | Fast | No | Slow | 0  |No | LinearRegression |\n",
    "|Batch GD | Slow | No | Fast | 2  |Yes | SGDRegressor|\n",
    "|Stochastic GD | Fast | Yes | Fast | >=2  |Yes | SGDRegressor|\n",
    "|Mini-Batch GD | Fast | Yes | Fast | >=2  |Yes | SGDRegressor|\n",
    "\n",
    "\n",
    "There is almost no difference after training: all these algorithms end up with very similar models and make predictions in exactly the same way."
   ]
  },
  {
   "cell_type": "markdown",
   "metadata": {},
   "source": [
    "### Polynomial Regression \n",
    "\n",
    "Polynomial as the name suggest is when the variables are not linearly related the to target variable but instead are related with some powers to them. Eg: Square or to the power of three.\n",
    "\n",
    "Example, using a simple quadratic equation"
   ]
  },
  {
   "cell_type": "code",
   "execution_count": 49,
   "metadata": {},
   "outputs": [],
   "source": [
    "m = 100\n",
    "X = 6 * np.random.rand(m,1) - 3\n",
    "y = 0.5 * X**2 + X + 2 + np.random.randn(m,1)"
   ]
  },
  {
   "cell_type": "markdown",
   "metadata": {},
   "source": [
    "```np.random.randn``` generates samples from the normal distribution, while ```numpy.random.rand``` from a uniform distribution (in the range [0,1))"
   ]
  },
  {
   "cell_type": "code",
   "execution_count": 57,
   "metadata": {},
   "outputs": [
    {
     "data": {
      "text/plain": [
       "Text(0, 0.5, 'y')"
      ]
     },
     "execution_count": 57,
     "metadata": {},
     "output_type": "execute_result"
    },
    {
     "data": {
      "image/png": "[encoded data removed]",
      "text/plain": [
       "<Figure size 432x288 with 1 Axes>"
      ]
     },
     "metadata": {
      "needs_background": "light"
     },
     "output_type": "display_data"
    }
   ],
   "source": [
    "plt.scatter(X,y)\n",
    "plt.xlabel('X')\n",
    "plt.ylabel('y')"
   ]
  },
  {
   "cell_type": "markdown",
   "metadata": {},
   "source": [
    "Since the graph cannot fit a linear line properly, we will use a polynomial fit using [```PolynomialFeatures```](https://scikit-learn.org/stable/modules/generated/sklearn.preprocessing.PolynomialFeatures.html) class to transform the training data. "
   ]
  },
  {
   "cell_type": "code",
   "execution_count": 58,
   "metadata": {},
   "outputs": [
    {
     "data": {
      "text/plain": [
       "'\\nPolynomialFeatures: Generate polynomial and interaction features.\\n\\n##Paramters:\\n- degree: if a single int is given, it specifies the maximal degree of the polynomial features. If a tuple (min_degree, max_degree) is passed, then min_degree is the minimum and max_degree is the maximum polynomial degree of the generated features. \\n- include_bias: If True (default), then include a bias column, the feature in which all polynomial powers are zero\\n\\nhttps://scikit-learn.org/stable/modules/generated/sklearn.preprocessing.PolynomialFeatures.html\\n'"
      ]
     },
     "execution_count": 58,
     "metadata": {},
     "output_type": "execute_result"
    }
   ],
   "source": [
    "from sklearn.preprocessing import PolynomialFeatures\n",
    "\n",
    "poly_features = PolynomialFeatures(degree = 2, include_bias = False)\n",
    "'''\n",
    "PolynomialFeatures: Generate polynomial and interaction features.\n",
    "\n",
    "##Paramters:\n",
    "- degree: if a single int is given, it specifies the maximal degree of the polynomial features. If a tuple (min_degree, max_degree) is passed, then min_degree is the minimum and max_degree is the maximum polynomial degree of the generated features. \n",
    "- include_bias: If True (default), then include a bias column, the feature in which all polynomial powers are zero\n",
    "\n",
    "https://scikit-learn.org/stable/modules/generated/sklearn.preprocessing.PolynomialFeatures.html\n",
    "'''"
   ]
  },
  {
   "cell_type": "code",
   "execution_count": 59,
   "metadata": {},
   "outputs": [],
   "source": [
    "X_poly = poly_features.fit_transform(X)"
   ]
  },
  {
   "cell_type": "code",
   "execution_count": 60,
   "metadata": {},
   "outputs": [
    {
     "data": {
      "text/plain": [
       "['models/ch_04/poly_features.pkl']"
      ]
     },
     "execution_count": 60,
     "metadata": {},
     "output_type": "execute_result"
    }
   ],
   "source": [
    "import joblib\n",
    "\n",
    "joblib.dump(poly_features, 'models/ch_04/poly_features.pkl')"
   ]
  },
  {
   "cell_type": "code",
   "execution_count": 61,
   "metadata": {},
   "outputs": [
    {
     "data": {
      "text/plain": [
       "array([-0.5157887])"
      ]
     },
     "execution_count": 61,
     "metadata": {},
     "output_type": "execute_result"
    }
   ],
   "source": [
    "X[0]"
   ]
  },
  {
   "cell_type": "code",
   "execution_count": 62,
   "metadata": {},
   "outputs": [
    {
     "data": {
      "text/plain": [
       "array([-0.5157887 ,  0.26603798])"
      ]
     },
     "execution_count": 62,
     "metadata": {},
     "output_type": "execute_result"
    }
   ],
   "source": [
    "X_poly[0]"
   ]
  },
  {
   "cell_type": "code",
   "execution_count": 64,
   "metadata": {},
   "outputs": [
    {
     "data": {
      "text/plain": [
       "LinearRegression()"
      ]
     },
     "execution_count": 64,
     "metadata": {},
     "output_type": "execute_result"
    }
   ],
   "source": [
    "lin_reg = LinearRegression()\n",
    "lin_reg.fit(X_poly,y)"
   ]
  },
  {
   "cell_type": "code",
   "execution_count": 65,
   "metadata": {},
   "outputs": [
    {
     "data": {
      "text/plain": [
       "(array([1.99277197]), array([[0.84227469, 0.49738459]]))"
      ]
     },
     "execution_count": 65,
     "metadata": {},
     "output_type": "execute_result"
    }
   ],
   "source": [
    "lin_reg.intercept_, lin_reg.coef_"
   ]
  },
  {
   "cell_type": "code",
   "execution_count": 66,
   "metadata": {},
   "outputs": [
    {
     "data": {
      "text/plain": [
       "['models/ch_04/poly_linear_reg.pkl']"
      ]
     },
     "execution_count": 66,
     "metadata": {},
     "output_type": "execute_result"
    }
   ],
   "source": [
    "joblib.dump(lin_reg, 'models/ch_04/poly_linear_reg.pkl')"
   ]
  },
  {
   "cell_type": "code",
   "execution_count": 78,
   "metadata": {},
   "outputs": [],
   "source": [
    "Y_pred = lin_reg.predict(X_poly)"
   ]
  },
  {
   "cell_type": "code",
   "execution_count": 82,
   "metadata": {},
   "outputs": [
    {
     "data": {
      "text/plain": [
       "<matplotlib.collections.PathCollection at 0x26891103850>"
      ]
     },
     "execution_count": 82,
     "metadata": {},
     "output_type": "execute_result"
    },
    {
     "data": {
      "image/png": "[encoded data removed]",
      "text/plain": [
       "<Figure size 432x288 with 1 Axes>"
      ]
     },
     "metadata": {
      "needs_background": "light"
     },
     "output_type": "display_data"
    }
   ],
   "source": [
    "plt.scatter(X,y)\n",
    "plt.xlabel('X')\n",
    "plt.ylabel('y')\n",
    "plt.scatter(X,Y_pred,color = 'red')"
   ]
  },
  {
   "cell_type": "markdown",
   "metadata": {},
   "source": [
    "### Learning Curves\n",
    "\n",
    "As we get more complex polynomial regression, our data wiggles around a lot more to get closer to the training instances. The high degree polynomial regression might also overfit the data, while the linear regression might underfit. We can use cross-validation to confirm the overfitting. Another way is to look at the _learning curves_. \n",
    "\n",
    "Learning Curves are the plots of the model's performance on the training set and the validation set as a function of the training set size (or the training iteration). These plots are generated on triaing the model several times on different sized subsets. "
   ]
  },
  {
   "cell_type": "code",
   "execution_count": 111,
   "metadata": {},
   "outputs": [],
   "source": [
    "from sklearn.metrics import mean_squared_error\n",
    "from sklearn.model_selection import train_test_split\n",
    "\n",
    "def plot_learning_curves(model, X, y):\n",
    "    X_train, X_val, y_train, y_val = train_test_split(X,y,test_size = 0.2)\n",
    "    train_errors, val_errors = [], []\n",
    "    for m in range(1,len(X_train)):\n",
    "        model.fit(X_train[:m],y_train[:m])\n",
    "        y_train_predict = model.predict(X_train[:m])\n",
    "        y_val_predict = model.predict(X_val)\n",
    "        train_errors.append(mean_squared_error(y_train[:m], y_train_predict))\n",
    "        val_errors.append(mean_squared_error(y_val, y_val_predict))\n",
    "    plt.plot(np.sqrt(train_errors), \"r-+\",linewidth = 2,label= \"train\")\n",
    "    plt.plot(np.sqrt(val_errors), \"b-\",linewidth = 3,label= \"val\")\n",
    "    plt.xlabel('Training set size')\n",
    "    plt.ylabel('RMSE')\n",
    "    plt.ylim([0,3])\n",
    "    plt.legend()"
   ]
  },
  {
   "cell_type": "code",
   "execution_count": 97,
   "metadata": {},
   "outputs": [],
   "source": [
    "lin_reg_lc = LinearRegression()"
   ]
  },
  {
   "cell_type": "code",
   "execution_count": 99,
   "metadata": {},
   "outputs": [
    {
     "data": {
      "image/png": "[encoded data removed]",
      "text/plain": [
       "<Figure size 432x288 with 1 Axes>"
      ]
     },
     "metadata": {
      "needs_background": "light"
     },
     "output_type": "display_data"
    }
   ],
   "source": [
    "plot_learning_curves(lin_reg_lc,X,y)"
   ]
  },
  {
   "cell_type": "markdown",
   "metadata": {},
   "source": [
    "The model is underfitted\n",
    "\n",
    "- __Performance on the training data__: when there are 1 or 2 instances in the trianing set, the model fits them perfectly. As new instances are added to the training set, it becomes impossible for the model to fit the trianing data perfectly, both because the data is noisy and non linear. So the error goes up until it reaches a plateau, at this point adding new instances to the trianing set doesn't make the average error better or worse. \n",
    "\n",
    "- __Performance on the validation data__: When there are less instances, the model is not able to generalize properly, which is why the validation error is quite big. Then, as the model is shown more training examples, it learns, and the validation error goes down. However, due to underfitting the model's perofrmance stop improving after a point and stays close to the other curve. \n",
    "\n",
    "This learning curve is typical for an underfit model. Both curves reaching a stagnation, close and high. \n",
    "\n",
    "__Checking the learning curve for a 100th degree polynomial__"
   ]
  },
  {
   "cell_type": "code",
   "execution_count": 100,
   "metadata": {},
   "outputs": [],
   "source": [
    "from sklearn.pipeline import Pipeline\n",
    "\n",
    "polynomial_regression = Pipeline([\n",
    "    (\"poly_features\",PolynomialFeatures(degree= 10, include_bias = False)),\n",
    "    (\"lin_reg\",LinearRegression())\n",
    "])"
   ]
  },
  {
   "cell_type": "code",
   "execution_count": 115,
   "metadata": {},
   "outputs": [
    {
     "data": {
      "image/png": "[encoded data removed]",
      "text/plain": [
       "<Figure size 432x288 with 1 Axes>"
      ]
     },
     "metadata": {
      "needs_background": "light"
     },
     "output_type": "display_data"
    }
   ],
   "source": [
    "plot_learning_curves(polynomial_regression,X,y)"
   ]
  },
  {
   "cell_type": "markdown",
   "metadata": {},
   "source": [
    "This learning curve also looks similar to the previous one, but there are two very important difference:\n",
    "- The error in the training data is much lower than linear reg\n",
    "- gap btw the curves. Model is performing better on the training data than the validation data, representing overfitting.\n",
    "\n",
    "\n",
    "```One way to improve an overfitting model is to feed it more training data until the validation error reaches the training error```"
   ]
  },
  {
   "cell_type": "markdown",
   "metadata": {},
   "source": [
    "### Bias Variance Trade-off\n",
    "\n",
    "A model's generalizatio error can be repressented as the sum of three very different errors: \n",
    "\n",
    "- __Bias__\n",
    "    - due to wrong assumptions, like assuming data to be linear\n",
    "    - high-bias is likely underfittting\n",
    "- __Variance__\n",
    "    - due to excessive senstivity to small variations in the trianing data. \n",
    "    - high-variance likely many degrees of freedom, resulting in overfitting\n",
    "- __Irreducible Error__\n",
    "    - due to noise in the data\n",
    "    - only wat to reduce is to clean the data\n",
    "    \n",
    "Increasing model complexity will increase the variable and reduce it's bias. Conversely, reducing the model's comoplexity increases its bias and reduces its variance. Hence, called trade-off"
   ]
  },
  {
   "cell_type": "markdown",
   "metadata": {},
   "source": [
    "### Regularized Linear Models\n",
    "\n",
    "regularization reduces the overfitting of the models, it reduces the degrees of freedome of the model, resulting in contraints. A simple way to regularize a polynomial model is to reduce the number of polynomial degrees. For regularizing a linear model, we can contraint the weights of the model.\n",
    "\n",
    "Types of regularizations for linear model (ways to constraint the weights):\n",
    "- Ridge regression\n",
    "- Lasso regression\n",
    "- Elastic Net"
   ]
  },
  {
   "cell_type": "markdown",
   "metadata": {},
   "source": [
    "#### Ridge Regression \n",
    "\n",
    "It is also called Tikhonov regularization. It's the regularized version of the linear regression, a regularization term equal to below term is added to the cost function:\n",
    "\\begin{equation*} \\alpha \\sum ^n _{i=1} θ_i ^ 2 \\end{equation*}\n",
    "\n",
    "This forces the learning algorithm to not only fit the data but also keep the model weights as small as possible. _The regularization term is only added to the cost function during training, not for evaluation or validation._\n",
    "\n",
    "The hyperparameter 𝛼 controls the degree of regularization. if 𝛼 = 0 then rug"
   ]
  },
  {
   "cell_type": "code",
   "execution_count": null,
   "metadata": {},
   "outputs": [],
   "source": []
  }
 ],
 "metadata": {
  "kernelspec": {
   "display_name": "Python 3",
   "language": "python",
   "name": "python3"
  },
  "language_info": {
   "codemirror_mode": {
    "name": "ipython",
    "version": 3
   },
   "file_extension": ".py",
   "mimetype": "text/x-python",
   "name": "python",
   "nbconvert_exporter": "python",
   "pygments_lexer": "ipython3",
   "version": "3.8.3"
  }
 },
 "nbformat": 4,
 "nbformat_minor": 4
}
