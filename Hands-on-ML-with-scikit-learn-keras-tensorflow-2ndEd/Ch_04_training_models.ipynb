{
 "cells": [
  {
   "cell_type": "markdown",
   "metadata": {},
   "source": [
    "## Training Models\n",
    "\n",
    "Looking at 2 ways of training linear regression model\n",
    "- Using direct closed form equation, that directly computes the model parameters that best fit the model to the training set\n",
    "- using iterative optimaztion approach called GD that gradually tweaks the model parameters to minimize the cost function over the trainng set. Variants of the GD:\n",
    "    - batch GD\n",
    "    - mini batch GD \n",
    "    - Stochastic GD\n",
    "\n",
    "After this, we look at the polynomial regression (more complex model that can fit non linear datasets). This model has more parameters than a linear regression, it is more prone to overfitting the training data. \n",
    "\n",
    "#### Linear Regression \n",
    "\n",
    "In Chapter 1, we saw the equation for the simple regression model of the life satisfaction:\n",
    "\n",
    "\\begin{equation*} life\\_satisfaction = θ_{0} + θ_1 * GDP\\_per\\_capita\\end{equation*}\n",
    "\n",
    "Here, GDP_per_capita is input variable, θ_0 and θ_1 are model's parameters.  θ_0 is a constant term called bias. \n",
    "\n",
    "\\begin{equation*} y^ˆ = θ_{0} + θ_1x_1 + θ_2x_2 + .... +  θ_nx_n \\end{equation*}\n",
    "\n",
    "Here, \n",
    "- y^ is the predicted value\n",
    "- n is the number of features\n",
    "- xi is the ith feature value\n",
    "- θj is the jth model parameter\n",
    "\n",
    "Vectorized form of the above equation,\n",
    "\n",
    "\\begin{equation*} y^ˆ = h_{θ}(x) = θ.x \\end{equation*}\n",
    "\n",
    "Here, \n",
    "- θ is the model's parameter vector (incl. θ0)\n",
    "- x is feature vector\n",
    "- θ.x is the dot product of the vector θ and c\n",
    "- hθ is the hypothesis function\n",
    "\n",
    "To check the accuracy we check the deviation of the y^ with the y_actual using mean square error and root mean square error. \n",
    "\n",
    "\n",
    "##### The normal equation  \n",
    "\n",
    "To find the value of θ that minimizes the cost function, there is a _closed-form solution_ —in other words, a mathematical equation that gives the result\n",
    "directly. This is called the _Normal Equation_\n",
    "\n",
    " \\begin{equation*} θ^ˆ = (X ^{⊺}X)^{-1}X ^{⊺}y  \\end{equation*} \n",
    "\n",
    "- θˆ is the value of θ that minimizes the cost function\n",
    "- y is the vector of target values "
   ]
  },
  {
   "cell_type": "code",
   "execution_count": 1,
   "metadata": {},
   "outputs": [],
   "source": [
    "import numpy as np\n",
    "\n",
    "X = 2 * np.random.rand(100, 1)\n",
    "y = 4 + 3 * X + np.random.randn(100, 1)"
   ]
  },
  {
   "cell_type": "code",
   "execution_count": 2,
   "metadata": {},
   "outputs": [
    {
     "data": {
      "text/plain": [
       "(0.0, 2.0, 0.0, 15.0)"
      ]
     },
     "execution_count": 2,
     "metadata": {},
     "output_type": "execute_result"
    },
    {
     "data": {
      "image/png": "[encoded data removed]",
      "text/plain": [
       "<Figure size 432x288 with 1 Axes>"
      ]
     },
     "metadata": {
      "needs_background": "light"
     },
     "output_type": "display_data"
    }
   ],
   "source": [
    "import matplotlib.pyplot as plt\n",
    "\n",
    "plt.plot(X,y,\"b.\")\n",
    "plt.axis([0,2,0,15])"
   ]
  },
  {
   "cell_type": "markdown",
   "metadata": {},
   "source": [
    "Computing θ^ˆ using normal equation. Using ```inv()``` from numpy linear algebra module (```np.linalg```) to compute the inverse of the matrix and the ```dot()``` to compute the matrix multiplication. "
   ]
  },
  {
   "cell_type": "code",
   "execution_count": 3,
   "metadata": {},
   "outputs": [
    {
     "name": "stdout",
     "output_type": "stream",
     "text": [
      "[[3.99917433]\n",
      " [3.09393849]]\n"
     ]
    }
   ],
   "source": [
    "X_b = np.c_[np.ones((100, 1)), X] # add x0 = 1 to each instance\n",
    "theta_best = np.linalg.inv(X_b.T.dot(X_b)).dot(X_b.T).dot(y)\n",
    "print(theta_best) "
   ]
  },
  {
   "cell_type": "markdown",
   "metadata": {},
   "source": [
    "This function predicted y = 4 + 3x_1 + gaussian noise. The actual values expected were (4,3) for (θ0,θ1). The deivation occurs due to the noise. We can make predictions using the values we got for θ^"
   ]
  },
  {
   "cell_type": "code",
   "execution_count": 4,
   "metadata": {},
   "outputs": [
    {
     "data": {
      "text/plain": [
       "array([[ 3.99917433],\n",
       "       [10.18705131]])"
      ]
     },
     "execution_count": 4,
     "metadata": {},
     "output_type": "execute_result"
    }
   ],
   "source": [
    "## Predicting \n",
    "X_new = np.array([[0],[2]])\n",
    "X_new_b = np.c_[np.ones((2,1)),X_new]\n",
    "y_predict = X_new_b.dot(theta_best)\n",
    "y_predict"
   ]
  },
  {
   "cell_type": "code",
   "execution_count": 5,
   "metadata": {},
   "outputs": [
    {
     "data": {
      "text/plain": [
       "(0.0, 2.0, 0.0, 15.0)"
      ]
     },
     "execution_count": 5,
     "metadata": {},
     "output_type": "execute_result"
    },
    {
     "data": {
      "image/png": "[encoded data removed]",
      "text/plain": [
       "<Figure size 432x288 with 1 Axes>"
      ]
     },
     "metadata": {
      "needs_background": "light"
     },
     "output_type": "display_data"
    }
   ],
   "source": [
    "## Ploting the model predictions\n",
    "plt.plot(X_new,y_predict,\"r-\")\n",
    "plt.plot(X,y,\"b.\")\n",
    "plt.axis([0,2,0,15])"
   ]
  },
  {
   "cell_type": "code",
   "execution_count": 8,
   "metadata": {},
   "outputs": [
    {
     "name": "stdout",
     "output_type": "stream",
     "text": [
      "[3.99917433]\n",
      "[[3.09393849]]\n",
      "[[ 3.99917433]\n",
      " [10.18705131]]\n"
     ]
    }
   ],
   "source": [
    "## Method 2 using scikit lern\n",
    "from sklearn.linear_model import LinearRegression\n",
    "\n",
    "lin_reg = LinearRegression()\n",
    "lin_reg.fit(X,y)\n",
    "print(lin_reg.intercept_)\n",
    "print(lin_reg.coef_)\n",
    "print(lin_reg.predict(X_new))"
   ]
  },
  {
   "cell_type": "markdown",
   "metadata": {},
   "source": [
    "The LinearRegression class is based on the ```scipy.linalg.lstsq()```\n",
    "function (the name stands for “least squares”), which we can call directly"
   ]
  },
  {
   "cell_type": "code",
   "execution_count": 9,
   "metadata": {},
   "outputs": [
    {
     "name": "stdout",
     "output_type": "stream",
     "text": [
      "[[3.99917433]\n",
      " [3.09393849]]\n"
     ]
    }
   ],
   "source": [
    "theta_best_svd, residuals, rank, s = np.linalg.lstsq(X_b, y, rcond=1e-6)\n",
    "print(theta_best_svd)"
   ]
  },
  {
   "cell_type": "markdown",
   "metadata": {},
   "source": [
    "This function computes ```ˆθ = X+y```, where X+ is the pseudoinverse of X\n",
    "(specifically, the [Moore-Penrose inverse](https://en.wikipedia.org/wiki/Moore%E2%80%93Penrose_inverse)). can use ```np.linalg.pinv()``` to compute the pseudoinverse directly:"
   ]
  },
  {
   "cell_type": "code",
   "execution_count": 10,
   "metadata": {},
   "outputs": [
    {
     "data": {
      "text/plain": [
       "array([[3.99917433],\n",
       "       [3.09393849]])"
      ]
     },
     "execution_count": 10,
     "metadata": {},
     "output_type": "execute_result"
    }
   ],
   "source": [
    "np.linalg.pinv(X_b).dot(y)"
   ]
  },
  {
   "cell_type": "markdown",
   "metadata": {},
   "source": [
    "The pseudoinverse itself is computed using a standard matrix factorization\n",
    "technique called _Singular Value Decomposition (SVD)_ that can decompose\n",
    "the training set matrix X into the matrix multiplication of three matrices U Σ\n",
    "VT (see ```numpy.linalg.svd()```)\n",
    "\n",
    "##### Computational Complexity\n",
    "The Normal Equation computes the inverse of XTX, which is an (n + 1) × (n + 1) matrix (where n is the number of features). The _computational complexity_ of inverting such a matrix is typically about O(n^2.4) to O(n^3), depending on the implementation. In other words, if you double the number of features, you multiply the computation time by roughly 2^(2.4) = 5.3 to 2^3 = 8.\n",
    "\n",
    "The SVD approach used by Scikit-Learn’s ```LinearRegression``` class is about\n",
    "O(n^2). If you double the number of features, you multiply the computation\n",
    "time by roughly 4."
   ]
  },
  {
   "cell_type": "markdown",
   "metadata": {},
   "source": [
    "### Gradient Descent \n",
    "\n",
    "- __General Idea__: tweak parameters iteratively to minimize a cost function\n",
    "- __Learning Rate__: hyperparameter deciding the size of the steps\n",
    "    - Small learning rate, the variable moves slowly towards the optimal value\n",
    "    - High learning rate, the variable will jump higher values\n",
    "- Starts by filling theta with random values (random initialization)\n",
    "- __Parameter Space__: combination of model parameter that minimize the cost function\n",
    "- __Issues__\n",
    "    - can get stuck at local minima (if you stop early, will never reach global minima)\n",
    "    - will reach global minima with low learning rate and long time\n",
    "  \n",
    "The MSE cost function for a linear regressions is a convex function, which means that if we pick two points on the curve, the line segment joining them will never cross the curve. This implies that there are no local minimum, just one global minimum. It is also a continous function with a slow that never changes abruptly. They make the GD to approach closer to the global minimum (for longer training and optimal learning rate) \n",
    "\n",
    "```When using GD, it's better to scale down thevariables such that they reach the minimum faster```"
   ]
  },
  {
   "cell_type": "markdown",
   "metadata": {},
   "source": [
    "#### Batch Gradient Descent\n",
    "\n",
    "In gradient descent, we need to calculate the partial derivative w.r.t. each of the model paramter. instead of doing that, we can use the equation below to compute that in one go.\n",
    "\n",
    "\\begin{equation*}  \\frac \\partial {\\partialθ_j} MSE(θ) = \\frac 2 m  \\sum ^m _{i=1} (θ^TX^{(i)} - y^{(i)})x_j^{(i)}\\end{equation*}\n",
    "\n",
    "The gradient vector del MSE(θ) contains all the partial derivative of the cost function. Once we have the graident vector which points uphill, we go in the opposite direction. This is wehre we use the learning rate, when we decide the adjusted value for the next step. When we subtract the derivate from the θ. "
   ]
  },
  {
   "cell_type": "code",
   "execution_count": 11,
   "metadata": {},
   "outputs": [],
   "source": [
    "eta = 0.1 #learning rate\n",
    "n_iterations = 1000 #number of adjustments to the paramters\n",
    "m = 100 #number of variables"
   ]
  },
  {
   "cell_type": "code",
   "execution_count": 12,
   "metadata": {},
   "outputs": [],
   "source": [
    "theta = np.random.randn(2,1)"
   ]
  },
  {
   "cell_type": "code",
   "execution_count": 13,
   "metadata": {},
   "outputs": [],
   "source": [
    "for iterations in range(n_iterations):\n",
    "    gradients = 2/m * X_b.T.dot(X_b.dot(theta) - y) ##Calculating the partial derivative\n",
    "    theta = theta - eta*gradients ##adjustign the paramters based on the derivative and learning rate\n",
    "    "
   ]
  },
  {
   "cell_type": "code",
   "execution_count": 14,
   "metadata": {},
   "outputs": [
    {
     "name": "stdout",
     "output_type": "stream",
     "text": [
      "[[3.99917433]\n",
      " [3.09393849]]\n"
     ]
    }
   ],
   "source": [
    "##Checking hte results\n",
    "print(theta)"
   ]
  },
  {
   "cell_type": "markdown",
   "metadata": {},
   "source": [
    "Similar result as the linear regression"
   ]
  },
  {
   "cell_type": "code",
   "execution_count": 15,
   "metadata": {},
   "outputs": [
    {
     "data": {
      "text/plain": [
       "(0.0, 2.0, 0.0, 15.0)"
      ]
     },
     "execution_count": 15,
     "metadata": {},
     "output_type": "execute_result"
    },
    {
     "data": {
      "image/png": "[encoded data removed]",
      "text/plain": [
       "<Figure size 432x288 with 1 Axes>"
      ]
     },
     "metadata": {
      "needs_background": "light"
     },
     "output_type": "display_data"
    }
   ],
   "source": [
    "## Predicting \n",
    "X_new = np.array([[0],[2]])\n",
    "X_new_b = np.c_[np.ones((2,1)),X_new]\n",
    "y_predict = X_new_b.dot(theta)\n",
    "y_predict\n",
    "\n",
    "## Ploting the model predictions\n",
    "plt.plot(X_new,y_predict,\"r-\")\n",
    "plt.plot(X,y,\"b.\")\n",
    "plt.axis([0,2,0,15])"
   ]
  },
  {
   "cell_type": "code",
   "execution_count": 20,
   "metadata": {},
   "outputs": [],
   "source": [
    "def check_learning_rate(eta):\n",
    "    theta = np.random.randn(2,1)\n",
    "    n_iterations = 1000 #number of adjustments to the paramters\n",
    "    m = 100 #number of variables\n",
    "    for iterations in range(n_iterations):\n",
    "        gradients = 2/m * X_b.T.dot(X_b.dot(theta) - y) ##Calculating the partial derivative\n",
    "        theta = theta - eta*gradients ##adjustign the paramters based on the derivative and learning rate\n",
    "    X_new = np.array([[0],[2]])\n",
    "    X_new_b = np.c_[np.ones((2,1)),X_new]\n",
    "    y_predict = X_new_b.dot(theta)\n",
    "    ## Ploting the model predictions\n",
    "    plt.plot(X_new,y_predict,\"r-\")\n",
    "    plt.plot(X,y,\"b.\")\n",
    "    plt.axis([0,2,0,15])\n",
    "    plt.title(''.join(['Learning Rate = ', str(eta)]))"
   ]
  },
  {
   "cell_type": "code",
   "execution_count": 21,
   "metadata": {},
   "outputs": [
    {
     "data": {
      "image/png": "[encoded data removed]",
      "text/plain": [
       "<Figure size 432x288 with 1 Axes>"
      ]
     },
     "metadata": {
      "needs_background": "light"
     },
     "output_type": "display_data"
    }
   ],
   "source": [
    "check_learning_rate(0.1)"
   ]
  },
  {
   "cell_type": "code",
   "execution_count": 22,
   "metadata": {},
   "outputs": [
    {
     "data": {
      "image/png": "[encoded data removed]",
      "text/plain": [
       "<Figure size 432x288 with 1 Axes>"
      ]
     },
     "metadata": {
      "needs_background": "light"
     },
     "output_type": "display_data"
    }
   ],
   "source": [
    "check_learning_rate(0.02)"
   ]
  },
  {
   "cell_type": "code",
   "execution_count": 23,
   "metadata": {},
   "outputs": [
    {
     "data": {
      "image/png": "[encoded data removed]",
      "text/plain": [
       "<Figure size 432x288 with 1 Axes>"
      ]
     },
     "metadata": {
      "needs_background": "light"
     },
     "output_type": "display_data"
    }
   ],
   "source": [
    "check_learning_rate(0.5)"
   ]
  },
  {
   "cell_type": "code",
   "execution_count": 24,
   "metadata": {},
   "outputs": [
    {
     "name": "stderr",
     "output_type": "stream",
     "text": [
      "<ipython-input-20-f0e699fa0a08>:7: RuntimeWarning: invalid value encountered in subtract\n",
      "  theta = theta - eta*gradients ##adjustign the paramters based on the derivative and learning rate\n"
     ]
    },
    {
     "data": {
      "image/png": "[encoded data removed]",
      "text/plain": [
       "<Figure size 432x288 with 1 Axes>"
      ]
     },
     "metadata": {
      "needs_background": "light"
     },
     "output_type": "display_data"
    }
   ],
   "source": [
    "check_learning_rate(1)"
   ]
  },
  {
   "cell_type": "code",
   "execution_count": 25,
   "metadata": {},
   "outputs": [
    {
     "name": "stderr",
     "output_type": "stream",
     "text": [
      "<ipython-input-20-f0e699fa0a08>:7: RuntimeWarning: invalid value encountered in subtract\n",
      "  theta = theta - eta*gradients ##adjustign the paramters based on the derivative and learning rate\n"
     ]
    },
    {
     "data": {
      "image/png": "[encoded data removed]",
      "text/plain": [
       "<Figure size 432x288 with 1 Axes>"
      ]
     },
     "metadata": {
      "needs_background": "light"
     },
     "output_type": "display_data"
    }
   ],
   "source": [
    "check_learning_rate(0.8)"
   ]
  },
  {
   "cell_type": "code",
   "execution_count": 26,
   "metadata": {},
   "outputs": [
    {
     "data": {
      "image/png": "[encoded data removed]",
      "text/plain": [
       "<Figure size 432x288 with 1 Axes>"
      ]
     },
     "metadata": {
      "needs_background": "light"
     },
     "output_type": "display_data"
    }
   ],
   "source": [
    "check_learning_rate(0.6)"
   ]
  },
  {
   "cell_type": "markdown",
   "metadata": {},
   "source": [
    "- When the learning rate is too low: the algorithm will eventually reach the solution, but it will take a long time. \n",
    "- When the learning rate looks is optimal:in just a few iterations, it has already converged to the solution. \n",
    "- WHen the learning rate is too high: the algorithm diverges, jumping all over the place and actually getting further and further away from the solution at every step."
   ]
  },
  {
   "cell_type": "markdown",
   "metadata": {},
   "source": [
    "Setting the iterations: set the number of iterations too high, and interupt the GD when the vector bcomes too tiny. "
   ]
  },
  {
   "cell_type": "code",
   "execution_count": null,
   "metadata": {},
   "outputs": [],
   "source": []
  }
 ],
 "metadata": {
  "kernelspec": {
   "display_name": "Python 3",
   "language": "python",
   "name": "python3"
  },
  "language_info": {
   "codemirror_mode": {
    "name": "ipython",
    "version": 3
   },
   "file_extension": ".py",
   "mimetype": "text/x-python",
   "name": "python",
   "nbconvert_exporter": "python",
   "pygments_lexer": "ipython3",
   "version": "3.8.3"
  }
 },
 "nbformat": 4,
 "nbformat_minor": 4
}
