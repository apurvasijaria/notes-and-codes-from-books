{
 "cells": [
  {
   "cell_type": "markdown",
   "metadata": {},
   "source": [
    "Deep Neural Networks are much more complex than the shallow NN trained in last chapter. Issues in trianing DNN:\n",
    "\n",
    "- vanishing graidents or exploding gradients\n",
    "- not enough training data\n",
    "- slow training\n",
    "- overfitting the trianing set\n",
    "\n",
    "\n",
    "### Vanishing and Exploding Gradients\n",
    "\n",
    "In backpropogation, the algo works by going from the output layer to the input layer and propogating the error gradient along the way. gradients often get small and smaller as the algorithm progressed down to the lower layers. resulting in no change in the lower layer leaved and training never converging to a good solution. this is called vanishing gradietns. \n",
    "\n",
    "In some cases, opposite happends, the gradients grow bigger and bigger until the layers get insanely large weight updates andthe algo diverges, this is called exploding gradients, which resurfaces in recurrent NN. \n",
    "\n",
    "MMore generaly, DNN suffer from unstable gradients, different layers may learn at widely different speeds.\n",
    "\n",
    "This was concluded in a 2010 study, that sigmoid function saturates at 0 or 1, hence the sgd has no gradient to propogate back from. \n",
    "\n",
    "__Glorot and He Initialization__\n",
    "\n",
    "for signifficantly allecviate the unstable gradient problem. we need to signal the flow properly in both directions: in the forward direction when making the predictions and in reverse direction when backpropogating gradients. we don't want the signal to die out or explode and saturate. for the signal to flow properly, we need the vairance of the outputs of each layer to be equal to the variance of its inputs and we need the graideitns tp have equal variance before and after flowing through a layer in reverse direction. it's not possible unless the layer has an equal number of input and neurons (fan in and fan out of the layer), but glorot and bengio proposed a compromize that is proven to work in ractive. the connection weights of each layer must be initialized randomly as ${fan}_{avg} = ({fan}_{in} + {fan}_{out})/2$.  this is called _xavier initialization or glorot initializtion_ \n",
    "\n",
    "\n",
    "| Initialization | Activation functions | σ² (Normal)|\n",
    "| :-: | :-: | :-: |\n",
    "| Glorot |  None, tanh, logistic, softmax | $ \\frac 1 {{fan}_{avg}}$|\n",
    "| He | ReLU and variants | $ \\frac 2 {{fan}_{in}}$ |\n",
    "| LeCun | SELU | $ \\frac 1 {{fan}_{in}}$|\n",
    "\n",
    "\n",
    "By default, Keras uses Glorot initialization with a uniform distribution. When creating a layer, you can change this to He initialization by setting `kernel_initializer=\"he_uniform\"` or `kernel_initializer=\"he_normal\"`"
   ]
  },
  {
   "cell_type": "code",
   "execution_count": 1,
   "metadata": {},
   "outputs": [],
   "source": [
    "import tensorflow as tf\n",
    "from tensorflow import keras"
   ]
  },
  {
   "cell_type": "code",
   "execution_count": 2,
   "metadata": {},
   "outputs": [],
   "source": [
    "from keras import datasets"
   ]
  },
  {
   "cell_type": "code",
   "execution_count": 3,
   "metadata": {},
   "outputs": [],
   "source": [
    "fmnist = keras.datasets.fashion_mnist"
   ]
  },
  {
   "cell_type": "code",
   "execution_count": 4,
   "metadata": {},
   "outputs": [],
   "source": [
    "(X_train, y_train), (X_test, y_test) = fmnist.load_data()"
   ]
  },
  {
   "cell_type": "code",
   "execution_count": 5,
   "metadata": {},
   "outputs": [],
   "source": [
    "##Creating validation dataset and scaling the dataset\n",
    "\n",
    "X_val, X_train = X_train[:5000],X_train[5000:]\n",
    "y_val, y_train = y_train[:5000],y_train[5000:]"
   ]
  },
  {
   "cell_type": "code",
   "execution_count": 6,
   "metadata": {},
   "outputs": [],
   "source": [
    "X_train, X_val, X_test = X_train/255.0, X_val/255.0,X_test/255.0"
   ]
  },
  {
   "cell_type": "code",
   "execution_count": 7,
   "metadata": {},
   "outputs": [],
   "source": [
    "##labels from https://keras.io/api/datasets/fashion_mnist/#loaddata-function\n",
    "labels = [\"T-shirt/top\", \"Trouser\", \"Pullover\", \"Dress\", \"Coat\", \"Sandal\", \"Shirt\", \"Sneaker\", \"Bag\", \"Ankle boot\"]"
   ]
  },
  {
   "cell_type": "code",
   "execution_count": 15,
   "metadata": {},
   "outputs": [],
   "source": [
    "model = keras.models.Sequential([\n",
    "keras.layers.Flatten(input_shape=[28, 28]),\n",
    "keras.layers.Dense(100, activation=\"relu\",kernel_initializer = \"he_normal\"),\n",
    "keras.layers.Dense(100, activation=\"relu\",kernel_initializer = \"he_normal\"),\n",
    "keras.layers.Dense(10, activation=\"softmax\")\n",
    "])"
   ]
  },
  {
   "cell_type": "code",
   "execution_count": 16,
   "metadata": {},
   "outputs": [],
   "source": [
    "model.compile(loss=\"sparse_categorical_crossentropy\", optimizer=\"sgd\",metrics=[\"accuracy\"])"
   ]
  },
  {
   "cell_type": "code",
   "execution_count": 17,
   "metadata": {},
   "outputs": [
    {
     "name": "stdout",
     "output_type": "stream",
     "text": [
      "Epoch 1/30\n",
      "1719/1719 [==============================] - 5s 2ms/step - loss: 0.7203 - accuracy: 0.7575 - val_loss: 0.5084 - val_accuracy: 0.8266\n",
      "Epoch 2/30\n",
      "1719/1719 [==============================] - 4s 2ms/step - loss: 0.4945 - accuracy: 0.8271 - val_loss: 0.4685 - val_accuracy: 0.8432\n",
      "Epoch 3/30\n",
      "1719/1719 [==============================] - 4s 2ms/step - loss: 0.4498 - accuracy: 0.8420 - val_loss: 0.4171 - val_accuracy: 0.8606\n",
      "Epoch 4/30\n",
      "1719/1719 [==============================] - 4s 2ms/step - loss: 0.4232 - accuracy: 0.8505 - val_loss: 0.4685 - val_accuracy: 0.8312\n",
      "Epoch 5/30\n",
      "1719/1719 [==============================] - 4s 2ms/step - loss: 0.4024 - accuracy: 0.8602 - val_loss: 0.3893 - val_accuracy: 0.8634\n",
      "Epoch 6/30\n",
      "1719/1719 [==============================] - 3s 2ms/step - loss: 0.3889 - accuracy: 0.8628 - val_loss: 0.3890 - val_accuracy: 0.8642\n",
      "Epoch 7/30\n",
      "1719/1719 [==============================] - 4s 2ms/step - loss: 0.3749 - accuracy: 0.8686 - val_loss: 0.3595 - val_accuracy: 0.8746\n",
      "Epoch 8/30\n",
      "1719/1719 [==============================] - 4s 2ms/step - loss: 0.3633 - accuracy: 0.8714 - val_loss: 0.3646 - val_accuracy: 0.8700\n",
      "Epoch 9/30\n",
      "1719/1719 [==============================] - 4s 2ms/step - loss: 0.3530 - accuracy: 0.8756 - val_loss: 0.3781 - val_accuracy: 0.8696\n",
      "Epoch 10/30\n",
      "1719/1719 [==============================] - 4s 2ms/step - loss: 0.3444 - accuracy: 0.8770 - val_loss: 0.3663 - val_accuracy: 0.8714\n",
      "Epoch 11/30\n",
      "1719/1719 [==============================] - 4s 2ms/step - loss: 0.3369 - accuracy: 0.8796 - val_loss: 0.3644 - val_accuracy: 0.8726\n",
      "Epoch 12/30\n",
      "1719/1719 [==============================] - 4s 2ms/step - loss: 0.3300 - accuracy: 0.8811 - val_loss: 0.3346 - val_accuracy: 0.8806\n",
      "Epoch 13/30\n",
      "1719/1719 [==============================] - 4s 2ms/step - loss: 0.3221 - accuracy: 0.8833 - val_loss: 0.3298 - val_accuracy: 0.8792\n",
      "Epoch 14/30\n",
      "1719/1719 [==============================] - 4s 3ms/step - loss: 0.3159 - accuracy: 0.8861 - val_loss: 0.3386 - val_accuracy: 0.8778\n",
      "Epoch 15/30\n",
      "1719/1719 [==============================] - 4s 2ms/step - loss: 0.3108 - accuracy: 0.8882 - val_loss: 0.3454 - val_accuracy: 0.8740\n",
      "Epoch 16/30\n",
      "1719/1719 [==============================] - 5s 3ms/step - loss: 0.3048 - accuracy: 0.8904 - val_loss: 0.3301 - val_accuracy: 0.8774\n",
      "Epoch 17/30\n",
      "1719/1719 [==============================] - 4s 2ms/step - loss: 0.3001 - accuracy: 0.8918 - val_loss: 0.3297 - val_accuracy: 0.8830\n",
      "Epoch 18/30\n",
      "1719/1719 [==============================] - 3s 2ms/step - loss: 0.2954 - accuracy: 0.8935 - val_loss: 0.3212 - val_accuracy: 0.8836\n",
      "Epoch 19/30\n",
      "1719/1719 [==============================] - 3s 2ms/step - loss: 0.2910 - accuracy: 0.8944 - val_loss: 0.3641 - val_accuracy: 0.8708\n",
      "Epoch 20/30\n",
      "1719/1719 [==============================] - 3s 2ms/step - loss: 0.2865 - accuracy: 0.8952 - val_loss: 0.3202 - val_accuracy: 0.8872\n",
      "Epoch 21/30\n",
      "1719/1719 [==============================] - 3s 2ms/step - loss: 0.2813 - accuracy: 0.8982 - val_loss: 0.3303 - val_accuracy: 0.8794\n",
      "Epoch 22/30\n",
      "1719/1719 [==============================] - 3s 2ms/step - loss: 0.2778 - accuracy: 0.8999 - val_loss: 0.3174 - val_accuracy: 0.8854\n",
      "Epoch 23/30\n",
      "1719/1719 [==============================] - 3s 2ms/step - loss: 0.2736 - accuracy: 0.9015 - val_loss: 0.3232 - val_accuracy: 0.8824\n",
      "Epoch 24/30\n",
      "1719/1719 [==============================] - 3s 2ms/step - loss: 0.2692 - accuracy: 0.9026 - val_loss: 0.3059 - val_accuracy: 0.8884\n",
      "Epoch 25/30\n",
      "1719/1719 [==============================] - 3s 2ms/step - loss: 0.2661 - accuracy: 0.9034 - val_loss: 0.3128 - val_accuracy: 0.8866\n",
      "Epoch 26/30\n",
      "1719/1719 [==============================] - 3s 2ms/step - loss: 0.2629 - accuracy: 0.9045 - val_loss: 0.3180 - val_accuracy: 0.8858\n",
      "Epoch 27/30\n",
      "1719/1719 [==============================] - 3s 2ms/step - loss: 0.2590 - accuracy: 0.9052 - val_loss: 0.3167 - val_accuracy: 0.8884\n",
      "Epoch 28/30\n",
      "1719/1719 [==============================] - 3s 2ms/step - loss: 0.2559 - accuracy: 0.9070 - val_loss: 0.3217 - val_accuracy: 0.8794\n",
      "Epoch 29/30\n",
      "1719/1719 [==============================] - 3s 2ms/step - loss: 0.2523 - accuracy: 0.9081 - val_loss: 0.3143 - val_accuracy: 0.8880\n",
      "Epoch 30/30\n",
      "1719/1719 [==============================] - 3s 2ms/step - loss: 0.2498 - accuracy: 0.9098 - val_loss: 0.3070 - val_accuracy: 0.8908\n"
     ]
    }
   ],
   "source": [
    "history = model.fit(X_train, y_train, epochs=30, validation_data = (X_val, y_val))"
   ]
  },
  {
   "cell_type": "code",
   "execution_count": 18,
   "metadata": {},
   "outputs": [],
   "source": [
    "model.save('models/ch_11/keras_gerlot_1.h5')"
   ]
  },
  {
   "cell_type": "code",
   "execution_count": 19,
   "metadata": {},
   "outputs": [
    {
     "data": {
      "image/png": "[encoded data removed]",
      "text/plain": [
       "<Figure size 576x360 with 1 Axes>"
      ]
     },
     "metadata": {
      "needs_background": "light"
     },
     "output_type": "display_data"
    }
   ],
   "source": [
    "import pandas as pd\n",
    "import matplotlib.pyplot as plt\n",
    "\n",
    "pd.DataFrame(history.history).plot(figsize=(8, 5))\n",
    "plt.grid(True)\n",
    "plt.gca().set_ylim(0, 1) # set the vertical range to [0-1]\n",
    "plt.show()"
   ]
  },
  {
   "cell_type": "code",
   "execution_count": 20,
   "metadata": {},
   "outputs": [
    {
     "name": "stdout",
     "output_type": "stream",
     "text": [
      "313/313 [==============================] - 0s 1ms/step - loss: 0.3410 - accuracy: 0.8769\n"
     ]
    },
    {
     "data": {
      "text/plain": [
       "[0.3410279452800751, 0.8769000172615051]"
      ]
     },
     "execution_count": 20,
     "metadata": {},
     "output_type": "execute_result"
    }
   ],
   "source": [
    "model.evaluate(X_test, y_test)"
   ]
  },
  {
   "cell_type": "markdown",
   "metadata": {},
   "source": [
    "If we want He initialization with a uniform distribution but based on ${fan}_{avg}$ rather than ${fan}_{in}$ , you can use the VarianceScaling initializer like this"
   ]
  },
  {
   "cell_type": "code",
   "execution_count": 22,
   "metadata": {},
   "outputs": [],
   "source": [
    "he_avg_init = keras.initializers.VarianceScaling(scale=2, mode='fan_avg', distribution = \"uniform\")"
   ]
  },
  {
   "cell_type": "code",
   "execution_count": 33,
   "metadata": {},
   "outputs": [],
   "source": [
    "model = keras.models.Sequential([\n",
    "keras.layers.Flatten(input_shape=[28, 28]),\n",
    "keras.layers.Dense(100, activation=\"sigmoid\",kernel_initializer = he_avg_init),\n",
    "keras.layers.Dense(100, activation=\"sigmoid\",kernel_initializer = he_avg_init),\n",
    "keras.layers.Dense(10, activation=\"softmax\")\n",
    "])"
   ]
  },
  {
   "cell_type": "code",
   "execution_count": 34,
   "metadata": {},
   "outputs": [],
   "source": [
    "model.compile(loss=\"sparse_categorical_crossentropy\", optimizer=\"sgd\",metrics=[\"accuracy\"])"
   ]
  },
  {
   "cell_type": "code",
   "execution_count": 35,
   "metadata": {},
   "outputs": [
    {
     "name": "stdout",
     "output_type": "stream",
     "text": [
      "Epoch 1/30\n",
      "1719/1719 [==============================] - 4s 2ms/step - loss: 1.9201 - accuracy: 0.4789 - val_loss: 1.4934 - val_accuracy: 0.5956\n",
      "Epoch 2/30\n",
      "1719/1719 [==============================] - 3s 2ms/step - loss: 1.2520 - accuracy: 0.6496 - val_loss: 1.0548 - val_accuracy: 0.7136\n",
      "Epoch 3/30\n",
      "1719/1719 [==============================] - 4s 2ms/step - loss: 0.9580 - accuracy: 0.7067 - val_loss: 0.8606 - val_accuracy: 0.7288\n",
      "Epoch 4/30\n",
      "1719/1719 [==============================] - 3s 2ms/step - loss: 0.8094 - accuracy: 0.7319 - val_loss: 0.7483 - val_accuracy: 0.7530\n",
      "Epoch 5/30\n",
      "1719/1719 [==============================] - 3s 2ms/step - loss: 0.7225 - accuracy: 0.7475 - val_loss: 0.6813 - val_accuracy: 0.7596\n",
      "Epoch 6/30\n",
      "1719/1719 [==============================] - 3s 2ms/step - loss: 0.6677 - accuracy: 0.7601 - val_loss: 0.6363 - val_accuracy: 0.7738\n",
      "Epoch 7/30\n",
      "1719/1719 [==============================] - 3s 2ms/step - loss: 0.6295 - accuracy: 0.7722 - val_loss: 0.6022 - val_accuracy: 0.7854\n",
      "Epoch 8/30\n",
      "1719/1719 [==============================] - 3s 2ms/step - loss: 0.5999 - accuracy: 0.7835 - val_loss: 0.5744 - val_accuracy: 0.7980\n",
      "Epoch 9/30\n",
      "1719/1719 [==============================] - 3s 2ms/step - loss: 0.5756 - accuracy: 0.7939 - val_loss: 0.5522 - val_accuracy: 0.8052\n",
      "Epoch 10/30\n",
      "1719/1719 [==============================] - 3s 2ms/step - loss: 0.5549 - accuracy: 0.8031 - val_loss: 0.5312 - val_accuracy: 0.8164\n",
      "Epoch 11/30\n",
      "1719/1719 [==============================] - 3s 2ms/step - loss: 0.5373 - accuracy: 0.8097 - val_loss: 0.5147 - val_accuracy: 0.8220\n",
      "Epoch 12/30\n",
      "1719/1719 [==============================] - 3s 2ms/step - loss: 0.5221 - accuracy: 0.8154 - val_loss: 0.5038 - val_accuracy: 0.8236\n",
      "Epoch 13/30\n",
      "1719/1719 [==============================] - 3s 2ms/step - loss: 0.5092 - accuracy: 0.8199 - val_loss: 0.4901 - val_accuracy: 0.8344\n",
      "Epoch 14/30\n",
      "1719/1719 [==============================] - 3s 2ms/step - loss: 0.4978 - accuracy: 0.8247 - val_loss: 0.4815 - val_accuracy: 0.8358\n",
      "Epoch 15/30\n",
      "1719/1719 [==============================] - 3s 2ms/step - loss: 0.4878 - accuracy: 0.8283 - val_loss: 0.4723 - val_accuracy: 0.8384\n",
      "Epoch 16/30\n",
      "1719/1719 [==============================] - 3s 2ms/step - loss: 0.4793 - accuracy: 0.8309 - val_loss: 0.4632 - val_accuracy: 0.8386\n",
      "Epoch 17/30\n",
      "1719/1719 [==============================] - 3s 2ms/step - loss: 0.4714 - accuracy: 0.8328 - val_loss: 0.4558 - val_accuracy: 0.8400\n",
      "Epoch 18/30\n",
      "1719/1719 [==============================] - 3s 2ms/step - loss: 0.4645 - accuracy: 0.8355 - val_loss: 0.4491 - val_accuracy: 0.8428\n",
      "Epoch 19/30\n",
      "1719/1719 [==============================] - 3s 2ms/step - loss: 0.4581 - accuracy: 0.8373 - val_loss: 0.4446 - val_accuracy: 0.8450\n",
      "Epoch 20/30\n",
      "1719/1719 [==============================] - 3s 2ms/step - loss: 0.4524 - accuracy: 0.8398 - val_loss: 0.4421 - val_accuracy: 0.8472\n",
      "Epoch 21/30\n",
      "1719/1719 [==============================] - 3s 2ms/step - loss: 0.4471 - accuracy: 0.8422 - val_loss: 0.4356 - val_accuracy: 0.8498\n",
      "Epoch 22/30\n",
      "1719/1719 [==============================] - 3s 2ms/step - loss: 0.4422 - accuracy: 0.8435 - val_loss: 0.4323 - val_accuracy: 0.8528\n",
      "Epoch 23/30\n",
      "1719/1719 [==============================] - 3s 2ms/step - loss: 0.4375 - accuracy: 0.8450 - val_loss: 0.4276 - val_accuracy: 0.8512\n",
      "Epoch 24/30\n",
      "1719/1719 [==============================] - 3s 2ms/step - loss: 0.4331 - accuracy: 0.8467 - val_loss: 0.4241 - val_accuracy: 0.8530\n",
      "Epoch 25/30\n",
      "1719/1719 [==============================] - 3s 2ms/step - loss: 0.4290 - accuracy: 0.8479 - val_loss: 0.4201 - val_accuracy: 0.8546\n",
      "Epoch 26/30\n",
      "1719/1719 [==============================] - 3s 2ms/step - loss: 0.4252 - accuracy: 0.8488 - val_loss: 0.4179 - val_accuracy: 0.8554\n",
      "Epoch 27/30\n",
      "1719/1719 [==============================] - 3s 2ms/step - loss: 0.4214 - accuracy: 0.8503 - val_loss: 0.4173 - val_accuracy: 0.8570\n",
      "Epoch 28/30\n",
      "1719/1719 [==============================] - 3s 2ms/step - loss: 0.4180 - accuracy: 0.8517 - val_loss: 0.4147 - val_accuracy: 0.8562\n",
      "Epoch 29/30\n",
      "1719/1719 [==============================] - 3s 2ms/step - loss: 0.4146 - accuracy: 0.8528 - val_loss: 0.4099 - val_accuracy: 0.8586\n",
      "Epoch 30/30\n",
      "1719/1719 [==============================] - 3s 2ms/step - loss: 0.4112 - accuracy: 0.8544 - val_loss: 0.4067 - val_accuracy: 0.8600\n"
     ]
    }
   ],
   "source": [
    "history = model.fit(X_train, y_train, epochs=30, validation_data = (X_val, y_val))"
   ]
  },
  {
   "cell_type": "code",
   "execution_count": 26,
   "metadata": {},
   "outputs": [],
   "source": [
    "model.save('models/ch_11/keras_gerlot_favg.h5')"
   ]
  },
  {
   "cell_type": "code",
   "execution_count": 27,
   "metadata": {},
   "outputs": [
    {
     "data": {
      "image/png": "[encoded data removed]",
      "text/plain": [
       "<Figure size 576x360 with 1 Axes>"
      ]
     },
     "metadata": {
      "needs_background": "light"
     },
     "output_type": "display_data"
    }
   ],
   "source": [
    "pd.DataFrame(history.history).plot(figsize=(8, 5))\n",
    "plt.grid(True)\n",
    "plt.gca().set_ylim(0, 1) # set the vertical range to [0-1]\n",
    "plt.show()"
   ]
  },
  {
   "cell_type": "code",
   "execution_count": 28,
   "metadata": {},
   "outputs": [
    {
     "name": "stdout",
     "output_type": "stream",
     "text": [
      "313/313 [==============================] - 0s 1ms/step - loss: 0.4482 - accuracy: 0.8375\n"
     ]
    },
    {
     "data": {
      "text/plain": [
       "[0.44819024205207825, 0.8374999761581421]"
      ]
     },
     "execution_count": 28,
     "metadata": {},
     "output_type": "execute_result"
    }
   ],
   "source": [
    "model.evaluate(X_test, y_test)"
   ]
  },
  {
   "cell_type": "markdown",
   "metadata": {},
   "source": [
    "### Nonsaturating Activation Functions\n",
    "\n",
    "In 2010 paper by Glorot and Bengio, insights was that the problem with the unstable gradient was the poor choice of activation function. it turned out that activation function other than sigmoid, like relu work much better in deepl learning becaudse it does not saturate and is faster to compute. \n",
    "\n",
    "relu suffers from a problem called dying relu, that is during training some neurons effectively 'die' meaning they stop outputing anythin other than 0. in some cases we find that half of the neurons are dead, especially with high leanring rate. to solve this we use leaky relu. it's defined as max(az,z) parameter a defines how much the relu leaks, it is the slop of z<0, smaller the slop lesser the leak. it can go into long sleep but wakes up after a few layers. \n",
    "\n",
    "in comparision, leaky relu outperform relus. and leaky relu with huge leak perform better than smaller leak relu. randomized leaky relu, where the leak is decided on random also perform fair. paramteric leaky relu where a is authorized to be learned during training. \n",
    "\n",
    "__Exponential Linear Unit (ELU)__\n",
    "\n",
    "\n",
    "exponential linear unit (ELU) outperforms relu variants, with reduced training time.  \n",
    "\n",
    "${ELU}_α (z) = { α(exp (z) − 1) if z < 0  z if z ≥ 0 $"
   ]
  },
  {
   "cell_type": "markdown",
   "metadata": {},
   "source": [
    "The ELU activation function looks a lot like the ReLU function, with a few\n",
    "major differences:\n",
    "\n",
    "- It takes on negative values when z < 0, which allows the unit to have an average output closer to 0 and helps alleviate the vanishing gradients problem. - It has a nonzero gradient for z < 0, which avoids the dead neurons problem.\n",
    "- If α is equal to 1 then the function is smooth everywhere, including around z = 0, which helps speed up Gradient Descent since it does not bounce as much to the left and right of z = 0.\n",
    "\n",
    "The main drawback of the ELU activation function is that it is slower to\n",
    "compute than the ReLU function and its variants"
   ]
  },
  {
   "cell_type": "markdown",
   "metadata": {},
   "source": [
    "__Scaled ELU activation function__\n",
    "\n",
    "if all hidden layers use the SELU activation function, then the network will selfnormalize: the output of each layer will tend to preserve a mean of 0 and\n",
    "standard deviation of 1 during training, which solves the vanishing/exploding gradients problem. As a result, the SELU activation function often significantly outperforms other activation functions for such neural nets (especially deep ones)."
   ]
  },
  {
   "cell_type": "code",
   "execution_count": 36,
   "metadata": {},
   "outputs": [],
   "source": [
    "model = keras.models.Sequential([\n",
    "keras.layers.Flatten(input_shape=[28, 28]),\n",
    "keras.layers.Dense(100,kernel_initializer = \"he_normal\"),\n",
    "keras.layers.LeakyReLU(alpha = 0.2),\n",
    "keras.layers.Dense(100,activation=\"selu\",kernel_initializer=\"lecun_normal\"),\n",
    "keras.layers.Dense(10, activation=\"softmax\")\n",
    "])"
   ]
  },
  {
   "cell_type": "code",
   "execution_count": 37,
   "metadata": {},
   "outputs": [],
   "source": [
    "model.compile(loss=\"sparse_categorical_crossentropy\", optimizer=\"sgd\",metrics=[\"accuracy\"])"
   ]
  },
  {
   "cell_type": "code",
   "execution_count": 38,
   "metadata": {},
   "outputs": [
    {
     "name": "stdout",
     "output_type": "stream",
     "text": [
      "Epoch 1/30\n",
      "1719/1719 [==============================] - 4s 2ms/step - loss: 0.6548 - accuracy: 0.7805 - val_loss: 0.4962 - val_accuracy: 0.8258\n",
      "Epoch 2/30\n",
      "1719/1719 [==============================] - 3s 2ms/step - loss: 0.4712 - accuracy: 0.8338 - val_loss: 0.4319 - val_accuracy: 0.8526\n",
      "Epoch 3/30\n",
      "1719/1719 [==============================] - 3s 2ms/step - loss: 0.4350 - accuracy: 0.8463 - val_loss: 0.4221 - val_accuracy: 0.8532\n",
      "Epoch 4/30\n",
      "1719/1719 [==============================] - 3s 2ms/step - loss: 0.4146 - accuracy: 0.8518 - val_loss: 0.3943 - val_accuracy: 0.8622\n",
      "Epoch 5/30\n",
      "1719/1719 [==============================] - 3s 2ms/step - loss: 0.3985 - accuracy: 0.8583 - val_loss: 0.3956 - val_accuracy: 0.8608\n",
      "Epoch 6/30\n",
      "1719/1719 [==============================] - 3s 2ms/step - loss: 0.3846 - accuracy: 0.8638 - val_loss: 0.3702 - val_accuracy: 0.8746\n",
      "Epoch 7/30\n",
      "1719/1719 [==============================] - 3s 2ms/step - loss: 0.3744 - accuracy: 0.8676 - val_loss: 0.3632 - val_accuracy: 0.8744\n",
      "Epoch 8/30\n",
      "1719/1719 [==============================] - 3s 2ms/step - loss: 0.3634 - accuracy: 0.8717 - val_loss: 0.3812 - val_accuracy: 0.8624\n",
      "Epoch 9/30\n",
      "1719/1719 [==============================] - 3s 2ms/step - loss: 0.3558 - accuracy: 0.8725 - val_loss: 0.3564 - val_accuracy: 0.8752\n",
      "Epoch 10/30\n",
      "1719/1719 [==============================] - 3s 2ms/step - loss: 0.3468 - accuracy: 0.8758 - val_loss: 0.3613 - val_accuracy: 0.8734\n",
      "Epoch 11/30\n",
      "1719/1719 [==============================] - 3s 2ms/step - loss: 0.3405 - accuracy: 0.8775 - val_loss: 0.3565 - val_accuracy: 0.8736\n",
      "Epoch 12/30\n",
      "1719/1719 [==============================] - 3s 2ms/step - loss: 0.3346 - accuracy: 0.8795 - val_loss: 0.3458 - val_accuracy: 0.8778\n",
      "Epoch 13/30\n",
      "1719/1719 [==============================] - 3s 2ms/step - loss: 0.3279 - accuracy: 0.8822 - val_loss: 0.3380 - val_accuracy: 0.8794\n",
      "Epoch 14/30\n",
      "1719/1719 [==============================] - 3s 2ms/step - loss: 0.3220 - accuracy: 0.8848 - val_loss: 0.3358 - val_accuracy: 0.8794\n",
      "Epoch 15/30\n",
      "1719/1719 [==============================] - 3s 2ms/step - loss: 0.3173 - accuracy: 0.8863 - val_loss: 0.3511 - val_accuracy: 0.8738\n",
      "Epoch 16/30\n",
      "1719/1719 [==============================] - 3s 2ms/step - loss: 0.3121 - accuracy: 0.8876 - val_loss: 0.3377 - val_accuracy: 0.8818\n",
      "Epoch 17/30\n",
      "1719/1719 [==============================] - 3s 2ms/step - loss: 0.3066 - accuracy: 0.8891 - val_loss: 0.3356 - val_accuracy: 0.8774\n",
      "Epoch 18/30\n",
      "1719/1719 [==============================] - 3s 2ms/step - loss: 0.3017 - accuracy: 0.8914 - val_loss: 0.3496 - val_accuracy: 0.8778\n",
      "Epoch 19/30\n",
      "1719/1719 [==============================] - 3s 2ms/step - loss: 0.2972 - accuracy: 0.8923 - val_loss: 0.3254 - val_accuracy: 0.8812\n",
      "Epoch 20/30\n",
      "1719/1719 [==============================] - 3s 2ms/step - loss: 0.2932 - accuracy: 0.8949 - val_loss: 0.3317 - val_accuracy: 0.8830\n",
      "Epoch 21/30\n",
      "1719/1719 [==============================] - 3s 2ms/step - loss: 0.2889 - accuracy: 0.8952 - val_loss: 0.3264 - val_accuracy: 0.8836\n",
      "Epoch 22/30\n",
      "1719/1719 [==============================] - 3s 2ms/step - loss: 0.2851 - accuracy: 0.8975 - val_loss: 0.3323 - val_accuracy: 0.8816\n",
      "Epoch 23/30\n",
      "1719/1719 [==============================] - 3s 2ms/step - loss: 0.2808 - accuracy: 0.8984 - val_loss: 0.3259 - val_accuracy: 0.8848\n",
      "Epoch 24/30\n",
      "1719/1719 [==============================] - 3s 2ms/step - loss: 0.2782 - accuracy: 0.9003 - val_loss: 0.3160 - val_accuracy: 0.8856\n",
      "Epoch 25/30\n",
      "1719/1719 [==============================] - 3s 2ms/step - loss: 0.2743 - accuracy: 0.9008 - val_loss: 0.3254 - val_accuracy: 0.8838\n",
      "Epoch 26/30\n",
      "1719/1719 [==============================] - 3s 2ms/step - loss: 0.2722 - accuracy: 0.9009 - val_loss: 0.3158 - val_accuracy: 0.8850\n",
      "Epoch 27/30\n",
      "1719/1719 [==============================] - 3s 2ms/step - loss: 0.2688 - accuracy: 0.9031 - val_loss: 0.3136 - val_accuracy: 0.8866\n",
      "Epoch 28/30\n",
      "1719/1719 [==============================] - 3s 2ms/step - loss: 0.2642 - accuracy: 0.9035 - val_loss: 0.3333 - val_accuracy: 0.8802\n",
      "Epoch 29/30\n",
      "1719/1719 [==============================] - 3s 2ms/step - loss: 0.2618 - accuracy: 0.9053 - val_loss: 0.3085 - val_accuracy: 0.8888\n",
      "Epoch 30/30\n",
      "1719/1719 [==============================] - 3s 2ms/step - loss: 0.2591 - accuracy: 0.9062 - val_loss: 0.3131 - val_accuracy: 0.8908\n"
     ]
    }
   ],
   "source": [
    "history = model.fit(X_train, y_train, epochs=30, validation_data = (X_val, y_val))"
   ]
  },
  {
   "cell_type": "code",
   "execution_count": 39,
   "metadata": {},
   "outputs": [],
   "source": [
    "model.save('models/ch_11/keras_relu_selu.h5')"
   ]
  },
  {
   "cell_type": "code",
   "execution_count": 40,
   "metadata": {},
   "outputs": [
    {
     "name": "stdout",
     "output_type": "stream",
     "text": [
      "313/313 [==============================] - 0s 1ms/step - loss: 0.3496 - accuracy: 0.8740\n"
     ]
    },
    {
     "data": {
      "text/plain": [
       "[0.34964653849601746, 0.8740000128746033]"
      ]
     },
     "execution_count": 40,
     "metadata": {},
     "output_type": "execute_result"
    }
   ],
   "source": [
    "model.evaluate(X_test, y_test)"
   ]
  },
  {
   "cell_type": "markdown",
   "metadata": {},
   "source": [
    "### Batch Normalization\n",
    "\n",
    "BN is done before and after a each hidden layer, where the input is zero centered and normalized and output is shifted using the two new paramter vectors per layer, one for scaling and another for shifting. In order to zero-center and normalize the inputs, the algorithm needs to estimate each input’s mean and standard deviation. It does so by evaluating the mean and standard deviation of the input over the current mini-batch (hence the name “Batch Normalization”). Batch Normalization acts like a regularizer, reducing the need for other regularization techniques.\n",
    "\n",
    "\n",
    "Moreover, there is a runtime penalty: the neural network makes slower predictions due to the extra computations required at each layer. Fortunately, it’s often possible to fuse the BN layer with the previous layer, after training, thereby avoiding the runtime penalty. This is done by updating the previous layer’s weights and biases so that it directly produces outputs of the appropriate scale and offset. the training time is slow but the convergence is faster, hence the epoches required for opitmal solution is lesser. \n"
   ]
  },
  {
   "cell_type": "code",
   "execution_count": 9,
   "metadata": {},
   "outputs": [],
   "source": [
    "model = keras.models.Sequential([\n",
    "    keras.layers.Flatten(input_shape = [28,28]),\n",
    "    keras.layers.BatchNormalization(),\n",
    "    keras.layers.Dense(300, activation = \"elu\", kernel_initializer = \"he_normal\"),\n",
    "    keras.layers.BatchNormalization(),\n",
    "    keras.layers.Dense(100, activation = \"elu\", kernel_initializer = \"he_normal\"),\n",
    "    keras.layers.BatchNormalization(),\n",
    "    keras.layers.Dense(10, activation = \"softmax\")\n",
    "])"
   ]
  },
  {
   "cell_type": "code",
   "execution_count": 10,
   "metadata": {},
   "outputs": [
    {
     "name": "stdout",
     "output_type": "stream",
     "text": [
      "Model: \"sequential\"\n",
      "_________________________________________________________________\n",
      "Layer (type)                 Output Shape              Param #   \n",
      "=================================================================\n",
      "flatten (Flatten)            (None, 784)               0         \n",
      "_________________________________________________________________\n",
      "batch_normalization (BatchNo (None, 784)               3136      \n",
      "_________________________________________________________________\n",
      "dense (Dense)                (None, 300)               235500    \n",
      "_________________________________________________________________\n",
      "batch_normalization_1 (Batch (None, 300)               1200      \n",
      "_________________________________________________________________\n",
      "dense_1 (Dense)              (None, 100)               30100     \n",
      "_________________________________________________________________\n",
      "batch_normalization_2 (Batch (None, 100)               400       \n",
      "_________________________________________________________________\n",
      "dense_2 (Dense)              (None, 10)                1010      \n",
      "=================================================================\n",
      "Total params: 271,346\n",
      "Trainable params: 268,978\n",
      "Non-trainable params: 2,368\n",
      "_________________________________________________________________\n"
     ]
    }
   ],
   "source": [
    "model.summary()"
   ]
  },
  {
   "cell_type": "code",
   "execution_count": 11,
   "metadata": {},
   "outputs": [
    {
     "data": {
      "text/plain": [
       "[('batch_normalization/gamma:0', True),\n",
       " ('batch_normalization/beta:0', True),\n",
       " ('batch_normalization/moving_mean:0', False),\n",
       " ('batch_normalization/moving_variance:0', False)]"
      ]
     },
     "execution_count": 11,
     "metadata": {},
     "output_type": "execute_result"
    }
   ],
   "source": [
    "##paramters for first bn layer\n",
    "[(var.name, var.trainable) for var in model.layers[1].variables]"
   ]
  },
  {
   "cell_type": "code",
   "execution_count": 12,
   "metadata": {},
   "outputs": [
    {
     "data": {
      "text/plain": [
       "[('dense/kernel:0', True), ('dense/bias:0', True)]"
      ]
     },
     "execution_count": 12,
     "metadata": {},
     "output_type": "execute_result"
    }
   ],
   "source": [
    "[(var.name, var.trainable) for var in model.layers[2].variables]"
   ]
  },
  {
   "cell_type": "code",
   "execution_count": 13,
   "metadata": {},
   "outputs": [
    {
     "data": {
      "text/plain": [
       "[('batch_normalization_1/gamma:0', True),\n",
       " ('batch_normalization_1/beta:0', True),\n",
       " ('batch_normalization_1/moving_mean:0', False),\n",
       " ('batch_normalization_1/moving_variance:0', False)]"
      ]
     },
     "execution_count": 13,
     "metadata": {},
     "output_type": "execute_result"
    }
   ],
   "source": [
    "[(var.name, var.trainable) for var in model.layers[3].variables]"
   ]
  },
  {
   "cell_type": "code",
   "execution_count": 17,
   "metadata": {},
   "outputs": [
    {
     "data": {
      "text/plain": [
       "[]"
      ]
     },
     "execution_count": 17,
     "metadata": {},
     "output_type": "execute_result"
    }
   ],
   "source": [
    "model.layers[1].updates"
   ]
  },
  {
   "cell_type": "code",
   "execution_count": 18,
   "metadata": {},
   "outputs": [
    {
     "name": "stdout",
     "output_type": "stream",
     "text": [
      "Epoch 1/30\n",
      "1719/1719 [==============================] - 15s 6ms/step - loss: 0.5524 - accuracy: 0.8062 - val_loss: 0.4094 - val_accuracy: 0.8600\n",
      "Epoch 2/30\n",
      "1719/1719 [==============================] - 10s 6ms/step - loss: 0.4248 - accuracy: 0.8497 - val_loss: 0.3795 - val_accuracy: 0.8684\n",
      "Epoch 3/30\n",
      "1719/1719 [==============================] - 10s 6ms/step - loss: 0.3871 - accuracy: 0.8639 - val_loss: 0.3587 - val_accuracy: 0.8718\n",
      "Epoch 4/30\n",
      "1719/1719 [==============================] - 10s 6ms/step - loss: 0.3649 - accuracy: 0.8699 - val_loss: 0.3458 - val_accuracy: 0.8756\n",
      "Epoch 5/30\n",
      "1719/1719 [==============================] - 10s 6ms/step - loss: 0.3455 - accuracy: 0.8765 - val_loss: 0.3418 - val_accuracy: 0.8784\n",
      "Epoch 6/30\n",
      "1719/1719 [==============================] - 10s 6ms/step - loss: 0.3291 - accuracy: 0.8822 - val_loss: 0.3278 - val_accuracy: 0.8814\n",
      "Epoch 7/30\n",
      "1719/1719 [==============================] - 10s 6ms/step - loss: 0.3186 - accuracy: 0.8837 - val_loss: 0.3278 - val_accuracy: 0.8820\n",
      "Epoch 8/30\n",
      "1719/1719 [==============================] - 10s 6ms/step - loss: 0.3057 - accuracy: 0.8904 - val_loss: 0.3250 - val_accuracy: 0.8842\n",
      "Epoch 9/30\n",
      "1719/1719 [==============================] - 9s 6ms/step - loss: 0.2971 - accuracy: 0.8923 - val_loss: 0.3214 - val_accuracy: 0.8822\n",
      "Epoch 10/30\n",
      "1719/1719 [==============================] - 9s 5ms/step - loss: 0.2898 - accuracy: 0.8938 - val_loss: 0.3169 - val_accuracy: 0.8860\n",
      "Epoch 11/30\n",
      "1719/1719 [==============================] - 10s 6ms/step - loss: 0.2797 - accuracy: 0.8976 - val_loss: 0.3234 - val_accuracy: 0.8806\n",
      "Epoch 12/30\n",
      "1719/1719 [==============================] - 11s 6ms/step - loss: 0.2715 - accuracy: 0.9018 - val_loss: 0.3186 - val_accuracy: 0.8854\n",
      "Epoch 13/30\n",
      "1719/1719 [==============================] - 10s 6ms/step - loss: 0.2655 - accuracy: 0.9029 - val_loss: 0.3134 - val_accuracy: 0.8836\n",
      "Epoch 14/30\n",
      "1719/1719 [==============================] - 9s 5ms/step - loss: 0.2570 - accuracy: 0.9056 - val_loss: 0.3118 - val_accuracy: 0.8904\n",
      "Epoch 15/30\n",
      "1719/1719 [==============================] - 9s 6ms/step - loss: 0.2505 - accuracy: 0.9094 - val_loss: 0.3151 - val_accuracy: 0.8878\n",
      "Epoch 16/30\n",
      "1719/1719 [==============================] - 10s 6ms/step - loss: 0.2462 - accuracy: 0.9111 - val_loss: 0.3074 - val_accuracy: 0.8886\n",
      "Epoch 17/30\n",
      "1719/1719 [==============================] - 11s 6ms/step - loss: 0.2384 - accuracy: 0.9128 - val_loss: 0.3073 - val_accuracy: 0.8912\n",
      "Epoch 18/30\n",
      "1719/1719 [==============================] - 10s 6ms/step - loss: 0.2311 - accuracy: 0.9166 - val_loss: 0.3158 - val_accuracy: 0.8850\n",
      "Epoch 19/30\n",
      "1719/1719 [==============================] - 9s 5ms/step - loss: 0.2279 - accuracy: 0.9179 - val_loss: 0.3076 - val_accuracy: 0.8884\n",
      "Epoch 20/30\n",
      "1719/1719 [==============================] - 10s 6ms/step - loss: 0.2214 - accuracy: 0.9198 - val_loss: 0.3060 - val_accuracy: 0.8906\n",
      "Epoch 21/30\n",
      "1719/1719 [==============================] - 9s 6ms/step - loss: 0.2185 - accuracy: 0.9194 - val_loss: 0.2999 - val_accuracy: 0.8926\n",
      "Epoch 22/30\n",
      "1719/1719 [==============================] - 9s 6ms/step - loss: 0.2139 - accuracy: 0.9224 - val_loss: 0.3154 - val_accuracy: 0.8878\n",
      "Epoch 23/30\n",
      "1719/1719 [==============================] - 11s 6ms/step - loss: 0.2085 - accuracy: 0.9230 - val_loss: 0.3092 - val_accuracy: 0.8880\n",
      "Epoch 24/30\n",
      "1719/1719 [==============================] - 10s 6ms/step - loss: 0.2037 - accuracy: 0.9259 - val_loss: 0.3109 - val_accuracy: 0.8920\n",
      "Epoch 25/30\n",
      "1719/1719 [==============================] - 10s 6ms/step - loss: 0.1997 - accuracy: 0.9269 - val_loss: 0.3208 - val_accuracy: 0.8870\n",
      "Epoch 26/30\n",
      "1719/1719 [==============================] - 9s 5ms/step - loss: 0.1930 - accuracy: 0.9299 - val_loss: 0.3058 - val_accuracy: 0.8938\n",
      "Epoch 27/30\n",
      "1719/1719 [==============================] - 9s 5ms/step - loss: 0.1915 - accuracy: 0.9303 - val_loss: 0.3120 - val_accuracy: 0.8892\n",
      "Epoch 28/30\n",
      "1719/1719 [==============================] - 9s 6ms/step - loss: 0.1880 - accuracy: 0.9315 - val_loss: 0.3166 - val_accuracy: 0.8942\n",
      "Epoch 29/30\n",
      "1719/1719 [==============================] - 10s 6ms/step - loss: 0.1842 - accuracy: 0.9336 - val_loss: 0.3100 - val_accuracy: 0.8936\n",
      "Epoch 30/30\n",
      "1719/1719 [==============================] - 9s 5ms/step - loss: 0.1809 - accuracy: 0.9334 - val_loss: 0.3267 - val_accuracy: 0.8912\n",
      "313/313 [==============================] - 1s 3ms/step - loss: 0.3493 - accuracy: 0.8855\n"
     ]
    },
    {
     "data": {
      "text/plain": [
       "[0.3493002951145172, 0.8855000138282776]"
      ]
     },
     "execution_count": 18,
     "metadata": {},
     "output_type": "execute_result"
    }
   ],
   "source": [
    "model.compile(loss=\"sparse_categorical_crossentropy\", optimizer=\"sgd\",metrics=[\"accuracy\"])\n",
    "history = model.fit(X_train, y_train, epochs=30, validation_data = (X_val, y_val))\n",
    "model.save('models/ch_11/keras_bn_1.h5')\n",
    "model.evaluate(X_test, y_test)"
   ]
  },
  {
   "cell_type": "markdown",
   "metadata": {},
   "source": [
    "To add the BN layers before the activation functions, we must remove the activation function from the hidden layers and add them as separate layers after the BN layers. Batch Normalization layer includes one offset parameter per input, we can remove the bias term from the previous layer (just pass use_bias=False when creating it)"
   ]
  },
  {
   "cell_type": "code",
   "execution_count": 19,
   "metadata": {},
   "outputs": [],
   "source": [
    "model = keras.models.Sequential([\n",
    "keras.layers.Flatten(input_shape=[28, 28]),\n",
    "keras.layers.BatchNormalization(),\n",
    "keras.layers.Dense(300, kernel_initializer=\"he_normal\", use_bias=False),\n",
    "keras.layers.BatchNormalization(),\n",
    "keras.layers.Activation(\"elu\"),\n",
    "keras.layers.Dense(100, kernel_initializer=\"he_normal\", use_bias=False),\n",
    "keras.layers.BatchNormalization(),\n",
    "keras.layers.Activation(\"elu\"),\n",
    "keras.layers.Dense(10, activation=\"softmax\")\n",
    "])"
   ]
  },
  {
   "cell_type": "code",
   "execution_count": 20,
   "metadata": {},
   "outputs": [
    {
     "name": "stdout",
     "output_type": "stream",
     "text": [
      "Epoch 1/30\n",
      "1719/1719 [==============================] - 14s 8ms/step - loss: 0.5660 - accuracy: 0.8062 - val_loss: 0.4278 - val_accuracy: 0.8516\n",
      "Epoch 2/30\n",
      "1719/1719 [==============================] - 10s 6ms/step - loss: 0.4406 - accuracy: 0.8447 - val_loss: 0.3936 - val_accuracy: 0.8676\n",
      "Epoch 3/30\n",
      "1719/1719 [==============================] - 10s 6ms/step - loss: 0.4071 - accuracy: 0.8558 - val_loss: 0.3789 - val_accuracy: 0.8704\n",
      "Epoch 4/30\n",
      "1719/1719 [==============================] - 11s 7ms/step - loss: 0.3838 - accuracy: 0.8643 - val_loss: 0.3620 - val_accuracy: 0.8752\n",
      "Epoch 5/30\n",
      "1719/1719 [==============================] - 10s 6ms/step - loss: 0.3652 - accuracy: 0.8691 - val_loss: 0.3536 - val_accuracy: 0.8754\n",
      "Epoch 6/30\n",
      "1719/1719 [==============================] - 9s 5ms/step - loss: 0.3498 - accuracy: 0.8763 - val_loss: 0.3470 - val_accuracy: 0.8762\n",
      "Epoch 7/30\n",
      "1719/1719 [==============================] - 9s 5ms/step - loss: 0.3372 - accuracy: 0.8800 - val_loss: 0.3419 - val_accuracy: 0.8802\n",
      "Epoch 8/30\n",
      "1719/1719 [==============================] - 10s 6ms/step - loss: 0.3268 - accuracy: 0.8823 - val_loss: 0.3462 - val_accuracy: 0.8790\n",
      "Epoch 9/30\n",
      "1719/1719 [==============================] - 9s 5ms/step - loss: 0.3152 - accuracy: 0.8875 - val_loss: 0.3371 - val_accuracy: 0.8820\n",
      "Epoch 10/30\n",
      "1719/1719 [==============================] - 9s 5ms/step - loss: 0.3064 - accuracy: 0.8899 - val_loss: 0.3311 - val_accuracy: 0.8848\n",
      "Epoch 11/30\n",
      "1719/1719 [==============================] - 10s 6ms/step - loss: 0.2980 - accuracy: 0.8917 - val_loss: 0.3327 - val_accuracy: 0.8822\n",
      "Epoch 12/30\n",
      "1719/1719 [==============================] - 10s 6ms/step - loss: 0.2901 - accuracy: 0.8967 - val_loss: 0.3278 - val_accuracy: 0.8830\n",
      "Epoch 13/30\n",
      "1719/1719 [==============================] - 10s 6ms/step - loss: 0.2814 - accuracy: 0.8983 - val_loss: 0.3294 - val_accuracy: 0.8846\n",
      "Epoch 14/30\n",
      "1719/1719 [==============================] - 9s 5ms/step - loss: 0.2748 - accuracy: 0.9012 - val_loss: 0.3207 - val_accuracy: 0.8846\n",
      "Epoch 15/30\n",
      "1719/1719 [==============================] - 9s 5ms/step - loss: 0.2685 - accuracy: 0.9017 - val_loss: 0.3167 - val_accuracy: 0.8862\n",
      "Epoch 16/30\n",
      "1719/1719 [==============================] - 10s 6ms/step - loss: 0.2598 - accuracy: 0.9056 - val_loss: 0.3325 - val_accuracy: 0.8830\n",
      "Epoch 17/30\n",
      "1719/1719 [==============================] - 9s 6ms/step - loss: 0.2550 - accuracy: 0.9078 - val_loss: 0.3164 - val_accuracy: 0.8868\n",
      "Epoch 18/30\n",
      "1719/1719 [==============================] - 9s 5ms/step - loss: 0.2510 - accuracy: 0.9091 - val_loss: 0.3267 - val_accuracy: 0.8864\n",
      "Epoch 19/30\n",
      "1719/1719 [==============================] - 9s 5ms/step - loss: 0.2438 - accuracy: 0.9111 - val_loss: 0.3299 - val_accuracy: 0.8844\n",
      "Epoch 20/30\n",
      "1719/1719 [==============================] - 10s 6ms/step - loss: 0.2398 - accuracy: 0.9138 - val_loss: 0.3161 - val_accuracy: 0.8864\n",
      "Epoch 21/30\n",
      "1719/1719 [==============================] - 9s 5ms/step - loss: 0.2331 - accuracy: 0.9158 - val_loss: 0.3137 - val_accuracy: 0.8874\n",
      "Epoch 22/30\n",
      "1719/1719 [==============================] - 9s 5ms/step - loss: 0.2313 - accuracy: 0.9167 - val_loss: 0.3128 - val_accuracy: 0.8920\n",
      "Epoch 23/30\n",
      "1719/1719 [==============================] - 10s 6ms/step - loss: 0.2247 - accuracy: 0.9179 - val_loss: 0.3205 - val_accuracy: 0.8884\n",
      "Epoch 24/30\n",
      "1719/1719 [==============================] - 9s 5ms/step - loss: 0.2192 - accuracy: 0.9206 - val_loss: 0.3136 - val_accuracy: 0.8872\n",
      "Epoch 25/30\n",
      "1719/1719 [==============================] - 10s 6ms/step - loss: 0.2179 - accuracy: 0.9207 - val_loss: 0.3180 - val_accuracy: 0.8870\n",
      "Epoch 26/30\n",
      "1719/1719 [==============================] - 9s 6ms/step - loss: 0.2107 - accuracy: 0.9242 - val_loss: 0.3124 - val_accuracy: 0.8904\n",
      "Epoch 27/30\n",
      "1719/1719 [==============================] - 10s 6ms/step - loss: 0.2063 - accuracy: 0.9248 - val_loss: 0.3132 - val_accuracy: 0.8922\n",
      "Epoch 28/30\n",
      "1719/1719 [==============================] - 9s 5ms/step - loss: 0.2040 - accuracy: 0.9269 - val_loss: 0.3121 - val_accuracy: 0.8898\n",
      "Epoch 29/30\n",
      "1719/1719 [==============================] - 9s 5ms/step - loss: 0.1987 - accuracy: 0.9275 - val_loss: 0.3143 - val_accuracy: 0.8882\n",
      "Epoch 30/30\n",
      "1719/1719 [==============================] - 9s 5ms/step - loss: 0.1949 - accuracy: 0.9301 - val_loss: 0.3295 - val_accuracy: 0.8856\n",
      "313/313 [==============================] - 1s 3ms/step - loss: 0.3542 - accuracy: 0.8816\n"
     ]
    },
    {
     "data": {
      "text/plain": [
       "[0.35423582792282104, 0.881600022315979]"
      ]
     },
     "execution_count": 20,
     "metadata": {},
     "output_type": "execute_result"
    }
   ],
   "source": [
    "model.compile(loss=\"sparse_categorical_crossentropy\", optimizer=\"sgd\",metrics=[\"accuracy\"])\n",
    "history = model.fit(X_train, y_train, epochs=30, validation_data = (X_val, y_val))\n",
    "model.save('models/ch_11/keras_bn_2.h5')\n",
    "model.evaluate(X_test, y_test)"
   ]
  },
  {
   "cell_type": "markdown",
   "metadata": {},
   "source": [
    "__BN hyperparameters__\n",
    "\n",
    "1. Momentum\n",
    "The BatchNormalization class has quite a few hyperparameters we can tweak. The defaults will usually be fine, but you may occasionally need to tweak the momentum. This hyperparameter is used by the BatchNormalization layer when it updates the exponential moving averages; given a new value v. A good momentum value is typically close to 1; for example, 0.9, 0.99, or 0.999\n",
    "\n",
    "2. Axis\n",
    "it determines which axis should be normalized. It defaults to –1, meaning that by default it will normalize the last axis. \n",
    "\n",
    "### Gradient Clipping\n",
    "\n",
    "Another popular technique to mitigate the exploding gradients problem is to clip the gradients during backpropagation so that they never exceed some threshold. It is often used in RNN, since BN is tricky to use. In Keras, implementing Gradient Clipping is just a matter of setting the clipvalue or clipnorm argument when creating an optimizer.\n",
    "\n",
    "`optimizer = keras.optimizers.SGD(clipvalue=1.0)`\n",
    "`model.compile(loss=\"mse\", optimizer=optimizer)`\n",
    "\n",
    "to ensure that Gradient Clipping does not change the direction of the gradient vector, you should clip by norm by setting clipnorm instead of clipvalue.\n",
    "\n",
    "\n",
    "### Reusing Pretrained Layers\n",
    "\n",
    "we don't usually train the neural network from scratch, we often use the lower layers from a already trained model and build upon it. it's called transfer learning. it reduces the training time and requires very less trianing data. "
   ]
  },
  {
   "cell_type": "markdown",
   "metadata": {},
   "source": [
    "The output layer of the original model should usually be replaced because it\n",
    "is most likely not useful at all for the new task, and it may not even have the\n",
    "right number of outputs for the new task. Similarly, the upper hidden layers of the original model are less likely to be as useful as the lower layers, since the high-level features that are most useful for the new task may differ significantly from the ones that were most useful for the original task. we want to find the right number of layers to reuse. The more similar the tasks are, the more layers you want to reuse (starting with the lower layers). For very similar tasks, try keeping all the hidden layers and just replacing\n",
    "the output layer.\n",
    "\n",
    "#### Transfer Learning with Keras\n",
    "\n",
    "load model A and create a new model based on that model’s layers. Let’s reuse all the layers except for the output layer"
   ]
  },
  {
   "cell_type": "code",
   "execution_count": 52,
   "metadata": {},
   "outputs": [],
   "source": [
    "model_A = keras.models.load_model(\"models/ch_11/keras_bn_2.h5\")\n",
    "model_B_on_A = keras.models.Sequential(model_A.layers[:-1])\n",
    "model_B_on_A.add(keras.layers.Dense(10, activation=\"softmax\"))"
   ]
  },
  {
   "cell_type": "markdown",
   "metadata": {},
   "source": [
    "When we train model_B_on_A, it will also affect model_A. If you want to avoid that, you need to clone model_A before you reuse its layers."
   ]
  },
  {
   "cell_type": "code",
   "execution_count": 53,
   "metadata": {},
   "outputs": [],
   "source": [
    "model_A_clone = keras.models.clone_model(model_A)"
   ]
  },
  {
   "cell_type": "code",
   "execution_count": 54,
   "metadata": {},
   "outputs": [],
   "source": [
    "model_A_clone.set_weights(model_A.get_weights())"
   ]
  },
  {
   "cell_type": "markdown",
   "metadata": {},
   "source": [
    "Now we could train model_B_on_A for task B, but since the new output layer was initialized randomly it will make large errors (at least during the first few epochs), so there will be large error gradients that may wreck the reused weights. To avoid this, one approach is to freeze the reused layers during the first few epochs, giving the new layer some time to learn reasonable weights. To do this, set every layer’s trainable attribute to False and compile the model. we must always compile your model after you freeze or unfreeze layers."
   ]
  },
  {
   "cell_type": "code",
   "execution_count": 55,
   "metadata": {},
   "outputs": [],
   "source": [
    "for layer in model_B_on_A.layers[:-1]:\n",
    "    layer.trainable = False"
   ]
  },
  {
   "cell_type": "code",
   "execution_count": 58,
   "metadata": {},
   "outputs": [],
   "source": [
    "model_B_on_A.compile(loss=\"sparse_categorical_crossentropy\", optimizer=\"sgd\",metrics=[\"accuracy\"])"
   ]
  },
  {
   "cell_type": "markdown",
   "metadata": {},
   "source": [
    "Now you can train the model for a few epochs, then unfreeze the reused layers (which requires compiling the model again) and continue training to fine-tune the reused layers for task B. After unfreezing the reused layers, it is usually a good idea to reduce the learning rate, once again to avoid damaging the reused weights."
   ]
  },
  {
   "cell_type": "code",
   "execution_count": 59,
   "metadata": {},
   "outputs": [
    {
     "name": "stdout",
     "output_type": "stream",
     "text": [
      "Epoch 1/4\n",
      "1719/1719 [==============================] - 8s 3ms/step - loss: 0.5014 - accuracy: 0.8434 - val_loss: 0.3561 - val_accuracy: 0.8744\n",
      "Epoch 2/4\n",
      "1719/1719 [==============================] - 5s 3ms/step - loss: 0.2393 - accuracy: 0.9237 - val_loss: 0.3227 - val_accuracy: 0.8828\n",
      "Epoch 3/4\n",
      "1719/1719 [==============================] - 5s 3ms/step - loss: 0.2038 - accuracy: 0.9345 - val_loss: 0.3122 - val_accuracy: 0.8880\n",
      "Epoch 4/4\n",
      "1719/1719 [==============================] - 5s 3ms/step - loss: 0.1860 - accuracy: 0.9403 - val_loss: 0.3090 - val_accuracy: 0.8868\n"
     ]
    }
   ],
   "source": [
    "history = model_B_on_A.fit(X_train, y_train, epochs = 4, validation_data = (X_val, y_val))"
   ]
  },
  {
   "cell_type": "code",
   "execution_count": 60,
   "metadata": {},
   "outputs": [],
   "source": [
    "for layer in model_B_on_A.layers[:-1]:\n",
    "    layer.trainable = True"
   ]
  },
  {
   "cell_type": "code",
   "execution_count": 61,
   "metadata": {},
   "outputs": [],
   "source": [
    "optimizer = keras.optimizers.SGD(lr = 1e-4) ##default is 1e-2"
   ]
  },
  {
   "cell_type": "code",
   "execution_count": 62,
   "metadata": {},
   "outputs": [],
   "source": [
    "model_B_on_A.compile(loss=\"sparse_categorical_crossentropy\", optimizer=\"sgd\",metrics=[\"accuracy\"])"
   ]
  },
  {
   "cell_type": "code",
   "execution_count": 63,
   "metadata": {},
   "outputs": [
    {
     "name": "stdout",
     "output_type": "stream",
     "text": [
      "Epoch 1/16\n",
      "1719/1719 [==============================] - 11s 6ms/step - loss: 0.2180 - accuracy: 0.9242 - val_loss: 0.3094 - val_accuracy: 0.8896\n",
      "Epoch 2/16\n",
      "1719/1719 [==============================] - 10s 6ms/step - loss: 0.2052 - accuracy: 0.9265 - val_loss: 0.3175 - val_accuracy: 0.8860\n",
      "Epoch 3/16\n",
      "1719/1719 [==============================] - 10s 6ms/step - loss: 0.1971 - accuracy: 0.9300 - val_loss: 0.3120 - val_accuracy: 0.8916\n",
      "Epoch 4/16\n",
      "1719/1719 [==============================] - 10s 6ms/step - loss: 0.1926 - accuracy: 0.9309 - val_loss: 0.3140 - val_accuracy: 0.8900\n",
      "Epoch 5/16\n",
      "1719/1719 [==============================] - 10s 6ms/step - loss: 0.1883 - accuracy: 0.9319 - val_loss: 0.3155 - val_accuracy: 0.8914\n",
      "Epoch 6/16\n",
      "1719/1719 [==============================] - 10s 6ms/step - loss: 0.1845 - accuracy: 0.9336 - val_loss: 0.3188 - val_accuracy: 0.8886\n",
      "Epoch 7/16\n",
      "1719/1719 [==============================] - 10s 6ms/step - loss: 0.1797 - accuracy: 0.9355 - val_loss: 0.3126 - val_accuracy: 0.8908\n",
      "Epoch 8/16\n",
      "1719/1719 [==============================] - 10s 6ms/step - loss: 0.1757 - accuracy: 0.9364 - val_loss: 0.3261 - val_accuracy: 0.8884\n",
      "Epoch 9/16\n",
      "1719/1719 [==============================] - 10s 6ms/step - loss: 0.1735 - accuracy: 0.9384 - val_loss: 0.3150 - val_accuracy: 0.8924\n",
      "Epoch 10/16\n",
      "1719/1719 [==============================] - 10s 6ms/step - loss: 0.1662 - accuracy: 0.9400 - val_loss: 0.3283 - val_accuracy: 0.8876\n",
      "Epoch 11/16\n",
      "1719/1719 [==============================] - 9s 5ms/step - loss: 0.1660 - accuracy: 0.9390 - val_loss: 0.3410 - val_accuracy: 0.8890\n",
      "Epoch 12/16\n",
      "1719/1719 [==============================] - 10s 6ms/step - loss: 0.1628 - accuracy: 0.9411 - val_loss: 0.3233 - val_accuracy: 0.8920\n",
      "Epoch 13/16\n",
      "1719/1719 [==============================] - 9s 6ms/step - loss: 0.1563 - accuracy: 0.9436 - val_loss: 0.3358 - val_accuracy: 0.8930\n",
      "Epoch 14/16\n",
      "1719/1719 [==============================] - 10s 6ms/step - loss: 0.1576 - accuracy: 0.9430 - val_loss: 0.3295 - val_accuracy: 0.8890\n",
      "Epoch 15/16\n",
      "1719/1719 [==============================] - 10s 6ms/step - loss: 0.1543 - accuracy: 0.9449 - val_loss: 0.3263 - val_accuracy: 0.8934\n",
      "Epoch 16/16\n",
      "1719/1719 [==============================] - 10s 6ms/step - loss: 0.1510 - accuracy: 0.9455 - val_loss: 0.3371 - val_accuracy: 0.8870\n"
     ]
    }
   ],
   "source": [
    "history = model_B_on_A.fit(X_train, y_train, epochs = 16, validation_data = (X_val, y_val))"
   ]
  },
  {
   "cell_type": "code",
   "execution_count": 65,
   "metadata": {},
   "outputs": [
    {
     "name": "stdout",
     "output_type": "stream",
     "text": [
      "313/313 [==============================] - 1s 3ms/step - loss: 0.3562 - accuracy: 0.8879\n"
     ]
    },
    {
     "data": {
      "text/plain": [
       "[0.35621777176856995, 0.8878999948501587]"
      ]
     },
     "execution_count": 65,
     "metadata": {},
     "output_type": "execute_result"
    }
   ],
   "source": [
    "model_B_on_A.evaluate(X_test, y_test)"
   ]
  },
  {
   "cell_type": "markdown",
   "metadata": {},
   "source": [
    "here we only removed the outer layer and replace with a similar layer so the perofrmance stays the same. \n",
    "\n",
    "transfer learning does not work very well with small dense networks, presumably because small networks learn few patterns, and dense networks learn very specific patterns, which are unlikely to be useful in other tasks. Transfer learning works best with deep convolutional neural networks, which tend to learn feature detectors that are much more general (especially in the lower layers)."
   ]
  },
  {
   "cell_type": "markdown",
   "metadata": {},
   "source": [
    "### Unsupervised Pretraining\n",
    "\n",
    "if we cannot find a good amount of training data or a pretrained model we can try using unsupervised pretraining. it's cheaper to grather a lot of training data and then train one unsupervised model like autoencoder or a genrative adversial network. then we can reuse the lower layers of the autoencoder or the lower layers of GAN discriminator add the output layer for the task on top, and fine tune the final network usign supervised learning.\n",
    "\n",
    "#### Pretraining on an Auxiliary Task\n",
    "\n",
    "if we do not have a lot of trainign data, last option is to train a neural network on an auxillary task for which we can easily obtain or generate labeled training data. then reuse the lower layers of the network for the actual task. \n",
    "\n",
    "for nlp task, we can download a corpus of millions of text document and automatically generate labeled data from it.\n",
    "\n",
    "\n",
    "### Faster Optimizers\n",
    "\n",
    "we can speed up the training in 4 ways:\n",
    "- applyign a good initalization strategy\n",
    "- good activation function\n",
    "- using batch normalization\n",
    "- reusing the parts of a pretrained network\n",
    "\n",
    "we can also use a faster optmizer then the regular gradient descent. \n",
    "\n",
    "__Momentum Optimzation__\n",
    "\n",
    "regular gd takes regular steps down the slop, momentum optimizer speeds up on nearing the down slope. Momentum optimization cares a great deal about what previous gradients were: at each iteration, it subtracts the local gradient from the momentum vector m (multiplied by the learning rate η), and it updates the weights by adding this momentum vector. In other words, the gradient is used for acceleration, not for speed.  To simulate some sort of friction mechanism and prevent the momentum from growing too large, the algorithm introduces a new hyperparameter β, called the momentum, which must be set between 0 (high friction) and 1 (no friction). A typical momentum value is 0.9.\n",
    "\n",
    "implementing the momentum in scikit\n",
    "\n",
    "`optimizer = keras.optimizers.SGD(lr=0.001, momentum=0.9)`\n",
    "\n",
    "__Nesterov Accelerated Gradient__\n",
    "\n",
    "it works same as momentum, but uses the value of a little farther away to define the momentum. This small tweak works because in general the momentum vector will be pointing in the right direction. NAG is generally faster than regular momentum optimization\n",
    "\n",
    "`optimizer = keras.optimizers.SGD(lr=0.001, momentum=0.9, nesterov=True)`\n",
    "\n",
    "__AdaGrad__\n",
    "\n",
    "AG achieves a correction in direction more towrds the global minimum by scaling down the gradient vector along the steepest dimensions. In short, this algorithm decays the learning rate, but it does so faster for steep dimensions than for dimensions with gentler slopes. This is called an adaptive learning rate. It helps point the resulting updates more directly toward the global optimum.\n",
    "\n",
    "AdaGrad frequently performs well for simple quadratic problems, but it often stops too early when training neural networks. The learning rate gets scaled down so much that the algorithm ends up stopping entirely before reaching the global optimum.\n",
    "\n",
    "\n",
    "__RMSProp__\n",
    "\n",
    "RMSProp fixes the problem of AdaGrad of slowing bit too fast and never converging to global optima. it this by accumulating only the gradients from the most recent iterations (as opposed to all the gradients since the beginning of training). It does so by using exponential decay in the first step. The decay rate β is typically set to 0.9. Yes, it is once again a new hyperparameter, but this default value often works well, so you may not\n",
    "need to tune it at all.\n",
    "\n",
    "`optimizer = keras.optimizers.RMSprop(lr=0.001, rho=0.9)`\n",
    "\n",
    "__Adam and Nadam Optimization__\n",
    "\n",
    "Adam stands for adaptive moment estimation, combines the ideas of momentum optimization and RMSProp, like momentum optimization. \n",
    "\n",
    "\n",
    "- AdaMax\n",
    "- Nadam\n",
    "\n",
    "\n",
    "\n"
   ]
  },
  {
   "cell_type": "code",
   "execution_count": null,
   "metadata": {},
   "outputs": [],
   "source": []
  }
 ],
 "metadata": {
  "kernelspec": {
   "display_name": "hands-on-ml-book",
   "language": "python",
   "name": "hands-on-ml-book"
  },
  "language_info": {
   "codemirror_mode": {
    "name": "ipython",
    "version": 3
   },
   "file_extension": ".py",
   "mimetype": "text/x-python",
   "name": "python",
   "nbconvert_exporter": "python",
   "pygments_lexer": "ipython3",
   "version": "3.8.11"
  }
 },
 "nbformat": 4,
 "nbformat_minor": 4
}
